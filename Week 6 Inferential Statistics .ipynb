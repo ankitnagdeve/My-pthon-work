{
 "cells": [
  {
   "cell_type": "markdown",
   "metadata": {},
   "source": [
    "#            ##         **Inferential Statistics**"
   ]
  },
  {
   "cell_type": "markdown",
   "metadata": {},
   "source": [
    "###### What are we going to learn today ?\n",
    "### Introduction to Probability\n",
    "    Basic Probability\n",
    "    Basic Probability - Intuition\n",
    "    Basic Probability - Easy Rules\n",
    "### Conditional Probability\n",
    "    Conditional Probability - (1/2)\n",
    "    Conditional Probability - (2/2)\n",
    "    Conditional Probability - Mathematical Representation\n",
    "    Random Variable\n",
    "    Simple Probability Distribution\n",
    "    Probability Mass Function (p.m.f) & Probability Density      Function (p.d.f)\n",
    "### Normal Distribution\n",
    "    Normal Distribution - (1/4)\n",
    "    Normal Distribution - (2/4)\n",
    "    Normal Distribution - (3/4)\n",
    "    Normal Distribution - (4/4)\n",
    "    Normal Distribution & Standard Deviation\n",
    "### Concept of Z-score"
   ]
  },
  {
   "cell_type": "code",
   "execution_count": 26,
   "metadata": {},
   "outputs": [],
   "source": [
    "import pandas as pd\n",
    "import numpy as np\n",
    "import matplotlib as plt\n",
    "import seaborn as sns\n",
    "import warnings\n",
    "warnings.filterwarnings('ignore')\n"
   ]
  },
  {
   "cell_type": "code",
   "execution_count": 19,
   "metadata": {},
   "outputs": [],
   "source": [
    "from __future__ import division\n",
    "%matplotlib inline"
   ]
  },
  {
   "cell_type": "code",
   "execution_count": 20,
   "metadata": {},
   "outputs": [],
   "source": [
    "import folium\n",
    "import plotly_express as px"
   ]
  },
  {
   "cell_type": "code",
   "execution_count": 21,
   "metadata": {},
   "outputs": [],
   "source": [
    "import requests\n",
    "from ipywidgets import Image\n",
    "\n"
   ]
  },
  {
   "cell_type": "code",
   "execution_count": 5,
   "metadata": {},
   "outputs": [],
   "source": [
    "data = pd.read_csv('/home/ankit/Documents/sangeet/train.csv')"
   ]
  },
  {
   "cell_type": "code",
   "execution_count": 6,
   "metadata": {},
   "outputs": [
    {
     "data": {
      "text/html": [
       "<div>\n",
       "<style scoped>\n",
       "    .dataframe tbody tr th:only-of-type {\n",
       "        vertical-align: middle;\n",
       "    }\n",
       "\n",
       "    .dataframe tbody tr th {\n",
       "        vertical-align: top;\n",
       "    }\n",
       "\n",
       "    .dataframe thead th {\n",
       "        text-align: right;\n",
       "    }\n",
       "</style>\n",
       "<table border=\"1\" class=\"dataframe\">\n",
       "  <thead>\n",
       "    <tr style=\"text-align: right;\">\n",
       "      <th></th>\n",
       "      <th>Id</th>\n",
       "      <th>MSSubClass</th>\n",
       "      <th>MSZoning</th>\n",
       "      <th>LotFrontage</th>\n",
       "      <th>LotArea</th>\n",
       "      <th>Street</th>\n",
       "      <th>Alley</th>\n",
       "      <th>LotShape</th>\n",
       "      <th>LandContour</th>\n",
       "      <th>Utilities</th>\n",
       "      <th>...</th>\n",
       "      <th>PoolArea</th>\n",
       "      <th>PoolQC</th>\n",
       "      <th>Fence</th>\n",
       "      <th>MiscFeature</th>\n",
       "      <th>MiscVal</th>\n",
       "      <th>MoSold</th>\n",
       "      <th>YrSold</th>\n",
       "      <th>SaleType</th>\n",
       "      <th>SaleCondition</th>\n",
       "      <th>SalePrice</th>\n",
       "    </tr>\n",
       "  </thead>\n",
       "  <tbody>\n",
       "    <tr>\n",
       "      <th>0</th>\n",
       "      <td>1</td>\n",
       "      <td>60</td>\n",
       "      <td>RL</td>\n",
       "      <td>65.0</td>\n",
       "      <td>8450</td>\n",
       "      <td>Pave</td>\n",
       "      <td>NaN</td>\n",
       "      <td>Reg</td>\n",
       "      <td>Lvl</td>\n",
       "      <td>AllPub</td>\n",
       "      <td>...</td>\n",
       "      <td>0</td>\n",
       "      <td>NaN</td>\n",
       "      <td>NaN</td>\n",
       "      <td>NaN</td>\n",
       "      <td>0</td>\n",
       "      <td>2</td>\n",
       "      <td>2008</td>\n",
       "      <td>WD</td>\n",
       "      <td>Normal</td>\n",
       "      <td>208500</td>\n",
       "    </tr>\n",
       "    <tr>\n",
       "      <th>1</th>\n",
       "      <td>2</td>\n",
       "      <td>20</td>\n",
       "      <td>RL</td>\n",
       "      <td>80.0</td>\n",
       "      <td>9600</td>\n",
       "      <td>Pave</td>\n",
       "      <td>NaN</td>\n",
       "      <td>Reg</td>\n",
       "      <td>Lvl</td>\n",
       "      <td>AllPub</td>\n",
       "      <td>...</td>\n",
       "      <td>0</td>\n",
       "      <td>NaN</td>\n",
       "      <td>NaN</td>\n",
       "      <td>NaN</td>\n",
       "      <td>0</td>\n",
       "      <td>5</td>\n",
       "      <td>2007</td>\n",
       "      <td>WD</td>\n",
       "      <td>Normal</td>\n",
       "      <td>181500</td>\n",
       "    </tr>\n",
       "    <tr>\n",
       "      <th>2</th>\n",
       "      <td>3</td>\n",
       "      <td>60</td>\n",
       "      <td>RL</td>\n",
       "      <td>68.0</td>\n",
       "      <td>11250</td>\n",
       "      <td>Pave</td>\n",
       "      <td>NaN</td>\n",
       "      <td>IR1</td>\n",
       "      <td>Lvl</td>\n",
       "      <td>AllPub</td>\n",
       "      <td>...</td>\n",
       "      <td>0</td>\n",
       "      <td>NaN</td>\n",
       "      <td>NaN</td>\n",
       "      <td>NaN</td>\n",
       "      <td>0</td>\n",
       "      <td>9</td>\n",
       "      <td>2008</td>\n",
       "      <td>WD</td>\n",
       "      <td>Normal</td>\n",
       "      <td>223500</td>\n",
       "    </tr>\n",
       "    <tr>\n",
       "      <th>3</th>\n",
       "      <td>4</td>\n",
       "      <td>70</td>\n",
       "      <td>RL</td>\n",
       "      <td>60.0</td>\n",
       "      <td>9550</td>\n",
       "      <td>Pave</td>\n",
       "      <td>NaN</td>\n",
       "      <td>IR1</td>\n",
       "      <td>Lvl</td>\n",
       "      <td>AllPub</td>\n",
       "      <td>...</td>\n",
       "      <td>0</td>\n",
       "      <td>NaN</td>\n",
       "      <td>NaN</td>\n",
       "      <td>NaN</td>\n",
       "      <td>0</td>\n",
       "      <td>2</td>\n",
       "      <td>2006</td>\n",
       "      <td>WD</td>\n",
       "      <td>Abnorml</td>\n",
       "      <td>140000</td>\n",
       "    </tr>\n",
       "    <tr>\n",
       "      <th>4</th>\n",
       "      <td>5</td>\n",
       "      <td>60</td>\n",
       "      <td>RL</td>\n",
       "      <td>84.0</td>\n",
       "      <td>14260</td>\n",
       "      <td>Pave</td>\n",
       "      <td>NaN</td>\n",
       "      <td>IR1</td>\n",
       "      <td>Lvl</td>\n",
       "      <td>AllPub</td>\n",
       "      <td>...</td>\n",
       "      <td>0</td>\n",
       "      <td>NaN</td>\n",
       "      <td>NaN</td>\n",
       "      <td>NaN</td>\n",
       "      <td>0</td>\n",
       "      <td>12</td>\n",
       "      <td>2008</td>\n",
       "      <td>WD</td>\n",
       "      <td>Normal</td>\n",
       "      <td>250000</td>\n",
       "    </tr>\n",
       "  </tbody>\n",
       "</table>\n",
       "<p>5 rows × 81 columns</p>\n",
       "</div>"
      ],
      "text/plain": [
       "   Id  MSSubClass MSZoning  LotFrontage  LotArea Street Alley LotShape  \\\n",
       "0   1          60       RL         65.0     8450   Pave   NaN      Reg   \n",
       "1   2          20       RL         80.0     9600   Pave   NaN      Reg   \n",
       "2   3          60       RL         68.0    11250   Pave   NaN      IR1   \n",
       "3   4          70       RL         60.0     9550   Pave   NaN      IR1   \n",
       "4   5          60       RL         84.0    14260   Pave   NaN      IR1   \n",
       "\n",
       "  LandContour Utilities  ... PoolArea PoolQC Fence MiscFeature MiscVal MoSold  \\\n",
       "0         Lvl    AllPub  ...        0    NaN   NaN         NaN       0      2   \n",
       "1         Lvl    AllPub  ...        0    NaN   NaN         NaN       0      5   \n",
       "2         Lvl    AllPub  ...        0    NaN   NaN         NaN       0      9   \n",
       "3         Lvl    AllPub  ...        0    NaN   NaN         NaN       0      2   \n",
       "4         Lvl    AllPub  ...        0    NaN   NaN         NaN       0     12   \n",
       "\n",
       "  YrSold  SaleType  SaleCondition  SalePrice  \n",
       "0   2008        WD         Normal     208500  \n",
       "1   2007        WD         Normal     181500  \n",
       "2   2008        WD         Normal     223500  \n",
       "3   2006        WD        Abnorml     140000  \n",
       "4   2008        WD         Normal     250000  \n",
       "\n",
       "[5 rows x 81 columns]"
      ]
     },
     "execution_count": 6,
     "metadata": {},
     "output_type": "execute_result"
    }
   ],
   "source": [
    "data.head()"
   ]
  },
  {
   "cell_type": "code",
   "execution_count": 7,
   "metadata": {},
   "outputs": [
    {
     "name": "stdout",
     "output_type": "stream",
     "text": [
      "<class 'pandas.core.frame.DataFrame'>\n",
      "RangeIndex: 1460 entries, 0 to 1459\n",
      "Data columns (total 81 columns):\n",
      "Id               1460 non-null int64\n",
      "MSSubClass       1460 non-null int64\n",
      "MSZoning         1460 non-null object\n",
      "LotFrontage      1201 non-null float64\n",
      "LotArea          1460 non-null int64\n",
      "Street           1460 non-null object\n",
      "Alley            91 non-null object\n",
      "LotShape         1460 non-null object\n",
      "LandContour      1460 non-null object\n",
      "Utilities        1460 non-null object\n",
      "LotConfig        1460 non-null object\n",
      "LandSlope        1460 non-null object\n",
      "Neighborhood     1460 non-null object\n",
      "Condition1       1460 non-null object\n",
      "Condition2       1460 non-null object\n",
      "BldgType         1460 non-null object\n",
      "HouseStyle       1460 non-null object\n",
      "OverallQual      1460 non-null int64\n",
      "OverallCond      1460 non-null int64\n",
      "YearBuilt        1460 non-null int64\n",
      "YearRemodAdd     1460 non-null int64\n",
      "RoofStyle        1460 non-null object\n",
      "RoofMatl         1460 non-null object\n",
      "Exterior1st      1460 non-null object\n",
      "Exterior2nd      1460 non-null object\n",
      "MasVnrType       1452 non-null object\n",
      "MasVnrArea       1452 non-null float64\n",
      "ExterQual        1460 non-null object\n",
      "ExterCond        1460 non-null object\n",
      "Foundation       1460 non-null object\n",
      "BsmtQual         1423 non-null object\n",
      "BsmtCond         1423 non-null object\n",
      "BsmtExposure     1422 non-null object\n",
      "BsmtFinType1     1423 non-null object\n",
      "BsmtFinSF1       1460 non-null int64\n",
      "BsmtFinType2     1422 non-null object\n",
      "BsmtFinSF2       1460 non-null int64\n",
      "BsmtUnfSF        1460 non-null int64\n",
      "TotalBsmtSF      1460 non-null int64\n",
      "Heating          1460 non-null object\n",
      "HeatingQC        1460 non-null object\n",
      "CentralAir       1460 non-null object\n",
      "Electrical       1459 non-null object\n",
      "1stFlrSF         1460 non-null int64\n",
      "2ndFlrSF         1460 non-null int64\n",
      "LowQualFinSF     1460 non-null int64\n",
      "GrLivArea        1460 non-null int64\n",
      "BsmtFullBath     1460 non-null int64\n",
      "BsmtHalfBath     1460 non-null int64\n",
      "FullBath         1460 non-null int64\n",
      "HalfBath         1460 non-null int64\n",
      "BedroomAbvGr     1460 non-null int64\n",
      "KitchenAbvGr     1460 non-null int64\n",
      "KitchenQual      1460 non-null object\n",
      "TotRmsAbvGrd     1460 non-null int64\n",
      "Functional       1460 non-null object\n",
      "Fireplaces       1460 non-null int64\n",
      "FireplaceQu      770 non-null object\n",
      "GarageType       1379 non-null object\n",
      "GarageYrBlt      1379 non-null float64\n",
      "GarageFinish     1379 non-null object\n",
      "GarageCars       1460 non-null int64\n",
      "GarageArea       1460 non-null int64\n",
      "GarageQual       1379 non-null object\n",
      "GarageCond       1379 non-null object\n",
      "PavedDrive       1460 non-null object\n",
      "WoodDeckSF       1460 non-null int64\n",
      "OpenPorchSF      1460 non-null int64\n",
      "EnclosedPorch    1460 non-null int64\n",
      "3SsnPorch        1460 non-null int64\n",
      "ScreenPorch      1460 non-null int64\n",
      "PoolArea         1460 non-null int64\n",
      "PoolQC           7 non-null object\n",
      "Fence            281 non-null object\n",
      "MiscFeature      54 non-null object\n",
      "MiscVal          1460 non-null int64\n",
      "MoSold           1460 non-null int64\n",
      "YrSold           1460 non-null int64\n",
      "SaleType         1460 non-null object\n",
      "SaleCondition    1460 non-null object\n",
      "SalePrice        1460 non-null int64\n",
      "dtypes: float64(3), int64(35), object(43)\n",
      "memory usage: 924.0+ KB\n"
     ]
    }
   ],
   "source": [
    "data.info()"
   ]
  },
  {
   "cell_type": "markdown",
   "metadata": {},
   "source": [
    "##  **Introduction to Probability**\n",
    "\n",
    "Concept-Alert\n",
    "\n",
    "Basic Probability\n",
    "Let's start with a simple example: Say, we flip a fair coin\n",
    "\n",
    "Intuitively, there's a 50% chance of getting heads, and a 50% chance of getting tails. This is because there are only two possible outcomes, and each event is equally likely.\n",
    "\n",
    "Therefore, we can say that the Probability of getting a Heads is 0.5. Similarly, Probability of getting a Tails is 0.5\n",
    "\n",
    "Probability can roughly be described as \"the percentage chance of an event or sequence of events occurring\".\n",
    "\n",
    "Basic Probability - Intuition"
   ]
  },
  {
   "cell_type": "markdown",
   "metadata": {},
   "source": [
    "###  Basic Probability - Intuition\n",
    "Some common terms thrown around are:\n",
    "\n",
    "# Experiment \n",
    "are the uncertain situations, which could have multiple outcomes. A coin toss is an experiment.\n",
    "\n",
    "# Outcome \n",
    "is the result of a single trial. So, if head lands, the outcome of or coin toss experiment is “Heads”\n",
    "\n",
    "# Event \n",
    "is one or more outcomes from an experiment. “Tails” is one of the possible events for this experiment.\n",
    "\n"
   ]
  },
  {
   "cell_type": "code",
   "execution_count": null,
   "metadata": {},
   "outputs": [],
   "source": []
  },
  {
   "cell_type": "code",
   "execution_count": 8,
   "metadata": {},
   "outputs": [
    {
     "data": {
      "application/vnd.jupyter.widget-view+json": {
       "model_id": "f916ce373b9b41c7a44ff502cc447c9e",
       "version_major": 2,
       "version_minor": 0
      },
      "text/plain": [
       "Image(value=b'\\xff\\xd8\\xff\\xe0\\x00\\x10JFIF\\x00\\x01\\x01\\x00\\x00\\x01\\x00\\x01\\x00\\x00\\xff\\xdb\\x00C\\x00\\x02\\x01\\x0…"
      ]
     },
     "metadata": {},
     "output_type": "display_data"
    }
   ],
   "source": [
    "Image(value=requests.get('https://image.slidesharecdn.com/les5eppt03-160223032608/95/les5e-ppt-03-6-638.jpg?cb=1464099399').content)"
   ]
  },
  {
   "cell_type": "markdown",
   "metadata": {},
   "source": [
    "###  Basic Probability - Easy Rules\n",
    "These are a list of some comprehensive rules Probability must follow:\n",
    "\n",
    "The Probability that an event occurs with certainty is 1\n",
    "\n",
    "The Probability that an event will not occur surely is 0\n",
    "\n",
    "The Probability of the complement of an event is 1 minus the probability of that event.\n",
    "\n",
    "The probability of at least 1 of 2 (or more) things that can not simultaneously occur (mutually exclusive) is the sum of their respective probabilities\n",
    "\n",
    "# \"Mutually exclusive\" \n",
    "is a statistical term describing two or more events that cannot occur simultaneously. For example, it is impossible to roll a five and a three on a single die at the same time."
   ]
  },
  {
   "cell_type": "code",
   "execution_count": 9,
   "metadata": {},
   "outputs": [
    {
     "data": {
      "application/vnd.jupyter.widget-view+json": {
       "model_id": "b1c3c57b70444e2cb647a9c893b6a749",
       "version_major": 2,
       "version_minor": 0
      },
      "text/plain": [
       "Image(value=b'\\x89PNG\\r\\n\\x1a\\n\\x00\\x00\\x00\\rIHDR\\x00\\x00\\x03 \\x00\\x00\\x00\\xe3\\x08\\x06\\x00\\x00\\x00}\\xe4p\\xef\\x…"
      ]
     },
     "metadata": {},
     "output_type": "display_data"
    }
   ],
   "source": [
    "Image(value=requests.get('https://bolt.mph.ufl.edu/files/2012/07/probabilityrule5c.png').content)"
   ]
  },
  {
   "cell_type": "markdown",
   "metadata": {},
   "source": [
    "###  \n",
    "Let's check out the Probability of picking a house in the Neighborhood - \"OldTown\"\n",
    "\n",
    "This is nothing but:\n",
    "\n",
    "No. of houses in OldTown/Total no. of houses\n",
    "Let's go through this in Python"
   ]
  },
  {
   "cell_type": "code",
   "execution_count": 10,
   "metadata": {
    "scrolled": true
   },
   "outputs": [
    {
     "data": {
      "text/plain": [
       "1460"
      ]
     },
     "execution_count": 10,
     "metadata": {},
     "output_type": "execute_result"
    }
   ],
   "source": [
    "all_houses= data.shape[0]\n",
    "all_houses"
   ]
  },
  {
   "cell_type": "code",
   "execution_count": 11,
   "metadata": {},
   "outputs": [
    {
     "data": {
      "text/plain": [
       "113"
      ]
     },
     "execution_count": 11,
     "metadata": {},
     "output_type": "execute_result"
    }
   ],
   "source": [
    "\n",
    "allh= data[data['Neighborhood']=='OldTown'].shape[0]\n",
    "allh"
   ]
  },
  {
   "cell_type": "code",
   "execution_count": 12,
   "metadata": {},
   "outputs": [
    {
     "name": "stdout",
     "output_type": "stream",
     "text": [
      "prpba :0.0773972602739726\n"
     ]
    }
   ],
   "source": [
    "\n",
    "print(\"prpba :{}\".format(allh/all_houses))"
   ]
  },
  {
   "cell_type": "code",
   "execution_count": 13,
   "metadata": {
    "scrolled": true
   },
   "outputs": [
    {
     "data": {
      "application/vnd.jupyter.widget-view+json": {
       "model_id": "50526499b9ae44f486e9e5adb7e23a73",
       "version_major": 2,
       "version_minor": 0
      },
      "text/plain": [
       "Image(value=b'\\x89PNG\\r\\n\\x1a\\n\\x00\\x00\\x00\\rIHDR\\x00\\x00\\x01\\xb3\\x00\\x00\\x01j\\x08\\x06\\x00\\x00\\x00\\x90\\xdc\\xb4…"
      ]
     },
     "metadata": {},
     "output_type": "display_data"
    }
   ],
   "source": [
    "Image(value= requests.get('https://wtmaths.com/P361_z1.png').content)\n"
   ]
  },
  {
   "cell_type": "code",
   "execution_count": 14,
   "metadata": {},
   "outputs": [
    {
     "data": {
      "application/vnd.jupyter.widget-view+json": {
       "model_id": "6e9a1f7ad0e44fa39a0ad7fbac6278af",
       "version_major": 2,
       "version_minor": 0
      },
      "text/plain": [
       "Image(value=b'\\x89PNG\\r\\n\\x1a\\n\\x00\\x00\\x00\\rIHDR\\x00\\x00\\x01x\\x00\\x00\\x00\\xe1\\x08\\x03\\x00\\x00\\x00\\xf5]^\\xab\\x…"
      ]
     },
     "metadata": {},
     "output_type": "display_data"
    }
   ],
   "source": [
    "Image(value= requests.get('https://i1.wp.com/www.mathbootcamps.com/wp-content/uploads/conditional-probability-notation.png?resize=376%2C225').content)\n"
   ]
  },
  {
   "cell_type": "code",
   "execution_count": 15,
   "metadata": {},
   "outputs": [
    {
     "data": {
      "application/vnd.jupyter.widget-view+json": {
       "model_id": "79c27ce3ae4b4664b969c3d09e7f74a9",
       "version_major": 2,
       "version_minor": 0
      },
      "text/plain": [
       "Image(value=b'\\xff\\xd8\\xff\\xe0\\x00\\x10JFIF\\x00\\x01\\x01\\x02\\x00%\\x00%\\x00\\x00\\xff\\xdb\\x00C\\x00\\x06\\x04\\x05\\x06\\…"
      ]
     },
     "metadata": {},
     "output_type": "display_data"
    }
   ],
   "source": [
    "Image(value= requests.get('https://images.slideplayer.com/32/9948323/slides/slide_10.jpg').content)\n"
   ]
  },
  {
   "cell_type": "markdown",
   "metadata": {},
   "source": [
    "### What would be the probability of first picking a house from the \"OldTown\" neighborhood and then AGAIN picking a house from the SAME neighborhood?\n",
    "\n",
    "Let's find this out in Python."
   ]
  },
  {
   "cell_type": "code",
   "execution_count": 16,
   "metadata": {},
   "outputs": [
    {
     "data": {
      "text/plain": [
       "0.04978964972039044"
      ]
     },
     "execution_count": 16,
     "metadata": {},
     "output_type": "execute_result"
    }
   ],
   "source": [
    "(allh/all_houses)*((allh-1)/(all_houses-1))*((allh-2/all_houses-2))*((allh-3)/(all_houses-3))"
   ]
  },
  {
   "cell_type": "markdown",
   "metadata": {},
   "source": [
    "### Random Variable\n",
    "A Variable is value which can change over the course of the experiment\n",
    "\n",
    "    Ex: Ambient temperature\n",
    "When there is a probability associated with the values that can be taken by a variable, it is called a Random Variable\n",
    "\n",
    "    Ex: number shown on the face of die when it is rolled\n",
    "\n",
    "# A discrete variable\n",
    "\n",
    "is a variable whose value is obtained by counting\n",
    "\n",
    "    Examples: number of students present, number of red marbles in a jar, number of heads when flipping three coins\n",
    "# A continuous variable \n",
    "is a variable whose value is obtained by measuring\n",
    "\n",
    "    Ex: height of students in class, weight of students in class, time it takes to get to school, distance traveled between classes"
   ]
  },
  {
   "cell_type": "code",
   "execution_count": 34,
   "metadata": {},
   "outputs": [
    {
     "data": {
      "text/plain": [
       "<function matplotlib.pyplot.show(*args, **kw)>"
      ]
     },
     "execution_count": 34,
     "metadata": {},
     "output_type": "execute_result"
    },
    {
     "data": {
      "image/png": "[encoded data removed]",
      "text/plain": [
       "<Figure size 432x288 with 1 Axes>"
      ]
     },
     "metadata": {
      "needs_background": "light"
     },
     "output_type": "display_data"
    }
   ],
   "source": [
    "\n",
    "import matplotlib.pyplot as plt\n",
    "plt.xticks(rotation=90)\n",
    "sns.distplot(data['SalePrice'],bins=20, color= 'red')\n",
    "plt.show"
   ]
  },
  {
   "cell_type": "code",
   "execution_count": 46,
   "metadata": {},
   "outputs": [
    {
     "data": {
      "image/png": "[encoded data removed]",
      "text/plain": [
       "<Figure size 432x288 with 1 Axes>"
      ]
     },
     "metadata": {
      "needs_background": "light"
     },
     "output_type": "display_data"
    }
   ],
   "source": [
    "plt.xticks(rotation=90)\n",
    "sns.distplot(data['YearBuilt'],bins=20,color= 'green')\n",
    "plt.show()"
   ]
  },
  {
   "cell_type": "code",
   "execution_count": 47,
   "metadata": {},
   "outputs": [
    {
     "data": {
      "text/plain": [
       "{'whiskers': [<matplotlib.lines.Line2D at 0x7f80f741c9b0>,\n",
       "  <matplotlib.lines.Line2D at 0x7f80f741cd68>],\n",
       " 'caps': [<matplotlib.lines.Line2D at 0x7f80f741c2e8>,\n",
       "  <matplotlib.lines.Line2D at 0x7f80f741c4e0>],\n",
       " 'boxes': [<matplotlib.lines.Line2D at 0x7f80f7176e48>],\n",
       " 'medians': [<matplotlib.lines.Line2D at 0x7f80f75486a0>],\n",
       " 'fliers': [<matplotlib.lines.Line2D at 0x7f80f7548860>],\n",
       " 'means': []}"
      ]
     },
     "execution_count": 47,
     "metadata": {},
     "output_type": "execute_result"
    },
    {
     "data": {
      "image/png": "[encoded data removed]",
      "text/plain": [
       "<Figure size 432x288 with 1 Axes>"
      ]
     },
     "metadata": {
      "needs_background": "light"
     },
     "output_type": "display_data"
    }
   ],
   "source": [
    "plt.boxplot(data['SalePrice'])"
   ]
  },
  {
   "cell_type": "markdown",
   "metadata": {},
   "source": [
    "###  \n",
    "Thoughts\n",
    "The distribution for our target variable aka SalePrice doesn't resemble a normal distribution, it is skewed to the right\n",
    "\n",
    "This makes some sense since we already saw in the last notebook that we had a lot of Outliers on the upper-end of the Price scale\n",
    "\n",
    "If you were to remove the outliers, it'd somewhat resemble a Normal Dstribution\n",
    "\n",
    "Concept-Alert\n",
    "\n",
    "# # The Concept of Z-score (1/5)\n",
    "The number of standard deviations from the mean is also called the \"Standard Score\", \"sigma\" or \"z-score\".\n",
    "Concept-Alert\n",
    "\n",
    "## The Concept of Z-score (2/5)\n",
    "\n",
    "usual, let's build our intution with an Example\n",
    "Consider that we're analyzing data of the heights (in meters) of students in a school\n",
    "The data is normally distributed as shown below:\n",
    "\n",
    "\n",
    "Image Source : http://scaryscientist.blogspot.com/2015/03/normal-distribution.html\n",
    "Concept-Alert\n",
    "\n",
    "## The Concept of Z-score (3/5)\n",
    "We can see that the mean = 1.4 meters\n",
    "\n",
    "In that same school one of your friends is 1.85m tall\n",
    "You can see on the bell curve that 1.85m is 3 standard deviations from the mean of 1.4, so:\n",
    "\n",
    "Your friend's height has a \"z-score\" of 3.0\n",
    "Concept-Alert\n",
    "\n",
    "## The Concept of Z-score (4/5)\n",
    "It is also possible to calculate how many standard deviations 1.85 is from the mean\n",
    "\n",
    "How far is 1.85 from the mean?\n",
    "\n",
    "It is 1.85 - 1.4 = 0.45m from the mean\n",
    "\n",
    "Say that the Std. Dev. is pre-calculated and is = 0.15m\n",
    "\n",
    "How many standard deviations is it from the mean? The standard deviation is 0.15m, so:\n",
    "\n",
    "# z-score = 0.45m / 0.15m = 3 standard deviations\n",
    "Concept-Alert\n",
    "\n",
    "## The Concept of Z-score (5/5)\n",
    "So to convert a value to a Standard Score (\"z-score\"):\n",
    "\n",
    "first subtract the mean,\n",
    "then divide by the Standard Deviation\n",
    "And this process is called \"Standardizing\":\n",
    "\n",
    "# **Introduction to Inference**\n",
    "\n",
    "## Sample mean and Population mean\n",
    "\n",
    "Let's consider a sample of 500 houses at random from 1460 houses and plot it's mean\n",
    "\n",
    "But the mean of these 500 houses can be near or pretty far away from the mean of the 1460 houses calculated earlier."
   ]
  },
  {
   "cell_type": "code",
   "execution_count": 53,
   "metadata": {},
   "outputs": [],
   "source": [
    "#data.info()\n",
    "#data.drop([\"Steet\",'Alley ', 'LotConfig'   ,'LandSlope','Neighborhood','Condition1','Condition2','BldgType',\n",
    "          # 'HouseStyle','RoofStyle','Exterior1st','ExterQual'\n",
    "        "
   ]
  },
  {
   "cell_type": "code",
   "execution_count": 64,
   "metadata": {},
   "outputs": [
    {
     "data": {
      "text/plain": [
       "array([255000, 129000, 106000, 314813, 131000, 228950, 250000, 240000,\n",
       "       260000, 325000, 134000, 157000, 149900, 134800,  34900, 104900,\n",
       "       135000, 242000, 278000, 226000, 110000, 395192, 180000, 153000,\n",
       "       160000, 446261,  87500, 244400, 134000, 266500, 370878,  83500,\n",
       "        80500,  87000, 262500, 187500, 222500, 147000, 113000, 196500,\n",
       "       227000,  80000, 178900, 324000, 216500, 252000, 144000, 216000,\n",
       "       250000, 150000, 179900, 238000, 174500, 188000, 137500, 144000,\n",
       "       240000,  91000, 133900,  80000, 222000, 235000, 130500,  84500,\n",
       "       135000, 235000, 129000, 120500, 118000, 116900, 137500, 178000,\n",
       "       284000, 255500, 127000, 229456, 301000, 115000, 236000, 181900,\n",
       "       392500, 102000, 350000, 213490, 293077, 257500, 145000, 128200,\n",
       "       187500, 143900, 168000, 157000, 167000, 227000, 178900, 189000,\n",
       "       179200, 214000, 156000, 132250, 239000, 187000, 143000, 210000,\n",
       "       112000, 127000,  82000,  82500, 240000, 216500,  60000,  55000,\n",
       "        80000,  52500, 110000, 194000, 367294,  96500, 150000, 372402,\n",
       "       192140, 392000, 223500, 187500, 263000, 333168, 126000, 147000,\n",
       "       251000, 160200, 132500, 145250, 175500, 133000, 153000, 280000,\n",
       "       228950, 111000, 167500, 239799, 133000, 180000,  95000, 146800,\n",
       "       105000, 151000, 135000, 197000, 125000, 178900, 129500,  98000,\n",
       "       134900, 115000, 143000, 123500, 106500, 174000, 148000, 196000,\n",
       "        94750, 137000, 145500, 163000, 169500, 116000, 123600, 140000,\n",
       "       207500, 109500, 129000, 185000, 117500, 120000, 246578, 111250,\n",
       "       132500, 159895, 178400, 290000,  80000, 129000,  89471, 127000,\n",
       "       107500, 234000, 127000, 140000,  86000, 342643, 157500, 231500,\n",
       "       160000, 336000, 219500, 111000, 181000, 135000, 217500, 275000,\n",
       "       128500,  88000, 118000, 115000, 164700, 237000, 125000, 168000,\n",
       "       115000, 187500, 107900, 210000, 128950, 136905,  72500, 202500,\n",
       "       145000, 392000, 264561, 426000, 315000, 117000, 109000, 192000,\n",
       "       149300, 135000, 230000, 127500,  68500, 150500, 104900, 231500,\n",
       "       189000, 215000, 223500, 149300, 200500, 226000, 153500, 103600,\n",
       "       214900, 139600, 151000, 108480, 128200, 145000, 196000,  91000,\n",
       "       268000, 224500, 277500, 215000, 249700, 110000, 216837, 178000,\n",
       "       135000, 423000, 115000, 143000, 104000, 117000, 169000, 143000,\n",
       "       250000, 150900, 172400, 112500, 135000, 175900, 109900,  85000,\n",
       "        93000, 140000, 230000, 122500, 140000, 320000, 325624, 133000,\n",
       "       139000, 284000, 145000, 194000, 156932, 146500, 173733, 207000,\n",
       "        79900, 354000, 250580, 210000, 205000, 221000, 148000, 107900,\n",
       "        88000, 178400, 271000,  98000, 178400, 244600, 230000, 215000,\n",
       "       168500, 187500, 114500, 165500, 235000, 211000, 145000, 115000,\n",
       "       155000, 220000, 226000, 340000, 381000, 236000, 260000, 226700,\n",
       "       130000, 107500, 155000, 106000, 138500, 165000, 233000, 158000,\n",
       "       193500, 119000, 105500, 187500, 214000, 137500, 181000, 139000,\n",
       "       157500, 176000,  60000, 151000, 130000, 185000,  82000, 392000,\n",
       "       130000, 162000, 185000, 194500, 137500, 153575, 153500, 197900,\n",
       "       124000, 192000, 161750, 112500, 243000, 118500, 197900,  68400,\n",
       "       208300, 197000, 157000, 286000, 170000, 165400, 385000, 277500,\n",
       "       142000, 130000, 165500, 178000, 200500, 140000, 236500,  60000,\n",
       "       100000, 271000, 118500, 205000, 127000,  90000, 185000,  84500,\n",
       "       152000, 256000, 142953, 139000, 155000, 120000, 100000, 156000,\n",
       "       299800, 126000, 179500, 184000, 125000, 174000, 214000, 152000,\n",
       "       239799, 394617, 157000, 139000, 107400, 278000, 158000, 280000,\n",
       "       164500, 139000, 245350, 117500, 395192,  91000, 160000,  94750,\n",
       "       250000, 195400, 226000, 240000, 144000, 231500, 236500, 125000,\n",
       "       141000, 165600, 178000, 179900, 130500, 114500, 202500, 119000,\n",
       "       225000, 159500, 204000, 149000,  93500, 139600, 109900, 105000,\n",
       "        92900, 190000, 335000, 227000, 141000, 201000, 104900, 100000,\n",
       "       189950, 285000, 125000, 154900, 199900, 181000, 105000, 187000,\n",
       "       155000, 255000, 325000, 190000, 136900, 101000, 185000, 144000,\n",
       "       128000, 175500, 190000, 142000, 152000, 229456, 232000, 192000,\n",
       "       128500, 110000, 135750, 143000, 187500, 146500, 124000, 127000,\n",
       "       161500, 440000, 209500, 158000, 151000, 165000, 118500, 175000,\n",
       "       244000, 153575, 305900, 129500,  87500, 274725, 191000, 115000,\n",
       "       307000, 281000, 152000, 205000])"
      ]
     },
     "execution_count": 64,
     "metadata": {},
     "output_type": "execute_result"
    }
   ],
   "source": [
    "np.random.seed(6)\n",
    "sample = np.random.choice(a=data['SalePrice'],\n",
    "        size=500)\n",
    "sample\n",
    "    "
   ]
  },
  {
   "cell_type": "code",
   "execution_count": 66,
   "metadata": {},
   "outputs": [
    {
     "name": "stdout",
     "output_type": "stream",
     "text": [
      "saample mean : 177499.802\n"
     ]
    }
   ],
   "source": [
    "print ('saample mean :', sample.mean())"
   ]
  },
  {
   "cell_type": "code",
   "execution_count": 63,
   "metadata": {},
   "outputs": [
    {
     "name": "stdout",
     "output_type": "stream",
     "text": [
      "population mean: 180921.19589041095\n"
     ]
    }
   ],
   "source": [
    "print('population mean:',  data['SalePrice'].mean())"
   ]
  },
  {
   "cell_type": "markdown",
   "metadata": {},
   "source": [
    "###  Note :\n",
    "We discussed that the Median would be a better measure but for the sake of simplicity of further calculations and concept-building, let's consider the Mean of all houses in the following cases"
   ]
  },
  {
   "cell_type": "code",
   "execution_count": 79,
   "metadata": {},
   "outputs": [
    {
     "data": {
      "image/png": "[encoded data removed]",
      "text/plain": [
       "<Figure size 432x288 with 1 Axes>"
      ]
     },
     "metadata": {},
     "output_type": "display_data"
    }
   ],
   "source": [
    "plt.rcParamsDefault['figure.figsize']=(18,19)\n",
    "plt.style.use('fivethirtyeight')\n",
    "sns.countplot(data['SalePrice'], palette= 'Set3')\n",
    "plt.show()"
   ]
  },
  {
   "cell_type": "code",
   "execution_count": 87,
   "metadata": {},
   "outputs": [],
   "source": [
    "\n",
    "#from pandas.plotting import scatter_matrix\n",
    "\n",
    "#fig, ax = plt.subplots(figsize=(12,12))\n",
    "#scatter_matrix(data, alpha=1, ax=ax)"
   ]
  },
  {
   "cell_type": "code",
   "execution_count": null,
   "metadata": {},
   "outputs": [],
   "source": [
    "#sns.pairplot(data)"
   ]
  },
  {
   "cell_type": "code",
   "execution_count": null,
   "metadata": {},
   "outputs": [],
   "source": []
  },
  {
   "cell_type": "code",
   "execution_count": null,
   "metadata": {},
   "outputs": [],
   "source": []
  }
 ],
 "metadata": {
  "kernelspec": {
   "display_name": "Python 3",
   "language": "python",
   "name": "python3"
  },
  "language_info": {
   "codemirror_mode": {
    "name": "ipython",
    "version": 3
   },
   "file_extension": ".py",
   "mimetype": "text/x-python",
   "name": "python",
   "nbconvert_exporter": "python",
   "pygments_lexer": "ipython3",
   "version": "3.7.3"
  }
 },
 "nbformat": 4,
 "nbformat_minor": 2
}
