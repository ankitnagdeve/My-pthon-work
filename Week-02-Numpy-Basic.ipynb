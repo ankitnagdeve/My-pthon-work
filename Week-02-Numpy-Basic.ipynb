{
 "cells": [
  {
   "cell_type": "code",
   "execution_count": 1,
   "metadata": {},
   "outputs": [
    {
     "ename": "SyntaxError",
     "evalue": "Missing parentheses in call to 'print'. Did you mean print('Twinkle, twinkle, little star')? (<ipython-input-1-372bad77182e>, line 2)",
     "output_type": "error",
     "traceback": [
      "\u001b[0;36m  File \u001b[0;32m\"<ipython-input-1-372bad77182e>\"\u001b[0;36m, line \u001b[0;32m2\u001b[0m\n\u001b[0;31m    print 'Twinkle, twinkle, little star'\u001b[0m\n\u001b[0m                                        ^\u001b[0m\n\u001b[0;31mSyntaxError\u001b[0m\u001b[0;31m:\u001b[0m Missing parentheses in call to 'print'. Did you mean print('Twinkle, twinkle, little star')?\n"
     ]
    }
   ],
   "source": [
    "#Write a Python program to print the following string in a specific format (see the output). #Write a Python program to print the following string in a specific format (see the output). \n",
    "print 'Twinkle, twinkle, little star'\n",
    "print '            How I wonder what you are'\n"
   ]
  },
  {
   "cell_type": "code",
   "execution_count": 2,
   "metadata": {},
   "outputs": [
    {
     "name": "stdout",
     "output_type": "stream",
     "text": [
      "Python version\n",
      "3.7.3 (default, Mar 27 2019, 22:11:17) \n",
      "[GCC 7.3.0]\n",
      "sys.version_info(major=3, minor=7, micro=3, releaselevel='final', serial=0)\n"
     ]
    }
   ],
   "source": [
    "#Write a Python program to get the Python version you are using. \n",
    "import sys \n",
    "print ('Python version')\n",
    "print (sys.version)\n",
    "print (sys.version_info)"
   ]
  },
  {
   "cell_type": "code",
   "execution_count": 3,
   "metadata": {},
   "outputs": [
    {
     "name": "stdout",
     "output_type": "stream",
     "text": [
      "2019-08-17\n",
      "15:41:43\n"
     ]
    }
   ],
   "source": [
    "#curreant datr and time\n",
    "import datetime\n",
    "now = datetime.datetime.now()\n",
    "print(now.strftime('%Y-%m-%d'))\n",
    "print(now.strftime('%H:%M:%S'))"
   ]
  },
  {
   "cell_type": "code",
   "execution_count": 5,
   "metadata": {},
   "outputs": [
    {
     "name": "stdout",
     "output_type": "stream",
     "text": [
      "radius of the circle\n",
      "1\n"
     ]
    },
    {
     "ename": "TypeError",
     "evalue": "unsupported operand type(s) for ^: 'str' and 'int'",
     "output_type": "error",
     "traceback": [
      "\u001b[0;31m---------------------------------------------------------------------------\u001b[0m",
      "\u001b[0;31mTypeError\u001b[0m                                 Traceback (most recent call last)",
      "\u001b[0;32m<ipython-input-5-2a677b803100>\u001b[0m in \u001b[0;36m<module>\u001b[0;34m\u001b[0m\n\u001b[1;32m      3\u001b[0m \u001b[0mprint\u001b[0m\u001b[0;34m(\u001b[0m\u001b[0;34m'radius of the circle'\u001b[0m\u001b[0;34m)\u001b[0m\u001b[0;34m\u001b[0m\u001b[0;34m\u001b[0m\u001b[0m\n\u001b[1;32m      4\u001b[0m \u001b[0mr\u001b[0m \u001b[0;34m=\u001b[0m \u001b[0minput\u001b[0m\u001b[0;34m(\u001b[0m\u001b[0;34m)\u001b[0m\u001b[0;34m\u001b[0m\u001b[0;34m\u001b[0m\u001b[0m\n\u001b[0;32m----> 5\u001b[0;31m \u001b[0mo\u001b[0m \u001b[0;34m=\u001b[0m \u001b[0;36m3.14\u001b[0m \u001b[0;34m*\u001b[0m \u001b[0;34m(\u001b[0m\u001b[0mr\u001b[0m \u001b[0;34m^\u001b[0m \u001b[0;36m2\u001b[0m\u001b[0;34m)\u001b[0m\u001b[0;34m\u001b[0m\u001b[0;34m\u001b[0m\u001b[0m\n\u001b[0m\u001b[1;32m      6\u001b[0m \u001b[0mprint\u001b[0m \u001b[0;34m(\u001b[0m\u001b[0;34m' the output'\u001b[0m\u001b[0;34m,\u001b[0m\u001b[0mo\u001b[0m\u001b[0;34m)\u001b[0m\u001b[0;34m\u001b[0m\u001b[0;34m\u001b[0m\u001b[0m\n",
      "\u001b[0;31mTypeError\u001b[0m: unsupported operand type(s) for ^: 'str' and 'int'"
     ]
    }
   ],
   "source": [
    "#rite a Python program which accepts the radius of a circle from the user and compute the area\n",
    "\n",
    "print('radius of the circle')\n",
    "r = input()\n",
    "o = 3.14 * (r ^ 2)\n",
    "print (' the output',o)\n"
   ]
  },
  {
   "cell_type": "code",
   "execution_count": null,
   "metadata": {},
   "outputs": [],
   "source": [
    "from math import pi\n",
    "print('radius of the circle')\n",
    "r = input()\n",
    "o = pi* (r * r)\n",
    "print (' the output',o)"
   ]
  },
  {
   "cell_type": "code",
   "execution_count": null,
   "metadata": {},
   "outputs": [],
   "source": [
    "print input('1st name:') \n",
    "\n",
    "print input('last name:')"
   ]
  },
  {
   "cell_type": "code",
   "execution_count": null,
   "metadata": {},
   "outputs": [],
   "source": [
    "fname = input(\"Input your First Name : \")\n",
    "lname = input(\"Input your Last Name : \")\n",
    "print (\"Hello  \" + lname + \" \" + fname)"
   ]
  },
  {
   "cell_type": "code",
   "execution_count": null,
   "metadata": {},
   "outputs": [],
   "source": [
    "#Write a Python program which accepts a sequence of comma-separated numbers from user and generate a list and a tuple with those numbers.\n",
    "\n",
    "print 'no'\n",
    "no = input ()\n",
    "print 'the sqeunce:',no\n",
    "\n",
    "\n"
   ]
  },
  {
   "cell_type": "code",
   "execution_count": 6,
   "metadata": {},
   "outputs": [
    {
     "ename": "SyntaxError",
     "evalue": "Missing parentheses in call to 'print'. Did you mean print('no')? (<ipython-input-6-c9b60ce3db50>, line 3)",
     "output_type": "error",
     "traceback": [
      "\u001b[0;36m  File \u001b[0;32m\"<ipython-input-6-c9b60ce3db50>\"\u001b[0;36m, line \u001b[0;32m3\u001b[0m\n\u001b[0;31m    print 'no'\u001b[0m\n\u001b[0m             ^\u001b[0m\n\u001b[0;31mSyntaxError\u001b[0m\u001b[0;31m:\u001b[0m Missing parentheses in call to 'print'. Did you mean print('no')?\n"
     ]
    }
   ],
   "source": [
    "#Write a Python program which accepts a sequence of comma-separated numbers from user and generate a list and a tuple with those numbers.\n",
    "\n",
    "print 'no'\n",
    "no = input (\"inpu:  )\n",
    "a= no.split(\",\")\n",
    "print 'the sqeunce:',a\n"
   ]
  },
  {
   "cell_type": "code",
   "execution_count": null,
   "metadata": {},
   "outputs": [],
   "source": [
    "values = input(\"Input some comma seprated numbers : \")\n",
    "list = values.split(\",\")\n",
    "tuple = tuple(list)\n",
    "print('List : ',list)\n",
    "print('Tuple : ',tuple)"
   ]
  },
  {
   "cell_type": "code",
   "execution_count": null,
   "metadata": {},
   "outputs": [],
   "source": [
    "from math import pi\n",
    "r = float(input (\"Input the radius of the circle : \"))\n",
    "print (\"The area of the circle with radius \" + str(r) + \" is: \" + str(pi * r**2))"
   ]
  },
  {
   "cell_type": "code",
   "execution_count": null,
   "metadata": {},
   "outputs": [],
   "source": [
    "from math import pi\n",
    "r = float(input('the area is : '))\n",
    "print('the output', str(r)+ str(pi * r**2))"
   ]
  },
  {
   "cell_type": "code",
   "execution_count": 7,
   "metadata": {},
   "outputs": [
    {
     "name": "stdout",
     "output_type": "stream",
     "text": [
      "first nameankit\n",
      "last namenahdfebe\n",
      "last name  nahdfebe ankit\n"
     ]
    }
   ],
   "source": [
    "first = input('first name')\n",
    "last  = input ('last name')\n",
    "print ('last name', \"\" , last, first)"
   ]
  },
  {
   "cell_type": "code",
   "execution_count": 9,
   "metadata": {},
   "outputs": [
    {
     "name": "stdout",
     "output_type": "stream",
     "text": [
      "the int:3\n",
      "369\n"
     ]
    }
   ],
   "source": [
    "#Python int(x, base=10):\n",
    "\n",
    "# Python3 program to get input from user \n",
    "  \n",
    "# accepting integer from the user \n",
    "\n",
    "no = int(input('the int:'))\n",
    "no1 = int( \"%s\" % no)\n",
    "no2 = int( \"%s%s\" % (no, no))\n",
    "no3 = int( \"%s%s%s\" % (no,no,no))\n",
    "print (no1+no2+no3)"
   ]
  },
  {
   "cell_type": "code",
   "execution_count": null,
   "metadata": {},
   "outputs": [],
   "source": [
    "import calendar\n",
    " \n",
    "y =int(input(\": \"))\n",
    "m = int(input(\": \"))\n",
    "print (calendar.month(y,m))\n"
   ]
  },
  {
   "cell_type": "code",
   "execution_count": null,
   "metadata": {},
   "outputs": [],
   "source": [
    "from datetime import date\n",
    "f_date = date(2019, 7, 1)\n",
    "l_date = date(2019, 7, 21)\n",
    "delta = l_date - f_date\n",
    " \n",
    "print(delta.days)\n"
   ]
  },
  {
   "cell_type": "code",
   "execution_count": null,
   "metadata": {},
   "outputs": [],
   "source": [
    "from  math import pi\n",
    "r = float(input(\"the volume of sph:\"))\n",
    "v =4/3 * pi *r **3\n",
    "print(\"the area is\", v)\n",
    "      "
   ]
  },
  {
   "cell_type": "code",
   "execution_count": null,
   "metadata": {},
   "outputs": [],
   "source": [
    "no = int(input())\n",
    "if (no >400):\n",
    "    print(' no is ok')\n",
    "elif (no >600):\n",
    "    print ( 'no is good')\n",
    "else:\n",
    "    print (\"all is good\")"
   ]
  },
  {
   "cell_type": "code",
   "execution_count": null,
   "metadata": {},
   "outputs": [],
   "source": [
    "n = int(input())\n",
    "if (n %2 ==0):\n",
    "    print ('it is even', n)\n",
    "else:\n",
    "    print('it is odd')"
   ]
  },
  {
   "cell_type": "code",
   "execution_count": null,
   "metadata": {},
   "outputs": [],
   "source": [
    "n = int(input())\n",
    "if (n %2 ==0):\n",
    "    print ('it is even', n)\n",
    "else:\n",
    "    print('it is odd')"
   ]
  },
  {
   "cell_type": "code",
   "execution_count": null,
   "metadata": {},
   "outputs": [],
   "source": [
    "##User is prompted to enter a guess. If the user guesses wrong then the prompt appears again until the guess is correct, on successful guess, user will get a \"Well guessed!\" message, and the program will exit.\n",
    "\n",
    "import random\n",
    "tar, guess= random.randint(1,10),0\n",
    "while tar != guess:\n",
    "    guess=int(input('guess the no from 1 to 10:'))\n",
    "print ('guess')"
   ]
  },
  {
   "cell_type": "code",
   "execution_count": null,
   "metadata": {},
   "outputs": [],
   "source": [
    "s =9\n",
    "s\n"
   ]
  },
  {
   "cell_type": "code",
   "execution_count": 11,
   "metadata": {},
   "outputs": [
    {
     "name": "stdout",
     "output_type": "stream",
     "text": [
      "out of loop\n"
     ]
    },
    {
     "data": {
      "text/plain": [
       "[]"
      ]
     },
     "execution_count": 11,
     "metadata": {},
     "output_type": "execute_result"
    }
   ],
   "source": [
    "l = [1,2,3,4,5,6]\n",
    "l2 = []\n",
    "for index, i in enumerate(l):\n",
    "    if i ==10:\n",
    "        break\n",
    "    if i < 10:\n",
    "        continue\n",
    "    l2.append((index, i*i))\n",
    "else:\n",
    "    print('out of loop')\n",
    "l2"
   ]
  },
  {
   "cell_type": "code",
   "execution_count": 10,
   "metadata": {},
   "outputs": [
    {
     "name": "stdout",
     "output_type": "stream",
     "text": [
      "out of loop without using break statement\n"
     ]
    },
    {
     "data": {
      "text/plain": [
       "[(2, 169), (3, 121), (5, 121), (6, 225)]"
      ]
     },
     "execution_count": 10,
     "metadata": {},
     "output_type": "execute_result"
    }
   ],
   "source": [
    "lst1 = [4, 7, 13, 11, 3, 11, 15]\n",
    "lst2 = []\n",
    "\n",
    "for index, e in enumerate(lst1):\n",
    "    if e == 10:\n",
    "        break\n",
    "    if e < 10:\n",
    "        continue\n",
    "    lst2.append((index, e*e))\n",
    "else:\n",
    "    print(\"out of loop without using break statement\")\n",
    "\n",
    "lst2"
   ]
  },
  {
   "cell_type": "code",
   "execution_count": null,
   "metadata": {},
   "outputs": [],
   "source": [
    "import sys; x = 'foo'; sys.stdout.write(x + '\\n')\n"
   ]
  },
  {
   "cell_type": "code",
   "execution_count": null,
   "metadata": {},
   "outputs": [],
   "source": [
    "x= 0\n",
    "while x <10:\n",
    "    print('x is currently: ', x, end =\"\")\n",
    "    \n",
    "    print('adding to one')\n",
    "    x+1\n",
    "    "
   ]
  },
  {
   "cell_type": "code",
   "execution_count": null,
   "metadata": {},
   "outputs": [],
   "source": [
    "##list Comprehension\n",
    "\n",
    "\n",
    "ls = ['ankit', 'sanket', 'mom ', 'dad']\n",
    "hello= ['hello  ' + ls for ls in ls]\n",
    "print(hello)\n"
   ]
  },
  {
   "cell_type": "code",
   "execution_count": null,
   "metadata": {},
   "outputs": [],
   "source": [
    "no = [55,6,6,454,6,4,6,4,6,8,25,8,3]\n",
    "even =[num for num in no if num %2 ==0]\n",
    "print (even)"
   ]
  },
  {
   "cell_type": "code",
   "execution_count": null,
   "metadata": {},
   "outputs": [],
   "source": [
    "no = [55,6,6,454,6,4,6,4,6,8,25,8,3]\n",
    "even =[num for num in no if num ==0]\n",
    "print (even)"
   ]
  },
  {
   "cell_type": "code",
   "execution_count": null,
   "metadata": {},
   "outputs": [],
   "source": [
    "n  = 12\n",
    "for i in range (n):\n",
    "    for j in range (i):\n",
    "        print ('# _#', end = '')\n",
    "    print ('')"
   ]
  },
  {
   "cell_type": "code",
   "execution_count": null,
   "metadata": {},
   "outputs": [],
   "source": [
    "for i in range (n ,0, -2):\n",
    "    for j in range (i):\n",
    "        print('*', end ='')\n",
    "    print ('')"
   ]
  },
  {
   "cell_type": "code",
   "execution_count": null,
   "metadata": {},
   "outputs": [],
   "source": [
    "hum_age = int(input('input of dog age in years: '))\n",
    "if hum_age < 0:\n",
    "    print( 'its a positive age')\n",
    "    exit() \n",
    "elif hum_age <=2:\n",
    "    d_age = hum_age *10.5\n",
    "else:\n",
    "    d_age =21 +(hum_age -2)*4\n",
    "print ('age of dog ',d_age)"
   ]
  },
  {
   "cell_type": "code",
   "execution_count": null,
   "metadata": {},
   "outputs": [],
   "source": [
    "vo= str(input('given input: '))\n",
    "if vo in ('a','e','i','o','u'):\n",
    "    print('its vovals' )\n",
    "else:\n",
    "     print('its consonant')"
   ]
  },
  {
   "cell_type": "markdown",
   "metadata": {},
   "source": [
    "### Python Exercise: Sum of two given integers. However, if the sum is between 15 to 20 it will return 20"
   ]
  },
  {
   "cell_type": "code",
   "execution_count": null,
   "metadata": {},
   "outputs": [],
   "source": [
    "def sum(x,y):\n",
    "    sum = x+y\n",
    "    if sum in range(15,20):\n",
    "        return 20\n",
    "    else:\n",
    "        return sum\n",
    "print(sum(10,12))"
   ]
  },
  {
   "cell_type": "markdown",
   "metadata": {},
   "source": [
    "####   Write a Python program to check a triangle is equilateral, isosceles or scalene. Go to the editor\n",
    "Note :\n",
    "An equilateral triangle is a triangle in which all three sides are equal.\n",
    "A scalene triangle is a triangle that has three unequal sides.\n",
    "An isosceles triangle is a triangle with (at least) two equal sides."
   ]
  },
  {
   "cell_type": "code",
   "execution_count": null,
   "metadata": {},
   "outputs": [],
   "source": [
    "triangle = int(input(\"the angle in degree :\"))\n",
    "x= int(input('x: '))\n",
    "y= int(input('y: '))\n",
    "z= int(input('z: '))\n",
    "if x== y== z:\n",
    "    print('equilatreal triangle')\n",
    "elif x==y or x==z or y==z:\n",
    "    print('iso triangle ')\n",
    "else:\n",
    "    print('scalene triangle')"
   ]
  },
  {
   "cell_type": "code",
   "execution_count": null,
   "metadata": {},
   "outputs": [],
   "source": [
    "#xample of isinstance() function\n",
    "num = 100\n",
    "# true because num is an integer\n",
    "print(isinstance(num, int))\n",
    "\n",
    "# false because num is not a float\n",
    "print(isinstance(num, float))\n",
    "\n",
    "# false because num is not a complex number\n",
    "print(isinstance(num, complex))"
   ]
  },
  {
   "cell_type": "code",
   "execution_count": null,
   "metadata": {},
   "outputs": [],
   "source": [
    "\n",
    "#the no of odd and even counts\n",
    "l = range(1,100)\n",
    "#l= (1,2,3,4,5,6,7,8,9,65,66,46,8,46,6,9,46,466,5)\n",
    "odd  = 0\n",
    "\n",
    "even = 0\n",
    "for x in  l:\n",
    "    if not x %2 :\n",
    "        even +=1\n",
    "    else:\n",
    "        odd+=1\n",
    "    \n",
    "print ('the even :',even)\n",
    "print('the odd:', odd)"
   ]
  },
  {
   "cell_type": "markdown",
   "metadata": {},
   "source": [
    "##  Write a Python program that prints each item and its corresponding type from the following list.\n",
    "Write a Python program that prints each item and its corresponding type from the following list.\n",
    "\n",
    "Sample List : datalist = [1452, 11.23, 1+2j, True, 'w3resource', (0, -1), [5, 12], {\"class\":'V', \"section\":'A'}]"
   ]
  },
  {
   "cell_type": "code",
   "execution_count": null,
   "metadata": {},
   "outputs": [],
   "source": [
    "#Write a Python program that prints each item and its corresponding type from the following list.\n",
    "\n",
    "#Sample List : datalist = [1452, 11.23, 1+2j, True, 'w3resource', (0, -1), [5, 12], {\"class\":'V', \"section\":'A'}]\n",
    "\n",
    "\n",
    "d= [646,44,3,60.5,46,3,1+6j,49674,98,'abchnoc',(0,-5,6),[8,6], {'class':'v', 'secton':'A'}]\n",
    "for item in d:\n",
    "    print ('type of ', item, 'is', type(item))"
   ]
  },
  {
   "cell_type": "markdown",
   "metadata": {},
   "source": [
    "## Write a Python program to get the Fibonacci series between 0 to 50.\n",
    "\n",
    "Note : The Fibonacci Sequence is the series of numbers :\n",
    "0, 1, 1, 2, 3, 5, 8, 13, 21, ....https://www.w3resource.com/w3r_images/python-conditional-image-exercise-9.png\n"
   ]
  },
  {
   "cell_type": "code",
   "execution_count": null,
   "metadata": {},
   "outputs": [],
   "source": [
    "x,y=0,1\n",
    "while y<50:\n",
    "    print(y)\n",
    "    x,y = y,x+ y"
   ]
  },
  {
   "cell_type": "code",
   "execution_count": null,
   "metadata": {},
   "outputs": [],
   "source": [
    "for i in range (1,10):\n",
    "    print (i, i**2)"
   ]
  },
  {
   "cell_type": "code",
   "execution_count": null,
   "metadata": {},
   "outputs": [],
   "source": [
    "l = [0,1,2,3,45]\n",
    "for i in range (len(l)):\n",
    "    j=1/2\n",
    "    if j -int(j) == 0.0:\n",
    "        l[i] = l[i]+1\n",
    "    else: l[i] =i**2\n",
    "l"
   ]
  },
  {
   "cell_type": "code",
   "execution_count": null,
   "metadata": {},
   "outputs": [],
   "source": [
    "def double_the_number(num=1):\n",
    "    return num * 2\n",
    "\n",
    "print(double_the_number())"
   ]
  },
  {
   "cell_type": "code",
   "execution_count": null,
   "metadata": {},
   "outputs": [],
   "source": []
  },
  {
   "cell_type": "markdown",
   "metadata": {},
   "source": [
    "### With the for loop we can execute a set of statements, once for each item in a list, tuple, set etc.\n",
    "\n"
   ]
  },
  {
   "cell_type": "code",
   "execution_count": null,
   "metadata": {},
   "outputs": [],
   "source": [
    "lo= ['anlkit', 'sanketw', 'mom', 'dad']\n",
    "for z in lo:\n",
    "    print (z)"
   ]
  },
  {
   "cell_type": "markdown",
   "metadata": {},
   "source": [
    "##  evenfor loop does not require an indexing variable to set beforehand."
   ]
  },
  {
   "cell_type": "code",
   "execution_count": null,
   "metadata": {},
   "outputs": [],
   "source": [
    "for z in 'ankit':\n",
    "    print (lo)\n",
    "    "
   ]
  },
  {
   "cell_type": "markdown",
   "metadata": {},
   "source": [
    "The break Statement\n",
    "With the break statement we can stop the loop before it has looped through all the items:# "
   ]
  },
  {
   "cell_type": "code",
   "execution_count": null,
   "metadata": {},
   "outputs": [],
   "source": [
    "l= ['anlkit', 'daada','sanketw', 'mom', 'dad' ]\n",
    "for x in l:\n",
    "    print(x)\n",
    "    if x =='daada':\n",
    "        break\n",
    "    "
   ]
  },
  {
   "cell_type": "markdown",
   "metadata": {},
   "source": [
    "### Exit the loop when x is \"banana\", but this time the break comes before the print\n"
   ]
  },
  {
   "cell_type": "code",
   "execution_count": null,
   "metadata": {},
   "outputs": [],
   "source": [
    "l= ['anlkit', 'daada','sanketw', 'mom', 'dad' ]\n",
    "for x in l:\n",
    "    print(x)\n",
    "    if x =='daada':\n",
    "        break\n",
    "    print (x)"
   ]
  },
  {
   "cell_type": "markdown",
   "metadata": {},
   "source": [
    "### The continue Statement\n",
    "With the continue statement we can stop the current iteration of the loop, and continue with the next:#### "
   ]
  },
  {
   "cell_type": "code",
   "execution_count": null,
   "metadata": {},
   "outputs": [],
   "source": [
    "l"
   ]
  },
  {
   "cell_type": "code",
   "execution_count": null,
   "metadata": {},
   "outputs": [],
   "source": [
    "l\n",
    "for a in l:\n",
    "    if a == 'sanketw':\n",
    "        continue\n",
    "    print(a)"
   ]
  },
  {
   "cell_type": "markdown",
   "metadata": {},
   "source": [
    "The range() Function\n",
    "\n",
    "To loop through a set of code a specified number of times, we can use the range() function,\n",
    "The range() function returns a sequence of numbers, starting from 0 by default, and increments by 1 (by default), and ends at a specified number.### "
   ]
  },
  {
   "cell_type": "code",
   "execution_count": null,
   "metadata": {},
   "outputs": [],
   "source": [
    "for x in range (10):\n",
    "    print (x)"
   ]
  },
  {
   "cell_type": "markdown",
   "metadata": {},
   "source": [
    "## The range() function defaults to 0 as a starting value, however it is possible to specify the starting value by adding a parameter: range(2, 6), which means values from 2 to 6 (but not including 6):"
   ]
  },
  {
   "cell_type": "code",
   "execution_count": null,
   "metadata": {},
   "outputs": [],
   "source": [
    "for z in range (1,6):\n",
    "    print(z)"
   ]
  },
  {
   "cell_type": "markdown",
   "metadata": {},
   "source": [
    "## the range() function defaults to increment the sequence by 1, however it is possible to specify the increment value by adding a third parameter: range(2, 30, 3):\n"
   ]
  },
  {
   "cell_type": "code",
   "execution_count": null,
   "metadata": {},
   "outputs": [],
   "source": [
    "for s in range(1,6,3):\n",
    "    print(s)"
   ]
  },
  {
   "cell_type": "markdown",
   "metadata": {},
   "source": [
    "### Else in For Loop\n",
    "The else keyword in a for loop specifies a block of code to be executed when the loop is finished:## "
   ]
  },
  {
   "cell_type": "code",
   "execution_count": null,
   "metadata": {},
   "outputs": [],
   "source": [
    "for i in range(8):\n",
    "    print(i)\n",
    "else:\n",
    "    print('stop')"
   ]
  },
  {
   "cell_type": "markdown",
   "metadata": {},
   "source": [
    "## Nested Loops\n",
    "A nested loop is a loop inside a loop.\n",
    "\n",
    "The \"inner loop\" will be executed one time for each iteration of the \"outer loop\":"
   ]
  },
  {
   "cell_type": "code",
   "execution_count": null,
   "metadata": {},
   "outputs": [],
   "source": [
    "a = ['gaurab','brina','suka']\n",
    "a\n",
    "b= ['shillong', 'ghy', 'tezpur']\n",
    "for x in a:\n",
    "    for y in b:\n",
    "        print (x,y)\n",
    "        break"
   ]
  },
  {
   "cell_type": "markdown",
   "metadata": {},
   "source": [
    "##  for variable in sequence:  \n",
    "   # body_of_loop that has set of statements\n",
    "   # which requires repeated execution "
   ]
  },
  {
   "cell_type": "code",
   "execution_count": null,
   "metadata": {},
   "outputs": [],
   "source": [
    "a2= [1,23,4,5,6,8,5,3,2,2]\n",
    "\n",
    "sq = 0\n",
    "for val in a2:\n",
    "    sq= val*val\n",
    "    print(sq)"
   ]
  },
  {
   "cell_type": "code",
   "execution_count": null,
   "metadata": {},
   "outputs": [],
   "source": [
    "# Program to print squares of all numbers present in a list\n",
    "\n",
    "# List of integer numbers\n",
    "numbers = [1, 2, 4, 6, 11, 20]\n",
    "\n",
    "# variable to store the square of each num temporary\n",
    "sq = 0\n",
    "\n",
    "# iterating over the given list\n",
    "for val in numbers:\n",
    "    # calculating square of each number\n",
    "    sq = val * val\n",
    "    # displaying the squares\n",
    "    print(sq)"
   ]
  },
  {
   "cell_type": "code",
   "execution_count": null,
   "metadata": {},
   "outputs": [],
   "source": [
    "sum = 0\n",
    "for val in range(1,10):\n",
    "    sum = sum+1\n",
    "print(sum)"
   ]
  },
  {
   "cell_type": "code",
   "execution_count": null,
   "metadata": {},
   "outputs": [],
   "source": [
    "for num in range(4):\n",
    "    for num1 in range (3):\n",
    "        print(num , num1)\n",
    "        break"
   ]
  },
  {
   "cell_type": "code",
   "execution_count": null,
   "metadata": {},
   "outputs": [],
   "source": [
    "i = 5\n",
    "j= 8\n",
    "while i < 10:\n",
    "    while j <12:\n",
    "        print(i,\",\",j)\n",
    "        j= j+1\n",
    "        i = i+1"
   ]
  },
  {
   "cell_type": "code",
   "execution_count": null,
   "metadata": {},
   "outputs": [],
   "source": [
    "a2"
   ]
  },
  {
   "cell_type": "code",
   "execution_count": null,
   "metadata": {},
   "outputs": [],
   "source": [
    "a2 =[1, 23, 4, 5, 6, 8, 5, 3, 2, 2]\n",
    "for num in a2:\n",
    "    if num%2==0:\n",
    "        continue\n",
    "    print(num)"
   ]
  },
  {
   "cell_type": "code",
   "execution_count": null,
   "metadata": {},
   "outputs": [],
   "source": [
    "for num in [20, 11, 9, 66, 4, 89, 44]:\n",
    "    # Skipping the iteration when number is even\n",
    "    if num%2 == 0:\n",
    "        continue\n",
    "    # This statement will be skipped for all even numbers\n",
    "    print(num)"
   ]
  },
  {
   "cell_type": "markdown",
   "metadata": {},
   "source": [
    "## Creating a Function\n",
    "In Python a function is defined using the def keyword:### "
   ]
  },
  {
   "cell_type": "code",
   "execution_count": null,
   "metadata": {},
   "outputs": [],
   "source": [
    "def my_function():\n",
    "    print('hello from a function')\n",
    "my_function()"
   ]
  },
  {
   "cell_type": "markdown",
   "metadata": {},
   "source": [
    "### Calling a Function\n",
    "To call a function, use the function name followed by parenthesis:\n"
   ]
  },
  {
   "cell_type": "markdown",
   "metadata": {},
   "source": [
    "## Parameters\n",
    "Information can be passed to functions as parameter.\n",
    "\n",
    "Parameters are specified after the function name, inside the parentheses. You can add as many parameters as you want, just separate them with a comma.\n",
    "\n",
    "The following example has a function with one parameter (fname). When the function is called, we pass along a first name, which is used inside the function to print the full name "
   ]
  },
  {
   "cell_type": "code",
   "execution_count": null,
   "metadata": {},
   "outputs": [],
   "source": [
    "def my_fun(name):\n",
    "    print(name+' ankit')\n",
    "my_fun('nagdeve')\n",
    "my_fun('sanket')"
   ]
  },
  {
   "cell_type": "code",
   "execution_count": null,
   "metadata": {},
   "outputs": [],
   "source": [
    "def fun(city):\n",
    "    print(city+    '  Nagpur')\n",
    "fun('ankit')\n",
    "fun('sanket')\n",
    "fun('anita')\n",
    "fun('naresh')"
   ]
  },
  {
   "cell_type": "markdown",
   "metadata": {},
   "source": [
    "###  Passing a List as a Parameter\n",
    "You can send any data types of parameter to a function (string, number, list, dictionary etc.), and it will be treated as the same data type inside the function.\n",
    "\n",
    "E.g. if you send a List as a parameter, it will still be a List when it reaches the function:"
   ]
  },
  {
   "cell_type": "code",
   "execution_count": null,
   "metadata": {},
   "outputs": [],
   "source": [
    "food =['app','bana','pomo']\n",
    "def fun(food):\n",
    "    for x in food:\n",
    "        print (x)\n",
    "fun(food)"
   ]
  },
  {
   "cell_type": "code",
   "execution_count": null,
   "metadata": {},
   "outputs": [],
   "source": [
    "def fun(f):\n",
    "    return 5**f\n",
    "    \n",
    "print(fun(2))\n",
    "print(fun(5))\n",
    "        "
   ]
  },
  {
   "cell_type": "markdown",
   "metadata": {},
   "source": [
    "###  Recursion\n",
    "Python also accepts function recursion, which means a defined function can call itself.\n",
    "\n",
    "Recursion is a common mathematical and programming concept. It means that a function calls itself. This has the benefit of meaning that you can loop through data to reach a result.\n",
    "\n",
    "The developer should be very careful with recursion as it can be quite easy to slip into writing a function which never terminates, or one that uses excess amounts of memory or processor power. However, when written correctly recursion can be a very efficient and mathematically-elegant approach to programming.\n",
    "\n",
    "In this example, tri_recursion() is a function that we have defined to call itself (\"recurse\"). We use the k variable as the data, which decrements (-1) every time we recurse. The recursion ends when the condition is not greater than 0 (i.e. when it is 0).\n",
    "\n",
    "To a new developer it can take some time to work out how exactly this works, best way ###  "
   ]
  },
  {
   "cell_type": "code",
   "execution_count": 13,
   "metadata": {},
   "outputs": [
    {
     "data": {
      "text/plain": [
       "12.56"
      ]
     },
     "execution_count": 13,
     "metadata": {},
     "output_type": "execute_result"
    }
   ],
   "source": [
    "class cir (object):\n",
    "    pi =3.14\n",
    "    \n",
    "    def __init__(self, radius=1):\n",
    "        self.radius= radius\n",
    "    \n",
    "    def area(self):\n",
    "        return self.radius *2 * cir.pi\n",
    "    \n",
    "    def setradius(self, radius):\n",
    "        self.radius = radius\n",
    "    \n",
    "    def getradius(self):\n",
    "        return self.radius\n",
    "\n",
    "c=cir()\n",
    "c.setradius(2)\n",
    "c.getradius()\n",
    "c.area()\n",
    "        \n",
    "        \n",
    "        \n",
    "        \n",
    "    "
   ]
  },
  {
   "cell_type": "code",
   "execution_count": 18,
   "metadata": {},
   "outputs": [],
   "source": [
    "import numpy as np\n"
   ]
  },
  {
   "cell_type": "code",
   "execution_count": 19,
   "metadata": {},
   "outputs": [
    {
     "data": {
      "text/plain": [
       "array([ 1, 23, 45,  6, 78,  9,  9,  8])"
      ]
     },
     "execution_count": 19,
     "metadata": {},
     "output_type": "execute_result"
    }
   ],
   "source": [
    "list = [1,23,45,6,78,9,9,8]\n",
    "a= np.array(list)"
   ]
  },
  {
   "cell_type": "code",
   "execution_count": 32,
   "metadata": {},
   "outputs": [
    {
     "data": {
      "text/plain": [
       "array([[1, 2, 3],\n",
       "       [3, 3, 5],\n",
       "       [5, 6, 7],\n",
       "       [2, 3, 4]])"
      ]
     },
     "execution_count": 32,
     "metadata": {},
     "output_type": "execute_result"
    }
   ],
   "source": [
    "listo= [[1,2,3],[3,3,5],[5,6,7],[2,3,4]]\n",
    "ab = np.array(listo)\n",
    "ab"
   ]
  },
  {
   "cell_type": "code",
   "execution_count": 34,
   "metadata": {},
   "outputs": [
    {
     "name": "stdout",
     "output_type": "stream",
     "text": [
      "(4, 3)\n"
     ]
    }
   ],
   "source": [
    "\n",
    "print(ab.shape)"
   ]
  },
  {
   "cell_type": "code",
   "execution_count": 41,
   "metadata": {},
   "outputs": [],
   "source": [
    "a= np.arange(1,10)\n",
    "a\n",
    "\n"
   ]
  },
  {
   "cell_type": "code",
   "execution_count": 43,
   "metadata": {
    "scrolled": true
   },
   "outputs": [
    {
     "data": {
      "text/plain": [
       "array([11, 12, 13, 14, 15, 16, 17, 18, 19])"
      ]
     },
     "execution_count": 43,
     "metadata": {},
     "output_type": "execute_result"
    }
   ],
   "source": [
    "b= np.arange(11,20)\n",
    "b"
   ]
  },
  {
   "cell_type": "code",
   "execution_count": 42,
   "metadata": {},
   "outputs": [
    {
     "data": {
      "text/plain": [
       "array([21, 22, 23, 24, 25, 26, 27, 28, 29])"
      ]
     },
     "execution_count": 42,
     "metadata": {},
     "output_type": "execute_result"
    }
   ],
   "source": [
    "c=np.arange(21,30)\n",
    "c"
   ]
  },
  {
   "cell_type": "code",
   "execution_count": 50,
   "metadata": {},
   "outputs": [
    {
     "name": "stdout",
     "output_type": "stream",
     "text": [
      "[1 2 3 4 5 6 7 8 9] [11 12 13 14 15 16 17 18 19] [21 22 23 24 25 26 27 28 29]\n"
     ]
    }
   ],
   "source": [
    "s= print(a,b,c)\n",
    "p =np.array(s)    "
   ]
  },
  {
   "cell_type": "code",
   "execution_count": 51,
   "metadata": {},
   "outputs": [
    {
     "name": "stdout",
     "output_type": "stream",
     "text": [
      "()\n"
     ]
    }
   ],
   "source": [
    "print (p.shape)"
   ]
  },
  {
   "cell_type": "code",
   "execution_count": 59,
   "metadata": {},
   "outputs": [
    {
     "data": {
      "text/plain": [
       "array([[0., 0., 0., 0., 0.],\n",
       "       [0., 0., 0., 0., 0.]])"
      ]
     },
     "execution_count": 59,
     "metadata": {},
     "output_type": "execute_result"
    }
   ],
   "source": [
    "np.zeros((2, 5))\n"
   ]
  },
  {
   "cell_type": "markdown",
   "metadata": {},
   "source": [
    "### eye\n",
    "Creates an identity matrix of given size. Identity matrix is one in which all the diagonal elements are 1s. Rest all of the elemnts are zeros"
   ]
  },
  {
   "cell_type": "code",
   "execution_count": 61,
   "metadata": {},
   "outputs": [
    {
     "data": {
      "text/plain": [
       "array([[1.]])"
      ]
     },
     "execution_count": 61,
     "metadata": {},
     "output_type": "execute_result"
    }
   ],
   "source": [
    "np.eye(1)"
   ]
  },
  {
   "cell_type": "markdown",
   "metadata": {},
   "source": [
    "## linspace\n",
    "Linspace: Return evenly spaced numbers over a specified interval.\n",
    "\n",
    "linspace(start, stop, num=50, endpoint=True, retstep=False)\n",
    "\n",
    "Will return num number of values\n",
    "Equally spaced samples in the closed interval [start, stop] or the half-open interval [start, stop)\n",
    "Closed or half-open interval depends on whether 'endpoint' is True or False.### "
   ]
  },
  {
   "cell_type": "code",
   "execution_count": 70,
   "metadata": {},
   "outputs": [
    {
     "data": {
      "text/plain": [
       "array([  0. ,  12.5,  25. ,  37.5,  50. ,  62.5,  75. ,  87.5, 100. ])"
      ]
     },
     "execution_count": 70,
     "metadata": {},
     "output_type": "execute_result"
    }
   ],
   "source": [
    "np.linspace(0 , 100, 9)"
   ]
  },
  {
   "cell_type": "markdown",
   "metadata": {},
   "source": [
    "### How do I generate Random Numbers?¶\n",
    "\n",
    "Numpy also has lots of ways to create random number arrays of given shape\n",
    "\n",
    "rand:\n",
    "\n",
    "numpy.random.rand(d0, d1, …, dn) Create an array of the given shape and populate it with random samples from a uniform distribution\n",
    "\n",
    "randn:\n",
    "\n",
    "numpy.random.randn(d0, d1, …, dn)creates an array of specified shape and fills it with random values as per standard normal distribution.\n",
    "\n",
    "If positive arguments are provided, randn generates an array of shape (d0, d1, …, dn), filled with random floats sampled from a univariate “normal” (Gaussian) distribution of mean 0 and variance 1 (if any of the d_i are floats, they are first converted to integers by truncation).\n",
    "\n",
    "A single float randomly sampled from the distribution is returned if no argument is provided.\n",
    "\n",
    "randint:\n",
    "\n",
    "Return random integers from the “discrete uniform” distribution of the specified dtype in the “half-open” interval [low, high). If high is None (the default), then results are from [0, low)."
   ]
  },
  {
   "cell_type": "code",
   "execution_count": 76,
   "metadata": {},
   "outputs": [
    {
     "data": {
      "text/plain": [
       "array([[0.11564908, 0.41899306, 0.46427666],\n",
       "       [0.71474198, 0.33872986, 0.07406491]])"
      ]
     },
     "execution_count": 76,
     "metadata": {},
     "output_type": "execute_result"
    }
   ],
   "source": [
    "# random number (uniform distribution) array of shape (3 , 4)\n",
    "\n",
    "np.random.rand(2,3)"
   ]
  },
  {
   "cell_type": "code",
   "execution_count": 81,
   "metadata": {},
   "outputs": [
    {
     "data": {
      "text/plain": [
       "array([[0.74243513, 0.53198487],\n",
       "       [0.16468761, 0.26633802]])"
      ]
     },
     "execution_count": 81,
     "metadata": {},
     "output_type": "execute_result"
    }
   ],
   "source": [
    "# random number (standard normal distribution) array of shape (2, 3)\n",
    "np.random.randn(2,2)"
   ]
  },
  {
   "cell_type": "code",
   "execution_count": 85,
   "metadata": {},
   "outputs": [
    {
     "data": {
      "text/plain": [
       "array([21, 33, 13,  4, 29,  4,  5, 24, 36, 19])"
      ]
     },
     "execution_count": 85,
     "metadata": {},
     "output_type": "execute_result"
    }
   ],
   "source": [
    "# 10 random integers between 4 (inclusive) to 40 (exclusive)\n",
    "\n",
    "np.random.randint(4, 40, 10)\n"
   ]
  },
  {
   "cell_type": "code",
   "execution_count": 92,
   "metadata": {},
   "outputs": [
    {
     "data": {
      "text/plain": [
       "array([[11, 36, 13],\n",
       "       [45, 46, 37],\n",
       "       [19,  8,  7],\n",
       "       [11,  9, 23],\n",
       "       [16, 15, 32],\n",
       "       [10, 18, 47],\n",
       "       [23, 29, 49],\n",
       "       [28, 38,  7],\n",
       "       [ 9, 24,  7]])"
      ]
     },
     "execution_count": 92,
     "metadata": {},
     "output_type": "execute_result"
    }
   ],
   "source": [
    "# 10 random integers upto 50 (exclusive). This makes the start value default to 0.\n",
    "# The size parameter dictates the return array shape\n",
    "\n",
    "\n",
    "np.random.randint(50, size = (9,3))"
   ]
  },
  {
   "cell_type": "code",
   "execution_count": null,
   "metadata": {},
   "outputs": [],
   "source": []
  },
  {
   "cell_type": "code",
   "execution_count": 129,
   "metadata": {},
   "outputs": [],
   "source": [
    "import csv\n",
    "import urllib\n",
    "import pandas as pd\n",
    "import os\n"
   ]
  },
  {
   "cell_type": "code",
   "execution_count": null,
   "metadata": {},
   "outputs": [],
   "source": []
  },
  {
   "cell_type": "code",
   "execution_count": 159,
   "metadata": {},
   "outputs": [
    {
     "data": {
      "text/html": [
       "<div>\n",
       "<style scoped>\n",
       "    .dataframe tbody tr th:only-of-type {\n",
       "        vertical-align: middle;\n",
       "    }\n",
       "\n",
       "    .dataframe tbody tr th {\n",
       "        vertical-align: top;\n",
       "    }\n",
       "\n",
       "    .dataframe thead th {\n",
       "        text-align: right;\n",
       "    }\n",
       "</style>\n",
       "<table border=\"1\" class=\"dataframe\">\n",
       "  <thead>\n",
       "    <tr style=\"text-align: right;\">\n",
       "      <th></th>\n",
       "      <th>Date/Time</th>\n",
       "      <th>Temp (C)</th>\n",
       "      <th>Dew Point Temp (C)</th>\n",
       "      <th>Rel Hum (%)</th>\n",
       "      <th>Wind Spd (km/h)</th>\n",
       "      <th>Visibility (km)</th>\n",
       "      <th>Stn Press (kPa)</th>\n",
       "    </tr>\n",
       "  </thead>\n",
       "  <tbody>\n",
       "    <tr>\n",
       "      <th>0</th>\n",
       "      <td>2012-01-01 00:00:00</td>\n",
       "      <td>-1.8</td>\n",
       "      <td>-3.9</td>\n",
       "      <td>86</td>\n",
       "      <td>4</td>\n",
       "      <td>8.0</td>\n",
       "      <td>101.24</td>\n",
       "    </tr>\n",
       "    <tr>\n",
       "      <th>1</th>\n",
       "      <td>2012-01-01 01:00:00</td>\n",
       "      <td>-1.8</td>\n",
       "      <td>-3.7</td>\n",
       "      <td>87</td>\n",
       "      <td>4</td>\n",
       "      <td>8.0</td>\n",
       "      <td>101.24</td>\n",
       "    </tr>\n",
       "    <tr>\n",
       "      <th>2</th>\n",
       "      <td>2012-01-01 02:00:00</td>\n",
       "      <td>-1.8</td>\n",
       "      <td>-3.4</td>\n",
       "      <td>89</td>\n",
       "      <td>7</td>\n",
       "      <td>4.0</td>\n",
       "      <td>101.26</td>\n",
       "    </tr>\n",
       "    <tr>\n",
       "      <th>3</th>\n",
       "      <td>2012-01-01 03:00:00</td>\n",
       "      <td>-1.5</td>\n",
       "      <td>-3.2</td>\n",
       "      <td>88</td>\n",
       "      <td>6</td>\n",
       "      <td>4.0</td>\n",
       "      <td>101.27</td>\n",
       "    </tr>\n",
       "    <tr>\n",
       "      <th>4</th>\n",
       "      <td>2012-01-01 04:00:00</td>\n",
       "      <td>-1.5</td>\n",
       "      <td>-3.3</td>\n",
       "      <td>88</td>\n",
       "      <td>7</td>\n",
       "      <td>4.8</td>\n",
       "      <td>101.23</td>\n",
       "    </tr>\n",
       "    <tr>\n",
       "      <th>5</th>\n",
       "      <td>2012-01-01 05:00:00</td>\n",
       "      <td>-1.4</td>\n",
       "      <td>-3.3</td>\n",
       "      <td>87</td>\n",
       "      <td>9</td>\n",
       "      <td>6.4</td>\n",
       "      <td>101.27</td>\n",
       "    </tr>\n",
       "    <tr>\n",
       "      <th>6</th>\n",
       "      <td>2012-01-01 06:00:00</td>\n",
       "      <td>-1.5</td>\n",
       "      <td>-3.1</td>\n",
       "      <td>89</td>\n",
       "      <td>7</td>\n",
       "      <td>6.4</td>\n",
       "      <td>101.29</td>\n",
       "    </tr>\n",
       "    <tr>\n",
       "      <th>7</th>\n",
       "      <td>2012-01-01 07:00:00</td>\n",
       "      <td>-1.4</td>\n",
       "      <td>-3.6</td>\n",
       "      <td>85</td>\n",
       "      <td>7</td>\n",
       "      <td>8.0</td>\n",
       "      <td>101.26</td>\n",
       "    </tr>\n",
       "    <tr>\n",
       "      <th>8</th>\n",
       "      <td>2012-01-01 08:00:00</td>\n",
       "      <td>-1.4</td>\n",
       "      <td>-3.6</td>\n",
       "      <td>85</td>\n",
       "      <td>9</td>\n",
       "      <td>8.0</td>\n",
       "      <td>101.23</td>\n",
       "    </tr>\n",
       "    <tr>\n",
       "      <th>9</th>\n",
       "      <td>2012-01-01 09:00:00</td>\n",
       "      <td>-1.3</td>\n",
       "      <td>-3.1</td>\n",
       "      <td>88</td>\n",
       "      <td>15</td>\n",
       "      <td>4.0</td>\n",
       "      <td>101.20</td>\n",
       "    </tr>\n",
       "    <tr>\n",
       "      <th>10</th>\n",
       "      <td>2012-01-01 10:00:00</td>\n",
       "      <td>-1.0</td>\n",
       "      <td>-2.3</td>\n",
       "      <td>91</td>\n",
       "      <td>9</td>\n",
       "      <td>1.2</td>\n",
       "      <td>101.15</td>\n",
       "    </tr>\n",
       "    <tr>\n",
       "      <th>11</th>\n",
       "      <td>2012-01-01 11:00:00</td>\n",
       "      <td>-0.5</td>\n",
       "      <td>-2.1</td>\n",
       "      <td>89</td>\n",
       "      <td>7</td>\n",
       "      <td>4.0</td>\n",
       "      <td>100.98</td>\n",
       "    </tr>\n",
       "    <tr>\n",
       "      <th>12</th>\n",
       "      <td>2012-01-01 12:00:00</td>\n",
       "      <td>-0.2</td>\n",
       "      <td>-2.0</td>\n",
       "      <td>88</td>\n",
       "      <td>9</td>\n",
       "      <td>4.8</td>\n",
       "      <td>100.79</td>\n",
       "    </tr>\n",
       "    <tr>\n",
       "      <th>13</th>\n",
       "      <td>2012-01-01 13:00:00</td>\n",
       "      <td>0.2</td>\n",
       "      <td>-1.7</td>\n",
       "      <td>87</td>\n",
       "      <td>13</td>\n",
       "      <td>4.8</td>\n",
       "      <td>100.58</td>\n",
       "    </tr>\n",
       "    <tr>\n",
       "      <th>14</th>\n",
       "      <td>2012-01-01 14:00:00</td>\n",
       "      <td>0.8</td>\n",
       "      <td>-1.1</td>\n",
       "      <td>87</td>\n",
       "      <td>20</td>\n",
       "      <td>4.8</td>\n",
       "      <td>100.31</td>\n",
       "    </tr>\n",
       "    <tr>\n",
       "      <th>15</th>\n",
       "      <td>2012-01-01 15:00:00</td>\n",
       "      <td>1.8</td>\n",
       "      <td>-0.4</td>\n",
       "      <td>85</td>\n",
       "      <td>22</td>\n",
       "      <td>6.4</td>\n",
       "      <td>100.07</td>\n",
       "    </tr>\n",
       "    <tr>\n",
       "      <th>16</th>\n",
       "      <td>2012-01-01 16:00:00</td>\n",
       "      <td>2.6</td>\n",
       "      <td>-0.2</td>\n",
       "      <td>82</td>\n",
       "      <td>13</td>\n",
       "      <td>12.9</td>\n",
       "      <td>99.93</td>\n",
       "    </tr>\n",
       "    <tr>\n",
       "      <th>17</th>\n",
       "      <td>2012-01-01 17:00:00</td>\n",
       "      <td>3.0</td>\n",
       "      <td>0.0</td>\n",
       "      <td>81</td>\n",
       "      <td>13</td>\n",
       "      <td>16.1</td>\n",
       "      <td>99.81</td>\n",
       "    </tr>\n",
       "    <tr>\n",
       "      <th>18</th>\n",
       "      <td>2012-01-01 18:00:00</td>\n",
       "      <td>3.8</td>\n",
       "      <td>1.0</td>\n",
       "      <td>82</td>\n",
       "      <td>15</td>\n",
       "      <td>12.9</td>\n",
       "      <td>99.74</td>\n",
       "    </tr>\n",
       "    <tr>\n",
       "      <th>19</th>\n",
       "      <td>2012-01-01 19:00:00</td>\n",
       "      <td>3.1</td>\n",
       "      <td>1.3</td>\n",
       "      <td>88</td>\n",
       "      <td>15</td>\n",
       "      <td>12.9</td>\n",
       "      <td>99.68</td>\n",
       "    </tr>\n",
       "    <tr>\n",
       "      <th>20</th>\n",
       "      <td>2012-01-01 20:00:00</td>\n",
       "      <td>3.2</td>\n",
       "      <td>1.3</td>\n",
       "      <td>87</td>\n",
       "      <td>19</td>\n",
       "      <td>25.0</td>\n",
       "      <td>99.50</td>\n",
       "    </tr>\n",
       "    <tr>\n",
       "      <th>21</th>\n",
       "      <td>2012-01-01 21:00:00</td>\n",
       "      <td>4.0</td>\n",
       "      <td>1.7</td>\n",
       "      <td>85</td>\n",
       "      <td>20</td>\n",
       "      <td>25.0</td>\n",
       "      <td>99.39</td>\n",
       "    </tr>\n",
       "    <tr>\n",
       "      <th>22</th>\n",
       "      <td>2012-01-01 22:00:00</td>\n",
       "      <td>4.4</td>\n",
       "      <td>1.9</td>\n",
       "      <td>84</td>\n",
       "      <td>24</td>\n",
       "      <td>19.3</td>\n",
       "      <td>99.32</td>\n",
       "    </tr>\n",
       "    <tr>\n",
       "      <th>23</th>\n",
       "      <td>2012-01-01 23:00:00</td>\n",
       "      <td>5.3</td>\n",
       "      <td>2.0</td>\n",
       "      <td>79</td>\n",
       "      <td>30</td>\n",
       "      <td>25.0</td>\n",
       "      <td>99.31</td>\n",
       "    </tr>\n",
       "    <tr>\n",
       "      <th>24</th>\n",
       "      <td>2012-01-02 00:00:00</td>\n",
       "      <td>5.2</td>\n",
       "      <td>1.5</td>\n",
       "      <td>77</td>\n",
       "      <td>35</td>\n",
       "      <td>25.0</td>\n",
       "      <td>99.26</td>\n",
       "    </tr>\n",
       "    <tr>\n",
       "      <th>25</th>\n",
       "      <td>2012-01-02 01:00:00</td>\n",
       "      <td>4.6</td>\n",
       "      <td>0.0</td>\n",
       "      <td>72</td>\n",
       "      <td>39</td>\n",
       "      <td>25.0</td>\n",
       "      <td>99.26</td>\n",
       "    </tr>\n",
       "    <tr>\n",
       "      <th>26</th>\n",
       "      <td>2012-01-02 02:00:00</td>\n",
       "      <td>3.9</td>\n",
       "      <td>-0.9</td>\n",
       "      <td>71</td>\n",
       "      <td>32</td>\n",
       "      <td>25.0</td>\n",
       "      <td>99.26</td>\n",
       "    </tr>\n",
       "    <tr>\n",
       "      <th>27</th>\n",
       "      <td>2012-01-02 03:00:00</td>\n",
       "      <td>3.7</td>\n",
       "      <td>-1.5</td>\n",
       "      <td>69</td>\n",
       "      <td>33</td>\n",
       "      <td>25.0</td>\n",
       "      <td>99.30</td>\n",
       "    </tr>\n",
       "    <tr>\n",
       "      <th>28</th>\n",
       "      <td>2012-01-02 04:00:00</td>\n",
       "      <td>2.9</td>\n",
       "      <td>-2.3</td>\n",
       "      <td>69</td>\n",
       "      <td>32</td>\n",
       "      <td>25.0</td>\n",
       "      <td>99.26</td>\n",
       "    </tr>\n",
       "    <tr>\n",
       "      <th>29</th>\n",
       "      <td>2012-01-02 05:00:00</td>\n",
       "      <td>2.6</td>\n",
       "      <td>-2.3</td>\n",
       "      <td>70</td>\n",
       "      <td>32</td>\n",
       "      <td>25.0</td>\n",
       "      <td>99.21</td>\n",
       "    </tr>\n",
       "    <tr>\n",
       "      <th>...</th>\n",
       "      <td>...</td>\n",
       "      <td>...</td>\n",
       "      <td>...</td>\n",
       "      <td>...</td>\n",
       "      <td>...</td>\n",
       "      <td>...</td>\n",
       "      <td>...</td>\n",
       "    </tr>\n",
       "    <tr>\n",
       "      <th>8754</th>\n",
       "      <td>2012-12-30 18:00:00</td>\n",
       "      <td>-12.6</td>\n",
       "      <td>-16.0</td>\n",
       "      <td>76</td>\n",
       "      <td>24</td>\n",
       "      <td>25.0</td>\n",
       "      <td>101.36</td>\n",
       "    </tr>\n",
       "    <tr>\n",
       "      <th>8755</th>\n",
       "      <td>2012-12-30 19:00:00</td>\n",
       "      <td>-13.4</td>\n",
       "      <td>-16.5</td>\n",
       "      <td>77</td>\n",
       "      <td>26</td>\n",
       "      <td>25.0</td>\n",
       "      <td>101.47</td>\n",
       "    </tr>\n",
       "    <tr>\n",
       "      <th>8756</th>\n",
       "      <td>2012-12-30 20:00:00</td>\n",
       "      <td>-13.8</td>\n",
       "      <td>-16.5</td>\n",
       "      <td>80</td>\n",
       "      <td>24</td>\n",
       "      <td>25.0</td>\n",
       "      <td>101.52</td>\n",
       "    </tr>\n",
       "    <tr>\n",
       "      <th>8757</th>\n",
       "      <td>2012-12-30 21:00:00</td>\n",
       "      <td>-13.8</td>\n",
       "      <td>-16.5</td>\n",
       "      <td>80</td>\n",
       "      <td>20</td>\n",
       "      <td>25.0</td>\n",
       "      <td>101.50</td>\n",
       "    </tr>\n",
       "    <tr>\n",
       "      <th>8758</th>\n",
       "      <td>2012-12-30 22:00:00</td>\n",
       "      <td>-13.7</td>\n",
       "      <td>-16.3</td>\n",
       "      <td>81</td>\n",
       "      <td>19</td>\n",
       "      <td>25.0</td>\n",
       "      <td>101.54</td>\n",
       "    </tr>\n",
       "    <tr>\n",
       "      <th>8759</th>\n",
       "      <td>2012-12-30 23:00:00</td>\n",
       "      <td>-12.1</td>\n",
       "      <td>-15.1</td>\n",
       "      <td>78</td>\n",
       "      <td>28</td>\n",
       "      <td>25.0</td>\n",
       "      <td>101.52</td>\n",
       "    </tr>\n",
       "    <tr>\n",
       "      <th>8760</th>\n",
       "      <td>2012-12-31 00:00:00</td>\n",
       "      <td>-11.1</td>\n",
       "      <td>-14.4</td>\n",
       "      <td>77</td>\n",
       "      <td>26</td>\n",
       "      <td>25.0</td>\n",
       "      <td>101.51</td>\n",
       "    </tr>\n",
       "    <tr>\n",
       "      <th>8761</th>\n",
       "      <td>2012-12-31 01:00:00</td>\n",
       "      <td>-10.7</td>\n",
       "      <td>-14.0</td>\n",
       "      <td>77</td>\n",
       "      <td>15</td>\n",
       "      <td>25.0</td>\n",
       "      <td>101.50</td>\n",
       "    </tr>\n",
       "    <tr>\n",
       "      <th>8762</th>\n",
       "      <td>2012-12-31 02:00:00</td>\n",
       "      <td>-10.1</td>\n",
       "      <td>-13.4</td>\n",
       "      <td>77</td>\n",
       "      <td>9</td>\n",
       "      <td>25.0</td>\n",
       "      <td>101.45</td>\n",
       "    </tr>\n",
       "    <tr>\n",
       "      <th>8763</th>\n",
       "      <td>2012-12-31 03:00:00</td>\n",
       "      <td>-11.8</td>\n",
       "      <td>-14.4</td>\n",
       "      <td>81</td>\n",
       "      <td>6</td>\n",
       "      <td>25.0</td>\n",
       "      <td>101.42</td>\n",
       "    </tr>\n",
       "    <tr>\n",
       "      <th>8764</th>\n",
       "      <td>2012-12-31 04:00:00</td>\n",
       "      <td>-10.5</td>\n",
       "      <td>-12.8</td>\n",
       "      <td>83</td>\n",
       "      <td>11</td>\n",
       "      <td>25.0</td>\n",
       "      <td>101.34</td>\n",
       "    </tr>\n",
       "    <tr>\n",
       "      <th>8765</th>\n",
       "      <td>2012-12-31 05:00:00</td>\n",
       "      <td>-10.2</td>\n",
       "      <td>-12.4</td>\n",
       "      <td>84</td>\n",
       "      <td>6</td>\n",
       "      <td>25.0</td>\n",
       "      <td>101.28</td>\n",
       "    </tr>\n",
       "    <tr>\n",
       "      <th>8766</th>\n",
       "      <td>2012-12-31 06:00:00</td>\n",
       "      <td>-9.7</td>\n",
       "      <td>-11.7</td>\n",
       "      <td>85</td>\n",
       "      <td>4</td>\n",
       "      <td>25.0</td>\n",
       "      <td>101.23</td>\n",
       "    </tr>\n",
       "    <tr>\n",
       "      <th>8767</th>\n",
       "      <td>2012-12-31 07:00:00</td>\n",
       "      <td>-9.3</td>\n",
       "      <td>-11.3</td>\n",
       "      <td>85</td>\n",
       "      <td>0</td>\n",
       "      <td>19.3</td>\n",
       "      <td>101.19</td>\n",
       "    </tr>\n",
       "    <tr>\n",
       "      <th>8768</th>\n",
       "      <td>2012-12-31 08:00:00</td>\n",
       "      <td>-8.6</td>\n",
       "      <td>-10.3</td>\n",
       "      <td>87</td>\n",
       "      <td>4</td>\n",
       "      <td>3.2</td>\n",
       "      <td>101.14</td>\n",
       "    </tr>\n",
       "    <tr>\n",
       "      <th>8769</th>\n",
       "      <td>2012-12-31 09:00:00</td>\n",
       "      <td>-8.1</td>\n",
       "      <td>-9.6</td>\n",
       "      <td>89</td>\n",
       "      <td>4</td>\n",
       "      <td>2.4</td>\n",
       "      <td>101.09</td>\n",
       "    </tr>\n",
       "    <tr>\n",
       "      <th>8770</th>\n",
       "      <td>2012-12-31 10:00:00</td>\n",
       "      <td>-7.4</td>\n",
       "      <td>-8.9</td>\n",
       "      <td>89</td>\n",
       "      <td>4</td>\n",
       "      <td>6.4</td>\n",
       "      <td>101.05</td>\n",
       "    </tr>\n",
       "    <tr>\n",
       "      <th>8771</th>\n",
       "      <td>2012-12-31 11:00:00</td>\n",
       "      <td>-6.7</td>\n",
       "      <td>-7.9</td>\n",
       "      <td>91</td>\n",
       "      <td>9</td>\n",
       "      <td>9.7</td>\n",
       "      <td>100.93</td>\n",
       "    </tr>\n",
       "    <tr>\n",
       "      <th>8772</th>\n",
       "      <td>2012-12-31 12:00:00</td>\n",
       "      <td>-5.8</td>\n",
       "      <td>-7.5</td>\n",
       "      <td>88</td>\n",
       "      <td>4</td>\n",
       "      <td>12.9</td>\n",
       "      <td>100.78</td>\n",
       "    </tr>\n",
       "    <tr>\n",
       "      <th>8773</th>\n",
       "      <td>2012-12-31 13:00:00</td>\n",
       "      <td>-4.6</td>\n",
       "      <td>-6.6</td>\n",
       "      <td>86</td>\n",
       "      <td>4</td>\n",
       "      <td>12.9</td>\n",
       "      <td>100.63</td>\n",
       "    </tr>\n",
       "    <tr>\n",
       "      <th>8774</th>\n",
       "      <td>2012-12-31 14:00:00</td>\n",
       "      <td>-3.4</td>\n",
       "      <td>-5.7</td>\n",
       "      <td>84</td>\n",
       "      <td>6</td>\n",
       "      <td>11.3</td>\n",
       "      <td>100.57</td>\n",
       "    </tr>\n",
       "    <tr>\n",
       "      <th>8775</th>\n",
       "      <td>2012-12-31 15:00:00</td>\n",
       "      <td>-2.3</td>\n",
       "      <td>-4.6</td>\n",
       "      <td>84</td>\n",
       "      <td>9</td>\n",
       "      <td>9.7</td>\n",
       "      <td>100.47</td>\n",
       "    </tr>\n",
       "    <tr>\n",
       "      <th>8776</th>\n",
       "      <td>2012-12-31 16:00:00</td>\n",
       "      <td>-1.4</td>\n",
       "      <td>-4.0</td>\n",
       "      <td>82</td>\n",
       "      <td>13</td>\n",
       "      <td>12.9</td>\n",
       "      <td>100.40</td>\n",
       "    </tr>\n",
       "    <tr>\n",
       "      <th>8777</th>\n",
       "      <td>2012-12-31 17:00:00</td>\n",
       "      <td>-1.1</td>\n",
       "      <td>-3.3</td>\n",
       "      <td>85</td>\n",
       "      <td>19</td>\n",
       "      <td>9.7</td>\n",
       "      <td>100.30</td>\n",
       "    </tr>\n",
       "    <tr>\n",
       "      <th>8778</th>\n",
       "      <td>2012-12-31 18:00:00</td>\n",
       "      <td>-1.3</td>\n",
       "      <td>-3.1</td>\n",
       "      <td>88</td>\n",
       "      <td>17</td>\n",
       "      <td>9.7</td>\n",
       "      <td>100.19</td>\n",
       "    </tr>\n",
       "    <tr>\n",
       "      <th>8779</th>\n",
       "      <td>2012-12-31 19:00:00</td>\n",
       "      <td>0.1</td>\n",
       "      <td>-2.7</td>\n",
       "      <td>81</td>\n",
       "      <td>30</td>\n",
       "      <td>9.7</td>\n",
       "      <td>100.13</td>\n",
       "    </tr>\n",
       "    <tr>\n",
       "      <th>8780</th>\n",
       "      <td>2012-12-31 20:00:00</td>\n",
       "      <td>0.2</td>\n",
       "      <td>-2.4</td>\n",
       "      <td>83</td>\n",
       "      <td>24</td>\n",
       "      <td>9.7</td>\n",
       "      <td>100.03</td>\n",
       "    </tr>\n",
       "    <tr>\n",
       "      <th>8781</th>\n",
       "      <td>2012-12-31 21:00:00</td>\n",
       "      <td>-0.5</td>\n",
       "      <td>-1.5</td>\n",
       "      <td>93</td>\n",
       "      <td>28</td>\n",
       "      <td>4.8</td>\n",
       "      <td>99.95</td>\n",
       "    </tr>\n",
       "    <tr>\n",
       "      <th>8782</th>\n",
       "      <td>2012-12-31 22:00:00</td>\n",
       "      <td>-0.2</td>\n",
       "      <td>-1.8</td>\n",
       "      <td>89</td>\n",
       "      <td>28</td>\n",
       "      <td>9.7</td>\n",
       "      <td>99.91</td>\n",
       "    </tr>\n",
       "    <tr>\n",
       "      <th>8783</th>\n",
       "      <td>2012-12-31 23:00:00</td>\n",
       "      <td>0.0</td>\n",
       "      <td>-2.1</td>\n",
       "      <td>86</td>\n",
       "      <td>30</td>\n",
       "      <td>11.3</td>\n",
       "      <td>99.89</td>\n",
       "    </tr>\n",
       "  </tbody>\n",
       "</table>\n",
       "<p>8784 rows × 7 columns</p>\n",
       "</div>"
      ],
      "text/plain": [
       "                Date/Time  Temp (C)  Dew Point Temp (C)  Rel Hum (%)  \\\n",
       "0     2012-01-01 00:00:00      -1.8                -3.9           86   \n",
       "1     2012-01-01 01:00:00      -1.8                -3.7           87   \n",
       "2     2012-01-01 02:00:00      -1.8                -3.4           89   \n",
       "3     2012-01-01 03:00:00      -1.5                -3.2           88   \n",
       "4     2012-01-01 04:00:00      -1.5                -3.3           88   \n",
       "5     2012-01-01 05:00:00      -1.4                -3.3           87   \n",
       "6     2012-01-01 06:00:00      -1.5                -3.1           89   \n",
       "7     2012-01-01 07:00:00      -1.4                -3.6           85   \n",
       "8     2012-01-01 08:00:00      -1.4                -3.6           85   \n",
       "9     2012-01-01 09:00:00      -1.3                -3.1           88   \n",
       "10    2012-01-01 10:00:00      -1.0                -2.3           91   \n",
       "11    2012-01-01 11:00:00      -0.5                -2.1           89   \n",
       "12    2012-01-01 12:00:00      -0.2                -2.0           88   \n",
       "13    2012-01-01 13:00:00       0.2                -1.7           87   \n",
       "14    2012-01-01 14:00:00       0.8                -1.1           87   \n",
       "15    2012-01-01 15:00:00       1.8                -0.4           85   \n",
       "16    2012-01-01 16:00:00       2.6                -0.2           82   \n",
       "17    2012-01-01 17:00:00       3.0                 0.0           81   \n",
       "18    2012-01-01 18:00:00       3.8                 1.0           82   \n",
       "19    2012-01-01 19:00:00       3.1                 1.3           88   \n",
       "20    2012-01-01 20:00:00       3.2                 1.3           87   \n",
       "21    2012-01-01 21:00:00       4.0                 1.7           85   \n",
       "22    2012-01-01 22:00:00       4.4                 1.9           84   \n",
       "23    2012-01-01 23:00:00       5.3                 2.0           79   \n",
       "24    2012-01-02 00:00:00       5.2                 1.5           77   \n",
       "25    2012-01-02 01:00:00       4.6                 0.0           72   \n",
       "26    2012-01-02 02:00:00       3.9                -0.9           71   \n",
       "27    2012-01-02 03:00:00       3.7                -1.5           69   \n",
       "28    2012-01-02 04:00:00       2.9                -2.3           69   \n",
       "29    2012-01-02 05:00:00       2.6                -2.3           70   \n",
       "...                   ...       ...                 ...          ...   \n",
       "8754  2012-12-30 18:00:00     -12.6               -16.0           76   \n",
       "8755  2012-12-30 19:00:00     -13.4               -16.5           77   \n",
       "8756  2012-12-30 20:00:00     -13.8               -16.5           80   \n",
       "8757  2012-12-30 21:00:00     -13.8               -16.5           80   \n",
       "8758  2012-12-30 22:00:00     -13.7               -16.3           81   \n",
       "8759  2012-12-30 23:00:00     -12.1               -15.1           78   \n",
       "8760  2012-12-31 00:00:00     -11.1               -14.4           77   \n",
       "8761  2012-12-31 01:00:00     -10.7               -14.0           77   \n",
       "8762  2012-12-31 02:00:00     -10.1               -13.4           77   \n",
       "8763  2012-12-31 03:00:00     -11.8               -14.4           81   \n",
       "8764  2012-12-31 04:00:00     -10.5               -12.8           83   \n",
       "8765  2012-12-31 05:00:00     -10.2               -12.4           84   \n",
       "8766  2012-12-31 06:00:00      -9.7               -11.7           85   \n",
       "8767  2012-12-31 07:00:00      -9.3               -11.3           85   \n",
       "8768  2012-12-31 08:00:00      -8.6               -10.3           87   \n",
       "8769  2012-12-31 09:00:00      -8.1                -9.6           89   \n",
       "8770  2012-12-31 10:00:00      -7.4                -8.9           89   \n",
       "8771  2012-12-31 11:00:00      -6.7                -7.9           91   \n",
       "8772  2012-12-31 12:00:00      -5.8                -7.5           88   \n",
       "8773  2012-12-31 13:00:00      -4.6                -6.6           86   \n",
       "8774  2012-12-31 14:00:00      -3.4                -5.7           84   \n",
       "8775  2012-12-31 15:00:00      -2.3                -4.6           84   \n",
       "8776  2012-12-31 16:00:00      -1.4                -4.0           82   \n",
       "8777  2012-12-31 17:00:00      -1.1                -3.3           85   \n",
       "8778  2012-12-31 18:00:00      -1.3                -3.1           88   \n",
       "8779  2012-12-31 19:00:00       0.1                -2.7           81   \n",
       "8780  2012-12-31 20:00:00       0.2                -2.4           83   \n",
       "8781  2012-12-31 21:00:00      -0.5                -1.5           93   \n",
       "8782  2012-12-31 22:00:00      -0.2                -1.8           89   \n",
       "8783  2012-12-31 23:00:00       0.0                -2.1           86   \n",
       "\n",
       "      Wind Spd (km/h)  Visibility (km)  Stn Press (kPa)  \n",
       "0                   4              8.0           101.24  \n",
       "1                   4              8.0           101.24  \n",
       "2                   7              4.0           101.26  \n",
       "3                   6              4.0           101.27  \n",
       "4                   7              4.8           101.23  \n",
       "5                   9              6.4           101.27  \n",
       "6                   7              6.4           101.29  \n",
       "7                   7              8.0           101.26  \n",
       "8                   9              8.0           101.23  \n",
       "9                  15              4.0           101.20  \n",
       "10                  9              1.2           101.15  \n",
       "11                  7              4.0           100.98  \n",
       "12                  9              4.8           100.79  \n",
       "13                 13              4.8           100.58  \n",
       "14                 20              4.8           100.31  \n",
       "15                 22              6.4           100.07  \n",
       "16                 13             12.9            99.93  \n",
       "17                 13             16.1            99.81  \n",
       "18                 15             12.9            99.74  \n",
       "19                 15             12.9            99.68  \n",
       "20                 19             25.0            99.50  \n",
       "21                 20             25.0            99.39  \n",
       "22                 24             19.3            99.32  \n",
       "23                 30             25.0            99.31  \n",
       "24                 35             25.0            99.26  \n",
       "25                 39             25.0            99.26  \n",
       "26                 32             25.0            99.26  \n",
       "27                 33             25.0            99.30  \n",
       "28                 32             25.0            99.26  \n",
       "29                 32             25.0            99.21  \n",
       "...               ...              ...              ...  \n",
       "8754               24             25.0           101.36  \n",
       "8755               26             25.0           101.47  \n",
       "8756               24             25.0           101.52  \n",
       "8757               20             25.0           101.50  \n",
       "8758               19             25.0           101.54  \n",
       "8759               28             25.0           101.52  \n",
       "8760               26             25.0           101.51  \n",
       "8761               15             25.0           101.50  \n",
       "8762                9             25.0           101.45  \n",
       "8763                6             25.0           101.42  \n",
       "8764               11             25.0           101.34  \n",
       "8765                6             25.0           101.28  \n",
       "8766                4             25.0           101.23  \n",
       "8767                0             19.3           101.19  \n",
       "8768                4              3.2           101.14  \n",
       "8769                4              2.4           101.09  \n",
       "8770                4              6.4           101.05  \n",
       "8771                9              9.7           100.93  \n",
       "8772                4             12.9           100.78  \n",
       "8773                4             12.9           100.63  \n",
       "8774                6             11.3           100.57  \n",
       "8775                9              9.7           100.47  \n",
       "8776               13             12.9           100.40  \n",
       "8777               19              9.7           100.30  \n",
       "8778               17              9.7           100.19  \n",
       "8779               30              9.7           100.13  \n",
       "8780               24              9.7           100.03  \n",
       "8781               28              4.8            99.95  \n",
       "8782               28              9.7            99.91  \n",
       "8783               30             11.3            99.89  \n",
       "\n",
       "[8784 rows x 7 columns]"
      ]
     },
     "execution_count": 159,
     "metadata": {},
     "output_type": "execute_result"
    }
   ],
   "source": [
    "f = pd.read_csv(\"/home/ankit/Documents/sangeet/weather_small_2012.csv\")\n",
    "f\n"
   ]
  },
  {
   "cell_type": "code",
   "execution_count": 161,
   "metadata": {
    "scrolled": false
   },
   "outputs": [],
   "source": [
    "tem = f['Temp (C)'].astype(np.float16)\n"
   ]
  },
  {
   "cell_type": "code",
   "execution_count": 164,
   "metadata": {},
   "outputs": [],
   "source": [
    "dp= f['Dew Point Temp (C)'].astype(np.float16)\n"
   ]
  },
  {
   "cell_type": "code",
   "execution_count": 166,
   "metadata": {},
   "outputs": [
    {
     "data": {
      "text/plain": [
       "0       28.765625\n",
       "1       28.765625\n",
       "2       28.765625\n",
       "3       29.296875\n",
       "4       29.296875\n",
       "5       29.484375\n",
       "6       29.296875\n",
       "7       29.484375\n",
       "8       29.484375\n",
       "9       29.656250\n",
       "10      30.203125\n",
       "11      31.093750\n",
       "12      31.640625\n",
       "13      32.375000\n",
       "14      33.437500\n",
       "15      35.250000\n",
       "16      36.687500\n",
       "17      37.406250\n",
       "18      38.843750\n",
       "19      37.562500\n",
       "20      37.750000\n",
       "21      39.187500\n",
       "22      39.906250\n",
       "23      41.562500\n",
       "24      41.375000\n",
       "25      40.281250\n",
       "26      39.031250\n",
       "27      38.656250\n",
       "28      37.218750\n",
       "29      36.687500\n",
       "          ...    \n",
       "8754     9.312500\n",
       "8755     7.890625\n",
       "8756     7.156250\n",
       "8757     7.156250\n",
       "8758     7.343750\n",
       "8759    10.218750\n",
       "8760    12.015625\n",
       "8761    12.734375\n",
       "8762    13.812500\n",
       "8763    10.765625\n",
       "8764    13.093750\n",
       "8765    13.640625\n",
       "8766    14.531250\n",
       "8767    15.265625\n",
       "8768    16.515625\n",
       "8769    17.406250\n",
       "8770    18.687500\n",
       "8771    19.937500\n",
       "8772    21.562500\n",
       "8773    23.718750\n",
       "8774    25.875000\n",
       "8775    27.859375\n",
       "8776    29.484375\n",
       "8777    30.015625\n",
       "8778    29.656250\n",
       "8779    32.187500\n",
       "8780    32.375000\n",
       "8781    31.093750\n",
       "8782    31.640625\n",
       "8783    32.000000\n",
       "Name: Temp (C), Length: 8784, dtype: float16"
      ]
     },
     "execution_count": 166,
     "metadata": {},
     "output_type": "execute_result"
    }
   ],
   "source": [
    "far= (tem *9/5)+32\n",
    "far"
   ]
  },
  {
   "cell_type": "code",
   "execution_count": 167,
   "metadata": {},
   "outputs": [
    {
     "name": "stdout",
     "output_type": "stream",
     "text": [
      "0       -5.699219\n",
      "1       -5.500000\n",
      "2       -5.199219\n",
      "3       -4.699219\n",
      "4       -4.800781\n",
      "5       -4.703125\n",
      "6       -4.601562\n",
      "7       -5.000000\n",
      "8       -5.000000\n",
      "9       -4.398438\n",
      "10      -3.300781\n",
      "11      -2.599609\n",
      "12      -2.199219\n",
      "13      -1.500000\n",
      "14      -0.299805\n",
      "15       1.400391\n",
      "16       2.400391\n",
      "17       3.000000\n",
      "18       4.800781\n",
      "19       4.398438\n",
      "20       4.500000\n",
      "21       5.699219\n",
      "22       6.296875\n",
      "23       7.300781\n",
      "24       6.699219\n",
      "25       4.601562\n",
      "26       3.000000\n",
      "27       2.199219\n",
      "28       0.599609\n",
      "29       0.298828\n",
      "          ...    \n",
      "8754   -28.593750\n",
      "8755   -29.906250\n",
      "8756   -30.296875\n",
      "8757   -30.296875\n",
      "8758   -30.000000\n",
      "8759   -27.203125\n",
      "8760   -25.500000\n",
      "8761   -24.703125\n",
      "8762   -23.500000\n",
      "8763   -26.187500\n",
      "8764   -23.296875\n",
      "8765   -22.593750\n",
      "8766   -21.406250\n",
      "8767   -20.593750\n",
      "8768   -18.906250\n",
      "8769   -17.703125\n",
      "8770   -16.296875\n",
      "8771   -14.593750\n",
      "8772   -13.296875\n",
      "8773   -11.203125\n",
      "8774    -9.101562\n",
      "8775    -6.902344\n",
      "8776    -5.398438\n",
      "8777    -4.398438\n",
      "8778    -4.398438\n",
      "8779    -2.599609\n",
      "8780    -2.201172\n",
      "8781    -2.000000\n",
      "8782    -2.000000\n",
      "8783    -2.099609\n",
      "Length: 8784, dtype: float16\n"
     ]
    }
   ],
   "source": [
    "print(tem + dp)"
   ]
  },
  {
   "cell_type": "code",
   "execution_count": 168,
   "metadata": {},
   "outputs": [
    {
     "name": "stdout",
     "output_type": "stream",
     "text": [
      "0        98.1875\n",
      "1        98.1875\n",
      "2        98.1875\n",
      "3        98.5000\n",
      "4        98.5000\n",
      "5        98.6250\n",
      "6        98.5000\n",
      "7        98.6250\n",
      "8        98.6250\n",
      "9        98.6875\n",
      "10       99.0000\n",
      "11       99.5000\n",
      "12       99.8125\n",
      "13      100.1875\n",
      "14      100.8125\n",
      "15      101.8125\n",
      "16      102.6250\n",
      "17      103.0000\n",
      "18      103.8125\n",
      "19      103.1250\n",
      "20      103.1875\n",
      "21      104.0000\n",
      "22      104.3750\n",
      "23      105.3125\n",
      "24      105.1875\n",
      "25      104.6250\n",
      "26      103.8750\n",
      "27      103.6875\n",
      "28      102.8750\n",
      "29      102.6250\n",
      "          ...   \n",
      "8754     87.3750\n",
      "8755     86.6250\n",
      "8756     86.1875\n",
      "8757     86.1875\n",
      "8758     86.3125\n",
      "8759     87.8750\n",
      "8760     88.8750\n",
      "8761     89.3125\n",
      "8762     89.8750\n",
      "8763     88.1875\n",
      "8764     89.5000\n",
      "8765     89.8125\n",
      "8766     90.3125\n",
      "8767     90.6875\n",
      "8768     91.3750\n",
      "8769     91.8750\n",
      "8770     92.6250\n",
      "8771     93.3125\n",
      "8772     94.1875\n",
      "8773     95.3750\n",
      "8774     96.6250\n",
      "8775     97.6875\n",
      "8776     98.6250\n",
      "8777     98.8750\n",
      "8778     98.6875\n",
      "8779    100.1250\n",
      "8780    100.1875\n",
      "8781     99.5000\n",
      "8782     99.8125\n",
      "8783    100.0000\n",
      "Name: Temp (C), Length: 8784, dtype: float16\n"
     ]
    }
   ],
   "source": [
    "print(tem +100)"
   ]
  },
  {
   "cell_type": "code",
   "execution_count": 165,
   "metadata": {},
   "outputs": [
    {
     "name": "stdout",
     "output_type": "stream",
     "text": [
      "[[1. 2. 3.]\n",
      " [4. 5. 6.]\n",
      " [7. 8. 9.]]\n",
      "[[100. 101. 102.]\n",
      " [103. 104. 105.]\n",
      " [106. 107. 108.]]\n"
     ]
    }
   ],
   "source": [
    "array1 = np.arange(1, 10, dtype=np.float16).reshape(3, 3)\n",
    "array2 = np.arange(100, 109, dtype=np.float16).reshape(3, 3)\n",
    "\n",
    "print(array1)\n",
    "print(array2)\n"
   ]
  },
  {
   "cell_type": "code",
   "execution_count": null,
   "metadata": {},
   "outputs": [],
   "source": []
  }
 ],
 "metadata": {
  "kernelspec": {
   "display_name": "Python 3",
   "language": "python",
   "name": "python3"
  },
  "language_info": {
   "codemirror_mode": {
    "name": "ipython",
    "version": 3
   },
   "file_extension": ".py",
   "mimetype": "text/x-python",
   "name": "python",
   "nbconvert_exporter": "python",
   "pygments_lexer": "ipython3",
   "version": "3.7.3"
  }
 },
 "nbformat": 4,
 "nbformat_minor": 2
}
