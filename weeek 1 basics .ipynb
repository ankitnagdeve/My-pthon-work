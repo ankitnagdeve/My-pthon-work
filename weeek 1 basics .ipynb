{
 "cells": [
  {
   "cell_type": "code",
   "execution_count": 1,
   "metadata": {},
   "outputs": [
    {
     "name": "stdout",
     "output_type": "stream",
     "text": [
      "hello world\n"
     ]
    }
   ],
   "source": [
    "print (\"hello world\")"
   ]
  },
  {
   "cell_type": "code",
   "execution_count": 2,
   "metadata": {},
   "outputs": [
    {
     "name": "stdout",
     "output_type": "stream",
     "text": [
      "i can do it\n",
      "11\n",
      "<type 'str'>\n"
     ]
    }
   ],
   "source": [
    "#Chapter  1 stirngs\n",
    "#Strings \n",
    "#Creating a String, variable assignments\n",
    "#String Indexing & Slicing\n",
    "#String Concatenation & Repetition\n",
    "#Basic Built-in String Methods\n",
    "#Numbers\n",
    "#Types of Numbers\n",
    "#Basic Arithmetic\n",
    "\n",
    "#Strings are used in Python to record text information, such as name. Strings in Python are actually a sequence, which basically means Python keeps track of every element in the string as a sequence. For example, Python understands the string \"hello' to be a sequence of letters in a specific order. This means we will be able to use indexing to grab particular letters (like the first letter, or the last letter). \n",
    "#This idea of a sequence is an important one in Python and we will touch upon it later on in the future.\n",
    "#In this lecture we'll learn about the following:\n",
    "\n",
    "a = \"i can do it\"\n",
    "print a\n",
    "print (len(a))\n",
    "print(type(a))\n",
    "\n"
   ]
  },
  {
   "cell_type": "code",
   "execution_count": 3,
   "metadata": {},
   "outputs": [
    {
     "name": "stdout",
     "output_type": "stream",
     "text": [
      "do i\n",
      "()\n"
     ]
    }
   ],
   "source": [
    "#We know strings are a sequence, which means Python can use indexes to call parts of the sequence. Let's learn how this works.\n",
    "print(a[6:10])\n",
    "print()"
   ]
  },
  {
   "cell_type": "code",
   "execution_count": 4,
   "metadata": {},
   "outputs": [
    {
     "name": "stdout",
     "output_type": "stream",
     "text": [
      "i can do it i will get a job\n",
      "_ __ __ __ __ __ __ __ __ __ _\n"
     ]
    }
   ],
   "source": [
    "b = \" i will get a job\"\n",
    "b\n",
    "# concatenation (addition)\n",
    "\n",
    "print(a + \"\" + b)\n",
    "\n",
    "print (\"_ _\"*10)"
   ]
  },
  {
   "cell_type": "code",
   "execution_count": 5,
   "metadata": {},
   "outputs": [
    {
     "name": "stdout",
     "output_type": "stream",
     "text": [
      "i can do it___ i will get a job i will get a job i will get a job\n"
     ]
    }
   ],
   "source": [
    "# repetition (multiplication)\n",
    "print(a + \"___\" + b * 3)"
   ]
  },
  {
   "cell_type": "code",
   "execution_count": 6,
   "metadata": {},
   "outputs": [
    {
     "name": "stdout",
     "output_type": "stream",
     "text": [
      "e\n",
      "i wil\n",
      "a jo\n"
     ]
    }
   ],
   "source": [
    "#String Slicing & Indexing¶\n",
    "print (b[9]) # indexing\n",
    "print( b[1:6]) # slicing\n",
    "print (b[-5:-1])\n"
   ]
  },
  {
   "cell_type": "code",
   "execution_count": 7,
   "metadata": {},
   "outputs": [
    {
     "name": "stdout",
     "output_type": "stream",
     "text": [
      " i will get a job\n",
      " I WILL GET A JOB\n"
     ]
    }
   ],
   "source": [
    "print(b.lower())\n",
    "print(b.upper())"
   ]
  },
  {
   "cell_type": "code",
   "execution_count": 8,
   "metadata": {},
   "outputs": [
    {
     "name": "stdout",
     "output_type": "stream",
     "text": [
      "my name is ankit, my age is 25, and i am from nagpur\n"
     ]
    }
   ],
   "source": [
    "#Print Formatting\n",
    "#We can use the .format() method to add formatted objects to printed string statements.\n",
    "\n",
    "n = \"ankit\"\n",
    "a = 25\n",
    "city = \"nagpur\"\n",
    "print (\"my name is %s, my age is %s, and i am from %s\" % (n, a, city) )\n",
    "\n"
   ]
  },
  {
   "cell_type": "code",
   "execution_count": 9,
   "metadata": {},
   "outputs": [
    {
     "name": "stdout",
     "output_type": "stream",
     "text": [
      "my name is ankit, my age is 25 and i am from nagpur\n"
     ]
    }
   ],
   "source": [
    "print(\"my name is {}, my age is {} and i am from {}\".format(n,a, city))"
   ]
  },
  {
   "cell_type": "code",
   "execution_count": 10,
   "metadata": {},
   "outputs": [
    {
     "name": "stdout",
     "output_type": "stream",
     "text": [
      "True\n"
     ]
    }
   ],
   "source": [
    "# test substring membership\n",
    "print ( \"job\" in b)"
   ]
  },
  {
   "cell_type": "code",
   "execution_count": 11,
   "metadata": {},
   "outputs": [
    {
     "data": {
      "text/plain": [
       "192"
      ]
     },
     "execution_count": 11,
     "metadata": {},
     "output_type": "execute_result"
    }
   ],
   "source": [
    "32*6"
   ]
  },
  {
   "cell_type": "code",
   "execution_count": 12,
   "metadata": {},
   "outputs": [
    {
     "data": {
      "text/plain": [
       "182"
      ]
     },
     "execution_count": 12,
     "metadata": {},
     "output_type": "execute_result"
    }
   ],
   "source": [
    "2+6*6*5\n"
   ]
  },
  {
   "cell_type": "code",
   "execution_count": 13,
   "metadata": {},
   "outputs": [
    {
     "data": {
      "text/plain": [
       "71"
      ]
     },
     "execution_count": 13,
     "metadata": {},
     "output_type": "execute_result"
    }
   ],
   "source": [
    "a =6\n",
    "b= 65\n",
    "a+b"
   ]
  },
  {
   "cell_type": "code",
   "execution_count": 14,
   "metadata": {},
   "outputs": [
    {
     "name": "stdout",
     "output_type": "stream",
     "text": [
      "hello\n"
     ]
    }
   ],
   "source": [
    "my_string = \"hello\"\n",
    "print(my_string)"
   ]
  },
  {
   "cell_type": "code",
   "execution_count": 15,
   "metadata": {},
   "outputs": [
    {
     "data": {
      "text/plain": [
       "35"
      ]
     },
     "execution_count": 15,
     "metadata": {},
     "output_type": "execute_result"
    }
   ],
   "source": [
    "(a + b)/2"
   ]
  },
  {
   "cell_type": "code",
   "execution_count": 16,
   "metadata": {
    "collapsed": true
   },
   "outputs": [],
   "source": [
    "l= [1,1,1,5,5,58,10]"
   ]
  },
  {
   "cell_type": "code",
   "execution_count": 17,
   "metadata": {},
   "outputs": [
    {
     "data": {
      "text/plain": [
       "3"
      ]
     },
     "execution_count": 17,
     "metadata": {},
     "output_type": "execute_result"
    }
   ],
   "source": [
    "my_list = [1,2,3]\n",
    "len(my_list)"
   ]
  },
  {
   "cell_type": "code",
   "execution_count": 18,
   "metadata": {},
   "outputs": [
    {
     "data": {
      "text/plain": [
       "['ankit ', 1, 3, 66, 'w']"
      ]
     },
     "execution_count": 18,
     "metadata": {},
     "output_type": "execute_result"
    }
   ],
   "source": [
    "my = [\"ankit \", 1,3,66, 'w' ]\n",
    "my"
   ]
  },
  {
   "cell_type": "code",
   "execution_count": 19,
   "metadata": {},
   "outputs": [
    {
     "name": "stdout",
     "output_type": "stream",
     "text": [
      "['ankit ', 1, 3, 66, 'w', 3]\n"
     ]
    }
   ],
   "source": [
    "len(my)\n",
    "my.append(3)\n",
    "print(my)"
   ]
  },
  {
   "cell_type": "code",
   "execution_count": 20,
   "metadata": {},
   "outputs": [
    {
     "name": "stdout",
     "output_type": "stream",
     "text": [
      "[1, 2.3, ['a', 'b'], 'New York', 1]\n"
     ]
    }
   ],
   "source": [
    "# append a value to the end of the list\n",
    "l = [1, 2.3, ['a', 'b'], 'New York']\n",
    "l.append(1)\n",
    "print(l)"
   ]
  },
  {
   "cell_type": "code",
   "execution_count": 21,
   "metadata": {
    "collapsed": true
   },
   "outputs": [],
   "source": [
    "l.extend([4,5,8])"
   ]
  },
  {
   "cell_type": "code",
   "execution_count": 22,
   "metadata": {},
   "outputs": [
    {
     "name": "stdout",
     "output_type": "stream",
     "text": [
      "[1, 2.3, ['a', 'b'], 'New York', 1, 4, 5, 8, 1]\n"
     ]
    }
   ],
   "source": [
    "l.append(1)\n",
    "print(l)"
   ]
  },
  {
   "cell_type": "code",
   "execution_count": 23,
   "metadata": {},
   "outputs": [
    {
     "name": "stdout",
     "output_type": "stream",
     "text": [
      "[0, 1, 2, 3, 4, 5, 6, 7, 8, 9, 10, 11, 12, 13, 14, 15, 16, 17, 18, 19]\n"
     ]
    }
   ],
   "source": [
    "lst = list(range (20))\n",
    "print(lst) "
   ]
  },
  {
   "cell_type": "code",
   "execution_count": 24,
   "metadata": {},
   "outputs": [
    {
     "name": "stdout",
     "output_type": "stream",
     "text": [
      "('element from index 4 to 7:', [0, 1, 2, 3, 4, 5, 6, 7])\n",
      "('alternat from index 4 to 7:', [2, 7, 12, 17])\n",
      "('alternat from index 4 to 7:', [1, 4, 7, 10, 13, 16, 19])\n"
     ]
    }
   ],
   "source": [
    "print(\"element from index 4 to 7:\", lst[0:8])\n",
    "print(\"alternat from index 4 to 7:\", lst[2::5])\n",
    "# prints elements from index 0 till last index with a step of 2\n",
    "print(\"alternat from index 4 to 7:\", lst[1::3])"
   ]
  },
  {
   "cell_type": "code",
   "execution_count": 25,
   "metadata": {
    "collapsed": true
   },
   "outputs": [],
   "source": [
    "#Dictionaries\n",
    "#Now we're going to switch gears and learn about mappings called dictionaries in Python. If you're familiar with other languages you can think of these Dictionaries as hash tables.\n",
    "\n",
    "#This section will serve as a brief introduction to dictionaries and consist of:\n",
    "\n",
    "#1.) Constructing a Dictionary\n",
    "#2.) Accessing objects from a dictionary\n",
    "#3.) Nesting Dictionaries\n",
    "#4.) Basic Dictionary Methods\n",
    "\n",
    "#A Python dictionary consists of a key and then an associated value. That value can be almost any Py"
   ]
  },
  {
   "cell_type": "code",
   "execution_count": 26,
   "metadata": {},
   "outputs": [
    {
     "name": "stdout",
     "output_type": "stream",
     "text": [
      "{'a': 'apple', 'b': 'ball'}\n"
     ]
    },
    {
     "data": {
      "text/plain": [
       "'apple'"
      ]
     },
     "execution_count": 26,
     "metadata": {},
     "output_type": "execute_result"
    }
   ],
   "source": [
    "dic = {'a': 'apple', 'b' :'ball'}\n",
    "\n",
    "print (dic)\n",
    "dic['a']"
   ]
  },
  {
   "cell_type": "code",
   "execution_count": 27,
   "metadata": {},
   "outputs": [
    {
     "data": {
      "text/plain": [
       "40"
      ]
     },
     "execution_count": 27,
     "metadata": {},
     "output_type": "execute_result"
    }
   ],
   "source": [
    "dic['a'] = 40\n",
    "dic['a']"
   ]
  },
  {
   "cell_type": "code",
   "execution_count": 28,
   "metadata": {},
   "outputs": [
    {
     "data": {
      "text/plain": [
       "0"
      ]
     },
     "execution_count": 28,
     "metadata": {},
     "output_type": "execute_result"
    }
   ],
   "source": [
    "dic['a'] -40"
   ]
  },
  {
   "cell_type": "code",
   "execution_count": 29,
   "metadata": {
    "collapsed": true
   },
   "outputs": [],
   "source": [
    "# Create a new dictionary\n",
    "d = {}\n",
    "# Create a new key through assignment\n",
    "d['animal'] = 'tiger'"
   ]
  },
  {
   "cell_type": "code",
   "execution_count": 30,
   "metadata": {},
   "outputs": [
    {
     "data": {
      "text/plain": [
       "{2}"
      ]
     },
     "execution_count": 30,
     "metadata": {},
     "output_type": "execute_result"
    }
   ],
   "source": [
    "#Set\n",
    "y= set()\n",
    "y.add(2)\n",
    "y\n"
   ]
  },
  {
   "cell_type": "code",
   "execution_count": 31,
   "metadata": {},
   "outputs": [
    {
     "data": {
      "text/plain": [
       "{2, 6}"
      ]
     },
     "execution_count": 31,
     "metadata": {},
     "output_type": "execute_result"
    }
   ],
   "source": [
    "y.add(6)\n",
    "y"
   ]
  },
  {
   "cell_type": "code",
   "execution_count": 32,
   "metadata": {},
   "outputs": [
    {
     "data": {
      "text/plain": [
       "{0, 1, 2, 3, 4, 5, 6, 7, 8, 9, 10, 11, 12, 13, 14, 15, 16, 17, 18, 19}"
      ]
     },
     "execution_count": 32,
     "metadata": {},
     "output_type": "execute_result"
    }
   ],
   "source": [
    "set(lst)"
   ]
  },
  {
   "cell_type": "markdown",
   "metadata": {},
   "source": [
    "#if Statements in Python allows us to tell the computer to perform alternative actions based on a certain set of results.\n",
    "\n",
    "#Verbally, we can imagine we are telling the computer:\n",
    "\n",
    "#\"Hey if this case happens, perform some action\"\n",
    "\n",
    "#We can then expand the idea further with elif and else statements, which allow us to tell the computer:\n",
    "\n",
    "#\"Hey if this case happens, perform some action. Else if another case happens, perform some other action. Else-- none of the above cases happened, perform this action\"\n"
   ]
  },
  {
   "cell_type": "code",
   "execution_count": 33,
   "metadata": {},
   "outputs": [
    {
     "name": "stdout",
     "output_type": "stream",
     "text": [
      "b is greater than a\n"
     ]
    }
   ],
   "source": [
    "a= 5\n",
    "b= 9\n",
    "if a> b:\n",
    "    print ('a is smaller than b')\n",
    "elif b>a :\n",
    "    print ('b is greater than a')\n",
    "else:\n",
    "    print ('wrong')\n",
    "    "
   ]
  },
  {
   "cell_type": "code",
   "execution_count": 34,
   "metadata": {},
   "outputs": [
    {
     "name": "stdout",
     "output_type": "stream",
     "text": [
      " enter the length\n",
      "223\n",
      "enter the breath\n",
      "332\n",
      "its not \n"
     ]
    }
   ],
   "source": [
    "print ' enter the length'\n",
    "length = input()\n",
    "print 'enter the breath'\n",
    "breath =input()\n",
    "if length == breath:\n",
    "    print 'its a sq'\n",
    "else:\n",
    "    print 'its not '"
   ]
  },
  {
   "cell_type": "code",
   "execution_count": 35,
   "metadata": {},
   "outputs": [
    {
     "name": "stdout",
     "output_type": "stream",
     "text": [
      "aa is equal to bb\n"
     ]
    }
   ],
   "source": [
    "aa = 6\n",
    "bb =6\n",
    "if aa > bb:\n",
    "    print ' aa is greater than bb'\n",
    "elif bb >aa:\n",
    "    print 'bb is greater than bb'\n",
    "else: \n",
    "    print 'aa is equal to bb'"
   ]
  },
  {
   "cell_type": "code",
   "execution_count": 36,
   "metadata": {},
   "outputs": [
    {
     "name": "stdout",
     "output_type": "stream",
     "text": [
      "1st no\n",
      "2\n",
      "2nd no\n",
      "3\n",
      "2nd > than first \n"
     ]
    }
   ],
   "source": [
    "print '1st no'\n",
    "first = input()\n",
    "print '2nd no'\n",
    "second = input()\n",
    "if first > second:\n",
    "    print 'no is > first'\n",
    "elif second > first:\n",
    "    print '2nd > than first '\n",
    "else:\n",
    "    print 'both are same'\n",
    "    "
   ]
  },
  {
   "cell_type": "code",
   "execution_count": 37,
   "metadata": {
    "scrolled": true
   },
   "outputs": [
    {
     "name": "stdout",
     "output_type": "stream",
     "text": [
      " enter the quantity\n",
      "3\n",
      "total is  300\n"
     ]
    }
   ],
   "source": [
    "print ' enter the quantity'\n",
    "q = input()\n",
    "discount = 1000\n",
    "if q*100> discount:\n",
    "    print \"cost is \", ((q*100)-(0.1*q*100) )\n",
    "    \n",
    "else:\n",
    "    print  'total is ', q*100\n"
   ]
  },
  {
   "cell_type": "code",
   "execution_count": 38,
   "metadata": {},
   "outputs": [
    {
     "name": "stdout",
     "output_type": "stream",
     "text": [
      " enter the salary\n",
      "3\n",
      "yos\n",
      "3\n",
      " no bonus\n"
     ]
    }
   ],
   "source": [
    "print ' enter the salary'\n",
    "s= input()\n",
    "print 'yos'\n",
    "yos = input()\n",
    "if s > 5:\n",
    "    print'bonus', (s*0.05)\n",
    "else:\n",
    "    print ' no bonus'"
   ]
  },
  {
   "cell_type": "code",
   "execution_count": 39,
   "metadata": {},
   "outputs": [
    {
     "name": "stdout",
     "output_type": "stream",
     "text": [
      "the 1st no to multiply\n",
      "3\n",
      "the 2nd no to multiply\n",
      "3\n",
      "the output is  9\n"
     ]
    }
   ],
   "source": [
    "print 'the 1st no to multiply'\n",
    "f = input()\n",
    "print 'the 2nd no to multiply'\n",
    "s = input()\n",
    "print 'the output is ', (s*f)"
   ]
  },
  {
   "cell_type": "code",
   "execution_count": 40,
   "metadata": {},
   "outputs": [
    {
     "name": "stdout",
     "output_type": "stream",
     "text": [
      "no of claases held\n",
      "31\n",
      "no of classes attended\n",
      "23\n",
      "attendendce 74.1935483871\n",
      "not allowed to sit\n"
     ]
    }
   ],
   "source": [
    "print 'no of claases held'\n",
    "held = input()\n",
    "print 'no of classes attended'\n",
    "attend= input()\n",
    "p = (attend/float(held))*100\n",
    "print 'attendendce', p\n",
    "if p>= 75:\n",
    "    print ' allowed to sit for the exam'\n",
    "else:\n",
    "    print'not allowed to sit'\n",
    "    "
   ]
  },
  {
   "cell_type": "code",
   "execution_count": 41,
   "metadata": {},
   "outputs": [
    {
     "name": "stdout",
     "output_type": "stream",
     "text": [
      "no of claases held\n",
      "31\n",
      "no of classes attended\n",
      "236\n",
      "attendendce 761.290322581\n",
      "medical cause\n"
     ]
    },
    {
     "ename": "NameError",
     "evalue": "name 'med' is not defined",
     "output_type": "error",
     "traceback": [
      "\u001b[1;31m---------------------------------------------------------------------------\u001b[0m",
      "\u001b[1;31mNameError\u001b[0m                                 Traceback (most recent call last)",
      "\u001b[1;32m<ipython-input-41-076763e153ce>\u001b[0m in \u001b[0;36m<module>\u001b[1;34m()\u001b[0m\n\u001b[0;32m      6\u001b[0m \u001b[1;32mprint\u001b[0m \u001b[1;34m'attendendce'\u001b[0m\u001b[1;33m,\u001b[0m \u001b[0mp\u001b[0m\u001b[1;33m\u001b[0m\u001b[0m\n\u001b[0;32m      7\u001b[0m \u001b[1;32mprint\u001b[0m \u001b[1;34m'medical cause'\u001b[0m\u001b[1;33m\u001b[0m\u001b[0m\n\u001b[1;32m----> 8\u001b[1;33m \u001b[0mmed\u001b[0m \u001b[1;33m==\u001b[0m \u001b[1;34m'Y'\u001b[0m\u001b[1;33m\u001b[0m\u001b[0m\n\u001b[0m\u001b[0;32m      9\u001b[0m \u001b[1;32mif\u001b[0m \u001b[0mp\u001b[0m\u001b[1;33m>=\u001b[0m \u001b[1;36m75\u001b[0m\u001b[1;33m:\u001b[0m\u001b[1;33m\u001b[0m\u001b[0m\n\u001b[0;32m     10\u001b[0m     \u001b[1;32mprint\u001b[0m \u001b[1;34m' allowed to sit for the exam'\u001b[0m\u001b[1;33m\u001b[0m\u001b[0m\n",
      "\u001b[1;31mNameError\u001b[0m: name 'med' is not defined"
     ]
    }
   ],
   "source": [
    "print 'no of claases held'\n",
    "held = input()\n",
    "print 'no of classes attended'\n",
    "attend= input()\n",
    "p = (attend/float(held))*100\n",
    "print 'attendendce', p\n",
    "print 'medical cause'\n",
    "med == 'Y'\n",
    "if p>= 75:\n",
    "    print ' allowed to sit for the exam'\n",
    "elif med:\n",
    "    print' allowed to sit' \n",
    "else:\n",
    "    print 'not allowed  to sit'"
   ]
  },
  {
   "cell_type": "code",
   "execution_count": 43,
   "metadata": {
    "collapsed": true
   },
   "outputs": [],
   "source": [
    " list = [1,2,5,3,9,3,5,5]"
   ]
  },
  {
   "cell_type": "code",
   "execution_count": 63,
   "metadata": {},
   "outputs": [
    {
     "ename": "SyntaxError",
     "evalue": "invalid syntax (<ipython-input-63-7308928b5fa9>, line 4)",
     "output_type": "error",
     "traceback": [
      "\u001b[1;36m  File \u001b[1;32m\"<ipython-input-63-7308928b5fa9>\"\u001b[1;36m, line \u001b[1;32m4\u001b[0m\n\u001b[1;33m    print (num, end = '')\u001b[0m\n\u001b[1;37m                    ^\u001b[0m\n\u001b[1;31mSyntaxError\u001b[0m\u001b[1;31m:\u001b[0m invalid syntax\n"
     ]
    }
   ],
   "source": [
    "list\n",
    "for no in list:\n",
    "    if num % 2 == 0:\n",
    "        print (num, end = '')"
   ]
  },
  {
   "cell_type": "code",
   "execution_count": 2,
   "metadata": {},
   "outputs": [
    {
     "name": "stdout",
     "output_type": "stream",
     "text": [
      "1505,1540,1575,1610,1645,1680,1715,1750,1785,1820,1855,1890,1925,1960,1995,2030,2065,2100,2135,2170,2205,2240,2275,2310,2345,2380,2415,2450,2485,2520,2555,2590,2625,2660,2695\n"
     ]
    }
   ],
   "source": [
    "n = []\n",
    "for x in range (1500,2701):\n",
    "    if (x%7 ==0 and x%5 ==0):\n",
    "        n.append(str(x))\n",
    "print (',' .join(n))"
   ]
  },
  {
   "cell_type": "markdown",
   "metadata": {},
   "source": [
    "### Modules, Packages, and import\n",
    "A module is a collection of functions and variables that have been bundled together in a single file. Module helps us:\n",
    "\n",
    "Used for code organization, packaging and reusability\n",
    "Module: A Python file\n",
    "Package: A folder with an __init__.py file\n",
    "Namespace is based on file's directory path\n",
    "Module's are usually organised around a theme. Let's see how to use a module. To access our module we will import it using python's import statement. Math module provides access to the mathematical functions."
   ]
  },
  {
   "cell_type": "code",
   "execution_count": 7,
   "metadata": {},
   "outputs": [
    {
     "data": {
      "text/plain": [
       "0.1823215567939546"
      ]
     },
     "execution_count": 7,
     "metadata": {},
     "output_type": "execute_result"
    }
   ],
   "source": [
    "import math \n",
    "math.log(1.2)"
   ]
  },
  {
   "cell_type": "code",
   "execution_count": 11,
   "metadata": {},
   "outputs": [
    {
     "name": "stdout",
     "output_type": "stream",
     "text": [
      "C:\\Users\\ank\\Untitled Folder\n"
     ]
    }
   ],
   "source": [
    "with open ('myfile.txt','w') as f:\n",
    "    f.write('this is my first file!\\n')\n",
    "import os\n",
    "print (os.path.abspath(os.curdir))"
   ]
  },
  {
   "cell_type": "code",
   "execution_count": 15,
   "metadata": {},
   "outputs": [
    {
     "name": "stdout",
     "output_type": "stream",
     "text": [
      "this is my first file!\n",
      "\n"
     ]
    }
   ],
   "source": [
    "with open ('myfile.txt','r') as f:\n",
    "    for line in f:\n",
    "        print(line)"
   ]
  }
 ],
 "metadata": {
  "kernelspec": {
   "display_name": "Python 3",
   "language": "python",
   "name": "python3"
  },
  "language_info": {
   "codemirror_mode": {
    "name": "ipython",
    "version": 3
   },
   "file_extension": ".py",
   "mimetype": "text/x-python",
   "name": "python",
   "nbconvert_exporter": "python",
   "pygments_lexer": "ipython3",
   "version": "3.7.1"
  }
 },
 "nbformat": 4,
 "nbformat_minor": 2
}
