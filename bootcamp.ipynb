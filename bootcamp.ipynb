{
 "cells": [
  {
   "cell_type": "code",
   "execution_count": 1,
   "metadata": {},
   "outputs": [],
   "source": [
    "\n",
    "\n",
    "a= 'bacdefghijklmnopqrst'\n"
   ]
  },
  {
   "cell_type": "markdown",
   "metadata": {},
   "source": [
    "### indexing and slicing\n"
   ]
  },
  {
   "cell_type": "code",
   "execution_count": 2,
   "metadata": {},
   "outputs": [
    {
     "data": {
      "text/plain": [
       "'bacdefghijklmnopqrst'"
      ]
     },
     "execution_count": 2,
     "metadata": {},
     "output_type": "execute_result"
    }
   ],
   "source": [
    "a[:] #select all the letters"
   ]
  },
  {
   "cell_type": "code",
   "execution_count": 3,
   "metadata": {},
   "outputs": [
    {
     "data": {
      "text/plain": [
       "'acdefghijklmnopqrst'"
      ]
     },
     "execution_count": 3,
     "metadata": {},
     "output_type": "execute_result"
    }
   ],
   "source": [
    "a[1:] #select letters from first to last"
   ]
  },
  {
   "cell_type": "code",
   "execution_count": 4,
   "metadata": {},
   "outputs": [],
   "source": [
    "#immutable\n",
    "#a[0] = 'a'"
   ]
  },
  {
   "cell_type": "code",
   "execution_count": 5,
   "metadata": {},
   "outputs": [
    {
     "data": {
      "text/plain": [
       "'bacdefghijklmnopqrst'"
      ]
     },
     "execution_count": 5,
     "metadata": {},
     "output_type": "execute_result"
    }
   ],
   "source": [
    "#string concatination\n",
    "a"
   ]
  },
  {
   "cell_type": "code",
   "execution_count": 6,
   "metadata": {},
   "outputs": [
    {
     "data": {
      "text/plain": [
       "'bacdefghijklmnopqrst hadhaih;o ah;o'"
      ]
     },
     "execution_count": 6,
     "metadata": {},
     "output_type": "execute_result"
    }
   ],
   "source": [
    "b= a + ' hadhaih;o ah;o'\n",
    "b"
   ]
  },
  {
   "cell_type": "code",
   "execution_count": 7,
   "metadata": {},
   "outputs": [
    {
     "data": {
      "text/plain": [
       "['bacdefghijklmnopqrst', 'hadhaih;o', 'ah;o']"
      ]
     },
     "execution_count": 7,
     "metadata": {},
     "output_type": "execute_result"
    }
   ],
   "source": [
    "b.split()"
   ]
  },
  {
   "cell_type": "code",
   "execution_count": 8,
   "metadata": {},
   "outputs": [
    {
     "data": {
      "text/plain": [
       "'BACDEFGHIJKLMNOPQRST HADHAIH;O AH;O'"
      ]
     },
     "execution_count": 8,
     "metadata": {},
     "output_type": "execute_result"
    }
   ],
   "source": [
    "b.upper()"
   ]
  },
  {
   "cell_type": "code",
   "execution_count": 9,
   "metadata": {},
   "outputs": [
    {
     "data": {
      "text/plain": [
       "'acdefghijklmnopqrst'"
      ]
     },
     "execution_count": 9,
     "metadata": {},
     "output_type": "execute_result"
    }
   ],
   "source": [
    "\n",
    "a[1:] #all the way to end"
   ]
  },
  {
   "cell_type": "code",
   "execution_count": 10,
   "metadata": {},
   "outputs": [
    {
     "data": {
      "text/plain": [
       "'bac'"
      ]
     },
     "execution_count": 10,
     "metadata": {},
     "output_type": "execute_result"
    }
   ],
   "source": [
    "a[:3] #first three letters"
   ]
  },
  {
   "cell_type": "code",
   "execution_count": 11,
   "metadata": {},
   "outputs": [
    {
     "data": {
      "text/plain": [
       "'def'"
      ]
     },
     "execution_count": 11,
     "metadata": {},
     "output_type": "execute_result"
    }
   ],
   "source": [
    "#grab middle letter\n",
    "a[3:6]"
   ]
  },
  {
   "cell_type": "code",
   "execution_count": 12,
   "metadata": {},
   "outputs": [
    {
     "data": {
      "text/plain": [
       "'ac'"
      ]
     },
     "execution_count": 12,
     "metadata": {},
     "output_type": "execute_result"
    }
   ],
   "source": [
    "a[1:3]"
   ]
  },
  {
   "cell_type": "code",
   "execution_count": 13,
   "metadata": {},
   "outputs": [
    {
     "data": {
      "text/plain": [
       "'bacdefghijklmnopqrst'"
      ]
     },
     "execution_count": 13,
     "metadata": {},
     "output_type": "execute_result"
    }
   ],
   "source": [
    "#subsection step size\n",
    "\n",
    "a[::] #all the way beiging  to end"
   ]
  },
  {
   "cell_type": "code",
   "execution_count": 14,
   "metadata": {},
   "outputs": [
    {
     "data": {
      "text/plain": [
       "'bcegikmoqs'"
      ]
     },
     "execution_count": 14,
     "metadata": {},
     "output_type": "execute_result"
    }
   ],
   "source": [
    "#jumps by 2\n",
    "a[::2]"
   ]
  },
  {
   "cell_type": "code",
   "execution_count": 15,
   "metadata": {},
   "outputs": [
    {
     "data": {
      "text/plain": [
       "'bdgjmps'"
      ]
     },
     "execution_count": 15,
     "metadata": {},
     "output_type": "execute_result"
    }
   ],
   "source": [
    "a[::3]"
   ]
  },
  {
   "cell_type": "code",
   "execution_count": 16,
   "metadata": {},
   "outputs": [
    {
     "data": {
      "text/plain": [
       "'ceg'"
      ]
     },
     "execution_count": 16,
     "metadata": {},
     "output_type": "execute_result"
    }
   ],
   "source": [
    "#include middle\n",
    "a[2:7:2]"
   ]
  },
  {
   "cell_type": "code",
   "execution_count": 17,
   "metadata": {},
   "outputs": [
    {
     "data": {
      "text/plain": [
       "'bacdefghijklmnopqrst'"
      ]
     },
     "execution_count": 17,
     "metadata": {},
     "output_type": "execute_result"
    }
   ],
   "source": [
    "a"
   ]
  },
  {
   "cell_type": "code",
   "execution_count": 18,
   "metadata": {},
   "outputs": [
    {
     "data": {
      "text/plain": [
       "'cdefghijklmnopqrst'"
      ]
     },
     "execution_count": 18,
     "metadata": {},
     "output_type": "execute_result"
    }
   ],
   "source": [
    "a[2::]"
   ]
  },
  {
   "cell_type": "code",
   "execution_count": 19,
   "metadata": {},
   "outputs": [
    {
     "data": {
      "text/plain": [
       "'tsrqponmlkjihgfedcab'"
      ]
     },
     "execution_count": 19,
     "metadata": {},
     "output_type": "execute_result"
    }
   ],
   "source": [
    "a[::-1\n",
    " ]"
   ]
  },
  {
   "cell_type": "code",
   "execution_count": 20,
   "metadata": {},
   "outputs": [
    {
     "data": {
      "text/plain": [
       "'bacdefghijklmnopqrs'"
      ]
     },
     "execution_count": 20,
     "metadata": {},
     "output_type": "execute_result"
    }
   ],
   "source": [
    "a[:-1]#last letter will not include"
   ]
  },
  {
   "cell_type": "code",
   "execution_count": 21,
   "metadata": {},
   "outputs": [],
   "source": [
    "c= ' this is my string and want to inject'\n"
   ]
  },
  {
   "cell_type": "code",
   "execution_count": 22,
   "metadata": {},
   "outputs": [
    {
     "data": {
      "text/plain": [
       "[' th', 's ', 's my str', 'ng and want to ', 'nject']"
      ]
     },
     "execution_count": 22,
     "metadata": {},
     "output_type": "execute_result"
    }
   ],
   "source": [
    "c.split('i') # split by letter i"
   ]
  },
  {
   "cell_type": "code",
   "execution_count": 23,
   "metadata": {},
   "outputs": [],
   "source": [
    "#concatination\n",
    "#.format method\n",
    "# 'string here{}'.format('something 1', 'something 2')"
   ]
  },
  {
   "cell_type": "code",
   "execution_count": 24,
   "metadata": {},
   "outputs": [
    {
     "name": "stdout",
     "output_type": "stream",
     "text": [
      "this is a string Inserted\n"
     ]
    }
   ],
   "source": [
    "print('this is a string{}'.format(' Inserted'))"
   ]
  },
  {
   "cell_type": "code",
   "execution_count": 25,
   "metadata": {},
   "outputs": [
    {
     "name": "stdout",
     "output_type": "stream",
     "text": [
      "fox,rox,mox\n"
     ]
    }
   ],
   "source": [
    "print(\"{},{},{}\".format('fox', 'rox','mox'))"
   ]
  },
  {
   "cell_type": "code",
   "execution_count": 26,
   "metadata": {},
   "outputs": [
    {
     "name": "stdout",
     "output_type": "stream",
     "text": [
      " the foxfoxfox\n"
     ]
    }
   ],
   "source": [
    "print(\" the {0}{0}{0}\".format('fox', 'rox','mox'))"
   ]
  },
  {
   "cell_type": "code",
   "execution_count": 27,
   "metadata": {},
   "outputs": [
    {
     "name": "stdout",
     "output_type": "stream",
     "text": [
      "the fox mox rox\n"
     ]
    }
   ],
   "source": [
    "print(\"the {a} {c} {b}\".format(a='fox', b='rox',c='mox'))"
   ]
  },
  {
   "cell_type": "code",
   "execution_count": 28,
   "metadata": {},
   "outputs": [],
   "source": [
    "#repeatation with .format method\n"
   ]
  },
  {
   "cell_type": "raw",
   "metadata": {},
   "source": [
    "\n"
   ]
  },
  {
   "cell_type": "code",
   "execution_count": 29,
   "metadata": {},
   "outputs": [
    {
     "data": {
      "text/plain": [
       "142.85714285714286"
      ]
     },
     "execution_count": 29,
     "metadata": {},
     "output_type": "execute_result"
    }
   ],
   "source": [
    "r = 1000/7\n",
    "r"
   ]
  },
  {
   "cell_type": "code",
   "execution_count": 30,
   "metadata": {},
   "outputs": [
    {
     "name": "stdout",
     "output_type": "stream",
     "text": [
      "the result 142.86\n"
     ]
    }
   ],
   "source": [
    "print('the result {f:1.2f}'.format(f=r))"
   ]
  },
  {
   "cell_type": "code",
   "execution_count": 31,
   "metadata": {},
   "outputs": [
    {
     "name": "stdout",
     "output_type": "stream",
     "text": [
      "the result 142.8571\n"
     ]
    }
   ],
   "source": [
    "print('the result {f:1.4f}'.format(f=r))\n",
    "                 # value:width.precision\n",
    "                #decimal and round of 4 after decimal"
   ]
  },
  {
   "cell_type": "code",
   "execution_count": 32,
   "metadata": {},
   "outputs": [],
   "source": [
    "name = 'ankit'\n",
    "age = 26"
   ]
  },
  {
   "cell_type": "code",
   "execution_count": 33,
   "metadata": {},
   "outputs": [
    {
     "name": "stdout",
     "output_type": "stream",
     "text": [
      "i am ankit and my age is 26\n"
     ]
    }
   ],
   "source": [
    "print(f'i am {name} and my age is {age}' )\n",
    "     # f string interpolation   "
   ]
  },
  {
   "cell_type": "code",
   "execution_count": 34,
   "metadata": {},
   "outputs": [
    {
     "data": {
      "text/plain": [
       "[1, 2, 3, 4, 5, 56]"
      ]
     },
     "execution_count": 34,
     "metadata": {},
     "output_type": "execute_result"
    }
   ],
   "source": [
    "ls= [1,2,3,4,5,56]\n",
    "ls"
   ]
  },
  {
   "cell_type": "code",
   "execution_count": 35,
   "metadata": {},
   "outputs": [
    {
     "data": {
      "text/plain": [
       "6"
      ]
     },
     "execution_count": 35,
     "metadata": {},
     "output_type": "execute_result"
    }
   ],
   "source": [
    "len(ls)"
   ]
  },
  {
   "cell_type": "code",
   "execution_count": 36,
   "metadata": {},
   "outputs": [],
   "source": [
    "a= ['ank','sank', 'mank']"
   ]
  },
  {
   "cell_type": "code",
   "execution_count": 37,
   "metadata": {},
   "outputs": [
    {
     "data": {
      "text/plain": [
       "['ank', 'sank', 'mank']"
      ]
     },
     "execution_count": 37,
     "metadata": {},
     "output_type": "execute_result"
    }
   ],
   "source": [
    "a"
   ]
  },
  {
   "cell_type": "code",
   "execution_count": 38,
   "metadata": {},
   "outputs": [
    {
     "data": {
      "text/plain": [
       "'sank'"
      ]
     },
     "execution_count": 38,
     "metadata": {},
     "output_type": "execute_result"
    }
   ],
   "source": [
    "a[1]"
   ]
  },
  {
   "cell_type": "code",
   "execution_count": 39,
   "metadata": {},
   "outputs": [
    {
     "data": {
      "text/plain": [
       "['sank', 'mank']"
      ]
     },
     "execution_count": 39,
     "metadata": {},
     "output_type": "execute_result"
    }
   ],
   "source": [
    "a[1:]"
   ]
  },
  {
   "cell_type": "code",
   "execution_count": 40,
   "metadata": {},
   "outputs": [],
   "source": [
    "b= a[::-1]"
   ]
  },
  {
   "cell_type": "code",
   "execution_count": 41,
   "metadata": {},
   "outputs": [
    {
     "data": {
      "text/plain": [
       "['ank', 'sank', 'mank', 'mank', 'sank', 'ank']"
      ]
     },
     "execution_count": 41,
     "metadata": {},
     "output_type": "execute_result"
    }
   ],
   "source": [
    "a+b"
   ]
  },
  {
   "cell_type": "code",
   "execution_count": 42,
   "metadata": {},
   "outputs": [],
   "source": [
    "a[0] = 'ankit'"
   ]
  },
  {
   "cell_type": "code",
   "execution_count": 43,
   "metadata": {},
   "outputs": [
    {
     "data": {
      "text/plain": [
       "['ankit', 'sank', 'mank']"
      ]
     },
     "execution_count": 43,
     "metadata": {},
     "output_type": "execute_result"
    }
   ],
   "source": [
    "a"
   ]
  },
  {
   "cell_type": "code",
   "execution_count": 44,
   "metadata": {},
   "outputs": [],
   "source": [
    "v= a.append('monk') #adding any value with append"
   ]
  },
  {
   "cell_type": "code",
   "execution_count": 45,
   "metadata": {},
   "outputs": [],
   "source": [
    "v"
   ]
  },
  {
   "cell_type": "code",
   "execution_count": 46,
   "metadata": {},
   "outputs": [],
   "source": [
    "\n",
    "e= a.pop() #remove last value"
   ]
  },
  {
   "cell_type": "code",
   "execution_count": 47,
   "metadata": {},
   "outputs": [
    {
     "data": {
      "text/plain": [
       "'monk'"
      ]
     },
     "execution_count": 47,
     "metadata": {},
     "output_type": "execute_result"
    }
   ],
   "source": [
    "e"
   ]
  },
  {
   "cell_type": "code",
   "execution_count": 48,
   "metadata": {},
   "outputs": [
    {
     "data": {
      "text/plain": [
       "['ankit', 'sank', 'mank']"
      ]
     },
     "execution_count": 48,
     "metadata": {},
     "output_type": "execute_result"
    }
   ],
   "source": [
    "a"
   ]
  },
  {
   "cell_type": "code",
   "execution_count": 49,
   "metadata": {},
   "outputs": [
    {
     "data": {
      "text/plain": [
       "'mank'"
      ]
     },
     "execution_count": 49,
     "metadata": {},
     "output_type": "execute_result"
    }
   ],
   "source": [
    "a.pop(2)\n",
    "#remove the with index"
   ]
  },
  {
   "cell_type": "code",
   "execution_count": 50,
   "metadata": {},
   "outputs": [
    {
     "data": {
      "text/plain": [
       "['ankit', 'sank']"
      ]
     },
     "execution_count": 50,
     "metadata": {},
     "output_type": "execute_result"
    }
   ],
   "source": [
    "a"
   ]
  },
  {
   "cell_type": "code",
   "execution_count": 51,
   "metadata": {},
   "outputs": [],
   "source": [
    "l=['a','b','c','d','e']\n",
    "l1=[2,2,6,7,8,9,0,1,2,3,4,5,6]"
   ]
  },
  {
   "cell_type": "code",
   "execution_count": 52,
   "metadata": {},
   "outputs": [
    {
     "data": {
      "text/plain": [
       "[0, 1, 2, 2, 2, 3, 4, 5, 6, 6, 7, 8, 9]"
      ]
     },
     "execution_count": 52,
     "metadata": {},
     "output_type": "execute_result"
    }
   ],
   "source": [
    "l1.sort()\n",
    "l1"
   ]
  },
  {
   "cell_type": "code",
   "execution_count": 53,
   "metadata": {},
   "outputs": [
    {
     "data": {
      "text/plain": [
       "list"
      ]
     },
     "execution_count": 53,
     "metadata": {},
     "output_type": "execute_result"
    }
   ],
   "source": [
    "type(l1)"
   ]
  },
  {
   "cell_type": "code",
   "execution_count": 54,
   "metadata": {},
   "outputs": [
    {
     "data": {
      "text/plain": [
       "list"
      ]
     },
     "execution_count": 54,
     "metadata": {},
     "output_type": "execute_result"
    }
   ],
   "source": [
    "type(l)\n"
   ]
  },
  {
   "cell_type": "code",
   "execution_count": 55,
   "metadata": {},
   "outputs": [
    {
     "data": {
      "text/plain": [
       "[9, 8, 7, 6, 6, 5, 4, 3, 2, 2, 2, 1, 0]"
      ]
     },
     "execution_count": 55,
     "metadata": {},
     "output_type": "execute_result"
    }
   ],
   "source": [
    "l1.reverse() #revers sorting\n",
    "l1"
   ]
  },
  {
   "cell_type": "markdown",
   "metadata": {},
   "source": [
    "### dictionaries are unordered and cannot be sorted\n",
    "# RETRIVE VALUE WITHOUT ITS  exact indexz location\n",
    "\n",
    "#list objects retrived by location\n",
    "ordered sequence"
   ]
  },
  {
   "cell_type": "code",
   "execution_count": 56,
   "metadata": {},
   "outputs": [],
   "source": [
    "dictn= {'a':1,'b':3,\"c\":9}"
   ]
  },
  {
   "cell_type": "code",
   "execution_count": 57,
   "metadata": {},
   "outputs": [
    {
     "data": {
      "text/plain": [
       "1"
      ]
     },
     "execution_count": 57,
     "metadata": {},
     "output_type": "execute_result"
    }
   ],
   "source": [
    "dictn[\"a\"]"
   ]
  },
  {
   "cell_type": "code",
   "execution_count": 58,
   "metadata": {},
   "outputs": [
    {
     "data": {
      "text/plain": [
       "9"
      ]
     },
     "execution_count": 58,
     "metadata": {},
     "output_type": "execute_result"
    }
   ],
   "source": [
    "dictn[\"c\"]"
   ]
  },
  {
   "cell_type": "code",
   "execution_count": 59,
   "metadata": {},
   "outputs": [],
   "source": [
    "dict= {'key':'value' } #are flexible and can contain any value like int float\n"
   ]
  },
  {
   "cell_type": "code",
   "execution_count": 60,
   "metadata": {},
   "outputs": [],
   "source": [
    "dictq={'k1':123,'k2':[2,3,4,5],'k3':{'inside key':100}}"
   ]
  },
  {
   "cell_type": "code",
   "execution_count": 61,
   "metadata": {},
   "outputs": [
    {
     "data": {
      "text/plain": [
       "[2, 3, 4, 5]"
      ]
     },
     "execution_count": 61,
     "metadata": {},
     "output_type": "execute_result"
    }
   ],
   "source": [
    "dictq[\"k2\"]"
   ]
  },
  {
   "cell_type": "code",
   "execution_count": 62,
   "metadata": {},
   "outputs": [
    {
     "data": {
      "text/plain": [
       "{'inside key': 100}"
      ]
     },
     "execution_count": 62,
     "metadata": {},
     "output_type": "execute_result"
    }
   ],
   "source": [
    "dictq[\"k3\"]"
   ]
  },
  {
   "cell_type": "code",
   "execution_count": 63,
   "metadata": {},
   "outputs": [
    {
     "data": {
      "text/plain": [
       "100"
      ]
     },
     "execution_count": 63,
     "metadata": {},
     "output_type": "execute_result"
    }
   ],
   "source": [
    "dictq[\"k3\"][\"inside key\"]"
   ]
  },
  {
   "cell_type": "code",
   "execution_count": 64,
   "metadata": {},
   "outputs": [],
   "source": [
    "d={'k1':['a','b','c']}"
   ]
  },
  {
   "cell_type": "code",
   "execution_count": 65,
   "metadata": {},
   "outputs": [
    {
     "data": {
      "text/plain": [
       "'C'"
      ]
     },
     "execution_count": 65,
     "metadata": {},
     "output_type": "execute_result"
    }
   ],
   "source": [
    "d[\"k1\"][2].upper() #CAN MAKE ANY operation"
   ]
  },
  {
   "cell_type": "code",
   "execution_count": 66,
   "metadata": {},
   "outputs": [
    {
     "data": {
      "text/plain": [
       "{'k1': ['a', 'b', 'c']}"
      ]
     },
     "execution_count": 66,
     "metadata": {},
     "output_type": "execute_result"
    }
   ],
   "source": [
    "d"
   ]
  },
  {
   "cell_type": "code",
   "execution_count": 67,
   "metadata": {},
   "outputs": [],
   "source": [
    "d['k1']=[1,3,4,5]"
   ]
  },
  {
   "cell_type": "code",
   "execution_count": 68,
   "metadata": {},
   "outputs": [
    {
     "data": {
      "text/plain": [
       "{'k1': [1, 3, 4, 5]}"
      ]
     },
     "execution_count": 68,
     "metadata": {},
     "output_type": "execute_result"
    }
   ],
   "source": [
    "d"
   ]
  },
  {
   "cell_type": "code",
   "execution_count": 69,
   "metadata": {},
   "outputs": [
    {
     "data": {
      "text/plain": [
       "<function dict.values>"
      ]
     },
     "execution_count": 69,
     "metadata": {},
     "output_type": "execute_result"
    }
   ],
   "source": [
    "d.values"
   ]
  },
  {
   "cell_type": "code",
   "execution_count": 70,
   "metadata": {},
   "outputs": [
    {
     "data": {
      "text/plain": [
       "{'k1': 'newvalue'}"
      ]
     },
     "execution_count": 70,
     "metadata": {},
     "output_type": "execute_result"
    }
   ],
   "source": [
    "d['k1']='newvalue'\n",
    "d"
   ]
  },
  {
   "cell_type": "code",
   "execution_count": 71,
   "metadata": {},
   "outputs": [],
   "source": [
    "d={'k1':['a','b','c']}"
   ]
  },
  {
   "cell_type": "code",
   "execution_count": 72,
   "metadata": {},
   "outputs": [
    {
     "data": {
      "text/plain": [
       "dict_keys(['k1'])"
      ]
     },
     "execution_count": 72,
     "metadata": {},
     "output_type": "execute_result"
    }
   ],
   "source": [
    "d.keys()"
   ]
  },
  {
   "cell_type": "code",
   "execution_count": 73,
   "metadata": {},
   "outputs": [
    {
     "data": {
      "text/plain": [
       "dict_values([['a', 'b', 'c']])"
      ]
     },
     "execution_count": 73,
     "metadata": {},
     "output_type": "execute_result"
    }
   ],
   "source": [
    "d.values()"
   ]
  },
  {
   "cell_type": "code",
   "execution_count": 74,
   "metadata": {},
   "outputs": [
    {
     "data": {
      "text/plain": [
       "dict_items([('k1', ['a', 'b', 'c'])])"
      ]
     },
     "execution_count": 74,
     "metadata": {},
     "output_type": "execute_result"
    }
   ],
   "source": [
    "d.items() #TUPLE"
   ]
  },
  {
   "cell_type": "markdown",
   "metadata": {},
   "source": [
    "### Dictionaries are mappings and do not retain order! If you do want the capabilities of a dictionary but you would like ordering as well, check out the ordereddict object lecture later on in the course!"
   ]
  },
  {
   "cell_type": "markdown",
   "metadata": {},
   "source": [
    "### TUPLES\n",
    "IMMUTABLE\n",
    "\n",
    "ONCE AN ELEMENT ASSIGN inside tuple, it cannot be reassigned"
   ]
  },
  {
   "cell_type": "code",
   "execution_count": 75,
   "metadata": {},
   "outputs": [],
   "source": [
    "t=(1,2,3,4)\n",
    "list=[1,2,34,5]"
   ]
  },
  {
   "cell_type": "code",
   "execution_count": 76,
   "metadata": {},
   "outputs": [
    {
     "data": {
      "text/plain": [
       "tuple"
      ]
     },
     "execution_count": 76,
     "metadata": {},
     "output_type": "execute_result"
    }
   ],
   "source": [
    "type(t)"
   ]
  },
  {
   "cell_type": "code",
   "execution_count": 77,
   "metadata": {},
   "outputs": [
    {
     "data": {
      "text/plain": [
       "list"
      ]
     },
     "execution_count": 77,
     "metadata": {},
     "output_type": "execute_result"
    }
   ],
   "source": [
    "type(list)"
   ]
  },
  {
   "cell_type": "code",
   "execution_count": 78,
   "metadata": {},
   "outputs": [
    {
     "data": {
      "text/plain": [
       "2"
      ]
     },
     "execution_count": 78,
     "metadata": {},
     "output_type": "execute_result"
    }
   ],
   "source": [
    "t[1]"
   ]
  },
  {
   "cell_type": "code",
   "execution_count": 79,
   "metadata": {},
   "outputs": [
    {
     "data": {
      "text/plain": [
       "4"
      ]
     },
     "execution_count": 79,
     "metadata": {},
     "output_type": "execute_result"
    }
   ],
   "source": [
    "t[-1]"
   ]
  },
  {
   "cell_type": "code",
   "execution_count": 80,
   "metadata": {},
   "outputs": [
    {
     "data": {
      "text/plain": [
       "0"
      ]
     },
     "execution_count": 80,
     "metadata": {},
     "output_type": "execute_result"
    }
   ],
   "source": [
    "t.count('1')"
   ]
  },
  {
   "cell_type": "code",
   "execution_count": 81,
   "metadata": {},
   "outputs": [
    {
     "data": {
      "text/plain": [
       "2"
      ]
     },
     "execution_count": 81,
     "metadata": {},
     "output_type": "execute_result"
    }
   ],
   "source": [
    "t.index(3)"
   ]
  },
  {
   "cell_type": "code",
   "execution_count": 82,
   "metadata": {},
   "outputs": [
    {
     "data": {
      "text/plain": [
       "[1, 2, 34, 5]"
      ]
     },
     "execution_count": 82,
     "metadata": {},
     "output_type": "execute_result"
    }
   ],
   "source": [
    "list"
   ]
  },
  {
   "cell_type": "code",
   "execution_count": 83,
   "metadata": {},
   "outputs": [],
   "source": [
    "list[2]=' new'"
   ]
  },
  {
   "cell_type": "code",
   "execution_count": 84,
   "metadata": {},
   "outputs": [
    {
     "data": {
      "text/plain": [
       "[1, 2, ' new', 5]"
      ]
     },
     "execution_count": 84,
     "metadata": {},
     "output_type": "execute_result"
    }
   ],
   "source": [
    "list"
   ]
  },
  {
   "cell_type": "code",
   "execution_count": 85,
   "metadata": {},
   "outputs": [
    {
     "ename": "TypeError",
     "evalue": "'tuple' object does not support item assignment",
     "output_type": "error",
     "traceback": [
      "\u001b[0;31m---------------------------------------------------------------------------\u001b[0m",
      "\u001b[0;31mTypeError\u001b[0m                                 Traceback (most recent call last)",
      "\u001b[0;32m<ipython-input-85-3d8cb7a6b01a>\u001b[0m in \u001b[0;36m<module>\u001b[0;34m\u001b[0m\n\u001b[0;32m----> 1\u001b[0;31m \u001b[0mt\u001b[0m\u001b[0;34m[\u001b[0m\u001b[0;36m0\u001b[0m\u001b[0;34m]\u001b[0m\u001b[0;34m=\u001b[0m\u001b[0;34m'new'\u001b[0m\u001b[0;34m\u001b[0m\u001b[0;34m\u001b[0m\u001b[0m\n\u001b[0m",
      "\u001b[0;31mTypeError\u001b[0m: 'tuple' object does not support item assignment"
     ]
    }
   ],
   "source": [
    "t[0]='new'"
   ]
  },
  {
   "cell_type": "markdown",
   "metadata": {},
   "source": [
    "###  it is useul when you want to make sure the element dont get flipped reassigned later on it\n"
   ]
  },
  {
   "cell_type": "markdown",
   "metadata": {},
   "source": [
    "##  sets\n",
    "unordered colllection of unique elements\n",
    "one represntative of same object\n",
    "\n"
   ]
  },
  {
   "cell_type": "code",
   "execution_count": null,
   "metadata": {},
   "outputs": [],
   "source": [
    "mset= set()\n",
    "mset"
   ]
  },
  {
   "cell_type": "code",
   "execution_count": null,
   "metadata": {},
   "outputs": [],
   "source": [
    "mset.add(45)"
   ]
  },
  {
   "cell_type": "code",
   "execution_count": null,
   "metadata": {},
   "outputs": [],
   "source": [
    "mset.add(145)\n",
    "mset"
   ]
  },
  {
   "cell_type": "code",
   "execution_count": null,
   "metadata": {},
   "outputs": [],
   "source": [
    "mset.add(45)\n",
    "mset"
   ]
  },
  {
   "cell_type": "code",
   "execution_count": null,
   "metadata": {},
   "outputs": [],
   "source": [
    "list"
   ]
  },
  {
   "cell_type": "code",
   "execution_count": null,
   "metadata": {},
   "outputs": [],
   "source": [
    "set(list)"
   ]
  },
  {
   "cell_type": "code",
   "execution_count": null,
   "metadata": {},
   "outputs": [],
   "source": [
    "a= [11,4,3,4,54,5,67,78,89,9,4,3,3,3,4,5,66,7]"
   ]
  },
  {
   "cell_type": "code",
   "execution_count": null,
   "metadata": {},
   "outputs": [],
   "source": [
    "set(a) #only unique values"
   ]
  },
  {
   "cell_type": "code",
   "execution_count": null,
   "metadata": {},
   "outputs": [],
   "source": [
    "set('mississippi')"
   ]
  },
  {
   "cell_type": "code",
   "execution_count": null,
   "metadata": {},
   "outputs": [],
   "source": [
    "# true or false statement logic and control flow checking\n",
    "True\n",
    "type(True)"
   ]
  },
  {
   "cell_type": "code",
   "execution_count": null,
   "metadata": {},
   "outputs": [],
   "source": [
    "20>50"
   ]
  },
  {
   "cell_type": "code",
   "execution_count": null,
   "metadata": {},
   "outputs": [],
   "source": [
    "1==3"
   ]
  },
  {
   "cell_type": "code",
   "execution_count": null,
   "metadata": {},
   "outputs": [],
   "source": [
    "1==1"
   ]
  },
  {
   "cell_type": "code",
   "execution_count": null,
   "metadata": {},
   "outputs": [],
   "source": [
    "set([1,1,2,3]) #WILL  give output in curvy bracket"
   ]
  },
  {
   "cell_type": "markdown",
   "metadata": {},
   "source": [
    "###  text file"
   ]
  },
  {
   "cell_type": "code",
   "execution_count": null,
   "metadata": {},
   "outputs": [],
   "source": [
    "%%writefile myfile.txt\n",
    "hello this is a txt file\n",
    "this is practice one\n",
    "# \\ n represent new line\n"
   ]
  },
  {
   "cell_type": "code",
   "execution_count": null,
   "metadata": {},
   "outputs": [],
   "source": [
    "#open file name\n",
    "myfile = open(\"myfile.txt\") \n",
    "myfile"
   ]
  },
  {
   "cell_type": "code",
   "execution_count": null,
   "metadata": {},
   "outputs": [],
   "source": [
    "pwd"
   ]
  },
  {
   "cell_type": "code",
   "execution_count": null,
   "metadata": {},
   "outputs": [],
   "source": [
    "myfile.read() #if press this will this gives you  empty string''"
   ]
  },
  {
   "cell_type": "code",
   "execution_count": null,
   "metadata": {},
   "outputs": [],
   "source": [
    "myfile.seek(0)#to reset cursor"
   ]
  },
  {
   "cell_type": "code",
   "execution_count": null,
   "metadata": {},
   "outputs": [],
   "source": [
    "a= myfile.read()"
   ]
  },
  {
   "cell_type": "code",
   "execution_count": null,
   "metadata": {},
   "outputs": [],
   "source": [
    "a"
   ]
  },
  {
   "cell_type": "code",
   "execution_count": null,
   "metadata": {},
   "outputs": [],
   "source": [
    "myfile.readlines()"
   ]
  },
  {
   "cell_type": "code",
   "execution_count": null,
   "metadata": {},
   "outputs": [],
   "source": [
    "#TO READ FILE FROM OTHER COMPS my = open(\"c\\\\users\\\\\")\n",
    "#  my = open(\"c/users/home/file.txt)"
   ]
  },
  {
   "cell_type": "code",
   "execution_count": null,
   "metadata": {},
   "outputs": [],
   "source": [
    "myfile.close()"
   ]
  },
  {
   "cell_type": "code",
   "execution_count": null,
   "metadata": {},
   "outputs": [],
   "source": [
    "with open ('myfile.txt') as my_nw_file:\n",
    "    contents=my_nw_file.read()"
   ]
  },
  {
   "cell_type": "code",
   "execution_count": null,
   "metadata": {},
   "outputs": [],
   "source": [
    "contents"
   ]
  },
  {
   "cell_type": "code",
   "execution_count": null,
   "metadata": {},
   "outputs": [],
   "source": [
    "with open ('myfile.txt' ,mode= 'r') as myfile:\n",
    "    c= myfile.read()"
   ]
  },
  {
   "cell_type": "code",
   "execution_count": null,
   "metadata": {},
   "outputs": [],
   "source": [
    "c"
   ]
  },
  {
   "cell_type": "code",
   "execution_count": null,
   "metadata": {},
   "outputs": [],
   "source": [
    "with open ('myfile.txt' ,mode= 'w') as myfile:\n",
    "    c= myfile.read()"
   ]
  },
  {
   "cell_type": "code",
   "execution_count": null,
   "metadata": {},
   "outputs": [],
   "source": [
    "with open ('myfile.txt' ,mode= 'a') as myfile:\n",
    "    c= myfile.read()"
   ]
  },
  {
   "cell_type": "markdown",
   "metadata": {},
   "source": [
    "###  mode = 'r' - read only\n",
    "    mode = 'w' write only (overwrite files or create new\n",
    "    mode = 'r+' read and writing\n",
    "    mode = 'a ' append only add on to files\n",
    "    mode = 'w+' is writing and reading (opverwiting existing  file or creare new file"
   ]
  },
  {
   "cell_type": "code",
   "execution_count": null,
   "metadata": {},
   "outputs": [],
   "source": [
    "%%writefile newfile.txt\n",
    "one two three\n",
    "four five\n",
    "six seven"
   ]
  },
  {
   "cell_type": "code",
   "execution_count": null,
   "metadata": {},
   "outputs": [],
   "source": [
    "with open (\"newfile.txt\", mode = 'r') as f:\n",
    "    print(f.read())"
   ]
  },
  {
   "cell_type": "code",
   "execution_count": null,
   "metadata": {},
   "outputs": [],
   "source": [
    "with open(\"newfile.txt\", mode='a') as f:\n",
    "    f.write('ten fifteen')"
   ]
  },
  {
   "cell_type": "code",
   "execution_count": null,
   "metadata": {},
   "outputs": [],
   "source": [
    "with open (\"newfile.txt\", mode= 'r') as f:\n",
    "    print(f.read())"
   ]
  },
  {
   "cell_type": "code",
   "execution_count": null,
   "metadata": {},
   "outputs": [],
   "source": [
    "g= 'helllow'\n"
   ]
  },
  {
   "cell_type": "code",
   "execution_count": null,
   "metadata": {},
   "outputs": [],
   "source": [
    "g[::-1]"
   ]
  },
  {
   "cell_type": "code",
   "execution_count": null,
   "metadata": {},
   "outputs": [],
   "source": [
    "g[-1] "
   ]
  },
  {
   "cell_type": "code",
   "execution_count": null,
   "metadata": {},
   "outputs": [],
   "source": [
    "g[5]"
   ]
  },
  {
   "cell_type": "code",
   "execution_count": null,
   "metadata": {},
   "outputs": [],
   "source": [
    "[1]*5"
   ]
  },
  {
   "cell_type": "code",
   "execution_count": null,
   "metadata": {},
   "outputs": [],
   "source": [
    "l= [1,2,3,[3,4,7,8, 'hello']]"
   ]
  },
  {
   "cell_type": "code",
   "execution_count": null,
   "metadata": {},
   "outputs": [],
   "source": [
    "l"
   ]
  },
  {
   "cell_type": "code",
   "execution_count": null,
   "metadata": {},
   "outputs": [],
   "source": [
    "l=[1,4,6,8,94,3,5]\n",
    "sorted(l)"
   ]
  },
  {
   "cell_type": "code",
   "execution_count": null,
   "metadata": {},
   "outputs": [],
   "source": [
    "k= {'k1':{\"k2\": 'this is wolld '}}"
   ]
  },
  {
   "cell_type": "code",
   "execution_count": null,
   "metadata": {},
   "outputs": [],
   "source": [
    "q= {'k1':[{'new_ky':['this is depp', ['hello']]}]}"
   ]
  },
  {
   "cell_type": "code",
   "execution_count": null,
   "metadata": {},
   "outputs": [],
   "source": [
    "q['k1']"
   ]
  },
  {
   "cell_type": "code",
   "execution_count": null,
   "metadata": {},
   "outputs": [],
   "source": [
    "q['k1'][0]['new_ky'] #in order to get next value you need to piu\n",
    "#put [0] index"
   ]
  },
  {
   "cell_type": "code",
   "execution_count": null,
   "metadata": {},
   "outputs": [],
   "source": [
    "q['k1'][0]['new_ky'][1][0]"
   ]
  },
  {
   "cell_type": "code",
   "execution_count": null,
   "metadata": {},
   "outputs": [],
   "source": [
    "o= {'k1':[1,2,{'k2':['this is hard',{'tough':[1,2,['hello']]}]}]}"
   ]
  },
  {
   "cell_type": "code",
   "execution_count": null,
   "metadata": {},
   "outputs": [],
   "source": [
    "o"
   ]
  },
  {
   "cell_type": "code",
   "execution_count": null,
   "metadata": {},
   "outputs": [],
   "source": [
    "o['k1']"
   ]
  },
  {
   "cell_type": "code",
   "execution_count": null,
   "metadata": {},
   "outputs": [],
   "source": [
    "o['k1'][2]['k2'][1]['tough'][2][0]"
   ]
  },
  {
   "cell_type": "markdown",
   "metadata": {},
   "source": [
    "####   we cannot sort dictionaries \n",
    "    \n",
    "    ==  EQUAL\n",
    "    !=  NOT EQUAL\n",
    "    >\n",
    "    <\n",
    "    >= GREATER THAN EQUAL TO\n",
    "    <= LESS THAN EQUAL TO"
   ]
  },
  {
   "cell_type": "code",
   "execution_count": null,
   "metadata": {},
   "outputs": [],
   "source": [
    "l1= [1,2,[3,4]]\n",
    "l2= [1,2,{'k1':4}]\n",
    "\n",
    "#true or false\n",
    "l1[2][0] >l2[2]['k1']"
   ]
  },
  {
   "cell_type": "code",
   "execution_count": null,
   "metadata": {},
   "outputs": [],
   "source": [
    "l1[2][1] >= l2[2]['k1']"
   ]
  },
  {
   "cell_type": "code",
   "execution_count": null,
   "metadata": {},
   "outputs": [],
   "source": [
    "l1[2][0] <l2[2]['k1']"
   ]
  },
  {
   "cell_type": "code",
   "execution_count": null,
   "metadata": {},
   "outputs": [],
   "source": [
    "l1[2][0] == l2[2]"
   ]
  },
  {
   "cell_type": "code",
   "execution_count": null,
   "metadata": {},
   "outputs": [],
   "source": [
    "l1[1] >= l2[1]"
   ]
  },
  {
   "cell_type": "code",
   "execution_count": null,
   "metadata": {},
   "outputs": [],
   "source": [
    "l1[2][0] <= l2[0]"
   ]
  },
  {
   "cell_type": "markdown",
   "metadata": {},
   "source": [
    "### CHANING COMAParisom operator with logical operator\n",
    "\n",
    "    and\n",
    "    or\n",
    "    not"
   ]
  },
  {
   "cell_type": "code",
   "execution_count": null,
   "metadata": {},
   "outputs": [],
   "source": [
    "1<2\n"
   ]
  },
  {
   "cell_type": "code",
   "execution_count": null,
   "metadata": {},
   "outputs": [],
   "source": [
    "2<3 and 5<6"
   ]
  },
  {
   "cell_type": "code",
   "execution_count": null,
   "metadata": {},
   "outputs": [],
   "source": [
    "2>3 or  5<6 3 # ONE IS TRUE THEN GIVES TRUE"
   ]
  },
  {
   "cell_type": "code",
   "execution_count": null,
   "metadata": {},
   "outputs": [],
   "source": [
    "1==1\n"
   ]
  },
  {
   "cell_type": "markdown",
   "metadata": {},
   "source": [
    "### not 1==1 #O OPPOSITE BOOLEAN "
   ]
  },
  {
   "cell_type": "code",
   "execution_count": null,
   "metadata": {},
   "outputs": [],
   "source": [
    "400>500"
   ]
  },
  {
   "cell_type": "code",
   "execution_count": null,
   "metadata": {},
   "outputs": [],
   "source": [
    "not 400>500\n",
    "\n",
    "\n",
    "\n"
   ]
  },
  {
   "cell_type": "markdown",
   "metadata": {},
   "source": [
    "### CONTROL FLOW STATEMENT"
   ]
  },
  {
   "cell_type": "markdown",
   "metadata": {},
   "source": [
    "### IF SOME_CONDITION\n",
    "        EXECUTE SOME CODE\n",
    "    ELIF SOME OTHER CONDITION:\n",
    "        SOMETHING\n",
    "    ELSE:\n",
    "        THEN SOMTHING ELESE"
   ]
  },
  {
   "cell_type": "code",
   "execution_count": null,
   "metadata": {},
   "outputs": [],
   "source": [
    "if  True:\n",
    "    print('its true!')"
   ]
  },
  {
   "cell_type": "code",
   "execution_count": null,
   "metadata": {},
   "outputs": [],
   "source": [
    "if 2>3:\n",
    "    print ('its not true')"
   ]
  },
  {
   "cell_type": "code",
   "execution_count": null,
   "metadata": {},
   "outputs": [],
   "source": [
    "h= False\n",
    "if h:\n",
    "    print('its false')\n",
    "else:\n",
    "    print('false')"
   ]
  },
  {
   "cell_type": "code",
   "execution_count": 299,
   "metadata": {},
   "outputs": [
    {
     "name": "stdout",
     "output_type": "stream",
     "text": [
      "feed me\n"
     ]
    }
   ],
   "source": [
    "hungry= True\n",
    "if hungry == True:\n",
    "    print('feed me')\n",
    "else:\n",
    "    print('Im not hungry')"
   ]
  },
  {
   "cell_type": "code",
   "execution_count": 300,
   "metadata": {},
   "outputs": [
    {
     "name": "stdout",
     "output_type": "stream",
     "text": [
      "Im not hungry\n"
     ]
    }
   ],
   "source": [
    "hungry= False\n",
    "if hungry == True:\n",
    "    print('feed me')\n",
    "else:\n",
    "    print('Im not hungry')"
   ]
  },
  {
   "cell_type": "code",
   "execution_count": null,
   "metadata": {},
   "outputs": [],
   "source": [
    "lo= 'bank'\n",
    "\n",
    "if lo=='shop':\n",
    "    print( 'cars shop')\n",
    "    \n",
    "else:\n",
    "    print('its not a car shop')"
   ]
  },
  {
   "cell_type": "code",
   "execution_count": null,
   "metadata": {},
   "outputs": [],
   "source": [
    "lo= 'bank'\n",
    "\n",
    "if lo=='shop':\n",
    "    print( 'cars shop')\n",
    "\n",
    "elif lo == 'bank':\n",
    "    print('its a bank')\n",
    "elif lo== 'auto':\n",
    "    print('its a auto shop')\n",
    "else:\n",
    "    print('its not a car shop')"
   ]
  },
  {
   "cell_type": "code",
   "execution_count": null,
   "metadata": {},
   "outputs": [],
   "source": [
    "lo= 'shop'\n",
    "\n",
    "if lo=='shop':\n",
    "    print( ' it is a cars shop')\n",
    "\n",
    "elif lo == 'bank':\n",
    "    print('its a bank')\n",
    "elif lo== 'auto':\n",
    "    print('its a auto shop')\n",
    "else:\n",
    "    print('its not a car shop')"
   ]
  },
  {
   "cell_type": "code",
   "execution_count": null,
   "metadata": {},
   "outputs": [],
   "source": [
    "name = 'sam'\n",
    "\n",
    "if name == 'sam':\n",
    "    print ('hey its my name')\n",
    "elif name == 'joy':\n",
    "    print('its joy')\n",
    "else:\n",
    "    print(\"someone\")"
   ]
  },
  {
   "cell_type": "code",
   "execution_count": null,
   "metadata": {},
   "outputs": [],
   "source": [
    "name = 'joy'\n",
    "\n",
    "if name == 'sam':\n",
    "    print ('hey its my name')\n",
    "elif name == 'joy':\n",
    "    print('its joy')\n",
    "else:\n",
    "    print(\"someone\")\n"
   ]
  },
  {
   "cell_type": "markdown",
   "metadata": {},
   "source": [
    "### for loops \n",
    " for iterate over the object and we can perform any operation\n",
    " strings too\n",
    " list is also iterable\n",
    " \n",
    " my_iterable = [1,2,3]\n",
    " \n",
    "     for item_name in my_iterable:\n",
    "     print(item_name)"
   ]
  },
  {
   "cell_type": "code",
   "execution_count": null,
   "metadata": {},
   "outputs": [],
   "source": [
    "lst= [1,2,3,4,5,6,7,8,9,10]\n"
   ]
  },
  {
   "cell_type": "code",
   "execution_count": null,
   "metadata": {},
   "outputs": [],
   "source": [
    " for num in lst:\n",
    "        print(num) #num = numbers"
   ]
  },
  {
   "cell_type": "code",
   "execution_count": null,
   "metadata": {},
   "outputs": [],
   "source": [
    "for i in lst:\n",
    "        print(i)"
   ]
  },
  {
   "cell_type": "code",
   "execution_count": null,
   "metadata": {},
   "outputs": [],
   "source": [
    "for  i in lst:\n",
    "    print(\"this is \")"
   ]
  },
  {
   "cell_type": "code",
   "execution_count": null,
   "metadata": {},
   "outputs": [],
   "source": [
    "for num in lst:\n",
    "    \n",
    "    if num % 2==0:\n",
    "        print(num)\n",
    "    else:\n",
    "        print(f'odd no: {num}')"
   ]
  },
  {
   "cell_type": "code",
   "execution_count": null,
   "metadata": {},
   "outputs": [],
   "source": []
  },
  {
   "cell_type": "code",
   "execution_count": null,
   "metadata": {},
   "outputs": [],
   "source": []
  },
  {
   "cell_type": "code",
   "execution_count": null,
   "metadata": {},
   "outputs": [],
   "source": []
  },
  {
   "cell_type": "code",
   "execution_count": null,
   "metadata": {},
   "outputs": [],
   "source": []
  },
  {
   "cell_type": "code",
   "execution_count": null,
   "metadata": {},
   "outputs": [],
   "source": [
    "lst_sum = 0\n",
    "for i in lst:\n",
    "    lst_sum = lst_sum + i\n",
    "    \n",
    "print(lst_sum) # outsside of loop"
   ]
  },
  {
   "cell_type": "code",
   "execution_count": null,
   "metadata": {},
   "outputs": [],
   "source": [
    "lst_sum = 0\n",
    "for i in lst:\n",
    "    lst_sum = lst_sum + i\n",
    "    \n",
    "    print(lst_sum) # inside of forloop"
   ]
  },
  {
   "cell_type": "code",
   "execution_count": null,
   "metadata": {},
   "outputs": [],
   "source": [
    "# strings are squence  can iteraqte each chars in that string"
   ]
  },
  {
   "cell_type": "code",
   "execution_count": null,
   "metadata": {},
   "outputs": [],
   "source": [
    "mystring = 'hello world'\n",
    "for i in mystring:\n",
    "    print(i)"
   ]
  },
  {
   "cell_type": "code",
   "execution_count": null,
   "metadata": {
    "scrolled": true
   },
   "outputs": [],
   "source": [
    "lst_sum = 0\n",
    "for _ in mystring:\n",
    "    \n",
    "    \n",
    "    print(mystring)"
   ]
  },
  {
   "cell_type": "code",
   "execution_count": null,
   "metadata": {},
   "outputs": [],
   "source": [
    "#tuple\n",
    "tup= (1,2,3)\n",
    "for i in tup:\n",
    "    print(tup)"
   ]
  },
  {
   "cell_type": "code",
   "execution_count": null,
   "metadata": {},
   "outputs": [],
   "source": [
    "tup= (1,2,3)\n",
    "for i in tup:\n",
    "    print(i)"
   ]
  },
  {
   "cell_type": "code",
   "execution_count": null,
   "metadata": {},
   "outputs": [],
   "source": [
    "mylst= [(1,2),(3,4),(5,6),(7,8)]"
   ]
  },
  {
   "cell_type": "code",
   "execution_count": null,
   "metadata": {},
   "outputs": [],
   "source": [
    "len(mylst)"
   ]
  },
  {
   "cell_type": "code",
   "execution_count": null,
   "metadata": {},
   "outputs": [],
   "source": [
    "for i in mylst:\n",
    "    print(i)"
   ]
  },
  {
   "cell_type": "code",
   "execution_count": null,
   "metadata": {},
   "outputs": [],
   "source": [
    "for (a,b) in mylst:\n",
    "    print(a)\n",
    "    print(b) # this is called tuple unpacking of duplicate structure of items"
   ]
  },
  {
   "cell_type": "code",
   "execution_count": null,
   "metadata": {},
   "outputs": [],
   "source": [
    "for a,b in mylst:\n",
    "    print(a)\n",
    "    print(b)"
   ]
  },
  {
   "cell_type": "code",
   "execution_count": null,
   "metadata": {},
   "outputs": [],
   "source": [
    "for a,b in mylst:\n",
    "    print(a)\n",
    "    "
   ]
  },
  {
   "cell_type": "code",
   "execution_count": null,
   "metadata": {},
   "outputs": [],
   "source": [
    "# dictionary\n",
    "d= {'k1':1, 'k2':2,'k3':56}\n",
    "for i in d:\n",
    "    print(d)"
   ]
  },
  {
   "cell_type": "code",
   "execution_count": null,
   "metadata": {},
   "outputs": [],
   "source": [
    "for i in d:\n",
    "    print(i)"
   ]
  },
  {
   "cell_type": "code",
   "execution_count": null,
   "metadata": {},
   "outputs": [],
   "source": [
    "for i in d.items():\n",
    "    print(i)"
   ]
  },
  {
   "cell_type": "code",
   "execution_count": null,
   "metadata": {},
   "outputs": [],
   "source": [
    "for  key,values in d.items():\n",
    "    print(values)"
   ]
  },
  {
   "cell_type": "code",
   "execution_count": null,
   "metadata": {},
   "outputs": [],
   "source": [
    "#in very large dictionaries no garanty is that we will get in order or sortred output"
   ]
  },
  {
   "cell_type": "markdown",
   "metadata": {},
   "source": [
    "### while looop\n",
    "\n",
    "while some boolean _condition:\n",
    "\n",
    "    do something\n",
    "\n",
    "else:\n",
    "    \n",
    "    do something"
   ]
  },
  {
   "cell_type": "code",
   "execution_count": null,
   "metadata": {},
   "outputs": [],
   "source": [
    "\n",
    "x= 0 \n",
    "\n",
    "while x<5:\n",
    "    print (f' the values is :{x}')\n",
    "    x= x+1"
   ]
  },
  {
   "cell_type": "code",
   "execution_count": null,
   "metadata": {},
   "outputs": [],
   "source": [
    "\n",
    "x= 0 \n",
    "\n",
    "while x<5:\n",
    "    print (f' the values is :{x}')\n",
    "    x += 1"
   ]
  },
  {
   "cell_type": "code",
   "execution_count": null,
   "metadata": {},
   "outputs": [],
   "source": [
    "\n",
    "x= 0 \n",
    "\n",
    "while x<5:\n",
    "    print (f' the values is :{x}')\n",
    "    x= x+1\n",
    "    \n",
    "else: \n",
    "    print('the current value less than 5')"
   ]
  },
  {
   "cell_type": "code",
   "execution_count": null,
   "metadata": {},
   "outputs": [],
   "source": [
    "x= 0 \n",
    "\n",
    "while x< 5:\n",
    "    print (f' the values is :{x}')\n",
    "    x= x+1\n",
    "    \n",
    "else: \n",
    "    print('the current value less than 5')"
   ]
  },
  {
   "cell_type": "markdown",
   "metadata": {},
   "source": [
    "##  break - current closet enclosing loop\n",
    "\n",
    "## continue - goes to top of the closet enclosing loop\n",
    "\n",
    "## pass- does  nothing   at all"
   ]
  },
  {
   "cell_type": "code",
   "execution_count": null,
   "metadata": {},
   "outputs": [],
   "source": [
    "x=[1,2,3]\n",
    "for i in x:\n",
    "    # comment\n",
    "    "
   ]
  },
  {
   "cell_type": "code",
   "execution_count": null,
   "metadata": {},
   "outputs": [],
   "source": [
    "x=[1,2,3]\n",
    "for i in x:\n",
    "    # comment\n",
    "    pass\n",
    "\n",
    "print('end of script')\n"
   ]
  },
  {
   "cell_type": "code",
   "execution_count": null,
   "metadata": {},
   "outputs": [],
   "source": [
    "a= 'sammy'\n",
    "for letter in a:\n",
    "    \n",
    "    print(letter)"
   ]
  },
  {
   "cell_type": "code",
   "execution_count": null,
   "metadata": {},
   "outputs": [],
   "source": [
    "a= 'sammy'\n",
    "for letter in a:\n",
    "    if letter == 'a':\n",
    "        continue\n",
    "    print(letter)"
   ]
  },
  {
   "cell_type": "code",
   "execution_count": null,
   "metadata": {},
   "outputs": [],
   "source": [
    "v= 'sammy'\n",
    "for letter in v:\n",
    "    if letter == 'a':\n",
    "        break\n",
    "    print(letter)"
   ]
  },
  {
   "cell_type": "code",
   "execution_count": null,
   "metadata": {},
   "outputs": [],
   "source": [
    "x = 0 \n",
    "while  x <5:\n",
    "    print (x)\n",
    "    x+=1"
   ]
  },
  {
   "cell_type": "code",
   "execution_count": null,
   "metadata": {},
   "outputs": [],
   "source": [
    "x= 0\n",
    "while x<5:\n",
    "    \n",
    "    if x ==3:\n",
    "        break\n",
    "    \n",
    "    print(x)\n",
    "    x= x+1"
   ]
  },
  {
   "cell_type": "markdown",
   "metadata": {},
   "source": [
    "###  operators"
   ]
  },
  {
   "cell_type": "code",
   "execution_count": null,
   "metadata": {},
   "outputs": [],
   "source": [
    "for i in range(10): # rnge operator\n",
    "    print(i)"
   ]
  },
  {
   "cell_type": "code",
   "execution_count": null,
   "metadata": {},
   "outputs": [],
   "source": [
    "for i in range(0,11,2):\n",
    "    print(i)"
   ]
  },
  {
   "cell_type": "code",
   "execution_count": null,
   "metadata": {},
   "outputs": [],
   "source": [
    "# generator\n",
    "list(range(0,11,2))"
   ]
  },
  {
   "cell_type": "code",
   "execution_count": null,
   "metadata": {},
   "outputs": [],
   "source": [
    "index_count=0\n",
    "for i in 'abwfwhf':\n",
    "    print('at index{} the letter is {}'.format(index_count, i))\n",
    "\n",
    "    index_count +=1"
   ]
  },
  {
   "cell_type": "code",
   "execution_count": null,
   "metadata": {},
   "outputs": [],
   "source": [
    "index_count=0\n",
    "word = 'abcdef'\n",
    "\n",
    "for i in word:\n",
    "    print(word[index_count])\n",
    "    index_count+=1"
   ]
  },
  {
   "cell_type": "code",
   "execution_count": null,
   "metadata": {},
   "outputs": [],
   "source": [
    "#enumarate function can it can take in any iterable object and what it does it ist return\n",
    "index_count=0\n",
    "word = 'abcdef'\n",
    "\n",
    "for i in  enumerate(word):\n",
    "    print(i)\n",
    "    "
   ]
  },
  {
   "cell_type": "code",
   "execution_count": null,
   "metadata": {},
   "outputs": [],
   "source": [
    "index_count=0\n",
    "word = 'abcdef'\n",
    "\n",
    "for index, i in  enumerate(word):\n",
    "    print(index)\n",
    "    print(i)\n",
    "    print(\"\\n\")"
   ]
  },
  {
   "cell_type": "code",
   "execution_count": null,
   "metadata": {},
   "outputs": [],
   "source": [
    "#zip function\n",
    "myls= [1,2,3,4,5]\n",
    "m2= ['a','b','c']\n",
    "zip(myls, m2)"
   ]
  },
  {
   "cell_type": "code",
   "execution_count": null,
   "metadata": {},
   "outputs": [],
   "source": [
    "for i in zip(myls, m2):\n",
    "    print(i)# the items  pair up  and match together  with tuples too"
   ]
  },
  {
   "cell_type": "code",
   "execution_count": null,
   "metadata": {},
   "outputs": [],
   "source": [
    "#zip function\n",
    "myls= [1,2,3,4,5]\n",
    "m2= ['a','b','c']\n",
    "m3= [500,5,66,69,78,54]\n",
    "zip(myls, m2,m3)"
   ]
  },
  {
   "cell_type": "code",
   "execution_count": null,
   "metadata": {},
   "outputs": [],
   "source": [
    "for i in zip(myls, m2, m3):\n",
    "    print(i) # MATCH AND INGORE THE OTHER ITEm"
   ]
  },
  {
   "cell_type": "code",
   "execution_count": null,
   "metadata": {},
   "outputs": [],
   "source": [
    "list(zip(m2,m3))"
   ]
  },
  {
   "cell_type": "markdown",
   "metadata": {},
   "source": [
    "###  list comprehenstion \n"
   ]
  },
  {
   "cell_type": "code",
   "execution_count": null,
   "metadata": {},
   "outputs": [],
   "source": [
    "l= 'hello'"
   ]
  },
  {
   "cell_type": "code",
   "execution_count": null,
   "metadata": {},
   "outputs": [],
   "source": [
    "l1=[]"
   ]
  },
  {
   "cell_type": "code",
   "execution_count": null,
   "metadata": {},
   "outputs": [],
   "source": [
    "for i in l:\n",
    "    l1.append(i)"
   ]
  },
  {
   "cell_type": "code",
   "execution_count": null,
   "metadata": {},
   "outputs": [],
   "source": [
    "l1"
   ]
  },
  {
   "cell_type": "code",
   "execution_count": null,
   "metadata": {},
   "outputs": [],
   "source": [
    "l1= [i for i in l]\n",
    "    "
   ]
  },
  {
   "cell_type": "code",
   "execution_count": null,
   "metadata": {},
   "outputs": [],
   "source": [
    "l1"
   ]
  },
  {
   "cell_type": "code",
   "execution_count": null,
   "metadata": {},
   "outputs": [],
   "source": [
    "mylist=  [x for x in 'word']"
   ]
  },
  {
   "cell_type": "code",
   "execution_count": null,
   "metadata": {},
   "outputs": [],
   "source": [
    "mylist"
   ]
  },
  {
   "cell_type": "code",
   "execution_count": null,
   "metadata": {},
   "outputs": [],
   "source": [
    "ls = [num for num in range(0,11)]"
   ]
  },
  {
   "cell_type": "code",
   "execution_count": null,
   "metadata": {},
   "outputs": [],
   "source": [
    "ls"
   ]
  },
  {
   "cell_type": "code",
   "execution_count": null,
   "metadata": {},
   "outputs": [],
   "source": [
    "l2= [num**2 for num in range(0,11)]\n",
    "l2"
   ]
  },
  {
   "cell_type": "code",
   "execution_count": null,
   "metadata": {},
   "outputs": [],
   "source": [
    "o= [x for x in range(0,11) if x%2==0]\n",
    "o\n"
   ]
  },
  {
   "cell_type": "code",
   "execution_count": null,
   "metadata": {},
   "outputs": [],
   "source": [
    "celcius= [0,10,20,35]\n",
    "fahrenheit= [((9/5)* temp+32) for temp in celcius]\n",
    "fahrenheit"
   ]
  },
  {
   "cell_type": "markdown",
   "metadata": {},
   "source": [
    "####  nested loop"
   ]
  },
  {
   "cell_type": "code",
   "execution_count": null,
   "metadata": {},
   "outputs": [],
   "source": [
    "li= []\n",
    "for i in [1,54,78,9]:\n",
    "    for y in [2,3,6,9]:\n",
    "        li.append(i *y)\n",
    "li"
   ]
  },
  {
   "cell_type": "code",
   "execution_count": null,
   "metadata": {},
   "outputs": [],
   "source": [
    "lo= [x*y for x in [4,6,78] for y in [1,5,6]]\n",
    "lo"
   ]
  },
  {
   "cell_type": "markdown",
   "metadata": {},
   "source": [
    "### function\n",
    "    \n",
    "    def name_of_function(name):\n",
    "    \n",
    "    docstrings explains functions\n",
    "    print()\n",
    "    \n",
    "naame_of_function\n",
    "\n",
    "output\n",
    "\n",
    "any\n",
    "\n",
    "function allows us to create block ofcodes that can eaily executed many times without needing to constantly rewrite the entire code\n"
   ]
  },
  {
   "cell_type": "code",
   "execution_count": null,
   "metadata": {},
   "outputs": [],
   "source": [
    "def name_function():\n",
    "    print('hello')\n",
    "name_function()"
   ]
  },
  {
   "cell_type": "code",
   "execution_count": null,
   "metadata": {},
   "outputs": [],
   "source": [
    "help(name_function)"
   ]
  },
  {
   "cell_type": "code",
   "execution_count": 88,
   "metadata": {},
   "outputs": [
    {
     "name": "stdout",
     "output_type": "stream",
     "text": [
      "hello\n"
     ]
    }
   ],
   "source": [
    "def name_function():\n",
    "    '''\n",
    "    docstrings : information about the function \n",
    "    input : name\n",
    "    output:  hello\n",
    "    '''\n",
    "    print(\"hello\")\n",
    "\n",
    "name_function()\n",
    "    \n",
    "#future people need to understand yourfunction thats is why we need docstrings"
   ]
  },
  {
   "cell_type": "code",
   "execution_count": 90,
   "metadata": {},
   "outputs": [
    {
     "name": "stdout",
     "output_type": "stream",
     "text": [
      "hello ankit\n"
     ]
    }
   ],
   "source": [
    "def say_hello(name):\n",
    "    print('hello'+ name)\n",
    "say_hello(' ankit')"
   ]
  },
  {
   "cell_type": "code",
   "execution_count": 93,
   "metadata": {},
   "outputs": [
    {
     "name": "stdout",
     "output_type": "stream",
     "text": [
      "hello name\n"
     ]
    }
   ],
   "source": [
    "def say_hello(name = ' name'): #default one 'name'\n",
    "    print('hello'+ name)\n",
    "say_hello()"
   ]
  },
  {
   "cell_type": "code",
   "execution_count": 95,
   "metadata": {},
   "outputs": [
    {
     "data": {
      "text/plain": [
       "'hello ankit'"
      ]
     },
     "execution_count": 95,
     "metadata": {},
     "output_type": "execute_result"
    }
   ],
   "source": [
    "def say_hello(name):\n",
    "    return ('hello'+ name)\n",
    "say_hello(' ankit')"
   ]
  },
  {
   "cell_type": "code",
   "execution_count": 97,
   "metadata": {},
   "outputs": [
    {
     "data": {
      "text/plain": [
       "'hello sanket'"
      ]
     },
     "execution_count": 97,
     "metadata": {},
     "output_type": "execute_result"
    }
   ],
   "source": [
    "def say_hello(name):\n",
    "    return ('hello'+ name)\n",
    "r = say_hello(' sanket')\n",
    "r"
   ]
  },
  {
   "cell_type": "code",
   "execution_count": 102,
   "metadata": {},
   "outputs": [],
   "source": [
    "def add(n1, n2):\n",
    "    return n1+n2\n",
    "\n"
   ]
  },
  {
   "cell_type": "code",
   "execution_count": 105,
   "metadata": {},
   "outputs": [
    {
     "data": {
      "text/plain": [
       "50"
      ]
     },
     "execution_count": 105,
     "metadata": {},
     "output_type": "execute_result"
    }
   ],
   "source": [
    "a= add(20,30)\n",
    "a"
   ]
  },
  {
   "cell_type": "code",
   "execution_count": 108,
   "metadata": {},
   "outputs": [
    {
     "data": {
      "text/plain": [
       "True"
      ]
     },
     "execution_count": 108,
     "metadata": {},
     "output_type": "execute_result"
    }
   ],
   "source": [
    "def dog(string):\n",
    "    if \"dog\" in string:\n",
    "        return True\n",
    "    else:\n",
    "        return False\n",
    "\n",
    "dog('dog run away')"
   ]
  },
  {
   "cell_type": "code",
   "execution_count": 110,
   "metadata": {},
   "outputs": [
    {
     "data": {
      "text/plain": [
       "False"
      ]
     },
     "execution_count": 110,
     "metadata": {},
     "output_type": "execute_result"
    }
   ],
   "source": [
    "def dog(string):\n",
    "    if \"dog\" in string:\n",
    "        return True\n",
    "    else:\n",
    "        return False\n",
    "\n",
    "dog('cat run away')"
   ]
  },
  {
   "cell_type": "code",
   "execution_count": 111,
   "metadata": {},
   "outputs": [
    {
     "data": {
      "text/plain": [
       "True"
      ]
     },
     "execution_count": 111,
     "metadata": {},
     "output_type": "execute_result"
    }
   ],
   "source": [
    "def dog(string):\n",
    "    if \"dog\" in string.lower():\n",
    "        return True\n",
    "    else:\n",
    "        return False\n",
    "\n",
    "dog('Dog run away')"
   ]
  },
  {
   "cell_type": "code",
   "execution_count": 113,
   "metadata": {},
   "outputs": [
    {
     "data": {
      "text/plain": [
       "True"
      ]
     },
     "execution_count": 113,
     "metadata": {},
     "output_type": "execute_result"
    }
   ],
   "source": [
    "def dog (string):\n",
    "    return 'dog' in string.lower()\n",
    "dog('dog ran')"
   ]
  },
  {
   "cell_type": "code",
   "execution_count": 116,
   "metadata": {},
   "outputs": [
    {
     "data": {
      "text/plain": [
       "'appleay'"
      ]
     },
     "execution_count": 116,
     "metadata": {},
     "output_type": "execute_result"
    }
   ],
   "source": [
    "# pig latin\n",
    "\n",
    "def pig(word):\n",
    "    first_letter= word[0]\n",
    "    # chekc if vovel \n",
    "    if first_letter in 'aeiou':\n",
    "        pig_word=  word +'ay'\n",
    "    else:\n",
    "        pig_word = word[1:] +first_letter +'ay'\n",
    "        \n",
    "    return pig_word\n",
    "pig('apple')"
   ]
  },
  {
   "cell_type": "code",
   "execution_count": 117,
   "metadata": {},
   "outputs": [
    {
     "data": {
      "text/plain": [
       "'ananabay'"
      ]
     },
     "execution_count": 117,
     "metadata": {},
     "output_type": "execute_result"
    }
   ],
   "source": [
    "# pig latin\n",
    "\n",
    "def pig(word):\n",
    "    first_letter= word[0]\n",
    "    # chekc if vovel \n",
    "    if first_letter in 'aeiou':\n",
    "        pig_word=  word +'ay'\n",
    "    else:\n",
    "        pig_word = word[1:] +first_letter +'ay'\n",
    "        \n",
    "    return pig_word\n",
    "pig('banana')"
   ]
  },
  {
   "cell_type": "code",
   "execution_count": 121,
   "metadata": {},
   "outputs": [
    {
     "data": {
      "text/plain": [
       "20"
      ]
     },
     "execution_count": 121,
     "metadata": {},
     "output_type": "execute_result"
    }
   ],
   "source": [
    "def add(a,b,c,d,e):\n",
    "    return a+b+c+d+e\n",
    "add(8,2,3,0,7)"
   ]
  },
  {
   "cell_type": "code",
   "execution_count": 123,
   "metadata": {},
   "outputs": [
    {
     "data": {
      "text/plain": [
       "3150"
      ]
     },
     "execution_count": 123,
     "metadata": {},
     "output_type": "execute_result"
    }
   ],
   "source": [
    "#Write a Python function to multiply all the numbers in a list.\n",
    "def mul(q,w,e,r,t):\n",
    "    return q*w*e*r*t\n",
    "mul(2,5,5,9,7)"
   ]
  },
  {
   "cell_type": "code",
   "execution_count": 125,
   "metadata": {},
   "outputs": [
    {
     "data": {
      "text/plain": [
       "'dpjdjodjas'"
      ]
     },
     "execution_count": 125,
     "metadata": {},
     "output_type": "execute_result"
    }
   ],
   "source": [
    "#reverse strings\n",
    "def rev(s):\n",
    "    \n",
    "    s1 = ''.join(reversed(s))\n",
    "    return s1\n",
    "rev(\"sajdojdjpd\")"
   ]
  },
  {
   "cell_type": "code",
   "execution_count": 141,
   "metadata": {},
   "outputs": [
    {
     "data": {
      "text/plain": [
       "-5"
      ]
     },
     "execution_count": 141,
     "metadata": {},
     "output_type": "execute_result"
    }
   ],
   "source": [
    "def fact(n):\n",
    "    if n==1:\n",
    "        return n\n",
    "    elif n<= -1:\n",
    "        return n\n",
    "    else:\n",
    "    \n",
    "        return n*fact(n-1)\n",
    "fact(-5)"
   ]
  },
  {
   "cell_type": "markdown",
   "metadata": {},
   "source": [
    "###  arg and Kargs\n"
   ]
  },
  {
   "cell_type": "code",
   "execution_count": 4,
   "metadata": {},
   "outputs": [],
   "source": [
    "def myfun(a,b):\n",
    "    return sum((a,b))* 0.05 \n"
   ]
  },
  {
   "cell_type": "code",
   "execution_count": 5,
   "metadata": {},
   "outputs": [
    {
     "data": {
      "text/plain": [
       "5.0"
      ]
     },
     "execution_count": 5,
     "metadata": {},
     "output_type": "execute_result"
    }
   ],
   "source": [
    "myfun(40,60) #a and b are positonal arugments"
   ]
  },
  {
   "cell_type": "code",
   "execution_count": 8,
   "metadata": {},
   "outputs": [],
   "source": [
    " def myfub(a,b,c=0,d=0):\n",
    "        return sum((a,b,c,d)) *0.05\n"
   ]
  },
  {
   "cell_type": "code",
   "execution_count": 10,
   "metadata": {},
   "outputs": [
    {
     "data": {
      "text/plain": [
       "3.0"
      ]
     },
     "execution_count": 10,
     "metadata": {},
     "output_type": "execute_result"
    }
   ],
   "source": [
    "myfub(10,10,30,10)"
   ]
  },
  {
   "cell_type": "code",
   "execution_count": null,
   "metadata": {},
   "outputs": [],
   "source": [
    "# * args treat as tuple"
   ]
  },
  {
   "cell_type": "code",
   "execution_count": 12,
   "metadata": {},
   "outputs": [
    {
     "data": {
      "text/plain": [
       "240"
      ]
     },
     "execution_count": 12,
     "metadata": {},
     "output_type": "execute_result"
    }
   ],
   "source": [
    "def my (*args):\n",
    "    return sum((args))\n",
    "my(50,20,60,54,56)"
   ]
  },
  {
   "cell_type": "code",
   "execution_count": 14,
   "metadata": {},
   "outputs": [
    {
     "ename": "TypeError",
     "evalue": "my() takes 0 positional arguments but 5 were given",
     "output_type": "error",
     "traceback": [
      "\u001b[0;31m---------------------------------------------------------------------------\u001b[0m",
      "\u001b[0;31mTypeError\u001b[0m                                 Traceback (most recent call last)",
      "\u001b[0;32m<ipython-input-14-79611f82982e>\u001b[0m in \u001b[0;36m<module>\u001b[0;34m\u001b[0m\n\u001b[1;32m      1\u001b[0m \u001b[0;32mdef\u001b[0m \u001b[0mmy\u001b[0m \u001b[0;34m(\u001b[0m\u001b[0;34m**\u001b[0m\u001b[0mkargs\u001b[0m\u001b[0;34m)\u001b[0m\u001b[0;34m:\u001b[0m\u001b[0;34m\u001b[0m\u001b[0;34m\u001b[0m\u001b[0m\n\u001b[1;32m      2\u001b[0m     \u001b[0;32mreturn\u001b[0m \u001b[0msum\u001b[0m\u001b[0;34m(\u001b[0m\u001b[0;34m(\u001b[0m\u001b[0mkargs\u001b[0m\u001b[0;34m)\u001b[0m\u001b[0;34m)\u001b[0m\u001b[0;34m\u001b[0m\u001b[0;34m\u001b[0m\u001b[0m\n\u001b[0;32m----> 3\u001b[0;31m \u001b[0mmy\u001b[0m\u001b[0;34m(\u001b[0m\u001b[0;36m50\u001b[0m\u001b[0;34m,\u001b[0m\u001b[0;36m20\u001b[0m\u001b[0;34m,\u001b[0m\u001b[0;36m60\u001b[0m\u001b[0;34m,\u001b[0m\u001b[0;36m54\u001b[0m\u001b[0;34m,\u001b[0m\u001b[0;36m56\u001b[0m\u001b[0;34m)\u001b[0m\u001b[0;34m\u001b[0m\u001b[0;34m\u001b[0m\u001b[0m\n\u001b[0m",
      "\u001b[0;31mTypeError\u001b[0m: my() takes 0 positional arguments but 5 were given"
     ]
    }
   ],
   "source": [
    "def my (*args):\n",
    "    return sum((args))\n",
    "my(50,20,60,54,56)"
   ]
  },
  {
   "cell_type": "code",
   "execution_count": 25,
   "metadata": {},
   "outputs": [],
   "source": [
    "def myfun(**kargs):# k args is arbbitary choice\n",
    "    if \"fruit\" in kargs:\n",
    "        print('my fruit   choice is {}'.format(kargs['fruit']))\n",
    "    else:\n",
    "        print( 'i did not find any fruit')"
   ]
  },
  {
   "cell_type": "code",
   "execution_count": 27,
   "metadata": {},
   "outputs": [
    {
     "name": "stdout",
     "output_type": "stream",
     "text": [
      "i did not find any fruit\n"
     ]
    }
   ],
   "source": [
    "myfun( veggi= \"letuce\")"
   ]
  },
  {
   "cell_type": "code",
   "execution_count": 24,
   "metadata": {},
   "outputs": [
    {
     "name": "stdout",
     "output_type": "stream",
     "text": [
      "my fruit   choic isapple\n"
     ]
    }
   ],
   "source": [
    "myfun(fruit='apple')"
   ]
  },
  {
   "cell_type": "code",
   "execution_count": 26,
   "metadata": {},
   "outputs": [
    {
     "name": "stdout",
     "output_type": "stream",
     "text": [
      "my fruit   choice is apple\n"
     ]
    }
   ],
   "source": [
    "myfun(fruit='apple', veggi= \"letuce\")"
   ]
  },
  {
   "cell_type": "code",
   "execution_count": 34,
   "metadata": {},
   "outputs": [],
   "source": [
    "def fun(*args, **kargs):\n",
    "    print (args)\n",
    "    print(kargs)\n",
    "    print('i would like {} {}'.format(args[0], kargs['food']))"
   ]
  },
  {
   "cell_type": "code",
   "execution_count": 35,
   "metadata": {},
   "outputs": [
    {
     "name": "stdout",
     "output_type": "stream",
     "text": [
      "(10, 10, 20, 20)\n",
      "{'fruit': 'orange', 'food': 'eggs'}\n",
      "i would like 10 eggs\n"
     ]
    }
   ],
   "source": [
    "fun(10,10,20,20, fruit= 'orange', food = 'eggs')"
   ]
  },
  {
   "cell_type": "code",
   "execution_count": null,
   "metadata": {},
   "outputs": [],
   "source": [
    "# if called my func or fun without aruments then it will give an  error"
   ]
  },
  {
   "cell_type": "code",
   "execution_count": 40,
   "metadata": {},
   "outputs": [],
   "source": [
    "def myfunc(*args):\n",
    "    result=[]\n",
    "    \n",
    "    for i in args:\n",
    "        if i%2==0:\n",
    "            result.append(i)\n",
    "    return result"
   ]
  },
  {
   "cell_type": "code",
   "execution_count": 42,
   "metadata": {},
   "outputs": [
    {
     "data": {
      "text/plain": [
       "[2, 4, 6, 8, 78]"
      ]
     },
     "execution_count": 42,
     "metadata": {},
     "output_type": "execute_result"
    }
   ],
   "source": [
    "myfunc(1,2,3,4,5,6,7,8,78)\n"
   ]
  },
  {
   "cell_type": "code",
   "execution_count": 59,
   "metadata": {},
   "outputs": [],
   "source": [
    "def myfunc(words):\n",
    "    results = ''\n",
    "    for i in range (len(words)):\n",
    "        if i %2==0:\n",
    "            results += words[i].lower()\n",
    "        else:\n",
    "            results += words[i].upper()\n",
    "    return results"
   ]
  },
  {
   "cell_type": "code",
   "execution_count": 60,
   "metadata": {},
   "outputs": [
    {
     "data": {
      "text/plain": [
       "'oJdCoAdJaDjDoIa'"
      ]
     },
     "execution_count": 60,
     "metadata": {},
     "output_type": "execute_result"
    }
   ],
   "source": [
    "myfunc(\"ojdcoadjadjdoia\")"
   ]
  },
  {
   "cell_type": "code",
   "execution_count": null,
   "metadata": {},
   "outputs": [],
   "source": [
    "def myfunc(word):\n",
    " \n",
    "    result = ''\n",
    " \n",
    "    for i in range(len(word)):\n",
    " \n",
    "        if i%2==0:\n",
    " \n",
    "            result += word[i].lower()\n",
    " \n",
    "        else:\n",
    " \n",
    "            result += word[i].upper()\n",
    " \n",
    "    return result"
   ]
  },
  {
   "cell_type": "markdown",
   "metadata": {},
   "source": [
    "### function practice"
   ]
  },
  {
   "cell_type": "code",
   "execution_count": 8,
   "metadata": {},
   "outputs": [],
   "source": [
    "def cap(name):\n",
    "    a= name[0:3].capitalize()\n",
    "    b= name[3:].capitalize()\n",
    "    return a+b\n"
   ]
  },
  {
   "cell_type": "code",
   "execution_count": 9,
   "metadata": {},
   "outputs": [
    {
     "data": {
      "text/plain": [
       "'MacDonald'"
      ]
     },
     "execution_count": 9,
     "metadata": {},
     "output_type": "execute_result"
    }
   ],
   "source": [
    "cap(\"macdonald\")"
   ]
  },
  {
   "cell_type": "code",
   "execution_count": 11,
   "metadata": {},
   "outputs": [],
   "source": [
    "def mac(name):\n",
    "    \n",
    "    first= name[0]\n",
    "    inbet= name[1:3]\n",
    "    four=name[3]\n",
    "    res= name[3:]\n",
    "    \n",
    "    return first.upper()+inbet+four.upper()+res"
   ]
  },
  {
   "cell_type": "code",
   "execution_count": 12,
   "metadata": {},
   "outputs": [
    {
     "data": {
      "text/plain": [
       "'MacDonald'"
      ]
     },
     "execution_count": 12,
     "metadata": {},
     "output_type": "execute_result"
    }
   ],
   "source": [
    "cap(\"macdonald\")\n"
   ]
  },
  {
   "cell_type": "code",
   "execution_count": 13,
   "metadata": {},
   "outputs": [],
   "source": [
    "def rev(text):\n",
    "    s= text.split()\n",
    "    r= s[::-1]\n",
    "    return r"
   ]
  },
  {
   "cell_type": "code",
   "execution_count": 15,
   "metadata": {},
   "outputs": [
    {
     "data": {
      "text/plain": [
       "['begin', 'the', 'is', 'this']"
      ]
     },
     "execution_count": 15,
     "metadata": {},
     "output_type": "execute_result"
    }
   ],
   "source": [
    "rev(\"this is the begin\")"
   ]
  },
  {
   "cell_type": "code",
   "execution_count": 16,
   "metadata": {},
   "outputs": [],
   "source": [
    "l= ['a','b','f']\n"
   ]
  },
  {
   "cell_type": "code",
   "execution_count": 18,
   "metadata": {},
   "outputs": [
    {
     "data": {
      "text/plain": [
       "'aooooooobooooooof'"
      ]
     },
     "execution_count": 18,
     "metadata": {},
     "output_type": "execute_result"
    }
   ],
   "source": [
    "'ooooooo'.join(l)"
   ]
  },
  {
   "cell_type": "code",
   "execution_count": 24,
   "metadata": {},
   "outputs": [],
   "source": [
    "def  there(n):\n",
    "    \n",
    "      return (abs(100-n)<=10 )or (abs(200-n)<=10)\n",
    "  "
   ]
  },
  {
   "cell_type": "code",
   "execution_count": 26,
   "metadata": {},
   "outputs": [
    {
     "data": {
      "text/plain": [
       "False"
      ]
     },
     "execution_count": 26,
     "metadata": {},
     "output_type": "execute_result"
    }
   ],
   "source": [
    "there(250)"
   ]
  },
  {
   "cell_type": "code",
   "execution_count": 40,
   "metadata": {},
   "outputs": [],
   "source": [
    "def  n(nums):\n",
    "    for i in range(0,len(nums)-1):\n",
    "        if nums[i] ==3 and nums[i+1]==3:\n",
    "            return True\n",
    "    return False"
   ]
  },
  {
   "cell_type": "code",
   "execution_count": 41,
   "metadata": {},
   "outputs": [
    {
     "data": {
      "text/plain": [
       "True"
      ]
     },
     "execution_count": 41,
     "metadata": {},
     "output_type": "execute_result"
    }
   ],
   "source": [
    "n([2,3,4,4,5,3,3,3,3,3])"
   ]
  },
  {
   "cell_type": "code",
   "execution_count": 42,
   "metadata": {},
   "outputs": [
    {
     "data": {
      "text/plain": [
       "False"
      ]
     },
     "execution_count": 42,
     "metadata": {},
     "output_type": "execute_result"
    }
   ],
   "source": [
    "n([2,3,4,4,5])"
   ]
  },
  {
   "cell_type": "code",
   "execution_count": 47,
   "metadata": {},
   "outputs": [],
   "source": [
    "def n (nums):\n",
    "    \n",
    "    for i in nums:\n",
    "        \n",
    "        if nums[i:i+2]==[3,3]:\n",
    "            return True\n",
    "    return False"
   ]
  },
  {
   "cell_type": "code",
   "execution_count": 48,
   "metadata": {},
   "outputs": [
    {
     "data": {
      "text/plain": [
       "False"
      ]
     },
     "execution_count": 48,
     "metadata": {},
     "output_type": "execute_result"
    }
   ],
   "source": [
    "n([2,3,4,4,5])"
   ]
  },
  {
   "cell_type": "code",
   "execution_count": 66,
   "metadata": {},
   "outputs": [],
   "source": [
    "def rep(text):\n",
    "    \n",
    "    r= ' '\n",
    "    \n",
    "    for char in text:\n",
    "        \n",
    "        r += char*3\n",
    "        \n",
    "    return r\n",
    "        "
   ]
  },
  {
   "cell_type": "code",
   "execution_count": 67,
   "metadata": {},
   "outputs": [
    {
     "data": {
      "text/plain": [
       "' aaannnkkkiiittt'"
      ]
     },
     "execution_count": 67,
     "metadata": {},
     "output_type": "execute_result"
    }
   ],
   "source": [
    "rep('ankit')"
   ]
  },
  {
   "cell_type": "code",
   "execution_count": 68,
   "metadata": {},
   "outputs": [],
   "source": [
    "def blackjack(a,b,c):\n",
    "    \n",
    "    if sum([a,b,c]) <= 21:\n",
    "        return sum([a,b,c])\n",
    "    elif 11 in [a,b,c] and sum([a,b,c])<=31:\n",
    "        return sum([a,b,c])-10\n",
    "    else:\n",
    "        return \"bust\""
   ]
  },
  {
   "cell_type": "code",
   "execution_count": 69,
   "metadata": {},
   "outputs": [
    {
     "data": {
      "text/plain": [
       "21"
      ]
     },
     "execution_count": 69,
     "metadata": {},
     "output_type": "execute_result"
    }
   ],
   "source": [
    "blackjack(5,7,9)"
   ]
  },
  {
   "cell_type": "code",
   "execution_count": 71,
   "metadata": {},
   "outputs": [
    {
     "data": {
      "text/plain": [
       "18"
      ]
     },
     "execution_count": 71,
     "metadata": {},
     "output_type": "execute_result"
    }
   ],
   "source": [
    "blackjack(5,6,7)"
   ]
  },
  {
   "cell_type": "code",
   "execution_count": 72,
   "metadata": {},
   "outputs": [
    {
     "data": {
      "text/plain": [
       "19"
      ]
     },
     "execution_count": 72,
     "metadata": {},
     "output_type": "execute_result"
    }
   ],
   "source": [
    "blackjack(9,9,11)"
   ]
  },
  {
   "cell_type": "code",
   "execution_count": 73,
   "metadata": {},
   "outputs": [],
   "source": [
    "def sume(nums):\n",
    "    total = 0 \n",
    "    add =True\n",
    "    \n",
    "    for i in nums:\n",
    "        while add:\n",
    "            if i!=6:\n",
    "                total += i\n",
    "                break\n",
    "            else:\n",
    "                add= True\n",
    "                \n",
    "        while not add:\n",
    "            if i!=9:\n",
    "                  break\n",
    "            else:\n",
    "                add= True\n",
    "                break\n",
    "    return total"
   ]
  },
  {
   "cell_type": "code",
   "execution_count": null,
   "metadata": {},
   "outputs": [],
   "source": [
    "sume([2,3,6,9,7,8,8])"
   ]
  },
  {
   "cell_type": "markdown",
   "metadata": {},
   "source": [
    "###  Lmabda and map function and filter"
   ]
  },
  {
   "cell_type": "code",
   "execution_count": 3,
   "metadata": {},
   "outputs": [],
   "source": [
    "def sq(num):\n",
    "    return num**2\n"
   ]
  },
  {
   "cell_type": "code",
   "execution_count": 4,
   "metadata": {},
   "outputs": [],
   "source": [
    "n=[1,2,3,4,5]"
   ]
  },
  {
   "cell_type": "code",
   "execution_count": 7,
   "metadata": {},
   "outputs": [
    {
     "name": "stdout",
     "output_type": "stream",
     "text": [
      "1\n",
      "4\n",
      "9\n",
      "16\n",
      "25\n"
     ]
    }
   ],
   "source": [
    "for i in map(sq, n):\n",
    "    print (i)"
   ]
  },
  {
   "cell_type": "code",
   "execution_count": 8,
   "metadata": {},
   "outputs": [
    {
     "data": {
      "text/plain": [
       "[1, 4, 9, 16, 25]"
      ]
     },
     "execution_count": 8,
     "metadata": {},
     "output_type": "execute_result"
    }
   ],
   "source": [
    "list(map(sq, n))"
   ]
  },
  {
   "cell_type": "code",
   "execution_count": null,
   "metadata": {},
   "outputs": [],
   "source": [
    "#an annoymoust function\n"
   ]
  },
  {
   "cell_type": "code",
   "execution_count": 12,
   "metadata": {},
   "outputs": [],
   "source": [
    "def spl(string):\n",
    "    if len(string)%2==0:\n",
    "        return 'even'\n",
    "    else:\n",
    "        return string\n",
    "    "
   ]
  },
  {
   "cell_type": "code",
   "execution_count": 15,
   "metadata": {},
   "outputs": [],
   "source": [
    "n=['andy', 'sandy', 'mandyi']\n"
   ]
  },
  {
   "cell_type": "code",
   "execution_count": 16,
   "metadata": {},
   "outputs": [
    {
     "data": {
      "text/plain": [
       "['even', 'sandy', 'even']"
      ]
     },
     "execution_count": 16,
     "metadata": {},
     "output_type": "execute_result"
    }
   ],
   "source": [
    "list(map(spl,n))"
   ]
  },
  {
   "cell_type": "code",
   "execution_count": 18,
   "metadata": {},
   "outputs": [],
   "source": [
    "def check(num):\n",
    "    return num%2==0\n",
    "    "
   ]
  },
  {
   "cell_type": "code",
   "execution_count": 20,
   "metadata": {},
   "outputs": [],
   "source": [
    "nq= [2,4,5,6,7,89,9,0,6,5,434,4,5]"
   ]
  },
  {
   "cell_type": "code",
   "execution_count": 21,
   "metadata": {},
   "outputs": [
    {
     "data": {
      "text/plain": [
       "<filter at 0x7fd4f86fa630>"
      ]
     },
     "execution_count": 21,
     "metadata": {},
     "output_type": "execute_result"
    }
   ],
   "source": [
    "filter(check, nq)"
   ]
  },
  {
   "cell_type": "code",
   "execution_count": 23,
   "metadata": {},
   "outputs": [
    {
     "data": {
      "text/plain": [
       "[2, 4, 6, 0, 6, 434, 4]"
      ]
     },
     "execution_count": 23,
     "metadata": {},
     "output_type": "execute_result"
    }
   ],
   "source": [
    "list(filter(check, nq))\n"
   ]
  },
  {
   "cell_type": "code",
   "execution_count": 24,
   "metadata": {},
   "outputs": [],
   "source": [
    "def sqt(num):\n",
    "    return num**2"
   ]
  },
  {
   "cell_type": "code",
   "execution_count": 28,
   "metadata": {},
   "outputs": [
    {
     "data": {
      "text/plain": [
       "9"
      ]
     },
     "execution_count": 28,
     "metadata": {},
     "output_type": "execute_result"
    }
   ],
   "source": [
    "sqt(3)"
   ]
  },
  {
   "cell_type": "code",
   "execution_count": 31,
   "metadata": {},
   "outputs": [],
   "source": [
    "um = lambda num: num**2"
   ]
  },
  {
   "cell_type": "code",
   "execution_count": 34,
   "metadata": {},
   "outputs": [
    {
     "data": {
      "text/plain": [
       "81"
      ]
     },
     "execution_count": 34,
     "metadata": {},
     "output_type": "execute_result"
    }
   ],
   "source": [
    "um(9)"
   ]
  },
  {
   "cell_type": "code",
   "execution_count": 38,
   "metadata": {},
   "outputs": [
    {
     "data": {
      "text/plain": [
       "[2, 4, 6, 0, 6, 434, 4]"
      ]
     },
     "execution_count": 38,
     "metadata": {},
     "output_type": "execute_result"
    }
   ],
   "source": [
    "list(filter(lambda num:num%2 ==0, nq)) # even no"
   ]
  },
  {
   "cell_type": "code",
   "execution_count": 39,
   "metadata": {},
   "outputs": [
    {
     "data": {
      "text/plain": [
       "['andy', 'sandy', 'mandyi']"
      ]
     },
     "execution_count": 39,
     "metadata": {},
     "output_type": "execute_result"
    }
   ],
   "source": [
    "n"
   ]
  },
  {
   "cell_type": "code",
   "execution_count": 43,
   "metadata": {},
   "outputs": [
    {
     "data": {
      "text/plain": [
       "['a', 's', 'm']"
      ]
     },
     "execution_count": 43,
     "metadata": {},
     "output_type": "execute_result"
    }
   ],
   "source": [
    "list(map(lambda x:x[0],n))"
   ]
  },
  {
   "cell_type": "code",
   "execution_count": 46,
   "metadata": {},
   "outputs": [
    {
     "data": {
      "text/plain": [
       "['YDNA', 'YDNAS', 'IYDNAM']"
      ]
     },
     "execution_count": 46,
     "metadata": {},
     "output_type": "execute_result"
    }
   ],
   "source": [
    "list(map(lambda x:x[::-1].upper(),n))"
   ]
  },
  {
   "cell_type": "markdown",
   "metadata": {},
   "source": [
    "### nested statement and scope\n",
    "\n",
    "    l= local anyway in d function\n",
    "    e = enlclosing function (def or lambda)\n",
    "    g= global named assig in top level of modul file or delclared global in a def within file\n",
    "    b = built in - open, range, syntax error\n",
    "    "
   ]
  },
  {
   "cell_type": "code",
   "execution_count": 47,
   "metadata": {},
   "outputs": [
    {
     "data": {
      "text/plain": [
       "<function __main__.<lambda>(num)>"
      ]
     },
     "execution_count": 47,
     "metadata": {},
     "output_type": "execute_result"
    }
   ],
   "source": [
    "lambda num:num**2 ##  local\n"
   ]
  },
  {
   "cell_type": "code",
   "execution_count": null,
   "metadata": {},
   "outputs": [],
   "source": [
    " name ' this is a  global string' # global string \n",
    "    \n",
    "def greet(): #enclosing function\n",
    "        name = 'sammy' \n",
    "        \n",
    "        def hello(): #  local\n",
    "            print('hello'+name)\n",
    "            \n",
    "        hello()#enclosing function\n"
   ]
  },
  {
   "cell_type": "code",
   "execution_count": null,
   "metadata": {},
   "outputs": [],
   "source": [
    "greet() #lEGB  rule\n"
   ]
  },
  {
   "cell_type": "code",
   "execution_count": 53,
   "metadata": {},
   "outputs": [],
   "source": [
    "name = ' this is a  global string' #global string \n",
    "    \n",
    "def greet(): \n",
    "    \n",
    "        #name = 'sammy' ## enclosing function\n",
    "        \n",
    "        def hello(): \n",
    "            \n",
    "            #  local\n",
    "            #name = I am local\n",
    "            print('hello'+name)\n",
    "            \n",
    "        hello() #enclosing function\n"
   ]
  },
  {
   "cell_type": "code",
   "execution_count": 52,
   "metadata": {},
   "outputs": [
    {
     "name": "stdout",
     "output_type": "stream",
     "text": [
      "hello this is a  global string\n"
     ]
    }
   ],
   "source": [
    "greet()"
   ]
  },
  {
   "cell_type": "code",
   "execution_count": null,
   "metadata": {},
   "outputs": [],
   "source": [
    " name = ' this is a  global string' #global string \n",
    "    \n",
    "def greet(): #enclosing function\n",
    "        #local \n",
    "        name = 'sammy' \n",
    "        \n",
    "        def hell   o(): #  local\n",
    "            print('hello'+name)\n",
    "            \n",
    "        hello() #enclosing function\n"
   ]
  },
  {
   "cell_type": "code",
   "execution_count": 54,
   "metadata": {},
   "outputs": [],
   "source": [
    "x= 55\n",
    "def fun(x):\n",
    "    print(f'X is {x}')\n",
    "    "
   ]
  },
  {
   "cell_type": "code",
   "execution_count": 55,
   "metadata": {},
   "outputs": [
    {
     "name": "stdout",
     "output_type": "stream",
     "text": [
      "55\n"
     ]
    }
   ],
   "source": [
    "print(x)"
   ]
  },
  {
   "cell_type": "code",
   "execution_count": 62,
   "metadata": {},
   "outputs": [],
   "source": [
    "x= 55\n",
    "def fun(x):\n",
    "    print(f'X is {x}')\n",
    "    \n",
    "    #local reassignment \n",
    "    x= 200\n",
    "    print(f'I JUST locally CHANGED  X TO {x}')"
   ]
  },
  {
   "cell_type": "code",
   "execution_count": 63,
   "metadata": {},
   "outputs": [
    {
     "name": "stdout",
     "output_type": "stream",
     "text": [
      "X is 55\n",
      "I JUST locally CHANGED  X TO 200\n"
     ]
    }
   ],
   "source": [
    "fun(x)"
   ]
  },
  {
   "cell_type": "code",
   "execution_count": 69,
   "metadata": {},
   "outputs": [],
   "source": [
    "x= 55\n",
    "def fun():\n",
    "    global x # do not use this unless you are use to make it in real time \n",
    "    print(f'X is {x}')\n",
    "    #local reassignment  on a global variable\n",
    "    x= \"new value\"\n",
    "    print(f'I JUST locally CHANGED globally X TO {x}')"
   ]
  },
  {
   "cell_type": "code",
   "execution_count": 70,
   "metadata": {},
   "outputs": [
    {
     "name": "stdout",
     "output_type": "stream",
     "text": [
      "X is 55\n",
      "I JUST locally CHANGED globally X TO new value\n"
     ]
    }
   ],
   "source": [
    "fun()"
   ]
  },
  {
   "cell_type": "code",
   "execution_count": 71,
   "metadata": {},
   "outputs": [
    {
     "name": "stdout",
     "output_type": "stream",
     "text": [
      "new value\n"
     ]
    }
   ],
   "source": [
    "print(x)"
   ]
  },
  {
   "cell_type": "code",
   "execution_count": 81,
   "metadata": {},
   "outputs": [],
   "source": [
    "x= 55\n",
    "def fun(x):\n",
    "    \n",
    "    print(f'X is {x}')\n",
    "    #local reassignment  on a global variable\n",
    "    x= \"new value\"\n",
    "    print(f'I JUST locally CHANGED globally X TO {x}')\n",
    "    return x "
   ]
  },
  {
   "cell_type": "code",
   "execution_count": 82,
   "metadata": {},
   "outputs": [
    {
     "name": "stdout",
     "output_type": "stream",
     "text": [
      "X is 55\n",
      "I JUST locally CHANGED globally X TO new value\n"
     ]
    }
   ],
   "source": [
    "q= fun(x)"
   ]
  },
  {
   "cell_type": "code",
   "execution_count": 83,
   "metadata": {},
   "outputs": [],
   "source": [
    "def vol(r):\n",
    "    return (4/3)* 3.14*r**3"
   ]
  },
  {
   "cell_type": "code",
   "execution_count": 84,
   "metadata": {},
   "outputs": [
    {
     "data": {
      "text/plain": [
       "33493.333333333336"
      ]
     },
     "execution_count": 84,
     "metadata": {},
     "output_type": "execute_result"
    }
   ],
   "source": [
    "vol(20)"
   ]
  },
  {
   "cell_type": "code",
   "execution_count": 94,
   "metadata": {},
   "outputs": [],
   "source": [
    "def rang(num, low , high):\n",
    "    if num in range(low, high):\n",
    "        print('%s is in the range '%str(num))\n",
    "    else: \n",
    "        print('out of range')"
   ]
  },
  {
   "cell_type": "code",
   "execution_count": 95,
   "metadata": {},
   "outputs": [
    {
     "name": "stdout",
     "output_type": "stream",
     "text": [
      "out of range\n"
     ]
    }
   ],
   "source": [
    "rang(10,50,50)"
   ]
  },
  {
   "cell_type": "code",
   "execution_count": 96,
   "metadata": {},
   "outputs": [
    {
     "name": "stdout",
     "output_type": "stream",
     "text": [
      "out of range\n"
     ]
    }
   ],
   "source": [
    "rang(1,3,10)"
   ]
  },
  {
   "cell_type": "code",
   "execution_count": 97,
   "metadata": {},
   "outputs": [
    {
     "name": "stdout",
     "output_type": "stream",
     "text": [
      "3 is in the range \n"
     ]
    }
   ],
   "source": [
    "rang(3,1,10)"
   ]
  },
  {
   "cell_type": "code",
   "execution_count": 106,
   "metadata": {},
   "outputs": [],
   "source": [
    "def up_low(a):\n",
    "    d={'upper':0, \"lower\":0}\n",
    "    for i in a:\n",
    "        if i.isupper():\n",
    "            d['upper'] +=1\n",
    "        elif i.islower():\n",
    "            d['lower']+=1\n",
    "        else:\n",
    "            pass\n",
    "    print('original stirng :', a)\n",
    "    print('no of upper stirng :', d['upper'])\n",
    "    print('no of lower  stirng :', d['lower'])"
   ]
  },
  {
   "cell_type": "code",
   "execution_count": 109,
   "metadata": {},
   "outputs": [
    {
     "name": "stdout",
     "output_type": "stream",
     "text": [
      "original stirng : This is just a beginig ans i am sure you will do Good in Life\n",
      "no of upper stirng : 3\n",
      "no of lower  stirng : 44\n"
     ]
    }
   ],
   "source": [
    "up_low('This is just a beginig ans i am sure you will do Good in Life')"
   ]
  },
  {
   "cell_type": "code",
   "execution_count": 117,
   "metadata": {},
   "outputs": [],
   "source": [
    "def unq(n):\n",
    "    x=[]\n",
    "    for a in n:\n",
    "        if a not in x:\n",
    "            x.append(a)\n",
    "    return x\n",
    "        "
   ]
  },
  {
   "cell_type": "code",
   "execution_count": 118,
   "metadata": {},
   "outputs": [
    {
     "data": {
      "text/plain": [
       "[2, 3, 4, 56, 7, 8, 6, 5, 43]"
      ]
     },
     "execution_count": 118,
     "metadata": {},
     "output_type": "execute_result"
    }
   ],
   "source": [
    "unq([2,3,4,4,56,7,8,7,6,5,4,43,])"
   ]
  },
  {
   "cell_type": "markdown",
   "metadata": {},
   "source": []
  },
  {
   "cell_type": "markdown",
   "metadata": {},
   "source": [
    "###  escpe squence \n",
    "\\' single quote\n",
    "\n",
    "\\\" double\n",
    "\n",
    "\\n  new line\n",
    "\n",
    "\\tab\n",
    "\n",
    "\\b back spance\n",
    "\n"
   ]
  },
  {
   "cell_type": "code",
   "execution_count": 5,
   "metadata": {},
   "outputs": [
    {
     "name": "stdout",
     "output_type": "stream",
     "text": [
      "Line A\n",
      "line  B\n"
     ]
    }
   ],
   "source": [
    "print('Line A\\nline  B') # line will be in next line"
   ]
  },
  {
   "cell_type": "code",
   "execution_count": 7,
   "metadata": {},
   "outputs": [
    {
     "name": "stdout",
     "output_type": "stream",
     "text": [
      "line A \t line B\n"
     ]
    }
   ],
   "source": [
    "print('line A \\t line B') # line will get spaced \\tab"
   ]
  },
  {
   "cell_type": "code",
   "execution_count": 8,
   "metadata": {},
   "outputs": [
    {
     "name": "stdout",
     "output_type": "stream",
     "text": [
      "this is \\ backslash\n"
     ]
    }
   ],
   "source": [
    "print ('this is \\ backslash')"
   ]
  },
  {
   "cell_type": "code",
   "execution_count": null,
   "metadata": {},
   "outputs": [],
   "source": [
    "print ('this is \\ backslash')"
   ]
  },
  {
   "cell_type": "code",
   "execution_count": 9,
   "metadata": {},
   "outputs": [
    {
     "name": "stdout",
     "output_type": "stream",
     "text": [
      "line a \\n line b \n"
     ]
    }
   ],
   "source": [
    "print(r'line a \\n line b ')"
   ]
  },
  {
   "cell_type": "code",
   "execution_count": 10,
   "metadata": {},
   "outputs": [
    {
     "name": "stdout",
     "output_type": "stream",
     "text": [
      "😂\n"
     ]
    }
   ],
   "source": [
    "print('\\U0001F602') # to print emojee with emojee unicode"
   ]
  },
  {
   "cell_type": "markdown",
   "metadata": {},
   "source": [
    "\n",
    "// integer division\n",
    "\n",
    "% module which gives remainder\n",
    "\n",
    "** exponent\n",
    "\n",
    "/ simple division"
   ]
  },
  {
   "cell_type": "code",
   "execution_count": 14,
   "metadata": {},
   "outputs": [
    {
     "name": "stdout",
     "output_type": "stream",
     "text": [
      "-2137781\n"
     ]
    }
   ],
   "source": [
    "print(round(2*56-658*862/26*98))"
   ]
  },
  {
   "cell_type": "markdown",
   "metadata": {},
   "source": [
    "### precedence rule\n",
    "# bodmas\n",
    " bracket \n",
    " exponent\n",
    " \n",
    "* // / %  then left to right  operation\n",
    "    \n",
    "    \n",
    "   +-  same left to right\n",
    "   \n",
    "   \n",
    "   convert numbers to string is str(3)\n",
    "   \n",
    "   user input function \n",
    "   \n",
    "       age = input(\" type  your name, age \")\n",
    "       it will be in always strings\n",
    "       even no too in input function\n",
    "       \n",
    "   "
   ]
  },
  {
   "cell_type": "code",
   "execution_count": 16,
   "metadata": {},
   "outputs": [
    {
     "data": {
      "text/plain": [
       "'ankit'"
      ]
     },
     "execution_count": 16,
     "metadata": {},
     "output_type": "execute_result"
    }
   ],
   "source": [
    "_name = 'ankit'\n",
    "_name"
   ]
  },
  {
   "cell_type": "code",
   "execution_count": 21,
   "metadata": {},
   "outputs": [
    {
     "name": "stdout",
     "output_type": "stream",
     "text": [
      "CPU times: user 6 µs, sys: 1 µs, total: 7 µs\n",
      "Wall time: 14.1 µs\n"
     ]
    }
   ],
   "source": [
    "%time"
   ]
  },
  {
   "cell_type": "code",
   "execution_count": 22,
   "metadata": {},
   "outputs": [],
   "source": [
    "%timeit"
   ]
  },
  {
   "cell_type": "code",
   "execution_count": 27,
   "metadata": {},
   "outputs": [
    {
     "name": "stdout",
     "output_type": "stream",
     "text": [
      " this is the no 13\n"
     ]
    }
   ],
   "source": [
    "a= int(input( ' this is the no \n",
    "             ')) "
   ]
  },
  {
   "cell_type": "code",
   "execution_count": 30,
   "metadata": {},
   "outputs": [
    {
     "name": "stdout",
     "output_type": "stream",
     "text": [
      "hellow ankit  age is 25\n"
     ]
    }
   ],
   "source": [
    "name , age = 'ankit ', '25'\n",
    "print ('hellow '+ name , 'age is ' + age)"
   ]
  },
  {
   "cell_type": "code",
   "execution_count": 46,
   "metadata": {},
   "outputs": [
    {
     "name": "stdout",
     "output_type": "stream",
     "text": [
      "hello my name is  ankit and I'm 25 years old\n"
     ]
    }
   ],
   "source": [
    "#formatting with strings\n",
    "\n",
    "name = 'ankit'\n",
    "age = 25\n",
    "print(\"hello my name is  {} and I\\'m {} years old\".format(name, age))"
   ]
  },
  {
   "cell_type": "code",
   "execution_count": 47,
   "metadata": {},
   "outputs": [
    {
     "name": "stdout",
     "output_type": "stream",
     "text": [
      "this is the name of that guy ankit and his age is 25\n"
     ]
    }
   ],
   "source": [
    "print(f\"this is the name of that guy {name} and his age is {age}\")\n",
    "     #f for format   "
   ]
  },
  {
   "cell_type": "code",
   "execution_count": null,
   "metadata": {},
   "outputs": [],
   "source": []
  },
  {
   "cell_type": "code",
   "execution_count": 4,
   "metadata": {},
   "outputs": [
    {
     "name": "stdout",
     "output_type": "stream",
     "text": [
      "first no3\n",
      "2nd no6\n",
      "3rd no5\n",
      "10.666666666666666\n"
     ]
    }
   ],
   "source": [
    "a= int (input('first no'))\n",
    "b= int (input('2nd no'))\n",
    "c= int (input('3rd no'))\n",
    "\n",
    "print(a+b+c/3)\n"
   ]
  },
  {
   "cell_type": "code",
   "execution_count": 7,
   "metadata": {},
   "outputs": [
    {
     "name": "stdout",
     "output_type": "stream",
     "text": [
      "first no5\n",
      "2nd no6\n",
      "3rd no6\n",
      "the avg of all the no is 13.0\n"
     ]
    }
   ],
   "source": [
    "a= int (input('first no'))\n",
    "b= int (input('2nd no'))\n",
    "c= int (input('3rd no'))\n",
    "\n",
    "print(f'the avg of all the no is {a+b+c/3}')\n"
   ]
  },
  {
   "cell_type": "code",
   "execution_count": 33,
   "metadata": {},
   "outputs": [
    {
     "name": "stdout",
     "output_type": "stream",
     "text": [
      "i\n",
      "ind\n",
      "indexno\n",
      "ind\n",
      "indexno\n",
      "indexn\n",
      "index\n",
      "indexno\n",
      "onxedni\n",
      "ieo\n",
      "nd\n",
      "o\n",
      "i\n",
      "ndexno\n",
      "no\n",
      "oei\n"
     ]
    }
   ],
   "source": [
    "#string Index and slicing\n",
    "\n",
    "a= \"indexno\"\n",
    "#  0123456\n",
    " #-7 -6-5-4-3-2-1\n",
    "    \n",
    "# i  = 0 =  -7\n",
    "# n  = 1 =-6\n",
    "#d  = 2 = -5\n",
    "#e = 3  = -4\n",
    "#x = 4  = -3\n",
    "#n = 5  = -2\n",
    "# o =6  = -1\n",
    "  \n",
    "print(a[0]) # index\n",
    "\n",
    "print(a[0:3]) #[ start argument : end arg]\n",
    "\n",
    "print(a[0:]) #  start to all the way to end\n",
    "\n",
    "print(a[:3])\n",
    "\n",
    "print(a[:])\n",
    "\n",
    "print(a[:-1])\n",
    "\n",
    "print(a[0:5:1]) #[ start argument : end arg : step argument]\n",
    "\n",
    "print(a[::]) #[ start argument : end arg : step argument]\n",
    "\n",
    "\n",
    "print(a[::-1])\n",
    "\n",
    "print(a[::3])\n",
    "\n",
    "print(a[1:3])\n",
    "\n",
    "print(a[-1::])\n",
    "\n",
    "print(a[:1:])\n",
    "\n",
    "print(a[1::])\n",
    "\n",
    "print(a[1::5])\n",
    "\n",
    "print(a[::-3])\n",
    "\n",
    "\n",
    "\n"
   ]
  },
  {
   "cell_type": "code",
   "execution_count": 34,
   "metadata": {},
   "outputs": [
    {
     "name": "stdout",
     "output_type": "stream",
     "text": [
      "ieo\n"
     ]
    }
   ],
   "source": [
    "print(a[::3])"
   ]
  },
  {
   "cell_type": "code",
   "execution_count": 38,
   "metadata": {},
   "outputs": [
    {
     "name": "stdout",
     "output_type": "stream",
     "text": [
      "nxedni\n"
     ]
    }
   ],
   "source": [
    "print(a[5::-1]) "
   ]
  },
  {
   "cell_type": "code",
   "execution_count": 42,
   "metadata": {},
   "outputs": [
    {
     "name": "stdout",
     "output_type": "stream",
     "text": [
      "onxedni\n"
     ]
    }
   ],
   "source": [
    "print(a[-1::-1])  #print(a[::-1])  same as this "
   ]
  },
  {
   "cell_type": "code",
   "execution_count": 45,
   "metadata": {},
   "outputs": [
    {
     "name": "stdout",
     "output_type": "stream",
     "text": [
      "enter your name :ankit\n"
     ]
    }
   ],
   "source": [
    "u= input('enter your name :')"
   ]
  },
  {
   "cell_type": "code",
   "execution_count": 47,
   "metadata": {},
   "outputs": [
    {
     "name": "stdout",
     "output_type": "stream",
     "text": [
      " the reverse of your name is  tikna\n"
     ]
    }
   ],
   "source": [
    "print( \" the reverse of your name is \", u[::-1])"
   ]
  },
  {
   "cell_type": "code",
   "execution_count": 52,
   "metadata": {},
   "outputs": [
    {
     "name": "stdout",
     "output_type": "stream",
     "text": [
      " the reverse of your name is tikna\n"
     ]
    }
   ],
   "source": [
    "print( f\" the reverse of your name is {u[::-1]}\")"
   ]
  },
  {
   "cell_type": "code",
   "execution_count": 53,
   "metadata": {},
   "outputs": [
    {
     "data": {
      "text/plain": [
       "7"
      ]
     },
     "execution_count": 53,
     "metadata": {},
     "output_type": "execute_result"
    }
   ],
   "source": [
    "#strings methods\n",
    "\n",
    "len(a)"
   ]
  },
  {
   "cell_type": "code",
   "execution_count": 56,
   "metadata": {},
   "outputs": [
    {
     "data": {
      "text/plain": [
       "'INDEXNO'"
      ]
     },
     "execution_count": 56,
     "metadata": {},
     "output_type": "execute_result"
    }
   ],
   "source": [
    "a.upper()"
   ]
  },
  {
   "cell_type": "code",
   "execution_count": 59,
   "metadata": {},
   "outputs": [
    {
     "data": {
      "text/plain": [
       "'indexno'"
      ]
     },
     "execution_count": 59,
     "metadata": {},
     "output_type": "execute_result"
    }
   ],
   "source": [
    "a.lower()"
   ]
  },
  {
   "cell_type": "code",
   "execution_count": 60,
   "metadata": {},
   "outputs": [
    {
     "data": {
      "text/plain": [
       "'Indexno'"
      ]
     },
     "execution_count": 60,
     "metadata": {},
     "output_type": "execute_result"
    }
   ],
   "source": [
    "a.title()"
   ]
  },
  {
   "cell_type": "code",
   "execution_count": 66,
   "metadata": {},
   "outputs": [
    {
     "data": {
      "text/plain": [
       "1"
      ]
     },
     "execution_count": 66,
     "metadata": {},
     "output_type": "execute_result"
    }
   ],
   "source": [
    "a.count(\"o\")"
   ]
  },
  {
   "cell_type": "code",
   "execution_count": 227,
   "metadata": {},
   "outputs": [
    {
     "name": "stdout",
     "output_type": "stream",
     "text": [
      "Enter your Name and One character comma seperated ankit t\n",
      "5\n",
      "1\n"
     ]
    }
   ],
   "source": [
    "name,char=input(\"Enter your Name and One character comma seperated \").split()\n",
    "char1=char.lower()\n",
    "char2=char.upper()\n",
    "print(len(name))\n",
    "print(int(name.count(char1))+int(name.count(char2)))\n",
    " \n",
    "\n",
    "\n",
    "\n"
   ]
  },
  {
   "cell_type": "code",
   "execution_count": 183,
   "metadata": {},
   "outputs": [
    {
     "name": "stdout",
     "output_type": "stream",
     "text": [
      "Enter your Name and One character comma seperated ankitttt,t\n",
      "8\n",
      "4\n"
     ]
    }
   ],
   "source": [
    "name,char=input(\"Enter your Name and One character comma seperated \").split(\",\")\n",
    "char1=char.lower()\n",
    "char2=char.upper()\n",
    "print(len(name))\n",
    "print(int(name.count(char1))+int(name.count(char2)))\n",
    "\n",
    "#entering  the value like Ankitttt , space ,t\n",
    "#then values will be 0\n",
    "\n",
    "# if  ntering  the value like Ankitttt ,without space t\n",
    "#then  it will give an output is t= 4\n"
   ]
  },
  {
   "cell_type": "code",
   "execution_count": null,
   "metadata": {},
   "outputs": [],
   "source": []
  },
  {
   "cell_type": "code",
   "execution_count": 189,
   "metadata": {},
   "outputs": [
    {
     "name": "stdout",
     "output_type": "stream",
     "text": [
      "Enter your Name and One character comma seperated itakkdk,i\n",
      "7\n",
      "2\n"
     ]
    },
    {
     "data": {
      "text/plain": [
       "1"
      ]
     },
     "execution_count": 189,
     "metadata": {},
     "output_type": "execute_result"
    }
   ],
   "source": [
    "# with strip method for removing the spaces\n",
    "name,char=input(\"Enter your Name and One character comma seperated \").split(\",\")\n",
    "char=char.lower()\n",
    "\n",
    "print(len(name))\n",
    "print(int(name.count(char))+int(name.count(char.strip().lower())))\n",
    "\n",
    "name.strip().lower().count(char.strip().lower())\n",
    "\n"
   ]
  },
  {
   "cell_type": "code",
   "execution_count": 173,
   "metadata": {},
   "outputs": [
    {
     "name": "stdout",
     "output_type": "stream",
     "text": [
      "   ankit    -------------\n",
      "ankit    -------------\n",
      "   ankit-------------\n",
      "ankit-------------\n"
     ]
    }
   ],
   "source": [
    "#strip method\n",
    "\n",
    "name = '   ankit    ' #  to remove spaces from left is lstrip and r strip for right\n",
    "dot = '-------------'\n",
    "\n",
    "print (s)\n",
    "print(name.lstrip()  + dot)\n",
    "print(name.rstrip() + dot)\n",
    "print(name.strip () + dot)"
   ]
  },
  {
   "cell_type": "code",
   "execution_count": 180,
   "metadata": {},
   "outputs": [
    {
     "name": "stdout",
     "output_type": "stream",
     "text": [
      "   ankit    ffff -------------\n"
     ]
    }
   ],
   "source": [
    "# to remove spaces\n",
    "\n",
    "name = '   ankit    ffff ' #  to remove spaces from left is lstrip and r strip for right\n",
    "dot = '-------------'\n",
    "\n",
    "\n",
    "#print(name.strip () + dot)  this will not work\n",
    "print (name.replace('','') +dot)"
   ]
  },
  {
   "cell_type": "code",
   "execution_count": 191,
   "metadata": {},
   "outputs": [
    {
     "data": {
      "text/plain": [
       "'_spent_several_years_making_no_money_and_simply_preparing._I_was_too_dumb_at_the_time_to_understand_that_'"
      ]
     },
     "execution_count": 191,
     "metadata": {},
     "output_type": "execute_result"
    }
   ],
   "source": [
    "# replace and find method\n",
    "\n",
    "string =' spent several years making no money and simply preparing. I was too dumb at the time to understand that '\n",
    "string.replace(' ','_')"
   ]
  },
  {
   "cell_type": "code",
   "execution_count": 195,
   "metadata": {},
   "outputs": [
    {
     "data": {
      "text/plain": [
       "'_s_p_e_n_t_ _s_e_v_e_r_a_l_ _y_e_a_r_s_ _m_a_k_i_n_g_ _n_o_ _m_o_n_e_y_ _a_n_d_ _s_i_m_p_l_y_ _p_r_e_p_a_r_i_n_g_._ _I_ _w_a_s_ _t_o_o_ _d_u_m_b_ _a_t_ _t_h_e_ _t_i_m_e_ _t_o_ _u_n_d_e_r_s_t_a_n_d_ _t_h_a_t_ _'"
      ]
     },
     "execution_count": 195,
     "metadata": {},
     "output_type": "execute_result"
    }
   ],
   "source": [
    "\n",
    "string ='spent several years making no money and simply preparing. I was too dumb at the time to understand that '\n",
    "string.replace('','_')\n",
    "            # old new"
   ]
  },
  {
   "cell_type": "code",
   "execution_count": 194,
   "metadata": {},
   "outputs": [
    {
     "data": {
      "text/plain": [
       "'spent several years making no money and simply preparing_ I was too dumb at the time to understand that '"
      ]
     },
     "execution_count": 194,
     "metadata": {},
     "output_type": "execute_result"
    }
   ],
   "source": [
    "\n",
    "string ='spent several years making no money and simply preparing. I was too dumb at the time to understand that '\n",
    "string.replace('.','_')"
   ]
  },
  {
   "cell_type": "code",
   "execution_count": 198,
   "metadata": {},
   "outputs": [
    {
     "data": {
      "text/plain": [
       "'spent several years making huge money and simply preparing. I was too dumb at the time to understand that '"
      ]
     },
     "execution_count": 198,
     "metadata": {},
     "output_type": "execute_result"
    }
   ],
   "source": [
    "string ='spent several years making no money and simply preparing. I was too dumb at the time to understand that '\n",
    "string.replace(' no',' huge')\n",
    "            # old new"
   ]
  },
  {
   "cell_type": "code",
   "execution_count": 199,
   "metadata": {},
   "outputs": [
    {
     "data": {
      "text/plain": [
       "'she was the best, she was good teacher'"
      ]
     },
     "execution_count": 199,
     "metadata": {},
     "output_type": "execute_result"
    }
   ],
   "source": [
    "s= 'she is the best, she is good teacher'\n",
    "s.replace(' is',' was')\n",
    "            # old new"
   ]
  },
  {
   "cell_type": "code",
   "execution_count": 201,
   "metadata": {},
   "outputs": [
    {
     "data": {
      "text/plain": [
       "'she was the best, she is good teacher'"
      ]
     },
     "execution_count": 201,
     "metadata": {},
     "output_type": "execute_result"
    }
   ],
   "source": [
    "s= 'she is the best, she is good teacher'\n",
    "s.replace(' is',' was', 1)\n",
    "       # old     new  ,first or which is you want to replace"
   ]
  },
  {
   "cell_type": "code",
   "execution_count": 203,
   "metadata": {},
   "outputs": [
    {
     "data": {
      "text/plain": [
       "4"
      ]
     },
     "execution_count": 203,
     "metadata": {},
     "output_type": "execute_result"
    }
   ],
   "source": [
    "# find method\n",
    "# it is useful to find the  position of the word or charater \n",
    "#in the given string\n",
    "\n",
    "s.find('is' )"
   ]
  },
  {
   "cell_type": "code",
   "execution_count": 209,
   "metadata": {},
   "outputs": [
    {
     "data": {
      "text/plain": [
       "4"
      ]
     },
     "execution_count": 209,
     "metadata": {},
     "output_type": "execute_result"
    }
   ],
   "source": [
    "s= 'she is the best, she is good teacher'\n",
    "position1 = s.find('is')\n",
    "position1"
   ]
  },
  {
   "cell_type": "code",
   "execution_count": 212,
   "metadata": {},
   "outputs": [
    {
     "data": {
      "text/plain": [
       "21"
      ]
     },
     "execution_count": 212,
     "metadata": {},
     "output_type": "execute_result"
    }
   ],
   "source": [
    "s= 'she is the best, she is good teacher'\n",
    "position2= s.find('is', 5)\n",
    "position2"
   ]
  },
  {
   "cell_type": "code",
   "execution_count": 213,
   "metadata": {},
   "outputs": [
    {
     "data": {
      "text/plain": [
       "21"
      ]
     },
     "execution_count": 213,
     "metadata": {},
     "output_type": "execute_result"
    }
   ],
   "source": [
    "position2= s.find('is', position1 + 1)\n",
    "position2"
   ]
  },
  {
   "cell_type": "code",
   "execution_count": 220,
   "metadata": {},
   "outputs": [
    {
     "name": "stdout",
     "output_type": "stream",
     "text": [
      "**ankit**\n"
     ]
    }
   ],
   "source": [
    "#center method\n",
    "\n",
    "name = 'ankit'\n",
    "len(name)\n",
    "print(name.center(9,'*')) #to add star it will check your len of varibale and it should be greater than the   len"
   ]
  },
  {
   "cell_type": "code",
   "execution_count": 222,
   "metadata": {},
   "outputs": [
    {
     "name": "stdout",
     "output_type": "stream",
     "text": [
      "enter your namesanket\n",
      "****sanket****\n"
     ]
    }
   ],
   "source": [
    "name = input('enter your name')\n",
    "print(name.center(len(name) +8,'*' ))"
   ]
  },
  {
   "cell_type": "markdown",
   "metadata": {},
   "source": [
    "### strings are immutable even if you are changing the string with replace function\n",
    "\n",
    "Assign any varibale  for calculation like this\n",
    "\n",
    "    a += 'this is '\n",
    "    a += 3\n",
    "    a *= 555\n",
    "    etx"
   ]
  },
  {
   "cell_type": "code",
   "execution_count": 234,
   "metadata": {},
   "outputs": [
    {
     "data": {
      "text/plain": [
       "20"
      ]
     },
     "execution_count": 234,
     "metadata": {},
     "output_type": "execute_result"
    }
   ],
   "source": [
    "len(name)\n",
    "dd= 'anmdkldkdkdk dkdkdkd'\n",
    "len(dd)"
   ]
  },
  {
   "cell_type": "code",
   "execution_count": 239,
   "metadata": {},
   "outputs": [
    {
     "name": "stdout",
     "output_type": "stream",
     "text": [
      "your age plz :2\n"
     ]
    }
   ],
   "source": [
    "# if statement  to check conditions\n",
    "\n",
    "age = int(input('your age plz :'))\n",
    "\n",
    "if age >= 14:\n",
    "    print (' you are eligible for playing')"
   ]
  },
  {
   "cell_type": "code",
   "execution_count": 240,
   "metadata": {},
   "outputs": [
    {
     "name": "stdout",
     "output_type": "stream",
     "text": [
      "your age plz :15\n"
     ]
    }
   ],
   "source": [
    "#pass statement\n",
    "\n",
    "# to passs means we dont want to write any statement \n",
    "age = int(input('your age plz :'))\n",
    "\n",
    "if age >= 14:\n",
    "    pass"
   ]
  },
  {
   "cell_type": "code",
   "execution_count": 241,
   "metadata": {},
   "outputs": [
    {
     "name": "stdout",
     "output_type": "stream",
     "text": [
      "your age plz :5\n",
      "you are not eligible\n"
     ]
    }
   ],
   "source": [
    "#else statement\n",
    "\n",
    "age = int(input('your age plz :'))\n",
    "\n",
    "if age >= 14:\n",
    "    print('you are eligible')\n",
    "else:\n",
    "    \n",
    "    print('you are not eligible')"
   ]
  },
  {
   "cell_type": "code",
   "execution_count": 272,
   "metadata": {},
   "outputs": [
    {
     "name": "stdout",
     "output_type": "stream",
     "text": [
      "enter your  guess no :  987654321\n",
      " you won\n"
     ]
    }
   ],
   "source": [
    "# no guessing game\n",
    "import random\n",
    "no = input('enter your  guess no :  ')\n",
    "wno = 987654321\n",
    "\n",
    "if wno == 987654321:\n",
    "        print (' you won')\n",
    "else:\n",
    "      print(\"try again\")"
   ]
  },
  {
   "cell_type": "code",
   "execution_count": 295,
   "metadata": {},
   "outputs": [
    {
     "name": "stdout",
     "output_type": "stream",
     "text": [
      "enter your  guess no :  23\n",
      "too high\n"
     ]
    }
   ],
   "source": [
    "# nested if and else statement\n",
    "no = int(input('enter your  guess no :  '))\n",
    "wno = 15\n",
    "\n",
    "if no == wno:\n",
    "        print (' you won')\n",
    "else:\n",
    "    if no < wno:\n",
    "        print(\"too low\")\n",
    "    else:\n",
    "            print(\"too high\")\n",
    "        "
   ]
  },
  {
   "cell_type": "code",
   "execution_count": 306,
   "metadata": {},
   "outputs": [
    {
     "name": "stdout",
     "output_type": "stream",
     "text": [
      "m  hungry\n"
     ]
    }
   ],
   "source": [
    "# check two conditions at same time\n",
    "\n",
    "##   add , or operator\n",
    "\n",
    "hungry = True # this conditions are true then only will give true if both cases are consider for overall \n",
    "nt =False\n",
    "\n",
    "if hungry == True and nt == False:\n",
    "    print(\"m  hungry\")\n",
    "else:\n",
    "    print('leave')"
   ]
  },
  {
   "cell_type": "code",
   "execution_count": 319,
   "metadata": {},
   "outputs": [
    {
     "name": "stdout",
     "output_type": "stream",
     "text": [
      " your name please :ankit\n",
      " mention your age please :25\n",
      " you can watch movies\n"
     ]
    }
   ],
   "source": [
    "#vid 49\n",
    "\n",
    "name = input(' your name please :')\n",
    "age = int(input( ' mention your age please :'))\n",
    "\n",
    "if age >= 10 and  (name[0] == 'a' or name[0] == 'A'):\n",
    "    print (' you can watch movies')\n",
    "else:\n",
    "    print('sorry you cannot watch movie')"
   ]
  },
  {
   "cell_type": "code",
   "execution_count": 332,
   "metadata": {},
   "outputs": [
    {
     "name": "stdout",
     "output_type": "stream",
     "text": [
      "how many tickets you wana buy :9\n",
      "0.72\n"
     ]
    }
   ],
   "source": [
    "ticket =int(input('how many tickets you wana buy :'))\n",
    "discount_1 = 5/100\n",
    "discount_2 = ticket * 8/100\n",
    "\n",
    "\n",
    "if ticket <= 3:\n",
    "    print (\"no discount\")\n",
    "\n",
    "elif ticket <=5 and ticket >=3:\n",
    "    print(f\" total discount of {ticket *discount_1} %\")\n",
    "\n",
    "elif ticket > 5:\n",
    "    print(discount_2)\n",
    "    \n",
    "else: \n",
    "    print( \"you got already discount\")"
   ]
  },
  {
   "cell_type": "code",
   "execution_count": 339,
   "metadata": {},
   "outputs": [
    {
     "name": "stdout",
     "output_type": "stream",
     "text": [
      "how many tickets you wana buy :55\n",
      "your ticket cost is 250\n"
     ]
    }
   ],
   "source": [
    "age= int(input('how many tickets you wana buy :'))\n",
    "\n",
    "if age >=0  and age  <=3:\n",
    "    print('your ticket is free')\n",
    "elif  age >4 and age <= 10:\n",
    "    print('your ticket cost is 150')\n",
    "elif age >= 11 and  age  <= 60:\n",
    "    print('your ticket cost is 250')\n",
    "\n",
    "else:\n",
    "    print('your ticket cost is 200')\n",
    "    "
   ]
  },
  {
   "cell_type": "code",
   "execution_count": 349,
   "metadata": {},
   "outputs": [
    {
     "name": "stdout",
     "output_type": "stream",
     "text": [
      "Presnt \n"
     ]
    }
   ],
   "source": [
    "name= 'ankit'\n",
    "\n",
    "if 'a' in name:\n",
    "    print(\"Presnt \")\n",
    "else:\n",
    "    print('not present')"
   ]
  },
  {
   "cell_type": "code",
   "execution_count": 354,
   "metadata": {},
   "outputs": [
    {
     "name": "stdout",
     "output_type": "stream",
     "text": [
      "enter your name \n",
      "you didnt type anythin\n"
     ]
    }
   ],
   "source": [
    "na = input('enter your name ')\n",
    "na=''\n",
    "if na : # true if string is not empty\n",
    "    \n",
    "    print(\"string is not empty\")\n",
    "else:\n",
    "    print(\"you didnt type anythin\")"
   ]
  },
  {
   "cell_type": "code",
   "execution_count": 355,
   "metadata": {},
   "outputs": [],
   "source": [
    "#while loop \n",
    "# agar code ko bar bar use karnar h to while loop best h\n",
    " "
   ]
  },
  {
   "cell_type": "code",
   "execution_count": 357,
   "metadata": {},
   "outputs": [
    {
     "name": "stdout",
     "output_type": "stream",
     "text": [
      "hello 1\n",
      "hello 2\n",
      "hello 3\n",
      "hello 4\n",
      "hello 5\n",
      "hello 6\n",
      "hello 7\n",
      "hello 8\n",
      "hello 9\n",
      "hello 10\n"
     ]
    }
   ],
   "source": [
    " i = 1\n",
    "    \n",
    "while  i <=10:\n",
    "    print(f'hello {i}')\n",
    "    \n",
    "    i = i +1"
   ]
  },
  {
   "cell_type": "code",
   "execution_count": 360,
   "metadata": {},
   "outputs": [
    {
     "name": "stdout",
     "output_type": "stream",
     "text": [
      "1\n",
      "3\n",
      "6\n",
      "10\n",
      "15\n",
      "21\n",
      "28\n",
      "36\n",
      "45\n",
      "55\n"
     ]
    }
   ],
   "source": [
    "tot= 0 # starting value pr initiate value\n",
    "\n",
    "i = 1 # to add \n",
    "\n",
    "while i <=10:\n",
    "    tot=tot+ i # tot += i\n",
    "    i= i+ 1\n",
    "    print(tot)\n",
    "    \n",
    "    \n",
    "    #total = 0 + i =1\n",
    "    #i = 2 "
   ]
  },
  {
   "cell_type": "code",
   "execution_count": 375,
   "metadata": {},
   "outputs": [
    {
     "name": "stdout",
     "output_type": "stream",
     "text": [
      "enter natual no :20\n",
      "1\n",
      "3\n",
      "6\n",
      "10\n",
      "15\n",
      "21\n",
      "28\n",
      "36\n",
      "45\n",
      "55\n",
      "66\n",
      "78\n",
      "91\n",
      "105\n",
      "120\n",
      "136\n",
      "153\n",
      "171\n",
      "190\n",
      "210\n"
     ]
    }
   ],
   "source": [
    "a = int(input('enter natual no :'))\n",
    "total = 0\n",
    "i = 1\n",
    "\n",
    "while i <=a:\n",
    "    \n",
    "    total +=  i\n",
    "    i = i+1\n",
    "    print (total)\n",
    "    "
   ]
  },
  {
   "cell_type": "code",
   "execution_count": 395,
   "metadata": {},
   "outputs": [
    {
     "name": "stdout",
     "output_type": "stream",
     "text": [
      "enter the no more than 1 digit :25\n",
      "7\n"
     ]
    }
   ],
   "source": [
    "n= input('enter the no more than 1 digit :')\n",
    "\n",
    "## int(n[i]) +\n",
    "\n",
    "total = 0 #  total input \n",
    "i = 0    #  boz  we need to add 0th position convert to int\n",
    "\n",
    "while i < len(n): # lenght of no \n",
    "    \n",
    "    total +=   int(n[i])\n",
    "    i = i +1\n",
    "    \n",
    "    #   int(n[i]) # jo bhi no hoga us ki i'th position\n",
    "    # to add this in toal \n",
    "    \n",
    "print(total)\n",
    "    "
   ]
  },
  {
   "cell_type": "code",
   "execution_count": 397,
   "metadata": {},
   "outputs": [
    {
     "name": "stdout",
     "output_type": "stream",
     "text": [
      "enter no :55555\n",
      "25\n"
     ]
    }
   ],
   "source": [
    "n = input('enter no :')\n",
    "total = 0 #sabka total input karenge\n",
    "i = 0 # int(n[i]) jab taq lenght len(n)\n",
    "# 1234 lenght = 4 and last index = 3\n",
    "\n",
    "while i < len(n):\n",
    "    # to add this in total----int(n [i])= \n",
    "    total +=  int(n[i])\n",
    "    i += 1\n",
    "print(total) # 5+5+5+5 = 25"
   ]
  },
  {
   "cell_type": "markdown",
   "metadata": {},
   "source": [
    "### TO COUNT EACH LETTER IN YOUR NAME  \n",
    "\n",
    "name = input(\" enter your name :\")\n",
    "\n",
    "    i= 0 \n",
    "    while i < len(name):\n",
    "        i  += 1\n",
    "        print (f\" {name[i]} :{name.count(name[i])} \")\n"
   ]
  },
  {
   "cell_type": "code",
   "execution_count": 414,
   "metadata": {},
   "outputs": [
    {
     "name": "stdout",
     "output_type": "stream",
     "text": [
      " enter your name :AANkiit ri jasdj adha \n",
      " A :2 \n",
      " N :1 \n",
      " k :1 \n",
      " i :3 \n",
      " t :1 \n",
      "   :4 \n",
      " r :1 \n",
      " j :2 \n",
      " a :3 \n",
      " s :1 \n",
      " d :2 \n",
      " h :1 \n"
     ]
    }
   ],
   "source": [
    "name = input(\" enter your name :\")\n",
    "\n",
    "temp = '' # to make sure we are not adding exisiting count\n",
    "\n",
    "i= 0  # to initate the count of each charas\n",
    "\n",
    "while i < len(name): # length is imp as we dont know what i/p is\n",
    "    \n",
    "    if name[i] not in temp:  # name [index] not in temp string\n",
    "        \n",
    "        \n",
    "        temp = temp + name[i]  #then we can add that string to total\n",
    "        \n",
    "        print (f\" {name[i]} :{name.count(name[i])} \")\n",
    "        \n",
    "    i   = i+ 1 # till upto the last element of string \n",
    "     "
   ]
  },
  {
   "cell_type": "code",
   "execution_count": 417,
   "metadata": {},
   "outputs": [
    {
     "name": "stdout",
     "output_type": "stream",
     "text": [
      "hello\n",
      "hello\n",
      "hello\n",
      "hello\n",
      "hello\n",
      "hello\n",
      "hello\n",
      "hello\n",
      "hello\n",
      "hello\n",
      "hello\n"
     ]
    }
   ],
   "source": [
    "#infinte loop\n",
    "i = 0\n",
    "while i <=10: # even if while  True: gives ininite loop\n",
    "    \n",
    "    print('hello')\n",
    "    i +=1"
   ]
  },
  {
   "cell_type": "code",
   "execution_count": 426,
   "metadata": {},
   "outputs": [
    {
     "name": "stdout",
     "output_type": "stream",
     "text": [
      "hello : 0\n",
      "hello : 1\n",
      "hello : 2\n",
      "hello : 3\n",
      "hello : 4\n",
      "hello : 5\n",
      "hello : 6\n",
      "hello : 7\n",
      "hello : 8\n",
      "hello : 9\n"
     ]
    }
   ],
   "source": [
    "# for loop we use range function for for\n",
    "\n",
    "for i in range(10): # 0 to 9\n",
    "    print(f'hello : {i}')\n"
   ]
  },
  {
   "cell_type": "code",
   "execution_count": 429,
   "metadata": {},
   "outputs": [
    {
     "name": "stdout",
     "output_type": "stream",
     "text": [
      "hello : 1\n",
      "this is new line\n",
      "hello : 2\n",
      "this is new line\n",
      "hello : 3\n",
      "this is new line\n",
      "hello : 4\n",
      "this is new line\n",
      "hello : 5\n",
      "this is new line\n",
      "hello : 6\n",
      "this is new line\n",
      "hello : 7\n",
      "this is new line\n",
      "hello : 8\n",
      "this is new line\n",
      "hello : 9\n",
      "this is new line\n",
      "hello : 10\n",
      "this is new line\n"
     ]
    }
   ],
   "source": [
    "for i in range(1 ,11): # 0 to 9\n",
    "    print(f'hello : {i}')\n",
    "    print('this is new line')"
   ]
  },
  {
   "cell_type": "code",
   "execution_count": 432,
   "metadata": {},
   "outputs": [
    {
     "name": "stdout",
     "output_type": "stream",
     "text": [
      "1\n",
      "3\n",
      "6\n",
      "10\n",
      "15\n",
      "21\n",
      "28\n",
      "36\n",
      "45\n",
      "55\n"
     ]
    }
   ],
   "source": [
    "total = 0 #to store the input initialize\n",
    "\n",
    "for i in range(1,11):\n",
    "    \n",
    "    \n",
    "    total += i\n",
    "    print(total)"
   ]
  },
  {
   "cell_type": "code",
   "execution_count": 437,
   "metadata": {},
   "outputs": [
    {
     "name": "stdout",
     "output_type": "stream",
     "text": [
      "enter your no : 10\n",
      "1\n",
      "3\n",
      "6\n",
      "10\n",
      "15\n",
      "21\n",
      "28\n",
      "36\n",
      "45\n",
      "55\n"
     ]
    }
   ],
   "source": [
    "n= int(input('enter your no : '))\n",
    "total = 0\n",
    "for i in range(1, n+1):\n",
    "    total += i\n",
    "    print(total)"
   ]
  },
  {
   "cell_type": "markdown",
   "metadata": {},
   "source": [
    "# use.\n",
    "\n",
    "# len()\n",
    "\n",
    "function to calculate each postion or sum of each position in range "
   ]
  },
  {
   "cell_type": "code",
   "execution_count": 444,
   "metadata": {},
   "outputs": [
    {
     "name": "stdout",
     "output_type": "stream",
     "text": [
      "enter no 1134\n",
      "1\n",
      "2\n",
      "5\n",
      "9\n"
     ]
    }
   ],
   "source": [
    "#  n = 1234\n",
    "# n[0] == 1\n",
    "# n[1] == 2\n",
    "\n",
    "#always use len(a)\n",
    "\n",
    "\n",
    "a= input('enter no ')\n",
    "\n",
    "total = 0\n",
    "\n",
    "for i in range (0, len(a)):\n",
    "    \n",
    "    total += int(a[i]) # change string into integer\n",
    "    print(total)\n",
    "    "
   ]
  },
  {
   "cell_type": "code",
   "execution_count": 454,
   "metadata": {},
   "outputs": [
    {
     "name": "stdout",
     "output_type": "stream",
     "text": [
      "enter your name :Ankit nagdeve sanket\n",
      " the count  is A : 1\n",
      " the count  is n : 3\n",
      " the count  is k : 2\n",
      " the count  is i : 1\n",
      " the count  is t : 2\n",
      " the count  is   : 2\n",
      " the count  is a : 2\n",
      " the count  is g : 1\n",
      " the count  is d : 1\n",
      " the count  is e : 3\n",
      " the count  is v : 1\n",
      " the count  is s : 1\n"
     ]
    }
   ],
   "source": [
    "\n",
    "name = input('enter your name :')\n",
    "\n",
    "temp = ''\n",
    "i = 1\n",
    "\n",
    "for i in range(len(name)):\n",
    "    \n",
    "    if name[i] not in temp:\n",
    "        print(f' the count  is {name[i] } : {name.count(name[i])}')\n",
    "        temp += name[i]"
   ]
  },
  {
   "cell_type": "code",
   "execution_count": 456,
   "metadata": {},
   "outputs": [
    {
     "name": "stdout",
     "output_type": "stream",
     "text": [
      "1\n",
      "2\n",
      "3\n",
      "4\n",
      "5\n",
      "6\n",
      "7\n",
      "8\n",
      "9\n",
      "10\n"
     ]
    }
   ],
   "source": [
    "for i in range (1,11):\n",
    "    print(i)\n",
    "\n"
   ]
  },
  {
   "cell_type": "code",
   "execution_count": 461,
   "metadata": {},
   "outputs": [
    {
     "name": "stdout",
     "output_type": "stream",
     "text": [
      "1\n",
      "2\n",
      "3\n",
      "4\n"
     ]
    }
   ],
   "source": [
    "for i in range(1,11):\n",
    "    if i == 5:\n",
    "        break\n",
    "    print(i)"
   ]
  },
  {
   "cell_type": "code",
   "execution_count": 465,
   "metadata": {},
   "outputs": [
    {
     "name": "stdout",
     "output_type": "stream",
     "text": [
      "1\n",
      "2\n",
      "3\n",
      "4\n",
      "6\n",
      "7\n",
      "8\n",
      "9\n",
      "10\n"
     ]
    }
   ],
   "source": [
    "for i in  range(1,11):\n",
    "    if i==5: # 5 will not print if continue \n",
    "        \n",
    "        continue\n",
    "    print(i) # i = 5 condition will true and it will not print  i= 5\n",
    "            # excution will start at 6th term"
   ]
  },
  {
   "cell_type": "code",
   "execution_count": 8,
   "metadata": {},
   "outputs": [
    {
     "name": "stdout",
     "output_type": "stream",
     "text": [
      "guess no 56\n",
      "too high\n",
      "enter your guess no again :46\n",
      "too high\n",
      "enter your guess no again :40\n",
      " you win and at guess 3 times\n"
     ]
    }
   ],
   "source": [
    "win_no = 40 # if this no guess then \n",
    "guess =1  # how many guesse\n",
    "\n",
    "no= int(input('guess no ')) #input this no \n",
    "\n",
    "game_over = False  #which is not \n",
    "\n",
    "while not game_over :\n",
    "    \n",
    "    if no == win_no:\n",
    "        \n",
    "        print(f\" you win and at guess {guess} times\")\n",
    "        \n",
    "        game_over= True\n",
    "        \n",
    "    else:\n",
    "        \n",
    "        if no< win_no:\n",
    "            print ('too low')\n",
    "            guess =+ 1 \n",
    "            no =int(input('enter your guess no again :'))\n",
    "            \n",
    "        else:\n",
    "            no >win_no\n",
    "            print('too high')\n",
    "                \n",
    "            guess += 1\n",
    "                \n",
    "            no =int(input('enter your guess no again :'))\n",
    "            "
   ]
  },
  {
   "cell_type": "code",
   "execution_count": 15,
   "metadata": {},
   "outputs": [
    {
     "name": "stdout",
     "output_type": "stream",
     "text": [
      "enter your guess no5\n",
      "too low\n",
      "enter your code again6\n",
      "too low\n",
      "enter your code again68\n",
      "too high\n",
      "enter your guess again 50\n",
      "too low\n",
      "enter your code again56\n",
      "you won  at 5 times\n"
     ]
    }
   ],
   "source": [
    " #define game winning no without random no\n",
    "g = 56\n",
    "guess= 1\n",
    "game_over = False\n",
    "inp = int(input('enter your guess no'))\n",
    "\n",
    "while not  game_over:\n",
    "    \n",
    "    if inp == g:\n",
    "        print (f'you won  at { guess} times')\n",
    "       \n",
    "        game_over = True\n",
    "         \n",
    "    else:\n",
    "        if inp < g:\n",
    "            print('too low')\n",
    "            guess  += 1\n",
    "            inp = int(input('enter your code again'))\n",
    "            \n",
    "        else:\n",
    "            inp > g\n",
    "            print('too high')\n",
    "            guess += 1\n",
    "            inp=int(input(\"enter your guess again \"))\n",
    "            "
   ]
  },
  {
   "cell_type": "markdown",
   "metadata": {},
   "source": [
    "### #define game winning no without random no\n",
    "    g = 56\n",
    "    guess= 1\n",
    "    game_over = False\n",
    "\n",
    "    while True: #infinite loop\n",
    "    inp = int(input('enter your guess no'))\n",
    "\n",
    "    if inp == g:\n",
    "        print (f'you won  at { guess} times')\n",
    "       \n",
    "        break\n",
    "         \n",
    "    else:\n",
    "        if inp < g:\n",
    "            print('too low')\n",
    "            \n",
    "            \n",
    "        else:\n",
    "            inp > g\n",
    "            print('too high')\n",
    "            guess += 1\n",
    "            \n",
    "            continue"
   ]
  },
  {
   "cell_type": "code",
   "execution_count": null,
   "metadata": {},
   "outputs": [],
   "source": [
    "#for random no to win the game"
   ]
  },
  {
   "cell_type": "code",
   "execution_count": 25,
   "metadata": {},
   "outputs": [
    {
     "name": "stdout",
     "output_type": "stream",
     "text": [
      "enter your guess no56\n",
      "too high\n",
      "enter your guess again 50\n",
      "too high\n",
      "enter your guess again 40\n",
      "too high\n",
      "enter your guess again 30\n",
      "too low\n",
      "enter your code again35\n",
      "too low\n",
      "enter your code again36\n",
      "you won  at 6 times\n"
     ]
    }
   ],
   "source": [
    " #define game winning no with random no\n",
    "import random\n",
    "g = random.randint(1,100) \n",
    "guess= 1\n",
    "game_over = False\n",
    "inp = int(input('enter your guess no'))\n",
    "\n",
    "while not  game_over:\n",
    "    \n",
    "    if inp == g:\n",
    "        print (f'you won  at { guess} times')\n",
    "       \n",
    "        game_over = True\n",
    "         \n",
    "    else:\n",
    "        if inp < g:\n",
    "            print('too low')\n",
    "            guess  += 1\n",
    "            inp = int(input('enter your code again'))\n",
    "            \n",
    "        else:\n",
    "            inp > g\n",
    "            print('too high')\n",
    "            guess += 1\n",
    "            inp=int(input(\"enter your guess again \"))\n",
    "            "
   ]
  },
  {
   "cell_type": "code",
   "execution_count": 28,
   "metadata": {},
   "outputs": [
    {
     "name": "stdout",
     "output_type": "stream",
     "text": [
      "1\n",
      "4\n",
      "7\n",
      "10\n"
     ]
    }
   ],
   "source": [
    "for i in range (1,11,3):\n",
    "    print (i)"
   ]
  },
  {
   "cell_type": "code",
   "execution_count": 29,
   "metadata": {},
   "outputs": [
    {
     "name": "stdout",
     "output_type": "stream",
     "text": [
      "10\n",
      "9\n",
      "8\n",
      "7\n",
      "6\n",
      "5\n",
      "4\n",
      "3\n",
      "2\n",
      "1\n"
     ]
    }
   ],
   "source": [
    "for i in range(10,0,-1):\n",
    "    print (i)# from 10 to 1 decreasing order"
   ]
  },
  {
   "cell_type": "code",
   "execution_count": 30,
   "metadata": {},
   "outputs": [
    {
     "name": "stdout",
     "output_type": "stream",
     "text": [
      "10\n",
      "9\n",
      "8\n",
      "7\n",
      "6\n",
      "5\n",
      "4\n",
      "3\n",
      "2\n",
      "1\n",
      "0\n"
     ]
    }
   ],
   "source": [
    "for i in range (10,-1,-1):\n",
    "    print(i)"
   ]
  },
  {
   "cell_type": "code",
   "execution_count": 51,
   "metadata": {},
   "outputs": [
    {
     "name": "stdout",
     "output_type": "stream",
     "text": [
      "enter your name :adja fjas\n",
      "a\n",
      "d\n",
      "j\n",
      "a\n",
      " \n",
      "f\n",
      "j\n",
      "a\n",
      "s\n"
     ]
    }
   ],
   "source": [
    "# for loop and strings\n",
    "\n",
    "name = input('enter your name :')\n",
    "\n",
    "for i in name:\n",
    "    \n",
    "    print (i)"
   ]
  },
  {
   "cell_type": "code",
   "execution_count": 45,
   "metadata": {},
   "outputs": [
    {
     "name": "stdout",
     "output_type": "stream",
     "text": [
      "enter name anmkit nahedeghe\n",
      "a\n",
      "n\n",
      "k\n",
      "i\n",
      "t\n",
      " \n",
      "n\n",
      "a\n",
      "g\n",
      "d\n",
      "e\n",
      "v\n",
      "e\n"
     ]
    }
   ],
   "source": [
    "n = (input('enter name '))\n",
    "for i in range(len(name)):\n",
    "    print(name[i])"
   ]
  },
  {
   "cell_type": "code",
   "execution_count": 49,
   "metadata": {},
   "outputs": [
    {
     "name": "stdout",
     "output_type": "stream",
     "text": [
      "enter no 43444765\n",
      "37\n"
     ]
    }
   ],
   "source": [
    "# to add 12345 together using for loop\n",
    "\n",
    "n = (input('enter no '))\n",
    "total = 0\n",
    "for i in  n:\n",
    "    total = total + int(i)\n",
    "print(total)"
   ]
  },
  {
   "cell_type": "markdown",
   "metadata": {},
   "source": [
    "###  if statement \n",
    "\n",
    "     name = 'ankit'\n",
    "     if name == \"ankit\":\n",
    "         print('True)\n",
    "     ele:\n",
    "         print( ' you are not ankit')\n",
    "         \n",
    "         \n",
    "     or operator does check check whethere my one of the  condition meeting the input condition or not.\n",
    "     \n",
    "     and operator will checkif both conditions are true  overall then only it will give us result\n",
    "     "
   ]
  },
  {
   "cell_type": "code",
   "execution_count": 72,
   "metadata": {},
   "outputs": [
    {
     "name": "stdout",
     "output_type": "stream",
     "text": [
      " it is odd 1\n",
      "2 its evn no \n",
      " it is odd 5\n",
      "6 its evn no \n",
      "6 its evn no \n",
      " it is odd 7\n",
      "8 its evn no \n",
      " it is odd 5\n",
      "4 its evn no \n",
      "4 its evn no \n",
      " it is odd 5\n",
      "56 its evn no \n",
      "6 its evn no \n",
      "6 its evn no \n"
     ]
    }
   ],
   "source": [
    "l= [1,2,5,6,6,7,8,5,4,4,5,56,6,6]\n",
    "for i in l:\n",
    "    if i%2 ==0:\n",
    "        print(f'{i} its evn no ')\n",
    "    else:\n",
    "        print(f' it is odd {i}')"
   ]
  },
  {
   "cell_type": "code",
   "execution_count": 74,
   "metadata": {},
   "outputs": [
    {
     "name": "stdout",
     "output_type": "stream",
     "text": [
      "121\n"
     ]
    }
   ],
   "source": [
    "su= 0\n",
    "for i in l:\n",
    "    su += i\n",
    "print(su) # total of sum of all the no\n"
   ]
  },
  {
   "cell_type": "code",
   "execution_count": 75,
   "metadata": {},
   "outputs": [
    {
     "name": "stdout",
     "output_type": "stream",
     "text": [
      "1\n",
      "3\n",
      "8\n",
      "14\n",
      "20\n",
      "27\n",
      "35\n",
      "40\n",
      "44\n",
      "48\n",
      "53\n",
      "109\n",
      "115\n",
      "121\n"
     ]
    }
   ],
   "source": [
    "su= 0\n",
    "for i in l:\n",
    "    su += i\n",
    "    print(su) # total of sum of all the no\n"
   ]
  },
  {
   "cell_type": "code",
   "execution_count": 80,
   "metadata": {},
   "outputs": [
    {
     "name": "stdout",
     "output_type": "stream",
     "text": [
      "1\n",
      "5\n",
      "4\n",
      "6\n",
      "6\n",
      "7\n",
      "6\n",
      "7\n"
     ]
    }
   ],
   "source": [
    "ls = [(1,5),(4,6),(6,7),(6,7)]\n",
    "for (a,b) in ls:\n",
    "    \n",
    "    print(a)\n",
    "    print(b)"
   ]
  },
  {
   "cell_type": "markdown",
   "metadata": {},
   "source": [
    "###  Functions \n"
   ]
  },
  {
   "cell_type": "code",
   "execution_count": 82,
   "metadata": {},
   "outputs": [
    {
     "data": {
      "text/plain": [
       "11"
      ]
     },
     "execution_count": 82,
     "metadata": {},
     "output_type": "execute_result"
    }
   ],
   "source": [
    "def ad_two(a,b):\n",
    "    return a+b\n",
    "ad_two(5,6)"
   ]
  },
  {
   "cell_type": "code",
   "execution_count": 83,
   "metadata": {},
   "outputs": [
    {
     "name": "stdout",
     "output_type": "stream",
     "text": [
      "11\n"
     ]
    }
   ],
   "source": [
    "def ad_two(a,b):\n",
    "    return a+b\n",
    "total = ad_two(5,6)\n",
    "print(total)"
   ]
  },
  {
   "cell_type": "code",
   "execution_count": 89,
   "metadata": {},
   "outputs": [
    {
     "data": {
      "text/plain": [
       "'E'"
      ]
     },
     "execution_count": 89,
     "metadata": {},
     "output_type": "execute_result"
    }
   ],
   "source": [
    "def name (nam):\n",
    "    return nam[-1]\n",
    "\n",
    "name(\"ankit nAGDEDVE\")"
   ]
  },
  {
   "cell_type": "code",
   "execution_count": 94,
   "metadata": {},
   "outputs": [
    {
     "data": {
      "text/plain": [
       "'odd'"
      ]
     },
     "execution_count": 94,
     "metadata": {},
     "output_type": "execute_result"
    }
   ],
   "source": [
    "\n",
    "def odd_ev(num):\n",
    "    if num% 2== 0 :\n",
    "        return 'envn'\n",
    "    \n",
    "    return(\"odd\")\n",
    "odd_ev(55)"
   ]
  },
  {
   "cell_type": "code",
   "execution_count": 95,
   "metadata": {},
   "outputs": [
    {
     "name": "stdout",
     "output_type": "stream",
     "text": [
      "False\n"
     ]
    }
   ],
   "source": [
    "def is_eve(num):\n",
    "    if num % 2 == 0:\n",
    "        return True\n",
    "    else:\n",
    "        return False\n",
    "print(is_eve (9))"
   ]
  },
  {
   "cell_type": "code",
   "execution_count": 100,
   "metadata": {},
   "outputs": [
    {
     "data": {
      "text/plain": [
       "False"
      ]
     },
     "execution_count": 100,
     "metadata": {},
     "output_type": "execute_result"
    }
   ],
   "source": [
    "def is_eve(num):\n",
    "    \n",
    "        return  num% 2== 0# true or false\n",
    "    \n",
    "is_eve(5)"
   ]
  },
  {
   "cell_type": "code",
   "execution_count": 108,
   "metadata": {},
   "outputs": [
    {
     "name": "stdout",
     "output_type": "stream",
     "text": [
      "enter your no1\n",
      "enter your2nd no0\n",
      " the greater no is  1\n"
     ]
    }
   ],
   "source": [
    "def gr(a,b ):\n",
    "    if a> b :\n",
    "        return a\n",
    "    else:\n",
    "        return b\n",
    "num1 = int(input('enter your no'))\n",
    "num2 = int(input('enter your2nd no'))\n",
    "ge= gr(num1, num2) \n",
    "\n",
    "pr= print(f' the greater no is  {ge}')"
   ]
  },
  {
   "cell_type": "code",
   "execution_count": 6,
   "metadata": {},
   "outputs": [
    {
     "name": "stdout",
     "output_type": "stream",
     "text": [
      "enter your first no 1\n",
      "enter your 2nd no 0\n",
      " the greter no is 1\n"
     ]
    }
   ],
   "source": [
    "def ip(a,b):\n",
    "    if a>b:\n",
    "        return a\n",
    "    else: \n",
    "        return b\n",
    "    \n",
    "n1= int(input('enter your first no ' ))\n",
    "n2= int(input('enter your 2nd no '))\n",
    "\n",
    "store= ip(n1,n2)\n",
    "print (f' the greter no is {store}')\n"
   ]
  },
  {
   "cell_type": "code",
   "execution_count": 32,
   "metadata": {},
   "outputs": [
    {
     "name": "stdout",
     "output_type": "stream",
     "text": [
      "enter your first no 55\n",
      "enter your 2nd no 5\n",
      "enter your 3rd no 5\n",
      " the greter no is 55\n"
     ]
    }
   ],
   "source": [
    "def io(a,b,c):\n",
    "    if a>b and a> c:\n",
    "        return a\n",
    "    elif b> a and b> c:\n",
    "        return b\n",
    "    \n",
    "    else: \n",
    "        return c\n",
    "        \n",
    "    \n",
    "    \n",
    "n1= int(input('enter your first no ' ))\n",
    "n2= int(input('enter your 2nd no '))\n",
    "n3= int(input('enter your 3rd no '))\n",
    "\n",
    "store= io(n1,n2,n3)\n",
    "print (f' the greter no is {store}')\n"
   ]
  },
  {
   "cell_type": "code",
   "execution_count": 44,
   "metadata": {},
   "outputs": [],
   "source": [
    "# function inside function\n",
    "def greatest(a,b):\n",
    "    if a>b:\n",
    "        return a\n",
    "    else: \n",
    "        return b\n",
    "\n",
    "\n",
    "def new(a,b,c):\n",
    "    bigger= greatest(a,b)\n",
    "    return greatest(bigger, c)\n",
    "        #  this ip ko phirse call kar rahe h ip ka pahi la no bigeer me jeyega and dusra function jayega c\n",
    "\n"
   ]
  },
  {
   "cell_type": "code",
   "execution_count": 45,
   "metadata": {},
   "outputs": [
    {
     "data": {
      "text/plain": [
       "9"
      ]
     },
     "execution_count": 45,
     "metadata": {},
     "output_type": "execute_result"
    }
   ],
   "source": [
    "new(1,9,8)"
   ]
  },
  {
   "cell_type": "code",
   "execution_count": 49,
   "metadata": {},
   "outputs": [
    {
     "data": {
      "text/plain": [
       "9"
      ]
     },
     "execution_count": 49,
     "metadata": {},
     "output_type": "execute_result"
    }
   ],
   "source": [
    "# function inside function\n",
    "def greater(a,b):\n",
    "    if a>b:\n",
    "        return a\n",
    "    else: \n",
    "        return b\n",
    "    \n",
    "\n",
    "def new_greatest(a,b,c):\n",
    "    \n",
    "    return greater(greater(a,b),c)\n",
    "        #  this ip ko phirse call kar rahe h ip ka pahi la no bigeer me jeyega and dusra function jayega c\n",
    "        #in two line code but keep it simple as previous code\n",
    "new_greatest(1,9,6)"
   ]
  },
  {
   "cell_type": "code",
   "execution_count": 57,
   "metadata": {},
   "outputs": [
    {
     "data": {
      "text/plain": [
       "False"
      ]
     },
     "execution_count": 57,
     "metadata": {},
     "output_type": "execute_result"
    }
   ],
   "source": [
    "#vid  80\n",
    "\n",
    "def is_palindome(text):\n",
    "    if text[::-1] == text:  #reverse string by [::-1]\n",
    "        return True\n",
    "    else:\n",
    "        text[::-1] != text\n",
    "        return False\n",
    "    \n",
    "is_palindome('ankit')"
   ]
  },
  {
   "cell_type": "code",
   "execution_count": 59,
   "metadata": {},
   "outputs": [
    {
     "data": {
      "text/plain": [
       "False"
      ]
     },
     "execution_count": 59,
     "metadata": {},
     "output_type": "execute_result"
    }
   ],
   "source": [
    "def is_palindrome(x):\n",
    "    return x ==x[::-1] #return will always check conditions \n",
    "    #in true or false cases\n",
    "is_palindrome('ankit')"
   ]
  },
  {
   "cell_type": "code",
   "execution_count": 1,
   "metadata": {},
   "outputs": [
    {
     "name": "stdout",
     "output_type": "stream",
     "text": [
      "0 1 1 2 3 5 8 13 21 34 55 89 144 233 377 610 987 1597 2584 4181 "
     ]
    }
   ],
   "source": [
    "#fibonacci series\n",
    "#0 and 1 , 1 are fix\n",
    "#0,1,1,2,5,8,13,21,34\n",
    "\n",
    "def fibonacci(n):\n",
    "    a=0      # ye first no h\n",
    "    b=1      # 2nd no\n",
    "    \n",
    "    if n ==1:\n",
    "        print(a)\n",
    "    elif n==2:\n",
    "        print(a,b)\n",
    "        \n",
    "    else: #if user passed big no\n",
    "        \n",
    "        print(a,b, end = ' ') # end for to print no with space like 1,1,3,5,8\n",
    "        for i in range(n-2): # n- 2 is for pahile hi hum a and b print kara chuke h        \n",
    "            c= a+b # first loop value of c is 1,\n",
    "            a= b   # a= 1, 2\n",
    "            b= c\n",
    "        \n",
    "            print(b, end = ' ')\n",
    "        \n",
    "fibonacci(20)        "
   ]
  },
  {
   "cell_type": "code",
   "execution_count": 2,
   "metadata": {},
   "outputs": [
    {
     "name": "stdout",
     "output_type": "stream",
     "text": [
      " the hight is 5.7\n",
      " the age is 14\n"
     ]
    }
   ],
   "source": [
    "#defaul parameter in def function\n",
    "# default menas def any name (parameter = any value)\n",
    "# ex def age (hight ,age = 12)\n",
    "#print (f' the hight is {hight}')\n",
    "#print (f' the hight is {age}')\n",
    "\n",
    "def age (hight ,age = 14):\n",
    "    print (f' the hight is {hight}')\n",
    "    print (f' the age is {age}')\n",
    "\n",
    "age(5.7)\n"
   ]
  },
  {
   "cell_type": "code",
   "execution_count": 3,
   "metadata": {},
   "outputs": [
    {
     "name": "stdout",
     "output_type": "stream",
     "text": [
      " the weight is 5\n",
      " the hight is unknown\n",
      " the age is None\n"
     ]
    }
   ],
   "source": [
    "#we can make default in last parameter only in this case age\n",
    "\n",
    "#otherwise it will give an error\n",
    "\n",
    "def age (wt, hight= 'unknown' ,age =  None):\n",
    "    print (f' the weight is {wt}')\n",
    "    print (f' the hight is {hight}')\n",
    "    print (f' the age is {age}')\n",
    "\n",
    "age(5)\n"
   ]
  },
  {
   "cell_type": "code",
   "execution_count": 4,
   "metadata": {},
   "outputs": [],
   "source": [
    "#   scope \n",
    "# refer to global and local variable\n"
   ]
  },
  {
   "cell_type": "code",
   "execution_count": 5,
   "metadata": {},
   "outputs": [
    {
     "name": "stdout",
     "output_type": "stream",
     "text": [
      "[1, 23, 4, 5, 'six', None]\n"
     ]
    },
    {
     "data": {
      "text/plain": [
       "[23, 4, 5, 'six', None]"
      ]
     },
     "execution_count": 5,
     "metadata": {},
     "output_type": "execute_result"
    }
   ],
   "source": [
    "lis= [1,23,4,'five', 'six', None]\n",
    "lis[3] = 5\n",
    "print(lis)\n",
    "lis[1:]\n"
   ]
  },
  {
   "cell_type": "code",
   "execution_count": 6,
   "metadata": {},
   "outputs": [
    {
     "data": {
      "text/plain": [
       "[1, 'six', 'four']"
      ]
     },
     "execution_count": 6,
     "metadata": {},
     "output_type": "execute_result"
    }
   ],
   "source": [
    "lis[1:]= ['six','four']\n",
    "lis"
   ]
  },
  {
   "cell_type": "code",
   "execution_count": 7,
   "metadata": {},
   "outputs": [
    {
     "data": {
      "text/plain": [
       "['banana', 'shake', 'apple', 'mango', 'grapes', 'pomo']"
      ]
     },
     "execution_count": 7,
     "metadata": {},
     "output_type": "execute_result"
    }
   ],
   "source": [
    "# in  real problem me we dont know how many items we will put in lis so we use \n",
    "\n",
    "#  lis= [ ] empty list\n",
    "fruit= []\n",
    "fruit.append('banana')\n",
    "fruit.append('apple') # last me add hojayega\n",
    "fruit\n",
    "\n",
    "#  to add in exising list\n",
    "fruit.insert(1,'shake') # in second postion in list\n",
    "fruit\n",
    "\n",
    "fruit.insert(3,'mango') # in second postion in list\n",
    "fruit\n",
    "\n",
    "# concatinate\n",
    "\n",
    "fruit2 = [ 'grapes', 'pomo']\n",
    "\n",
    "fruits = fruit + fruit2\n",
    "fruits\n",
    "\n",
    "\n"
   ]
  },
  {
   "cell_type": "code",
   "execution_count": 8,
   "metadata": {},
   "outputs": [
    {
     "data": {
      "text/plain": [
       "['banana', 'shake', 'apple', 'mango', 'grapes', 'pomo']"
      ]
     },
     "execution_count": 8,
     "metadata": {},
     "output_type": "execute_result"
    }
   ],
   "source": [
    "# entend method\n",
    "\n",
    "# to add fruit2 in exisiting string fruit then extend method is useful\n",
    "\n",
    "fruit.extend(fruit2)\n",
    "fruit"
   ]
  },
  {
   "cell_type": "code",
   "execution_count": 9,
   "metadata": {},
   "outputs": [
    {
     "data": {
      "text/plain": [
       "['banana', 'shake', 'apple', 'mango', 'grapes', 'pomo', ['grapes', 'pomo']]"
      ]
     },
     "execution_count": 9,
     "metadata": {},
     "output_type": "execute_result"
    }
   ],
   "source": [
    "fruits.append(fruit2)\n",
    "fruits\n",
    "\n",
    "## list inside list \n",
    "\n"
   ]
  },
  {
   "cell_type": "code",
   "execution_count": 10,
   "metadata": {},
   "outputs": [
    {
     "data": {
      "text/plain": [
       "['banana', 'shake', 'apple', 'mango', 'grapes', 'pomo']"
      ]
     },
     "execution_count": 10,
     "metadata": {},
     "output_type": "execute_result"
    }
   ],
   "source": [
    "fruits.pop() # pop(index no)\n",
    "\n",
    "fruits"
   ]
  },
  {
   "cell_type": "code",
   "execution_count": 11,
   "metadata": {},
   "outputs": [
    {
     "data": {
      "text/plain": [
       "['banana', 'apple', 'mango', 'grapes', 'pomo']"
      ]
     },
     "execution_count": 11,
     "metadata": {},
     "output_type": "execute_result"
    }
   ],
   "source": [
    "del fruit[1]\n",
    "fruit"
   ]
  },
  {
   "cell_type": "code",
   "execution_count": 12,
   "metadata": {},
   "outputs": [
    {
     "data": {
      "text/plain": [
       "['apple', 'mango', 'grapes', 'pomo']"
      ]
     },
     "execution_count": 12,
     "metadata": {},
     "output_type": "execute_result"
    }
   ],
   "source": [
    "fruit.remove('banana')\n",
    "fruit"
   ]
  },
  {
   "cell_type": "code",
   "execution_count": 14,
   "metadata": {},
   "outputs": [
    {
     "data": {
      "text/plain": [
       "['apple', 'grapes', 'mango', 'pomo']"
      ]
     },
     "execution_count": 14,
     "metadata": {},
     "output_type": "execute_result"
    }
   ],
   "source": [
    "fruit.sort()\n",
    "fruit"
   ]
  },
  {
   "cell_type": "code",
   "execution_count": 17,
   "metadata": {},
   "outputs": [
    {
     "data": {
      "text/plain": [
       "1"
      ]
     },
     "execution_count": 17,
     "metadata": {},
     "output_type": "execute_result"
    }
   ],
   "source": [
    "fruit.count('apple')"
   ]
  },
  {
   "cell_type": "code",
   "execution_count": 20,
   "metadata": {},
   "outputs": [
    {
     "data": {
      "text/plain": [
       "['apple', 'grapes', 'mango', 'pomo']"
      ]
     },
     "execution_count": 20,
     "metadata": {},
     "output_type": "execute_result"
    }
   ],
   "source": [
    "fruit.reverse()\n",
    "fruit"
   ]
  },
  {
   "cell_type": "code",
   "execution_count": 21,
   "metadata": {},
   "outputs": [
    {
     "name": "stdout",
     "output_type": "stream",
     "text": [
      "False\n"
     ]
    }
   ],
   "source": [
    "# comapring list\n",
    "print(fruit == fruit2)"
   ]
  },
  {
   "cell_type": "code",
   "execution_count": 28,
   "metadata": {},
   "outputs": [
    {
     "name": "stdout",
     "output_type": "stream",
     "text": [
      "enter no ankit na\n",
      "['ankit', 'na']\n"
     ]
    }
   ],
   "source": [
    "# convert  string to list\n",
    "a= \"ank,it\"\n",
    "a.split(',')\n",
    "aa= input('enter no ').split(' ')\n",
    "print(aa)"
   ]
  },
  {
   "cell_type": "code",
   "execution_count": 29,
   "metadata": {},
   "outputs": [
    {
     "name": "stdout",
     "output_type": "stream",
     "text": [
      "enter your name  ankit nagdeve\n",
      "a,n,k,i,t, ,n,a,g,d,e,v,e\n"
     ]
    }
   ],
   "source": [
    "#convert list into string\n",
    "name = input('enter your name  ')\n",
    "print(','.join(name))\n",
    "\n",
    "\n"
   ]
  },
  {
   "cell_type": "code",
   "execution_count": 9,
   "metadata": {},
   "outputs": [
    {
     "name": "stdout",
     "output_type": "stream",
     "text": [
      "2\n",
      "4\n",
      "8\n",
      "3\n",
      "2\n",
      "************************************************************\n",
      "1\n",
      "2\n",
      "3\n",
      "3\n",
      "4\n",
      "5\n",
      "4\n",
      "7\n",
      "8\n"
     ]
    }
   ],
   "source": [
    "# list inside list\n",
    "\n",
    "l = [[1,2,3],[3,4,5],[4,7,8]]\n",
    "print(l[0][1])\n",
    "print(l[1][1])\n",
    "print(l[2][2])\n",
    "print(l[1][0])\n",
    "print(l[0][1])\n",
    "print('******'*10)\n",
    "\n",
    "for sublist in l:\n",
    "    for i in sublist:\n",
    "        print(i)"
   ]
  },
  {
   "cell_type": "markdown",
   "metadata": {},
   "source": []
  },
  {
   "cell_type": "code",
   "execution_count": 11,
   "metadata": {},
   "outputs": [
    {
     "data": {
      "text/plain": [
       "[[1, 2, 3], [3, 4, 5], [4, 7, 8]]"
      ]
     },
     "execution_count": 11,
     "metadata": {},
     "output_type": "execute_result"
    }
   ],
   "source": [
    "l"
   ]
  },
  {
   "cell_type": "code",
   "execution_count": 26,
   "metadata": {},
   "outputs": [
    {
     "name": "stdout",
     "output_type": "stream",
     "text": [
      "[1, 3, 5, 7, 9, 11, 13, 15, 17, 19, 21, 23, 25, 27, 29, 31, 33, 35, 37, 39, 41, 43, 45, 47, 49, 51, 53, 55, 57, 59, 61, 63, 65, 67, 69, 71, 73, 75, 77, 79, 81, 83, 85, 87, 89, 91, 93, 95, 97, 99]"
     ]
    }
   ],
   "source": [
    "n = list(range(1,100,2)) # with range function\n",
    "print(n, end ='')"
   ]
  },
  {
   "cell_type": "code",
   "execution_count": 15,
   "metadata": {},
   "outputs": [
    {
     "name": "stdout",
     "output_type": "stream",
     "text": [
      "[1, 4, 9, 16, 25, 36, 49, 64, 81, 100]\n"
     ]
    }
   ],
   "source": [
    "# print the list with square no\n",
    "\n",
    "def sq(l):                   # pahile hum define karenge function\n",
    "    \n",
    "    s =[] ####              #input hoga empty list as we dont know how many nos are in our lit\n",
    "    \n",
    "    for i in l:             # for loop chalange in each length l \n",
    "        s.append(i**2)     # hume each no ka sq karna h to humko add karna padega append kar k\n",
    "    return s ####      \n",
    "\n",
    "# square k taraf return hoga\n",
    "\n",
    "n=list(range(1,11)) # input dena h list to list dunction use kaena padega\n",
    "print(sq(n))"
   ]
  },
  {
   "cell_type": "markdown",
   "metadata": {},
   "source": [
    "### 100th video  "
   ]
  },
  {
   "cell_type": "code",
   "execution_count": 21,
   "metadata": {},
   "outputs": [
    {
     "name": "stdout",
     "output_type": "stream",
     "text": [
      "[9, 8, 7, 6, 5, 4, 3, 2, 1]\n"
     ]
    }
   ],
   "source": [
    "def rev(l):\n",
    "    ret = []\n",
    "    for i in range(len(l)):\n",
    "        popped = l.pop()\n",
    "        ret.append(popped)\n",
    "    return ret # will return to its empty list\n",
    "\n",
    "b =[1,2,3,4,5,6,7,8,9]\n",
    "print(rev(b))"
   ]
  },
  {
   "cell_type": "code",
   "execution_count": 29,
   "metadata": {},
   "outputs": [
    {
     "name": "stdout",
     "output_type": "stream",
     "text": [
      "['cba', 'fed', 'gfe']\n"
     ]
    }
   ],
   "source": [
    "def  strinG(revers):\n",
    "    \n",
    "    empty = []\n",
    "    \n",
    "    for i in revers:\n",
    "        re= i[::-1]\n",
    "        empty.append(re)\n",
    "    return empty\n",
    "\n",
    "word =['abc','def','efg']\n",
    "print(strinG(word))\n"
   ]
  },
  {
   "cell_type": "code",
   "execution_count": 34,
   "metadata": {},
   "outputs": [
    {
     "name": "stdout",
     "output_type": "stream",
     "text": [
      "['cba', 'fed', 'gfe']\n"
     ]
    }
   ],
   "source": [
    "def strin(s):\n",
    "    \n",
    "    empt = []\n",
    "    \n",
    "    for i in s:\n",
    "        \n",
    "        empt.append(i[::-1])\n",
    "        \n",
    "    return empt\n",
    "wrd =['abc','def','efg']\n",
    "print(strin(wrd))\n"
   ]
  },
  {
   "cell_type": "code",
   "execution_count": 50,
   "metadata": {},
   "outputs": [
    {
     "name": "stdout",
     "output_type": "stream",
     "text": [
      "([1, 3, 5, 7, 9], [2, 4, 6, 8, 10])\n",
      "**************************************************\n"
     ]
    }
   ],
   "source": [
    "def odd_even(o):\n",
    "        \n",
    "    odd = []\n",
    "    even = []\n",
    "    for i in (o):\n",
    "        if i %2==0:\n",
    "            even.append(i)\n",
    "        else:\n",
    "            \n",
    "            odd.append(i)\n",
    "            \n",
    "    return odd,even\n",
    "\n",
    "a =  list(range(1,11))\n",
    "\n",
    "print(odd_even(a))\n",
    "\n",
    "\n",
    "print('*'*50)\n",
    "\n"
   ]
  },
  {
   "cell_type": "code",
   "execution_count": 52,
   "metadata": {},
   "outputs": [
    {
     "data": {
      "text/plain": [
       "[[11, 13, 15, 17, 19], [12, 14, 16, 18, 20]]"
      ]
     },
     "execution_count": 52,
     "metadata": {},
     "output_type": "execute_result"
    }
   ],
   "source": [
    "def odd_even(o):\n",
    "        \n",
    "    odd = []\n",
    "    even = []\n",
    "    for i in (o):\n",
    "        if i %2==0:\n",
    "            even.append(i)\n",
    "        else:\n",
    "            \n",
    "            odd.append(i)\n",
    "    output= [odd, even]      \n",
    "    return output\n",
    "\n",
    "x =  list(range(11,21))\n",
    "(odd_even(x))\n",
    "\n"
   ]
  },
  {
   "cell_type": "code",
   "execution_count": 54,
   "metadata": {},
   "outputs": [
    {
     "data": {
      "text/plain": [
       "[1, 23, 44]"
      ]
     },
     "execution_count": 54,
     "metadata": {},
     "output_type": "execute_result"
    }
   ],
   "source": [
    "#logic is need to find the common no in list one and list 2\n",
    "\n",
    "# need to intialize two parameters in def function\n",
    "\n",
    "#thn hum for loop lagayenge and in for loop we will check ki\n",
    "# if list one k no list two me h ki nahi agar nahi h to hum us\n",
    "# empty list ko append karenge\n",
    "\n",
    "def common (list1,list2):\n",
    "    out= []\n",
    "    \n",
    "    for i in list1:\n",
    "        \n",
    "        if i in list2:\n",
    "            out.append(i) \n",
    "# hamesha jaruri nahi ki else likhe \n",
    "# without else we can return function\n",
    "\n",
    "    return out\n",
    "\n",
    "common([1,23,4,56,63,3,44],[1,23,44,5,667,878,44])\n",
    "    "
   ]
  },
  {
   "cell_type": "code",
   "execution_count": 62,
   "metadata": {},
   "outputs": [
    {
     "data": {
      "text/plain": [
       "[1, 2, 6, 7]"
      ]
     },
     "execution_count": 62,
     "metadata": {},
     "output_type": "execute_result"
    }
   ],
   "source": [
    "f = [1,2,34,5,6,7]\n",
    "g= [1,2,6,7,9]\n",
    "\n",
    "se =list(set(f).intersection(g))\n",
    "se\n"
   ]
  },
  {
   "cell_type": "code",
   "execution_count": 88,
   "metadata": {},
   "outputs": [
    {
     "data": {
      "text/plain": [
       "49"
      ]
     },
     "execution_count": 88,
     "metadata": {},
     "output_type": "execute_result"
    }
   ],
   "source": [
    "# min max function\n",
    "l1= [65,60,16,60]\n",
    "\n",
    "def grt(l):\n",
    "    return max(l) - min(l)\n",
    "grt(l1)"
   ]
  },
  {
   "cell_type": "code",
   "execution_count": 93,
   "metadata": {},
   "outputs": [
    {
     "name": "stdout",
     "output_type": "stream",
     "text": [
      "2\n"
     ]
    }
   ],
   "source": [
    "# to count how many list inside list are there \n",
    "\n",
    "def  coun(a):\n",
    "     \n",
    "    count =0\n",
    "    \n",
    "    for i in a:\n",
    "        \n",
    "        if type( i) == list:\n",
    "            \n",
    "            count+= 1\n",
    "    return count\n",
    "\n",
    "mix = [1,2,3, [1,2],[\"4m6m7m8\"]]\n",
    "print ( coun(mix))\n",
    "\n"
   ]
  },
  {
   "cell_type": "markdown",
   "metadata": {},
   "source": [
    "###  111 summery\n"
   ]
  },
  {
   "cell_type": "markdown",
   "metadata": {},
   "source": [
    "###  l = ('one ', 'two')\n",
    "\n",
    "# l = ('one ', 'two') ( brackets call tuple)\n",
    "\n",
    "\n",
    "\n",
    "#\n",
    "\n",
    "## l= (1,2,3)\n",
    "    \n",
    "     no .append() error\n",
    "\n",
    "    no  insert error\n",
    "    \n",
    "    no pop\n",
    "\n",
    "    no remove\n",
    "    \n",
    "# method\n",
    "     count\n",
    "     \n",
    "     len\n",
    "     \n",
    "     index\n",
    "     \n",
    "     slicing\n",
    "     \n",
    " "
   ]
  },
  {
   "cell_type": "markdown",
   "metadata": {},
   "source": []
  },
  {
   "cell_type": "code",
   "execution_count": 1,
   "metadata": {},
   "outputs": [
    {
     "name": "stdout",
     "output_type": "stream",
     "text": [
      "<class 'int'>\n",
      "<class 'tuple'>\n"
     ]
    }
   ],
   "source": [
    "#tuple with one element\n",
    "num = (1) #  this is interger\n",
    "num1= (1,) # ones you put comma , it will create as tuple\n",
    "print (type(num))\n",
    " \n",
    "print (type(num1))\n",
    "\n",
    "\n"
   ]
  },
  {
   "cell_type": "code",
   "execution_count": 6,
   "metadata": {},
   "outputs": [
    {
     "name": "stdout",
     "output_type": "stream",
     "text": [
      "ankit1\n",
      "sanket2\n",
      "mummy3\n"
     ]
    }
   ],
   "source": [
    "#  tuple without paranthesis\n",
    "\n",
    "guitar = 'g1', 'g2', 'g3'\n",
    "type(guitar)\n",
    "\n",
    "# tuple unpacking\n",
    "\n",
    "guitar = ('ankit1', 'sanket2', 'mummy3')  # will assign the each elememt \n",
    "\n",
    "g1, g2, g3 = (guitar) # in this manner\n",
    "\n",
    "\n",
    "print(g1)\n",
    "print(g2)\n",
    "print(g3)\n"
   ]
  },
  {
   "cell_type": "code",
   "execution_count": 8,
   "metadata": {},
   "outputs": [
    {
     "name": "stdout",
     "output_type": "stream",
     "text": [
      "('california', 'tokyo', ['mumbai '])\n"
     ]
    }
   ],
   "source": [
    "#  list inside tuple\n",
    "fav = ('california', 'tokyo',['mumbai', 'delhi'])\n",
    "fav[2].pop()\n",
    "print(fav)"
   ]
  },
  {
   "cell_type": "code",
   "execution_count": null,
   "metadata": {},
   "outputs": [],
   "source": []
  },
  {
   "cell_type": "code",
   "execution_count": null,
   "metadata": {},
   "outputs": [],
   "source": []
  },
  {
   "cell_type": "code",
   "execution_count": null,
   "metadata": {},
   "outputs": [],
   "source": []
  },
  {
   "cell_type": "code",
   "execution_count": null,
   "metadata": {},
   "outputs": [],
   "source": []
  },
  {
   "cell_type": "code",
   "execution_count": 10,
   "metadata": {},
   "outputs": [
    {
     "data": {
      "text/plain": [
       "('california', 'tokyo', ['mumbai ', 'peru', 'peru'])"
      ]
     },
     "execution_count": 10,
     "metadata": {},
     "output_type": "execute_result"
    }
   ],
   "source": [
    "fav[2].append('peru')\n",
    "fav"
   ]
  },
  {
   "cell_type": "code",
   "execution_count": null,
   "metadata": {},
   "outputs": [],
   "source": [
    "#function use in tuple \n",
    "#  min , max with this tuple option\n",
    "   \n",
    "    "
   ]
  },
  {
   "cell_type": "code",
   "execution_count": 22,
   "metadata": {},
   "outputs": [
    {
     "data": {
      "text/plain": [
       "(11, 30)"
      ]
     },
     "execution_count": 22,
     "metadata": {},
     "output_type": "execute_result"
    }
   ],
   "source": [
    "#  function returning two values\n",
    "def add(i1 , i2):\n",
    "    \n",
    "    addition= i1+i2\n",
    "    multiple = i1* i2\n",
    "    return addition,multiple\n",
    "\n",
    "add(5,6) # this will return to  only one tuple\n",
    "\n",
    "#  to get separate values of this tuple store in the different varibale\n",
    "\n"
   ]
  },
  {
   "cell_type": "code",
   "execution_count": 21,
   "metadata": {},
   "outputs": [
    {
     "name": "stdout",
     "output_type": "stream",
     "text": [
      "11\n",
      "30\n"
     ]
    }
   ],
   "source": [
    "addd, mult= add(5,6)\n",
    "\n",
    "print(addd)\n",
    "\n",
    "print(mult)"
   ]
  },
  {
   "cell_type": "code",
   "execution_count": 24,
   "metadata": {},
   "outputs": [
    {
     "data": {
      "text/plain": [
       "(1, 2, 3, 4, 5, 6, 7, 8, 9, 10, 11)"
      ]
     },
     "execution_count": 24,
     "metadata": {},
     "output_type": "execute_result"
    }
   ],
   "source": [
    "num = tuple(range(1,12)) # simple write tuple to convert list into tuple\n",
    "\n",
    "print(num)\n",
    "print('*'*50)"
   ]
  },
  {
   "cell_type": "code",
   "execution_count": 27,
   "metadata": {},
   "outputs": [
    {
     "data": {
      "text/plain": [
       "[1, 2, 3, 4, 5, 6, 7, 8, 9, 10, 11]"
      ]
     },
     "execution_count": 27,
     "metadata": {},
     "output_type": "execute_result"
    }
   ],
   "source": [
    "num = list(range(1,12)) # simple write tuple to convert list into tuple\n",
    "num"
   ]
  },
  {
   "cell_type": "code",
   "execution_count": 36,
   "metadata": {},
   "outputs": [
    {
     "name": "stdout",
     "output_type": "stream",
     "text": [
      "[1, 2, 3, 4, 5, 6, 7, 8, 9, 10, 11]\n"
     ]
    },
    {
     "data": {
      "text/plain": [
       "list"
      ]
     },
     "execution_count": 36,
     "metadata": {},
     "output_type": "execute_result"
    }
   ],
   "source": [
    "num = list(range(1,12)) # simple write tuple to convert list into tuple\n",
    "num\n",
    "print(num)\n",
    "\n",
    "type(num) "
   ]
  },
  {
   "cell_type": "code",
   "execution_count": 35,
   "metadata": {},
   "outputs": [
    {
     "name": "stdout",
     "output_type": "stream",
     "text": [
      "(1, 2, 3, 4, 5, 6, 7, 8, 9, 10, 11)\n"
     ]
    },
    {
     "data": {
      "text/plain": [
       "str"
      ]
     },
     "execution_count": 35,
     "metadata": {},
     "output_type": "execute_result"
    }
   ],
   "source": [
    "num = str((1, 2, 3, 4, 5, 6, 7, 8, 9, 10, 11)) # simple write tuple to convert list into tuple\n",
    "print(num)\n",
    "\n",
    "type(num) "
   ]
  },
  {
   "cell_type": "code",
   "execution_count": 34,
   "metadata": {},
   "outputs": [
    {
     "name": "stdout",
     "output_type": "stream",
     "text": [
      "[1, 2, 3, 4, 5, 6, 7, 8, 9, 10, 11]\n"
     ]
    },
    {
     "data": {
      "text/plain": [
       "str"
      ]
     },
     "execution_count": 34,
     "metadata": {},
     "output_type": "execute_result"
    }
   ],
   "source": [
    "num = str([1, 2, 3, 4, 5, 6, 7, 8, 9, 10, 11]) # simple write tuple to convert list into tuple\n",
    "print(num)\n",
    "\n",
    "type(num)  # this is also string"
   ]
  },
  {
   "cell_type": "markdown",
   "metadata": {},
   "source": [
    "##  tuples are imutable\n",
    "\n",
    "## tuples are orderd collection\n",
    "\n",
    "## can store any data type\n",
    "\n",
    "## you cannot change add or delete values from tuple once it created \n",
    "\n",
    "##  but you can add delete data from list inside tuple \n",
    "\n"
   ]
  },
  {
   "cell_type": "markdown",
   "metadata": {},
   "source": [
    "# DICTIONARIES\n",
    "\n",
    "## WHY DOCTIONARY ?  it is   *unorderd* collection of data key value pair \n",
    "\n",
    "in real wolrd life data represent karne k lie list kafi nahi h \n",
    "\n",
    "ex user name age and fav movies and city\n",
    "\n",
    "list is not enough \n",
    "\n",
    "\n"
   ]
  },
  {
   "cell_type": "code",
   "execution_count": null,
   "metadata": {},
   "outputs": [],
   "source": []
  },
  {
   "cell_type": "code",
   "execution_count": 40,
   "metadata": {},
   "outputs": [
    {
     "data": {
      "text/plain": [
       "{'age': 20, 'aage2': 25, 'age3': 6}"
      ]
     },
     "execution_count": 40,
     "metadata": {},
     "output_type": "execute_result"
    }
   ],
   "source": [
    "dic = {'age' : 20, 'aage2': 25, 'age3': 6}\n",
    "dic"
   ]
  },
  {
   "cell_type": "code",
   "execution_count": 42,
   "metadata": {},
   "outputs": [
    {
     "data": {
      "text/plain": [
       "{'name': 'ankit', 'age': '26'}"
      ]
     },
     "execution_count": 42,
     "metadata": {},
     "output_type": "execute_result"
    }
   ],
   "source": [
    " # 2nd method ye h  to generate dicts\n",
    " #  dictionaries me index nahi hota kyu ki ye unorderd data h\n",
    "    \n",
    "dictt = dict(name = 'ankit', age = '26')\n",
    "dictt\n",
    "\n",
    "# dicts ko acces kar ne k liye hum key ko access karte"
   ]
  },
  {
   "cell_type": "code",
   "execution_count": 46,
   "metadata": {},
   "outputs": [
    {
     "data": {
      "text/plain": [
       "'ankit'"
      ]
     },
     "execution_count": 46,
     "metadata": {},
     "output_type": "execute_result"
    }
   ],
   "source": [
    "dictt['name']\n",
    "\n",
    "# in  dictionary we can store any no dicts strings dicts inside dicts\n",
    "\n",
    "# HUM COMPLEX DATA STORE KAR SAKTE H DICTS M\n"
   ]
  },
  {
   "cell_type": "code",
   "execution_count": 68,
   "metadata": {},
   "outputs": [
    {
     "data": {
      "text/plain": [
       "{'name': 'ankit',\n",
       " 'age ': 27,\n",
       " 'movies': ['harry potter', ' ye jwani'],\n",
       " 'location': ['mumbai', ' nagpur']}"
      ]
     },
     "execution_count": 68,
     "metadata": {},
     "output_type": "execute_result"
    }
   ],
   "source": [
    "user=  {\n",
    "    'name': 'ankit', \n",
    "    'age ': 27, \n",
    "    'movies': ['harry potter', ' ye jwani'],\n",
    "    'location': ['mumbai', ' nagpur']}\n",
    "user"
   ]
  },
  {
   "cell_type": "code",
   "execution_count": 54,
   "metadata": {},
   "outputs": [
    {
     "data": {
      "text/plain": [
       "{'name': 'sanket', 'age': 24}"
      ]
     },
     "execution_count": 54,
     "metadata": {},
     "output_type": "execute_result"
    }
   ],
   "source": [
    "user1 = {}\n",
    "user1['name'] = 'sanket'\n",
    "user1['age'] = 24\n",
    "user1\n"
   ]
  },
  {
   "cell_type": "code",
   "execution_count": 65,
   "metadata": {},
   "outputs": [
    {
     "name": "stdout",
     "output_type": "stream",
     "text": [
      "yes  name key  is present\n",
      "**************************************************\n",
      "not present\n"
     ]
    }
   ],
   "source": [
    "#  keyword and iterations in dictionary\n",
    "\n",
    "# will check if exist keys are in dictionary or not \n",
    "\n",
    "if \"name\" in user:\n",
    "    print('yes  name key  is present')\n",
    "    \n",
    "print('*' * 50)\n",
    "\n",
    "#  to chekc values in dictionary\n",
    "# user.values()\n"
   ]
  },
  {
   "cell_type": "code",
   "execution_count": 70,
   "metadata": {},
   "outputs": [
    {
     "name": "stdout",
     "output_type": "stream",
     "text": [
      "present\n"
     ]
    }
   ],
   "source": [
    "if 27 in user.values():\n",
    "    print ('present')\n",
    "else:\n",
    "    print('not present')\n"
   ]
  },
  {
   "cell_type": "code",
   "execution_count": 72,
   "metadata": {},
   "outputs": [
    {
     "name": "stdout",
     "output_type": "stream",
     "text": [
      "name\n",
      "age \n",
      "movies\n",
      "location\n",
      "**************************************************\n",
      "ankit\n",
      "27\n",
      "['harry potter', ' ye jwani']\n",
      "['mumbai', ' nagpur']\n"
     ]
    }
   ],
   "source": [
    " #  LOOPS IN  dicts\n",
    "for i in user:\n",
    "    print(i)\n",
    "\n",
    "print('*'*50)\n",
    "\n",
    "for i in user.values():\n",
    "    print(i)\n"
   ]
  },
  {
   "cell_type": "code",
   "execution_count": 75,
   "metadata": {},
   "outputs": [
    {
     "name": "stdout",
     "output_type": "stream",
     "text": [
      "dict_values(['ankit', 27, ['harry potter', ' ye jwani'], ['mumbai', ' nagpur']])\n",
      "<class 'dict_values'>\n"
     ]
    }
   ],
   "source": [
    "u1 = user.values()\n",
    "print (u1)\n",
    "print(type(u1))"
   ]
  },
  {
   "cell_type": "code",
   "execution_count": 76,
   "metadata": {},
   "outputs": [
    {
     "name": "stdout",
     "output_type": "stream",
     "text": [
      "ankit\n",
      "27\n",
      "['harry potter', ' ye jwani']\n",
      "['mumbai', ' nagpur']\n"
     ]
    }
   ],
   "source": [
    "for i in user:\n",
    "    print(user[i])\n",
    "\n",
    "# it is same as .values() function"
   ]
  },
  {
   "cell_type": "code",
   "execution_count": 81,
   "metadata": {},
   "outputs": [
    {
     "name": "stdout",
     "output_type": "stream",
     "text": [
      "dict_items([('name', 'ankit'), ('age ', 27), ('movies', ['harry potter', ' ye jwani']), ('location', ['mumbai', ' nagpur'])])\n",
      "**************************************************\n",
      "<class 'dict_items'>\n"
     ]
    }
   ],
   "source": [
    " # items method \n",
    " #  agar me loop chalata hu   \n",
    "i= user.items()\n",
    "print(i)\n",
    "print('*'*50)\n",
    "\n",
    "print(type(i))\n",
    "\n",
    " # print in tuple form"
   ]
  },
  {
   "cell_type": "code",
   "execution_count": 82,
   "metadata": {},
   "outputs": [
    {
     "name": "stdout",
     "output_type": "stream",
     "text": [
      "key is name and values ankit\n",
      "key is age  and values 27\n",
      "key is movies and values ['harry potter', ' ye jwani']\n",
      "key is location and values ['mumbai', ' nagpur']\n"
     ]
    }
   ],
   "source": [
    "for key, values in user.items():\n",
    "    print(f'key is {key} and values {values}')\n",
    "    \n",
    "# yah pe bhi tuple unpacking ho rahi h\n",
    "\n"
   ]
  },
  {
   "cell_type": "code",
   "execution_count": 95,
   "metadata": {},
   "outputs": [
    {
     "data": {
      "text/plain": [
       "['cocka', 'raat bhar']"
      ]
     },
     "execution_count": 95,
     "metadata": {},
     "output_type": "execute_result"
    }
   ],
   "source": [
    "#  add delete in dicts\n",
    "user1=  {\n",
    "    'name': 'ankit', \n",
    "    'age ': 27, \n",
    "    'movies': ['harry potter', ' ye jwani'],\n",
    "    'location': ['mumbai', ' nagpur'],\n",
    "    'songs' :[\"cocka\", 'raat bhar']\n",
    "}\n",
    "user1.pop('songs') # need to write key inside  pop()"
   ]
  },
  {
   "cell_type": "markdown",
   "metadata": {},
   "source": [
    "###  # jab randomly koi bhi key value delete karna h  to \n",
    "#  popitem method"
   ]
  },
  {
   "cell_type": "code",
   "execution_count": 104,
   "metadata": {},
   "outputs": [],
   "source": [
    "user2=  {\n",
    "    'name': 'ankit', \n",
    "    'age ': 27, \n",
    "    'movies': ['harry potter', ' ye jwani'],\n",
    "    'location': ['mumbai', ' nagpur'],\n",
    "    'songs' :[\"cocka\", 'raat bhar']}\n"
   ]
  },
  {
   "cell_type": "code",
   "execution_count": 101,
   "metadata": {},
   "outputs": [
    {
     "name": "stdout",
     "output_type": "stream",
     "text": [
      "('location', ['mumbai', ' nagpur'])\n"
     ]
    },
    {
     "data": {
      "text/plain": [
       "tuple"
      ]
     },
     "execution_count": 101,
     "metadata": {},
     "output_type": "execute_result"
    }
   ],
   "source": [
    "# jab randomly koi bhi key value delete karna h  to \n",
    "#  popitem method\n",
    "\n"
   ]
  },
  {
   "cell_type": "code",
   "execution_count": 105,
   "metadata": {},
   "outputs": [
    {
     "name": "stdout",
     "output_type": "stream",
     "text": [
      "('songs', ['cocka', 'raat bhar'])\n"
     ]
    },
    {
     "data": {
      "text/plain": [
       "tuple"
      ]
     },
     "execution_count": 105,
     "metadata": {},
     "output_type": "execute_result"
    }
   ],
   "source": [
    "store= user2.popitem()\n",
    "print(store)\n",
    "type(store)"
   ]
  },
  {
   "cell_type": "code",
   "execution_count": 106,
   "metadata": {},
   "outputs": [
    {
     "data": {
      "text/plain": [
       "{'name': 'ankit',\n",
       " 'age ': 27,\n",
       " 'movies': ['harry potter', ' ye jwani'],\n",
       " 'location': ['mumbai', ' nagpur']}"
      ]
     },
     "execution_count": 106,
     "metadata": {},
     "output_type": "execute_result"
    }
   ],
   "source": [
    "user2"
   ]
  },
  {
   "cell_type": "code",
   "execution_count": 107,
   "metadata": {},
   "outputs": [
    {
     "name": "stdout",
     "output_type": "stream",
     "text": [
      "('location', ['mumbai', ' nagpur'])\n"
     ]
    },
    {
     "data": {
      "text/plain": [
       "tuple"
      ]
     },
     "execution_count": 107,
     "metadata": {},
     "output_type": "execute_result"
    }
   ],
   "source": [
    "store= user2.popitem()\n",
    "print(store)\n",
    "type(store)\n"
   ]
  },
  {
   "cell_type": "markdown",
   "metadata": {},
   "source": [
    "###  to add values in dictonary\n",
    "\n",
    "# use .update ( new dict)"
   ]
  },
  {
   "cell_type": "code",
   "execution_count": 109,
   "metadata": {},
   "outputs": [
    {
     "data": {
      "text/plain": [
       "{'name': 'ankit',\n",
       " 'age ': 27,\n",
       " 'movies': ['harry potter', ' ye jwani'],\n",
       " 'state': 'maharashtra',\n",
       " 'hobbies': ' travel'}"
      ]
     },
     "execution_count": 109,
     "metadata": {},
     "output_type": "execute_result"
    }
   ],
   "source": [
    "info = dict(state = 'maharashtra', hobbies = ' travel')\n",
    "user2.update (info)\n",
    "user2"
   ]
  },
  {
   "cell_type": "code",
   "execution_count": 111,
   "metadata": {},
   "outputs": [
    {
     "data": {
      "text/plain": [
       "{'name': 'ankit nagdeve',\n",
       " 'age ': 27,\n",
       " 'movies': ['harry potter', ' ye jwani'],\n",
       " 'state': 'maharashtra',\n",
       " 'hobbies': ' convo'}"
      ]
     },
     "execution_count": 111,
     "metadata": {},
     "output_type": "execute_result"
    }
   ],
   "source": [
    "info1 = dict(name = 'ankit nagdeve', hobbies = ' convo')\n",
    "user2.update (info1)\n",
    "user2\n",
    "\n",
    "# agar key name same h alag alag dictonary k to wo name keys\n",
    "#  alag se add nahi honge \n",
    "# exisiting keys me hi add hoga "
   ]
  },
  {
   "cell_type": "code",
   "execution_count": 113,
   "metadata": {},
   "outputs": [
    {
     "data": {
      "text/plain": [
       "{'name': None, 'age': None, 'hight': None}"
      ]
     },
     "execution_count": 113,
     "metadata": {},
     "output_type": "execute_result"
    }
   ],
   "source": [
    " # from keys method hum dictionary ko create kar ne liye use karte h\n",
    "    ## d ={'name': 'unknown'\n",
    "     #  , 'age ': 'unknown'}\n",
    "    \n",
    "d = dict.fromkeys(['name', 'age','hight'])\n",
    "d\n",
    "#  this is for list\n"
   ]
  },
  {
   "cell_type": "code",
   "execution_count": 121,
   "metadata": {},
   "outputs": [
    {
     "data": {
      "text/plain": [
       "{'a': ('name', 'age', 'hight'),\n",
       " 'b': ('name', 'age', 'hight'),\n",
       " 'c': ('name', 'age', 'hight')}"
      ]
     },
     "execution_count": 121,
     "metadata": {},
     "output_type": "execute_result"
    }
   ],
   "source": [
    "d1 = dict.fromkeys('abc',('name', 'age','hight'))\n",
    "                #  ye  abc alag alag string ban jayegi\n",
    "    \n",
    "d1#  this is for list\n"
   ]
  },
  {
   "cell_type": "code",
   "execution_count": 125,
   "metadata": {},
   "outputs": [
    {
     "data": {
      "text/plain": [
       "{'a': ('name', 'age', 'hight', ('loc', 'edu')),\n",
       " 'b': ('name', 'age', 'hight', ('loc', 'edu')),\n",
       " 'c': ('name', 'age', 'hight', ('loc', 'edu')),\n",
       " 'd': ('name', 'age', 'hight', ('loc', 'edu'))}"
      ]
     },
     "execution_count": 125,
     "metadata": {},
     "output_type": "execute_result"
    }
   ],
   "source": [
    "d2 = dict.fromkeys('abcd',('name', 'age','hight',('loc', 'edu')))\n",
    "                #  ye  abc alag alag string ban jayegi\n",
    "    \n",
    "d2#  this is for list\n"
   ]
  },
  {
   "cell_type": "code",
   "execution_count": 129,
   "metadata": {},
   "outputs": [
    {
     "data": {
      "text/plain": [
       "{1: 'name age hight',\n",
       " 2: 'name age hight',\n",
       " 3: 'name age hight',\n",
       " 4: 'name age hight',\n",
       " 5: 'name age hight',\n",
       " 6: 'name age hight',\n",
       " 7: 'name age hight',\n",
       " 8: 'name age hight',\n",
       " 9: 'name age hight',\n",
       " 10: 'name age hight'}"
      ]
     },
     "execution_count": 129,
     "metadata": {},
     "output_type": "execute_result"
    }
   ],
   "source": [
    "d3= dict.fromkeys(range(1,11), 'name age hight')\n",
    "d3"
   ]
  },
  {
   "cell_type": "code",
   "execution_count": 134,
   "metadata": {},
   "outputs": [
    {
     "data": {
      "text/plain": [
       "{'name': 'ankit nagdeve',\n",
       " 'age ': 27,\n",
       " 'movies': ['harry potter', ' ye jwani'],\n",
       " 'state': 'maharashtra',\n",
       " 'hobbies': ' convo'}"
      ]
     },
     "execution_count": 134,
     "metadata": {},
     "output_type": "execute_result"
    }
   ],
   "source": [
    "user2 "
   ]
  },
  {
   "cell_type": "code",
   "execution_count": 146,
   "metadata": {},
   "outputs": [
    {
     "data": {
      "text/plain": [
       "{'name': 'unknown', 'age': 'unknown'}"
      ]
     },
     "execution_count": 146,
     "metadata": {},
     "output_type": "execute_result"
    }
   ],
   "source": [
    "d4 = dict.fromkeys(['name','age'], ('unknown'))\n",
    "d4"
   ]
  },
  {
   "cell_type": "code",
   "execution_count": 157,
   "metadata": {},
   "outputs": [
    {
     "name": "stdout",
     "output_type": "stream",
     "text": [
      "None\n"
     ]
    }
   ],
   "source": [
    " # get  method to access the dicts\n",
    "    \n",
    "print(user2.get('age')) # agAR YE KEYWORD DICTS ME  h nahi to use get function\n",
    "\n"
   ]
  },
  {
   "cell_type": "code",
   "execution_count": 158,
   "metadata": {},
   "outputs": [
    {
     "name": "stdout",
     "output_type": "stream",
     "text": [
      "yes name is in dicts\n"
     ]
    }
   ],
   "source": [
    "if user2.get('name'):\n",
    "        print('yes name is in dicts')\n",
    "else:\n",
    "    print ('not present') # if None means \n",
    "                            # ELSE Means True"
   ]
  },
  {
   "cell_type": "code",
   "execution_count": 163,
   "metadata": {},
   "outputs": [
    {
     "data": {
      "text/plain": [
       "{'name': 'ankit nagdeve',\n",
       " 'age ': 27,\n",
       " 'movies': ['harry potter', ' ye jwani'],\n",
       " 'state': 'maharashtra',\n",
       " 'hobbies': ' convo'}"
      ]
     },
     "execution_count": 163,
     "metadata": {},
     "output_type": "execute_result"
    }
   ],
   "source": [
    "\n",
    "user2"
   ]
  },
  {
   "cell_type": "code",
   "execution_count": 167,
   "metadata": {},
   "outputs": [
    {
     "name": "stdout",
     "output_type": "stream",
     "text": [
      "('hobbies', ' convo')\n"
     ]
    },
    {
     "data": {
      "text/plain": [
       "{'name': 'ankit nagdeve',\n",
       " 'age ': 27,\n",
       " 'movies': ['harry potter', ' ye jwani'],\n",
       " 'state': 'maharashtra'}"
      ]
     },
     "execution_count": 167,
     "metadata": {},
     "output_type": "execute_result"
    }
   ],
   "source": [
    "user4= user2.copy()\n",
    "user4\n",
    "print(user4.popitem())\n",
    "user4"
   ]
  },
  {
   "cell_type": "code",
   "execution_count": 168,
   "metadata": {
    "scrolled": true
   },
   "outputs": [
    {
     "name": "stdout",
     "output_type": "stream",
     "text": [
      "False\n"
     ]
    }
   ],
   "source": [
    "print(user2== user4) # values  cehck karega"
   ]
  },
  {
   "cell_type": "code",
   "execution_count": 171,
   "metadata": {},
   "outputs": [
    {
     "name": "stdout",
     "output_type": "stream",
     "text": [
      "False\n"
     ]
    }
   ],
   "source": [
    "print(user2 is user4) #  check karna h to we can use 'is' "
   ]
  },
  {
   "cell_type": "code",
   "execution_count": 172,
   "metadata": {},
   "outputs": [
    {
     "data": {
      "text/plain": [
       "'not found any named key fav'"
      ]
     },
     "execution_count": 172,
     "metadata": {},
     "output_type": "execute_result"
    }
   ],
   "source": [
    "#  we can use get function if our key is not in dicts\n",
    "# then we can use user.get('names', 'Not Found this key')\n",
    "user4.get('fav', 'not found any named key fav')\n",
    "#  ek dicts me ek hi unique key hogi. do hogi to overwrite hojayegi"
   ]
  },
  {
   "cell_type": "code",
   "execution_count": 174,
   "metadata": {},
   "outputs": [
    {
     "data": {
      "text/plain": [
       "{1: 1, 2: 8, 3: 27, 4: 64, 5: 125, 6: 216, 7: 343, 8: 512, 9: 729, 10: 1000}"
      ]
     },
     "execution_count": 174,
     "metadata": {},
     "output_type": "execute_result"
    }
   ],
   "source": [
    "def cube_fin_dict(n):\n",
    "    \n",
    "    cube = {}  # empty dict  assign karnege n no dicts k lye\n",
    "    \n",
    "    for i in range(1, n+1) :   # range hamesha n-1 taq jati h to hum n+ 1 likhte\n",
    "                              # taki last no count ho\n",
    "        \n",
    "        cube[i] =i**3\n",
    "    return cube\n",
    "cube_fin_dict(10)"
   ]
  },
  {
   "cell_type": "code",
   "execution_count": 179,
   "metadata": {},
   "outputs": [
    {
     "name": "stdout",
     "output_type": "stream",
     "text": [
      "{'a': 1, 'n': 1, 'k': 1, 'i': 1, 't': 5}\n"
     ]
    }
   ],
   "source": [
    "# word counter\n",
    "\n",
    "def word(s):\n",
    "    \n",
    "    char= {}\n",
    "    \n",
    "    for  i in s:\n",
    "        char[i] = s.count(i)\n",
    "    return char\n",
    "print(word('ankittttt'))"
   ]
  },
  {
   "cell_type": "code",
   "execution_count": null,
   "metadata": {},
   "outputs": [],
   "source": []
  },
  {
   "cell_type": "code",
   "execution_count": 206,
   "metadata": {},
   "outputs": [
    {
     "name": "stdout",
     "output_type": "stream",
     "text": [
      "enter your name snfk \n",
      "enter your age 24\n",
      "enter your  faivorate separated  by ,  a1,f,r,4,\n",
      "enter your fav songs separated  by commma a,d,f,g\n",
      "name snfk \n",
      "age 24\n",
      "fav_movies ['a1', 'f', 'r', '4', '']\n",
      "song ['a', 'd', 'f', 'g']\n"
     ]
    }
   ],
   "source": [
    "name= input('enter your name ')\n",
    "age = input('enter your age ')\n",
    "fav_movies = input('enter your  faivorate separated  by ,  ').split(',')           \n",
    "song = input('enter your fav songs separated  by commma ' ).split(',')\n",
    "user = {}\n",
    "user['name']= name\n",
    "user['age']= age\n",
    "user['fav_movies']= fav_movies\n",
    "\n",
    "\n",
    "user['song']= song\n",
    "\n",
    "for key, value in user.items(): # with  .items function we weill get each keys and values\n",
    "    print(f'{key} {value}')\n"
   ]
  },
  {
   "cell_type": "markdown",
   "metadata": {},
   "source": [
    "#     SET \n",
    "\n",
    "set me unique items hoti h ek bar me ek hi value print karegi\n",
    "\n",
    "and unordered collection\n",
    "\n",
    "so indexing nahi h possible\n",
    "\n",
    "list h usme items h aur humko duplicate values delete kar ne h \n",
    "set use hoga wah\n",
    "\n"
   ]
  },
  {
   "cell_type": "code",
   "execution_count": 210,
   "metadata": {},
   "outputs": [
    {
     "data": {
      "text/plain": [
       "{1, 2, 3, 4, 5, 6, 7, 34, 89}"
      ]
     },
     "execution_count": 210,
     "metadata": {},
     "output_type": "execute_result"
    }
   ],
   "source": [
    "ls= [1,2,34,5,6,7,89,6,5,4,3,2,2,3,4,5]\n",
    "s1= set(ls) # unique values\n",
    "s1"
   ]
  },
  {
   "cell_type": "code",
   "execution_count": 212,
   "metadata": {},
   "outputs": [
    {
     "data": {
      "text/plain": [
       "[1, 2, 34, 4, 5, 6, 7, 3, 89]"
      ]
     },
     "execution_count": 212,
     "metadata": {},
     "output_type": "execute_result"
    }
   ],
   "source": [
    "s2= list(s1)\n",
    "s2"
   ]
  },
  {
   "cell_type": "code",
   "execution_count": 221,
   "metadata": {},
   "outputs": [
    {
     "data": {
      "text/plain": [
       "{1, 2, 3, 4, 5, 6, 7, 34, 80, 89}"
      ]
     },
     "execution_count": 221,
     "metadata": {},
     "output_type": "execute_result"
    }
   ],
   "source": [
    "# add method\n",
    "\n",
    "s1.add(80) # for set only add () function will apply\n",
    "s1"
   ]
  },
  {
   "cell_type": "code",
   "execution_count": 222,
   "metadata": {},
   "outputs": [
    {
     "data": {
      "text/plain": [
       "{1, 2, 3, 4, 5, 6, 7, 34, 89}"
      ]
     },
     "execution_count": 222,
     "metadata": {},
     "output_type": "execute_result"
    }
   ],
   "source": [
    "#  remove method\n",
    "s1.remove(80)\n",
    "s1"
   ]
  },
  {
   "cell_type": "code",
   "execution_count": 225,
   "metadata": {},
   "outputs": [
    {
     "data": {
      "text/plain": [
       "{1, 3, 4, 5, 6, 7, 34, 89}"
      ]
     },
     "execution_count": 225,
     "metadata": {},
     "output_type": "execute_result"
    }
   ],
   "source": [
    "#  discard method  will not give an error even if you dont have that item in your list\n",
    "\n",
    "s1.discard(2)\n",
    "s1\n",
    "\n"
   ]
  },
  {
   "cell_type": "markdown",
   "metadata": {},
   "source": [
    "####  # set me hum list, tuple dicts nahi store kar sakte\n",
    "\n",
    "numbers store kar sakte strings bhi\n",
    "\n",
    "s4= {1,1,3,4,5,6 ,[1,2,3]} error dega\n",
    "\n",
    "s4"
   ]
  },
  {
   "cell_type": "code",
   "execution_count": 229,
   "metadata": {},
   "outputs": [
    {
     "data": {
      "text/plain": [
       "{' sankit', 1, 3, 4, 5, 6}"
      ]
     },
     "execution_count": 229,
     "metadata": {},
     "output_type": "execute_result"
    }
   ],
   "source": [
    "s4= {1,1,3,4,5,6 ,' sankit'}\n",
    "s4"
   ]
  },
  {
   "cell_type": "code",
   "execution_count": 230,
   "metadata": {},
   "outputs": [
    {
     "data": {
      "text/plain": [
       "{1, 3, 4, 5, 6, 7, 34, 89}"
      ]
     },
     "execution_count": 230,
     "metadata": {},
     "output_type": "execute_result"
    }
   ],
   "source": [
    "s1"
   ]
  },
  {
   "cell_type": "code",
   "execution_count": 231,
   "metadata": {},
   "outputs": [
    {
     "data": {
      "text/plain": [
       "{' sankit', 1, 3, 4, 5, 6}"
      ]
     },
     "execution_count": 231,
     "metadata": {},
     "output_type": "execute_result"
    }
   ],
   "source": [
    "s4"
   ]
  },
  {
   "cell_type": "code",
   "execution_count": 232,
   "metadata": {},
   "outputs": [
    {
     "data": {
      "text/plain": [
       "{' sankit', 1, 3, 34, 4, 5, 6, 7, 89}"
      ]
     },
     "execution_count": 232,
     "metadata": {},
     "output_type": "execute_result"
    }
   ],
   "source": [
    "s1.union(s4)"
   ]
  },
  {
   "cell_type": "code",
   "execution_count": 233,
   "metadata": {},
   "outputs": [
    {
     "data": {
      "text/plain": [
       "{1, 3, 4, 5, 6}"
      ]
     },
     "execution_count": 233,
     "metadata": {},
     "output_type": "execute_result"
    }
   ],
   "source": [
    "s1.intersection(s4)"
   ]
  },
  {
   "cell_type": "code",
   "execution_count": 235,
   "metadata": {},
   "outputs": [
    {
     "data": {
      "text/plain": [
       "{' sankit', 1, 3, 34, 4, 5, 6, 7, 89}"
      ]
     },
     "execution_count": 235,
     "metadata": {},
     "output_type": "execute_result"
    }
   ],
   "source": [
    "s1 | s4 # union "
   ]
  },
  {
   "cell_type": "code",
   "execution_count": 237,
   "metadata": {},
   "outputs": [
    {
     "data": {
      "text/plain": [
       "{1, 3, 4, 5, 6}"
      ]
     },
     "execution_count": 237,
     "metadata": {},
     "output_type": "execute_result"
    }
   ],
   "source": [
    " # INTERSECTIOM \n",
    "s1 & s4 "
   ]
  },
  {
   "cell_type": "markdown",
   "metadata": {},
   "source": [
    "### ` list comprehension`"
   ]
  },
  {
   "cell_type": "code",
   "execution_count": 239,
   "metadata": {},
   "outputs": [
    {
     "name": "stdout",
     "output_type": "stream",
     "text": [
      "[1, 4, 9, 16, 25, 36, 49, 64, 81, 100]\n"
     ]
    }
   ],
   "source": [
    "sq= []\n",
    "for i in range(1,11):\n",
    "    sq.append(i**2)\n",
    "print(sq)"
   ]
  },
  {
   "cell_type": "code",
   "execution_count": 241,
   "metadata": {},
   "outputs": [
    {
     "data": {
      "text/plain": [
       "[1, 4, 9, 16, 25, 36, 49, 64, 81, 100]"
      ]
     },
     "execution_count": 241,
     "metadata": {},
     "output_type": "execute_result"
    }
   ],
   "source": [
    "s =  [i **2 for i in range(1,11)]\n",
    "s"
   ]
  },
  {
   "cell_type": "code",
   "execution_count": 243,
   "metadata": {},
   "outputs": [
    {
     "name": "stdout",
     "output_type": "stream",
     "text": [
      "[-1, -2, -3, -4, -5, -6, -7, -8, -9, -10]\n"
     ]
    }
   ],
   "source": [
    "negative = []\n",
    "for i in range(1,11):\n",
    "    negative.append(-i)\n",
    "print (negative)"
   ]
  },
  {
   "cell_type": "code",
   "execution_count": 246,
   "metadata": {},
   "outputs": [
    {
     "data": {
      "text/plain": [
       "[-1, -2, -3, -4, -5, -6, -7, -8, -9, -10]"
      ]
     },
     "execution_count": 246,
     "metadata": {},
     "output_type": "execute_result"
    }
   ],
   "source": [
    "n = [-i for i in range(1,11)]\n",
    "n"
   ]
  },
  {
   "cell_type": "code",
   "execution_count": 270,
   "metadata": {},
   "outputs": [
    {
     "name": "stdout",
     "output_type": "stream",
     "text": [
      "['A', 'S', 'M', 'p']\n"
     ]
    }
   ],
   "source": [
    "names= ['Ankit','Sanket','Mummy', 'papa']\n",
    "new_list= []\n",
    "for i in name:\n",
    "    new_list.append(i[0])\n",
    "print(new)"
   ]
  },
  {
   "cell_type": "code",
   "execution_count": 272,
   "metadata": {},
   "outputs": [
    {
     "data": {
      "text/plain": [
       "['A', 'S', 'M', 'p']"
      ]
     },
     "execution_count": 272,
     "metadata": {},
     "output_type": "execute_result"
    }
   ],
   "source": [
    " \n",
    "N= [i[0] for i in names]\n",
    "N"
   ]
  },
  {
   "cell_type": "code",
   "execution_count": 275,
   "metadata": {},
   "outputs": [
    {
     "data": {
      "text/plain": [
       "['tiknA', 'teknaS', 'ymmuM', 'apap']"
      ]
     },
     "execution_count": 275,
     "metadata": {},
     "output_type": "execute_result"
    }
   ],
   "source": [
    "k = [i[::-1] for i in names]\n",
    "k"
   ]
  },
  {
   "cell_type": "code",
   "execution_count": 278,
   "metadata": {},
   "outputs": [
    {
     "data": {
      "text/plain": [
       "['tiknA', 'teknaS', 'ymmuM', 'apap']"
      ]
     },
     "execution_count": 278,
     "metadata": {},
     "output_type": "execute_result"
    }
   ],
   "source": [
    "def rev (l):\n",
    "    return [i[::-1] for i in names]\n",
    "\n",
    "rev(names)\n"
   ]
  },
  {
   "cell_type": "code",
   "execution_count": null,
   "metadata": {},
   "outputs": [],
   "source": [
    "# list comprehension with if statement\n"
   ]
  },
  {
   "cell_type": "code",
   "execution_count": 282,
   "metadata": {},
   "outputs": [
    {
     "name": "stdout",
     "output_type": "stream",
     "text": [
      "[4, 16, 36, 64, 100]\n"
     ]
    },
    {
     "data": {
      "text/plain": [
       "[9, 36, 81]"
      ]
     },
     "execution_count": 282,
     "metadata": {},
     "output_type": "execute_result"
    }
   ],
   "source": [
    "s1= [ i for i in s if i% 2==0]\n",
    "print (s1)\n",
    "\n",
    "s2= [ i for i in s if i% 3==0]\n",
    "s2\n"
   ]
  },
  {
   "cell_type": "code",
   "execution_count": 292,
   "metadata": {},
   "outputs": [
    {
     "name": "stdout",
     "output_type": "stream",
     "text": [
      "['1', '2.0', '3']\n"
     ]
    }
   ],
   "source": [
    "def  con(c):\n",
    "            \n",
    "    return [str(i) for i in c if (type(i)== int or type (i) == float)] \n",
    "       \n",
    "    #  str i is append one\n",
    "    \n",
    "print (con(['true', 'false,',[1,3,4],1,2.0,3])) # will give in string format"
   ]
  },
  {
   "cell_type": "code",
   "execution_count": 294,
   "metadata": {},
   "outputs": [
    {
     "name": "stdout",
     "output_type": "stream",
     "text": [
      "[2]\n"
     ]
    }
   ],
   "source": [
    "def  con(d):\n",
    "            \n",
    "    return [int(i) for i in d if (type(i)== bool or type (i) == float)] \n",
    "       \n",
    "    #  str i is append one\n",
    "    \n",
    "print (con(['true', 'false,',[1,3,4],1,2.0,3])) # will give in string format"
   ]
  },
  {
   "cell_type": "code",
   "execution_count": 297,
   "metadata": {},
   "outputs": [
    {
     "name": "stdout",
     "output_type": "stream",
     "text": [
      "[]\n"
     ]
    }
   ],
   "source": [
    "def  con(e):\n",
    "            \n",
    "    return [float(i) for i in d if (type(i)== bool  or type (i) == int)] \n",
    "       \n",
    "    #  str i is append one\n",
    "    \n",
    "print (con(['true', 'false,',[1,3,4],1,2.0,3])) # will give in string format"
   ]
  },
  {
   "cell_type": "code",
   "execution_count": 302,
   "metadata": {},
   "outputs": [
    {
     "name": "stdout",
     "output_type": "stream",
     "text": [
      "[-1, 4, -3, 16, -5, 36, -7, 64, -9, 100]\n"
     ]
    }
   ],
   "source": [
    "# LC with if else\n",
    "s0= []\n",
    "s\n",
    "for i in range(1,11):\n",
    "    if i %2==0:\n",
    "        s0.append(i**2)\n",
    "    else:\n",
    "        s0.append(-i)\n",
    "print(s0)"
   ]
  },
  {
   "cell_type": "markdown",
   "metadata": {},
   "source": [
    "###  in LC jo append karana h wo hum log starting me likhnege  like following  statement even if and else in starting of this and then kon si range me then for i in range (1,11) aise"
   ]
  },
  {
   "cell_type": "code",
   "execution_count": 306,
   "metadata": {},
   "outputs": [
    {
     "data": {
      "text/plain": [
       "[-1, 4, -3, 16, -5, 36, -7, 64, -9, 100]"
      ]
     },
     "execution_count": 306,
     "metadata": {},
     "output_type": "execute_result"
    }
   ],
   "source": [
    "n1 = [ i **2  if (i%2==0) else (-i) for i in range(1,11)]\n",
    "n1\n",
    "\n"
   ]
  },
  {
   "cell_type": "code",
   "execution_count": 309,
   "metadata": {},
   "outputs": [
    {
     "data": {
      "text/plain": [
       "[[[1, 2, 3], [2, 5, 6], [5, 4, 3]],\n",
       " [[1, 2, 3], [2, 5, 6], [5, 4, 3]],\n",
       " [[1, 2, 3], [2, 5, 6], [5, 4, 3]]]"
      ]
     },
     "execution_count": 309,
     "metadata": {},
     "output_type": "execute_result"
    }
   ],
   "source": [
    "# nested list , list k ander list \n",
    "exp = [[1,2,3],[2,5,6],[5,4,3]] \n",
    "\n",
    "nested_com = [[i for i in exp] for j in range(3)] # for j in wala kitne bar ne bar append karana h wo  \n",
    "            # [ ye jo append karana h wo]\n",
    "nested_com\n",
    "\n"
   ]
  },
  {
   "cell_type": "code",
   "execution_count": 312,
   "metadata": {},
   "outputs": [
    {
     "name": "stdout",
     "output_type": "stream",
     "text": [
      "[[[1, 2, 3], [2, 5, 6], [5, 4, 3]], [[1, 2, 3], [2, 5, 6], [5, 4, 3]]],"
     ]
    }
   ],
   "source": [
    "# nested list , list k ander list \n",
    "exp = [[1,2,3],[2,5,6],[5,4,3]] \n",
    "\n",
    "nested_com = [[i for i in exp] for j in range(2)] # for j in wala kitne bar ne bar append karana h wo  \n",
    "            # ye jo append karana h wo\n",
    "print (nested_com, end = ',')\n"
   ]
  },
  {
   "cell_type": "code",
   "execution_count": 314,
   "metadata": {},
   "outputs": [
    {
     "data": {
      "text/plain": [
       "[[1, 2, 3],\n",
       " [1, 2, 3],\n",
       " [1, 2, 3],\n",
       " [1, 2, 3],\n",
       " [1, 2, 3],\n",
       " [1, 2, 3],\n",
       " [1, 2, 3],\n",
       " [1, 2, 3],\n",
       " [1, 2, 3],\n",
       " [1, 2, 3]]"
      ]
     },
     "execution_count": 314,
     "metadata": {},
     "output_type": "execute_result"
    }
   ],
   "source": [
    "n0 = []\n",
    "for i in range (1,11):\n",
    "    n0.append([1,2,3])\n",
    "n0"
   ]
  },
  {
   "cell_type": "markdown",
   "metadata": {},
   "source": [
    "###  dictionary comprehension\n"
   ]
  },
  {
   "cell_type": "code",
   "execution_count": 318,
   "metadata": {},
   "outputs": [
    {
     "data": {
      "text/plain": [
       "{'square of 1 is ': 1,\n",
       " 'square of 2 is ': 4,\n",
       " 'square of 3 is ': 9,\n",
       " 'square of 4 is ': 16,\n",
       " 'square of 5 is ': 25,\n",
       " 'square of 6 is ': 36,\n",
       " 'square of 7 is ': 49,\n",
       " 'square of 8 is ': 64,\n",
       " 'square of 9 is ': 81}"
      ]
     },
     "execution_count": 318,
     "metadata": {},
     "output_type": "execute_result"
    }
   ],
   "source": [
    "sqqq= {f'square of {num} is ': num **2 for num in range(1,10)}\n",
    "sqqq"
   ]
  },
  {
   "cell_type": "code",
   "execution_count": 323,
   "metadata": {},
   "outputs": [
    {
     "name": "stdout",
     "output_type": "stream",
     "text": [
      "square of 1 is  : 1\n",
      "square of 2 is  : 4\n",
      "square of 3 is  : 9\n",
      "square of 4 is  : 16\n",
      "square of 5 is  : 25\n",
      "square of 6 is  : 36\n",
      "square of 7 is  : 49\n",
      "square of 8 is  : 64\n",
      "square of 9 is  : 81\n"
     ]
    }
   ],
   "source": [
    "for i, j in sqqq.items():\n",
    "    print(f'{i} : {j}')"
   ]
  },
  {
   "cell_type": "code",
   "execution_count": 327,
   "metadata": {},
   "outputs": [
    {
     "data": {
      "text/plain": [
       "{'a': 1, 'n': 1, 'k': 1, 'e': 3, 't': 1}"
      ]
     },
     "execution_count": 327,
     "metadata": {},
     "output_type": "execute_result"
    }
   ],
   "source": [
    "string= 'ankeeet'\n",
    "sf= {char:string.count(char) for  char in string}\n",
    "sf"
   ]
  },
  {
   "cell_type": "code",
   "execution_count": 330,
   "metadata": {},
   "outputs": [
    {
     "data": {
      "text/plain": [
       "{1: 'odd',\n",
       " 2: 'even',\n",
       " 3: 'odd',\n",
       " 4: 'even',\n",
       " 5: 'odd',\n",
       " 6: 'even',\n",
       " 7: 'odd',\n",
       " 8: 'even',\n",
       " 9: 'odd'}"
      ]
     },
     "execution_count": 330,
     "metadata": {},
     "output_type": "execute_result"
    }
   ],
   "source": [
    "# dicts comprehension with if and else\n",
    "\n",
    "odd_even = { i: ('even' if i %2 ==0 else 'odd') for i in range(1,10)}\n",
    "odd_even"
   ]
  },
  {
   "cell_type": "code",
   "execution_count": 332,
   "metadata": {},
   "outputs": [
    {
     "data": {
      "text/plain": [
       "{\"the no is :{1: 'odd', 2: 'even', 3: 'odd', 4: 'even', 5: 'odd', 6: 'even', 7: 'odd', 8: 'even', 9: 'odd'}\"}"
      ]
     },
     "execution_count": 332,
     "metadata": {},
     "output_type": "execute_result"
    }
   ],
   "source": [
    "odd_even = { i: ('even' if i %2 ==0 else 'odd') for i in range(1,10)}\n",
    "odd_even\n",
    "\n",
    "od_ev = {f'the no is :{odd_even}'}\n",
    "od_ev\n"
   ]
  },
  {
   "cell_type": "code",
   "execution_count": 335,
   "metadata": {},
   "outputs": [
    {
     "name": "stdout",
     "output_type": "stream",
     "text": [
      " no is 1 : odd\n",
      " no is 2 : even\n",
      " no is 3 : odd\n",
      " no is 4 : even\n",
      " no is 5 : odd\n",
      " no is 6 : even\n",
      " no is 7 : odd\n",
      " no is 8 : even\n",
      " no is 9 : odd\n"
     ]
    }
   ],
   "source": [
    "for k , v in odd_even.items():\n",
    "    print(f' no is {k} : {v}')"
   ]
  },
  {
   "cell_type": "code",
   "execution_count": 344,
   "metadata": {},
   "outputs": [
    {
     "data": {
      "text/plain": [
       "{1, 4, 9, 16, 25, 36, 49, 64, 81}"
      ]
     },
     "execution_count": 344,
     "metadata": {},
     "output_type": "execute_result"
    }
   ],
   "source": [
    "sett = {k**2 for  k in range (1,10)}\n",
    "sett"
   ]
  },
  {
   "cell_type": "code",
   "execution_count": 346,
   "metadata": {},
   "outputs": [
    {
     "data": {
      "text/plain": [
       "{'A', 'M', 'S', 'p'}"
      ]
     },
     "execution_count": 346,
     "metadata": {},
     "output_type": "execute_result"
    }
   ],
   "source": [
    "sett2= {name[0] for name in names}\n",
    "        #same     #same      list or any empty items\n",
    "sett2"
   ]
  },
  {
   "cell_type": "markdown",
   "metadata": {},
   "source": [
    "### ` * args or  * operator`\n",
    "\n",
    "##  * args will convert input into tuple "
   ]
  },
  {
   "cell_type": "code",
   "execution_count": 349,
   "metadata": {},
   "outputs": [
    {
     "name": "stdout",
     "output_type": "stream",
     "text": [
      "25\n"
     ]
    }
   ],
   "source": [
    "def ad(*args):\n",
    "    total = 0\n",
    "    for i in args:\n",
    "        total += i\n",
    "    return total\n",
    "\n",
    "\n",
    "print(ad(1,2,3,4,5,6,7))"
   ]
  },
  {
   "cell_type": "code",
   "execution_count": 359,
   "metadata": {},
   "outputs": [
    {
     "name": "stdout",
     "output_type": "stream",
     "text": [
      "40\n"
     ]
    }
   ],
   "source": [
    "def mul(*args):\n",
    "    total = 1 #  we want to multiply na \n",
    "    \n",
    "    for i in args:\n",
    "        total = total*i\n",
    "    return total\n",
    "\n",
    "\n",
    "print(mul(1,2,4,5))"
   ]
  },
  {
   "cell_type": "code",
   "execution_count": 365,
   "metadata": {},
   "outputs": [
    {
     "name": "stdout",
     "output_type": "stream",
     "text": [
      "8\n"
     ]
    }
   ],
   "source": [
    "def mul(num ,*args):\n",
    "    total = 1 #  we want to multiply na \n",
    "    \n",
    "    for i in args:\n",
    "        total = total*i\n",
    "    return total\n",
    "\n",
    "\n",
    "print(mul(1,2,4,))\n",
    "        # 1 will be tuple"
   ]
  },
  {
   "cell_type": "code",
   "execution_count": 366,
   "metadata": {},
   "outputs": [
    {
     "name": "stdout",
     "output_type": "stream",
     "text": [
      "12\n"
     ]
    }
   ],
   "source": [
    "def mul(num ,*args): # with normal parameters\n",
    "    total = 1 #  we want to multiply na \n",
    "    \n",
    "    for i in args:\n",
    "        total = total*i\n",
    "    return total\n",
    "\n",
    "\n",
    "print(mul(2,2,6,))\n",
    "        # 2 will be tuple and args ka hissa nahi h "
   ]
  },
  {
   "cell_type": "code",
   "execution_count": null,
   "metadata": {},
   "outputs": [],
   "source": [
    "def mul(*args): \n",
    "    total = 1 #  we want to multiply na \n",
    "    \n",
    "    for i in args:\n",
    "        total = total*i\n",
    "    return total\n",
    "\n",
    "\n",
    "print(mul(2,2,6,))\n",
    "        # 2 will be tuple and args ka hissa nahi h "
   ]
  },
  {
   "cell_type": "code",
   "execution_count": 367,
   "metadata": {},
   "outputs": [
    {
     "name": "stdout",
     "output_type": "stream",
     "text": [
      "1\n"
     ]
    }
   ],
   "source": [
    "def mul(*args): \n",
    "    total = 1 #  we want to multiply na \n",
    "    \n",
    "    for i in args:\n",
    "        total = total*i\n",
    "    return total\n",
    "\n",
    "\n",
    "print(mul()) # without pass it will still give output\n"
   ]
  },
  {
   "cell_type": "code",
   "execution_count": null,
   "metadata": {},
   "outputs": [],
   "source": [
    "def mul(num,*args): \n",
    "    total = 1 #  we want to multiply na \n",
    "    \n",
    "    for i in args:\n",
    "        total = total*i\n",
    "    return total\n",
    "\n",
    "\n",
    "print(mul()) # without pass it will still give erro r\n",
    "            # ek pass hi karna hi padega\n",
    "     \n"
   ]
  },
  {
   "cell_type": "code",
   "execution_count": 368,
   "metadata": {},
   "outputs": [
    {
     "name": "stdout",
     "output_type": "stream",
     "text": [
      "1\n"
     ]
    }
   ],
   "source": [
    "def mul(num1, num2, *args): \n",
    "    total = 1 #  we want to multiply na \n",
    "    \n",
    "    for i in args:\n",
    "        total = total*i\n",
    "    return total\n",
    "\n",
    "\n",
    "print(mul(4,6)) # without pass it will still give erro r\n",
    "            #  humne args pass nahi kia to return me tuple hi milega\n",
    "# gives only tuple"
   ]
  },
  {
   "cell_type": "code",
   "execution_count": 369,
   "metadata": {},
   "outputs": [
    {
     "name": "stdout",
     "output_type": "stream",
     "text": [
      "30\n"
     ]
    }
   ],
   "source": [
    "def mul(num1, num2, *args):  # * args k bad pass karenge to error aayega\n",
    "    total = 1 #  we want to multiply na \n",
    "    \n",
    "    for i in args:\n",
    "        total = total*i\n",
    "    return total\n",
    "\n",
    "\n",
    "print(mul(4,6,6,5)) # without pass it will still give erro r\n",
    "            #  humne args pass nahi kia to return me tuple hi milega\n",
    "# gives only tuple"
   ]
  },
  {
   "cell_type": "markdown",
   "metadata": {},
   "source": [
    "### * args ko as argument kaise use kar sakete h?\n",
    "\n",
    "function ko jab defind karte h tab us ko bolte h parameter\n",
    " \n",
    "aur jab funciton ko call karte h tab usko kehete h argument"
   ]
  },
  {
   "cell_type": "code",
   "execution_count": 371,
   "metadata": {},
   "outputs": [
    {
     "data": {
      "text/plain": [
       "[1, 3, 4]"
      ]
     },
     "execution_count": 371,
     "metadata": {},
     "output_type": "execute_result"
    }
   ],
   "source": [
    "def mult(*args):\n",
    "    muli = 1 #[1, 3, 4]\n",
    "    for i in args:\n",
    "        muli *= i\n",
    "    return muli\n",
    "num = [1,3,4]\n",
    "mult(num) # kyu ki ye list pass ki h aur ye list multiply horahi h 1 se"
   ]
  },
  {
   "cell_type": "code",
   "execution_count": 373,
   "metadata": {},
   "outputs": [
    {
     "data": {
      "text/plain": [
       "60"
      ]
     },
     "execution_count": 373,
     "metadata": {},
     "output_type": "execute_result"
    }
   ],
   "source": [
    "def mult(*args):\n",
    "    muli = 1 #[1, 3, 4]\n",
    "    for i in args:\n",
    "        muli *= i\n",
    "    return muli\n",
    "num = [1,3,4,5]\n",
    "\n",
    "mult( *num)  #  tuple unpack horah yah\n",
    "\n",
    "\n",
    "# kyu ki ye list pass ki h aur ye list multiply horahi h 1 se"
   ]
  },
  {
   "cell_type": "code",
   "execution_count": 377,
   "metadata": {},
   "outputs": [
    {
     "data": {
      "text/plain": [
       "1"
      ]
     },
     "execution_count": 377,
     "metadata": {},
     "output_type": "execute_result"
    }
   ],
   "source": [
    "#  vid 145 \n",
    "# my solution\n",
    "\n",
    "def to_power(n ,*nums):\n",
    "    mul= 1\n",
    "    for i in nums:\n",
    "        mul **= i \n",
    "    return mul\n",
    "\n",
    "num1 = [(1,2,3),1,3,4]\n",
    "to_power(*num1)\n"
   ]
  },
  {
   "cell_type": "code",
   "execution_count": 381,
   "metadata": {},
   "outputs": [
    {
     "name": "stdout",
     "output_type": "stream",
     "text": [
      "empty\n"
     ]
    }
   ],
   "source": [
    "l =[]\n",
    "if l:\n",
    "    print('not empty')\n",
    "else:\n",
    "    print('empty')"
   ]
  },
  {
   "cell_type": "code",
   "execution_count": 389,
   "metadata": {},
   "outputs": [
    {
     "data": {
      "text/plain": [
       "'you didnt pass any args'"
      ]
     },
     "execution_count": 389,
     "metadata": {},
     "output_type": "execute_result"
    }
   ],
   "source": [
    "def to_power(n, * args):\n",
    "    if args:\n",
    "        return [i**n for i in args]\n",
    "    else:\n",
    "        return ('you didnt pass any args')\n",
    "\n",
    "nu= [2, 3, 4]\n",
    "to_power(2)"
   ]
  },
  {
   "cell_type": "code",
   "execution_count": 390,
   "metadata": {},
   "outputs": [
    {
     "data": {
      "text/plain": [
       "[4, 9, 16]"
      ]
     },
     "execution_count": 390,
     "metadata": {},
     "output_type": "execute_result"
    }
   ],
   "source": [
    "def to_power(n, * args):\n",
    "    if args:\n",
    "        return [i**n for i in args]\n",
    "    else:\n",
    "        return ('you didnt pass any args')\n",
    "\n",
    "nu= [2, 3, 4]\n",
    "to_power(2, *nu) # * nahi likha to will give an error"
   ]
  },
  {
   "cell_type": "code",
   "execution_count": 392,
   "metadata": {},
   "outputs": [
    {
     "data": {
      "text/plain": [
       "[25, 36, 49, 64, 81]"
      ]
     },
     "execution_count": 392,
     "metadata": {},
     "output_type": "execute_result"
    }
   ],
   "source": [
    "def to_power(n, * args):\n",
    "    if args:\n",
    "        return [i**n for i in args]\n",
    "    else:\n",
    "        return ('you didnt pass any args')\n",
    "\n",
    "nu= [2, 3, 4]\n",
    "to_power(2, *[5,6,7,8,9])"
   ]
  },
  {
   "cell_type": "markdown",
   "metadata": {},
   "source": [
    "### ** kwargs keyword arugment quargs pronounce\n",
    "\n",
    "# kw means keyword of like dictionary ki taraf arguments \n",
    "\n",
    "# args will take in tuple"
   ]
  },
  {
   "cell_type": "code",
   "execution_count": 402,
   "metadata": {},
   "outputs": [
    {
     "name": "stdout",
     "output_type": "stream",
     "text": [
      "{'fst_name': 'ankit', 'kast_name': 'nagdeve'}\n"
     ]
    }
   ],
   "source": [
    "def quarg(**kwargs):\n",
    "    print(kwargs)\n",
    "\n",
    "quarg(fst_name = 'ankit', kast_name = 'nagdeve')"
   ]
  },
  {
   "cell_type": "code",
   "execution_count": 419,
   "metadata": {},
   "outputs": [
    {
     "name": "stdout",
     "output_type": "stream",
     "text": [
      "fst_name : ankit\n",
      "last_name : nagdeve\n"
     ]
    }
   ],
   "source": [
    "def q(**kwargs):\n",
    "    for k, v in kwargs.items():\n",
    "        print(f'{k} : {v}')\n",
    "\n",
    "q(fst_name = 'ankit', last_name = 'nagdeve')"
   ]
  },
  {
   "cell_type": "code",
   "execution_count": 426,
   "metadata": {},
   "outputs": [
    {
     "name": "stdout",
     "output_type": "stream",
     "text": [
      "lastname : nagdeve\n",
      "location : bangalore\n"
     ]
    }
   ],
   "source": [
    "def q1(name, **kwargs): # as a parameter\n",
    "    for k, v in kwargs.items():\n",
    "        print(f'{k} : {v}')\n",
    "q1('ankit',lastname= 'nagdeve', location = 'bangalore')\n",
    "# print ankit will not happen as it will not keys"
   ]
  },
  {
   "cell_type": "code",
   "execution_count": 428,
   "metadata": {},
   "outputs": [
    {
     "name": "stdout",
     "output_type": "stream",
     "text": [
      "{'fst_name': 'ankit', 'surname': 'nagdeve'}\n"
     ]
    }
   ],
   "source": [
    "#   dicts unpacking\n",
    "d= {'fst_name': 'ankit', 'surname': 'nagdeve'}\n",
    "\n",
    "quarg(**d) # DOING  unpacking"
   ]
  },
  {
   "cell_type": "markdown",
   "metadata": {},
   "source": []
  },
  {
   "cell_type": "markdown",
   "metadata": {},
   "source": [
    "###  parameters order in def function\n",
    "### `def func(name, *args, last_name, **kwargs)` \n",
    "\n",
    "if order changed then it will give an error"
   ]
  },
  {
   "cell_type": "code",
   "execution_count": 434,
   "metadata": {},
   "outputs": [
    {
     "name": "stdout",
     "output_type": "stream",
     "text": [
      "ankit\n",
      "[1, 2, 3]\n",
      "nagdeve\n",
      "{'a': 2, 'b': 3}\n"
     ]
    }
   ],
   "source": [
    "def func(name, * args, last_name = 'unknown', **kwargs ):\n",
    "    print(name)\n",
    "    print(*args)\n",
    "    print(last_name)\n",
    "    print(kwargs)\n",
    "    \n",
    "func('ankit',[1,2,3],last_name= 'nagdeve', a=2, b=3)\n",
    "# in this  order only will work else not work"
   ]
  },
  {
   "cell_type": "code",
   "execution_count": 442,
   "metadata": {},
   "outputs": [
    {
     "data": {
      "text/plain": [
       "[]"
      ]
     },
     "execution_count": 442,
     "metadata": {},
     "output_type": "execute_result"
    }
   ],
   "source": [
    "def revr(name):\n",
    "    l= []\n",
    "    for i in name:\n",
    "        i[0].upper()\n",
    "    return l\n",
    "revr('ankit')\n",
    "\n",
    "# my answeer"
   ]
  },
  {
   "cell_type": "code",
   "execution_count": 454,
   "metadata": {},
   "outputs": [
    {
     "name": "stdout",
     "output_type": "stream",
     "text": [
      "['Ankit', 'Sanket']\n"
     ]
    }
   ],
   "source": [
    "def rv_string(n, **kwargs):  # kwargs kyu reverse string ho bhi sakta nahi bhi\n",
    "    # kwargs  dicts ki key check karegi\n",
    "    \n",
    "    if kwargs.get('reverse_str')== True: \n",
    "        # why get kyu ki hum kisi bhi key ko acces kar sakate h\n",
    "        # title hume first word capital dega as per question\n",
    "        \n",
    "        \n",
    "        return [i[::-1].title() for i in n]\n",
    "    # return karega ek string ko reverse karenge with loop\n",
    "        \n",
    "    else :\n",
    "        return[i.title() for  i in n]\n",
    "\n",
    "name=['ankit', 'sanket']\n",
    "print(rv_string(name ))"
   ]
  },
  {
   "cell_type": "code",
   "execution_count": 455,
   "metadata": {},
   "outputs": [
    {
     "name": "stdout",
     "output_type": "stream",
     "text": [
      "['Tikna', 'Teknas']\n"
     ]
    }
   ],
   "source": [
    "\n",
    "\n",
    "print(rv_string(name , reverse_str =True))"
   ]
  },
  {
   "cell_type": "markdown",
   "metadata": {},
   "source": [
    "###  Lambda Expression \n",
    "function hota h jis ka koi name nahi hota\n",
    "\n",
    "hum map, reduce, filter k sath use kar sakte "
   ]
  },
  {
   "cell_type": "code",
   "execution_count": 457,
   "metadata": {},
   "outputs": [
    {
     "data": {
      "text/plain": [
       "7"
      ]
     },
     "execution_count": 457,
     "metadata": {},
     "output_type": "execute_result"
    }
   ],
   "source": [
    "add2= lambda a,b : a+b\n",
    "add2(3,4)"
   ]
  },
  {
   "cell_type": "code",
   "execution_count": 459,
   "metadata": {},
   "outputs": [
    {
     "name": "stdout",
     "output_type": "stream",
     "text": [
      "False\n",
      "True\n"
     ]
    }
   ],
   "source": [
    "iseven= lambda a: a%2==0\n",
    "print(iseven(5))\n",
    "print(iseven(4))\n"
   ]
  },
  {
   "cell_type": "code",
   "execution_count": 461,
   "metadata": {},
   "outputs": [
    {
     "data": {
      "text/plain": [
       "'t'"
      ]
     },
     "execution_count": 461,
     "metadata": {},
     "output_type": "execute_result"
    }
   ],
   "source": [
    "last_char = lambda s: s[-1]\n",
    "last_char('ankit')"
   ]
  },
  {
   "cell_type": "code",
   "execution_count": 462,
   "metadata": {},
   "outputs": [
    {
     "data": {
      "text/plain": [
       "'tikna'"
      ]
     },
     "execution_count": 462,
     "metadata": {},
     "output_type": "execute_result"
    }
   ],
   "source": [
    "last_char = lambda s: s[::-1]\n",
    "last_char('ankit')"
   ]
  },
  {
   "cell_type": "code",
   "execution_count": 470,
   "metadata": {},
   "outputs": [
    {
     "data": {
      "text/plain": [
       "False"
      ]
     },
     "execution_count": 470,
     "metadata": {},
     "output_type": "execute_result"
    }
   ],
   "source": [
    "def lenn(s):\n",
    "    return len(s) > 4\n",
    "lenn('fls')"
   ]
  },
  {
   "cell_type": "code",
   "execution_count": 464,
   "metadata": {},
   "outputs": [
    {
     "data": {
      "text/plain": [
       "True"
      ]
     },
     "execution_count": 464,
     "metadata": {},
     "output_type": "execute_result"
    }
   ],
   "source": [
    "# if else in lambda\n",
    "lo = lambda a: True if  len(a) > 5 else False\n",
    "lo('ankitee')"
   ]
  },
  {
   "cell_type": "code",
   "execution_count": 481,
   "metadata": {},
   "outputs": [
    {
     "data": {
      "text/plain": [
       "['ankit', 'sanket', 'mummy', 'papa']"
      ]
     },
     "execution_count": 481,
     "metadata": {},
     "output_type": "execute_result"
    }
   ],
   "source": [
    " # enumarate function for loop k sath uuse kar te jab hum loop chalate h to hum item ko hi track karte \n",
    "    # NA KI ITEM K POSTION KO TRACK KARTE\n",
    "    # POSTION TRACK WITHOUT ENUMARATE\n",
    "    \n",
    "name"
   ]
  },
  {
   "cell_type": "code",
   "execution_count": 489,
   "metadata": {},
   "outputs": [
    {
     "name": "stdout",
     "output_type": "stream",
     "text": [
      "0=====> ['ankit', 'sanket', ' anita', ' naresh']\n",
      "1=====> ['ankit', 'sanket', ' anita', ' naresh']\n",
      "2=====> ['ankit', 'sanket', ' anita', ' naresh']\n",
      "3=====> ['ankit', 'sanket', ' anita', ' naresh']\n"
     ]
    }
   ],
   "source": [
    "sure= ['ankit', 'sanket',' anita',' naresh'] \n",
    "\n",
    "position= 0\n",
    "for i in sure:\n",
    "    print(f'{position}=====> {sure}')\n",
    "    position +=1\n"
   ]
  },
  {
   "cell_type": "code",
   "execution_count": 493,
   "metadata": {},
   "outputs": [
    {
     "name": "stdout",
     "output_type": "stream",
     "text": [
      "0 th =====> ankit\n",
      "1 th =====> sanket\n",
      "2 th =====>  anita\n",
      "3 th =====>  naresh\n"
     ]
    }
   ],
   "source": [
    "for i, j in enumerate(sure):\n",
    "    print(f'{i} th =====> {j}')"
   ]
  },
  {
   "cell_type": "code",
   "execution_count": 510,
   "metadata": {},
   "outputs": [
    {
     "data": {
      "text/plain": [
       "0"
      ]
     },
     "execution_count": 510,
     "metadata": {},
     "output_type": "execute_result"
    }
   ],
   "source": [
    "def position(a,target):\n",
    "    for pos, name in enumerate(a):\n",
    "        if name == target:\n",
    "            return pos\n",
    "        \n",
    "    return -1\n",
    "\n",
    "position(sure, 'ankit')\n"
   ]
  },
  {
   "cell_type": "code",
   "execution_count": 511,
   "metadata": {},
   "outputs": [
    {
     "data": {
      "text/plain": [
       "-1"
      ]
     },
     "execution_count": 511,
     "metadata": {},
     "output_type": "execute_result"
    }
   ],
   "source": [
    "\n",
    "position(sure, 'mummy')"
   ]
  },
  {
   "cell_type": "code",
   "execution_count": 514,
   "metadata": {},
   "outputs": [
    {
     "data": {
      "text/plain": [
       "1"
      ]
     },
     "execution_count": 514,
     "metadata": {},
     "output_type": "execute_result"
    }
   ],
   "source": [
    "position(sure, 'sanket')"
   ]
  },
  {
   "cell_type": "code",
   "execution_count": 515,
   "metadata": {},
   "outputs": [
    {
     "data": {
      "text/plain": [
       "[1, 4, 9, 16, 25, 36, 49, 64, 81, 100]"
      ]
     },
     "execution_count": 515,
     "metadata": {},
     "output_type": "execute_result"
    }
   ],
   "source": [
    "#  MAP FUNCTION\n",
    "\n",
    "s"
   ]
  },
  {
   "cell_type": "code",
   "execution_count": 516,
   "metadata": {},
   "outputs": [
    {
     "data": {
      "text/plain": [
       "[1, 16, 81, 256, 625, 1296, 2401, 4096, 6561, 10000]"
      ]
     },
     "execution_count": 516,
     "metadata": {},
     "output_type": "execute_result"
    }
   ],
   "source": [
    " # SAME OUTPUT WITH MAP FUNCTION\n",
    "    \n",
    "def sqr(o):\n",
    "    return o**2\n",
    "list(map(sqr, s)) #"
   ]
  },
  {
   "cell_type": "code",
   "execution_count": 518,
   "metadata": {},
   "outputs": [
    {
     "data": {
      "text/plain": [
       "[1, 16, 81, 256, 625, 1296, 2401, 4096, 6561, 10000]"
      ]
     },
     "execution_count": 518,
     "metadata": {},
     "output_type": "execute_result"
    }
   ],
   "source": [
    "# using lambda expression\n",
    "\n",
    "list(map(lambda a: a**2, s))"
   ]
  },
  {
   "cell_type": "code",
   "execution_count": 521,
   "metadata": {},
   "outputs": [
    {
     "data": {
      "text/plain": [
       "[1, 16, 81, 256, 625, 1296, 2401, 4096, 6561, 10000]"
      ]
     },
     "execution_count": 521,
     "metadata": {},
     "output_type": "execute_result"
    }
   ],
   "source": [
    "# WITH LIST COMPREHENSION\n",
    "\n",
    "SQR = [i  ** 2 for i in s ]\n",
    "SQR"
   ]
  },
  {
   "cell_type": "code",
   "execution_count": 535,
   "metadata": {},
   "outputs": [
    {
     "name": "stdout",
     "output_type": "stream",
     "text": [
      "4\n",
      "3\n",
      "3\n",
      "3\n"
     ]
    }
   ],
   "source": [
    "c= ['cat ', 'mat', 'sat', 'dog']\n",
    "lent= map(len,c)\n",
    "\n",
    "lent\n",
    "for i in lent: # map function me hum  1 hi bar loop chala sakte  \n",
    "    print(i) # map ko list m bhi convert kar sakte  "
   ]
  },
  {
   "cell_type": "markdown",
   "metadata": {},
   "source": [
    "###  tuple ko hum bar bar iterate kar sakte \n",
    "###  but map or filter function ko bar bar iterate nahi kar sakte \n"
   ]
  },
  {
   "cell_type": "code",
   "execution_count": 538,
   "metadata": {},
   "outputs": [
    {
     "name": "stdout",
     "output_type": "stream",
     "text": [
      "<filter object at 0x7f8f10aab828>\n",
      "4\n",
      "56\n",
      "8\n",
      "8\n",
      "76\n",
      "2\n"
     ]
    }
   ],
   "source": [
    "def iseven(p):\n",
    "    return p%2 ==0\n",
    "no2= [1,23,4,56,7,8,9,9,8,76,5,43,2]\n",
    "\n",
    "even = filter( iseven, no2) #########\n",
    "\n",
    "print(even)\n",
    "for i in even:\n",
    "    print(i)"
   ]
  },
  {
   "cell_type": "code",
   "execution_count": 539,
   "metadata": {},
   "outputs": [
    {
     "name": "stdout",
     "output_type": "stream",
     "text": [
      "<filter object at 0x7f8f10a93160>\n",
      "4\n",
      "56\n",
      "8\n",
      "8\n",
      "76\n",
      "2\n"
     ]
    }
   ],
   "source": [
    "def iseven(p):\n",
    "    return p%2 ==0\n",
    "no2= [1,23,4,56,7,8,9,9,8,76,5,43,2]\n",
    "\n",
    "even = filter( lambda a: a%2==0, no2) #########\n",
    "\n",
    "print(even)\n",
    "for i in even:\n",
    "    print(i)\n",
    "    "
   ]
  },
  {
   "cell_type": "code",
   "execution_count": 542,
   "metadata": {},
   "outputs": [
    {
     "name": "stdout",
     "output_type": "stream",
     "text": [
      "(4, 56, 8, 8, 76, 2)\n",
      "4\n",
      "56\n",
      "8\n",
      "8\n",
      "76\n",
      "2\n",
      "4\n",
      "56\n",
      "8\n",
      "8\n",
      "76\n",
      "2\n"
     ]
    }
   ],
   "source": [
    "def iseven(p):\n",
    "    return p%2 ==0\n",
    "no2= [1,23,4,56,7,8,9,9,8,76,5,43,2]\n",
    "\n",
    "even = tuple(filter( lambda a: a%2==0, no2)) #########\n",
    "\n",
    "print(even)\n",
    "for i in even:\n",
    "    print(i)\n",
    "    \n",
    "for i in even:\n",
    "    print(i) # bar bar iterate kara sakte"
   ]
  },
  {
   "cell_type": "code",
   "execution_count": 543,
   "metadata": {},
   "outputs": [
    {
     "data": {
      "text/plain": [
       "[1, 4, 9, 16, 25, 36, 49, 64, 81, 100]"
      ]
     },
     "execution_count": 543,
     "metadata": {},
     "output_type": "execute_result"
    }
   ],
   "source": [
    "s"
   ]
  },
  {
   "cell_type": "code",
   "execution_count": 544,
   "metadata": {},
   "outputs": [
    {
     "data": {
      "text/plain": [
       "[4, 16, 36, 64, 100]"
      ]
     },
     "execution_count": 544,
     "metadata": {},
     "output_type": "execute_result"
    }
   ],
   "source": [
    "an_eve= [i for i in s if i % 2==0]\n",
    "an_eve"
   ]
  },
  {
   "cell_type": "markdown",
   "metadata": {},
   "source": [
    "# `interator VS Iterables`\n",
    "\n",
    "# nu = [1,2,3,4]  `iterABLES` - tuple or strings\n",
    "\n",
    "# sq = map(lamda a: a**2, nu)  `iteRATOR` "
   ]
  },
  {
   "cell_type": "code",
   "execution_count": 547,
   "metadata": {},
   "outputs": [
    {
     "name": "stdout",
     "output_type": "stream",
     "text": [
      "1\n",
      "2\n",
      "3\n",
      "4\n"
     ]
    }
   ],
   "source": [
    "nu = [1,2,3,4] #  `iterABLES`\n",
    "\n",
    "sq = map(lambda a: a**2, nu) # `iteRATOR` \n",
    "\n",
    "for i in nu:\n",
    "    print(i)"
   ]
  },
  {
   "cell_type": "code",
   "execution_count": 546,
   "metadata": {},
   "outputs": [
    {
     "name": "stdout",
     "output_type": "stream",
     "text": [
      "1\n",
      "4\n",
      "9\n",
      "16\n"
     ]
    }
   ],
   "source": [
    "\n",
    "nu = [1,2,3,4] #  `iterABLES`\n",
    "\n",
    "sq = map(lambda a: a**2, nu) # `iteRATOR` \n",
    "\n",
    "for i in sq:\n",
    "    print(i)"
   ]
  },
  {
   "cell_type": "code",
   "execution_count": 548,
   "metadata": {},
   "outputs": [
    {
     "data": {
      "text/plain": [
       "[1, 4, 9, 16, 25, 36, 49, 64, 81, 100]"
      ]
     },
     "execution_count": 548,
     "metadata": {},
     "output_type": "execute_result"
    }
   ],
   "source": [
    "s"
   ]
  },
  {
   "cell_type": "code",
   "execution_count": 549,
   "metadata": {},
   "outputs": [
    {
     "data": {
      "text/plain": [
       "['ankit', 'sanket', ' anita', ' naresh']"
      ]
     },
     "execution_count": 549,
     "metadata": {},
     "output_type": "execute_result"
    }
   ],
   "source": [
    "sure"
   ]
  },
  {
   "cell_type": "code",
   "execution_count": 558,
   "metadata": {},
   "outputs": [
    {
     "name": "stdout",
     "output_type": "stream",
     "text": [
      "[(1, 'ankit'), (3, 'sanket'), (4, ' anita'), (5, ' naresh')]\n"
     ]
    }
   ],
   "source": [
    "a= (zip(s4,sure))\n",
    "print(a)"
   ]
  },
  {
   "cell_type": "code",
   "execution_count": 560,
   "metadata": {},
   "outputs": [
    {
     "name": "stdout",
     "output_type": "stream",
     "text": [
      "[(1, 'ankit'), (3, 'sanket'), (4, ' anita'), (5, ' naresh')]\n"
     ]
    }
   ],
   "source": [
    "a= list(zip(s4,sure))\n",
    "print(a)\n",
    "\n",
    "# combine karta h choti list me aage kuch nahi h to zip nahi hoga\n"
   ]
  },
  {
   "cell_type": "code",
   "execution_count": 564,
   "metadata": {},
   "outputs": [
    {
     "name": "stdout",
     "output_type": "stream",
     "text": [
      "[(1, 'ankit', 'Ankit'), (3, 'sanket', 'Sanket'), (4, ' anita', 'Mummy'), (5, ' naresh', 'papa')]\n"
     ]
    }
   ],
   "source": [
    "u= list(zip(s4,sure, names))\n",
    "print(u)\n",
    "\n",
    "# combine karta h choti list me aage kuch nahi h to zip nahi hoga\n"
   ]
  },
  {
   "cell_type": "code",
   "execution_count": 565,
   "metadata": {},
   "outputs": [
    {
     "name": "stdout",
     "output_type": "stream",
     "text": [
      "{'ankit': 'ankit', 'sanket': 'sanket', 'mummy': ' anita', 'papa': ' naresh'}\n"
     ]
    }
   ],
   "source": [
    "a= dict(zip(name,sure))\n",
    "print(a)\n",
    "\n",
    "# combine karta h choti list me aage kuch nahi h to zip nahi hoga\n"
   ]
  },
  {
   "cell_type": "markdown",
   "metadata": {},
   "source": [
    " ## \n",
    " \n",
    "        a= dict (zip(s4,sure, names ))\n",
    "        print(a)\n",
    "       \n",
    "      error dega as dictionary \n",
    "\n",
    "## length alag alag nahi hona chahiye tuples ki\n"
   ]
  },
  {
   "cell_type": "markdown",
   "metadata": {},
   "source": [
    "###  * operator with zip function"
   ]
  },
  {
   "cell_type": "code",
   "execution_count": 566,
   "metadata": {},
   "outputs": [
    {
     "data": {
      "text/plain": [
       "[(1, 'ankit', 'Ankit'),\n",
       " (3, 'sanket', 'Sanket'),\n",
       " (4, ' anita', 'Mummy'),\n",
       " (5, ' naresh', 'papa')]"
      ]
     },
     "execution_count": 566,
     "metadata": {},
     "output_type": "execute_result"
    }
   ],
   "source": [
    "l8 = [1,3,5,6,6]\n",
    "l9 = [7,8,9,5,4]\n",
    "\n"
   ]
  },
  {
   "cell_type": "markdown",
   "metadata": {},
   "source": [
    "### revers l8, l9 by zip * operator\n",
    "\n",
    "vid 160"
   ]
  },
  {
   "cell_type": "code",
   "execution_count": 569,
   "metadata": {},
   "outputs": [],
   "source": [
    "l10 = [(1,4),(3,8),(5,9),(6,6),(6,4)]\n",
    "l8, l9=  list(zip(*l10)) # zio iterator h"
   ]
  },
  {
   "cell_type": "code",
   "execution_count": 571,
   "metadata": {},
   "outputs": [
    {
     "name": "stdout",
     "output_type": "stream",
     "text": [
      "(1, 3, 5, 6, 6)\n",
      "(4, 8, 9, 6, 4)\n"
     ]
    }
   ],
   "source": [
    "print(l8)\n",
    "print(l9)\n"
   ]
  },
  {
   "cell_type": "code",
   "execution_count": null,
   "metadata": {},
   "outputs": [],
   "source": []
  },
  {
   "cell_type": "code",
   "execution_count": null,
   "metadata": {},
   "outputs": [],
   "source": []
  },
  {
   "cell_type": "code",
   "execution_count": null,
   "metadata": {},
   "outputs": [],
   "source": []
  },
  {
   "cell_type": "code",
   "execution_count": null,
   "metadata": {},
   "outputs": [],
   "source": []
  },
  {
   "cell_type": "code",
   "execution_count": null,
   "metadata": {},
   "outputs": [],
   "source": []
  },
  {
   "cell_type": "code",
   "execution_count": null,
   "metadata": {},
   "outputs": [],
   "source": []
  },
  {
   "cell_type": "code",
   "execution_count": null,
   "metadata": {},
   "outputs": [],
   "source": []
  },
  {
   "cell_type": "code",
   "execution_count": null,
   "metadata": {},
   "outputs": [],
   "source": []
  },
  {
   "cell_type": "code",
   "execution_count": null,
   "metadata": {},
   "outputs": [],
   "source": []
  },
  {
   "cell_type": "code",
   "execution_count": null,
   "metadata": {},
   "outputs": [],
   "source": []
  },
  {
   "cell_type": "code",
   "execution_count": null,
   "metadata": {},
   "outputs": [],
   "source": []
  },
  {
   "cell_type": "code",
   "execution_count": null,
   "metadata": {},
   "outputs": [],
   "source": []
  }
 ],
 "metadata": {
  "kernelspec": {
   "display_name": "Python 3",
   "language": "python",
   "name": "python3"
  },
  "language_info": {
   "codemirror_mode": {
    "name": "ipython",
    "version": 3
   },
   "file_extension": ".py",
   "mimetype": "text/x-python",
   "name": "python",
   "nbconvert_exporter": "python",
   "pygments_lexer": "ipython3",
   "version": "3.7.3"
  }
 },
 "nbformat": 4,
 "nbformat_minor": 2
}
