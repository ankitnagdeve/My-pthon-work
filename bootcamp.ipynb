{
 "cells": [
  {
   "cell_type": "code",
   "execution_count": null,
   "metadata": {},
   "outputs": [],
   "source": [
    "\n",
    "\n",
    "a= 'bacdefghijklmnopqrst'\n"
   ]
  },
  {
   "cell_type": "markdown",
   "metadata": {},
   "source": [
    "### indexing and slicing\n"
   ]
  },
  {
   "cell_type": "code",
   "execution_count": null,
   "metadata": {},
   "outputs": [],
   "source": [
    "a[:] #select all the letters"
   ]
  },
  {
   "cell_type": "code",
   "execution_count": null,
   "metadata": {},
   "outputs": [],
   "source": [
    "a[1:] #select letters from first to last"
   ]
  },
  {
   "cell_type": "code",
   "execution_count": null,
   "metadata": {},
   "outputs": [],
   "source": [
    "#immutable\n",
    "#a[0] = 'a'"
   ]
  },
  {
   "cell_type": "code",
   "execution_count": null,
   "metadata": {},
   "outputs": [],
   "source": [
    "#string concatination\n",
    "a"
   ]
  },
  {
   "cell_type": "code",
   "execution_count": null,
   "metadata": {},
   "outputs": [],
   "source": [
    "b= a + ' hadhaih;o ah;o'\n",
    "b"
   ]
  },
  {
   "cell_type": "code",
   "execution_count": null,
   "metadata": {},
   "outputs": [],
   "source": [
    "b.split()"
   ]
  },
  {
   "cell_type": "code",
   "execution_count": null,
   "metadata": {},
   "outputs": [],
   "source": [
    "b.upper()"
   ]
  },
  {
   "cell_type": "code",
   "execution_count": null,
   "metadata": {},
   "outputs": [],
   "source": [
    "\n",
    "a[1:] #all the way to end"
   ]
  },
  {
   "cell_type": "code",
   "execution_count": null,
   "metadata": {},
   "outputs": [],
   "source": [
    "a[:3] #first three letters"
   ]
  },
  {
   "cell_type": "code",
   "execution_count": null,
   "metadata": {},
   "outputs": [],
   "source": [
    "#grab middle letter\n",
    "a[3:6]"
   ]
  },
  {
   "cell_type": "code",
   "execution_count": null,
   "metadata": {},
   "outputs": [],
   "source": [
    "a[1:3]"
   ]
  },
  {
   "cell_type": "code",
   "execution_count": null,
   "metadata": {},
   "outputs": [],
   "source": [
    "#subsection step size\n",
    "\n",
    "a[::] #all the way beiging  to end"
   ]
  },
  {
   "cell_type": "code",
   "execution_count": null,
   "metadata": {},
   "outputs": [],
   "source": [
    "#jumps by 2\n",
    "a[::2]"
   ]
  },
  {
   "cell_type": "code",
   "execution_count": null,
   "metadata": {},
   "outputs": [],
   "source": [
    "a[::3]"
   ]
  },
  {
   "cell_type": "code",
   "execution_count": null,
   "metadata": {},
   "outputs": [],
   "source": [
    "#include middle\n",
    "a[2:7:2]"
   ]
  },
  {
   "cell_type": "code",
   "execution_count": null,
   "metadata": {},
   "outputs": [],
   "source": [
    "a"
   ]
  },
  {
   "cell_type": "code",
   "execution_count": null,
   "metadata": {},
   "outputs": [],
   "source": [
    "a[2::]"
   ]
  },
  {
   "cell_type": "code",
   "execution_count": null,
   "metadata": {},
   "outputs": [],
   "source": [
    "a[::-1\n",
    " ]"
   ]
  },
  {
   "cell_type": "code",
   "execution_count": null,
   "metadata": {},
   "outputs": [],
   "source": [
    "a[:-1]#last letter will not include"
   ]
  },
  {
   "cell_type": "code",
   "execution_count": null,
   "metadata": {},
   "outputs": [],
   "source": [
    "c= ' this is my string and want to inject'\n"
   ]
  },
  {
   "cell_type": "code",
   "execution_count": null,
   "metadata": {},
   "outputs": [],
   "source": [
    "c.split('i') # split by letter i"
   ]
  },
  {
   "cell_type": "code",
   "execution_count": null,
   "metadata": {},
   "outputs": [],
   "source": [
    "#concatination\n",
    "#.format method\n",
    "# 'string here{}'.format('something 1', 'something 2')"
   ]
  },
  {
   "cell_type": "code",
   "execution_count": null,
   "metadata": {},
   "outputs": [],
   "source": [
    "print('this is a string{}'.format(' Inserted'))"
   ]
  },
  {
   "cell_type": "code",
   "execution_count": null,
   "metadata": {},
   "outputs": [],
   "source": [
    "print(\"{},{},{}\".format('fox', 'rox','mox'))"
   ]
  },
  {
   "cell_type": "code",
   "execution_count": null,
   "metadata": {},
   "outputs": [],
   "source": [
    "print(\" the {0}{0}{0}\".format('fox', 'rox','mox'))"
   ]
  },
  {
   "cell_type": "code",
   "execution_count": null,
   "metadata": {},
   "outputs": [],
   "source": [
    "print(\"the {a} {c} {b}\".format(a='fox', b='rox',c='mox'))"
   ]
  },
  {
   "cell_type": "code",
   "execution_count": null,
   "metadata": {},
   "outputs": [],
   "source": [
    "#repeatation with .format method\n"
   ]
  },
  {
   "cell_type": "raw",
   "metadata": {},
   "source": [
    "\n"
   ]
  },
  {
   "cell_type": "code",
   "execution_count": null,
   "metadata": {},
   "outputs": [],
   "source": [
    "r = 1000/7\n",
    "r"
   ]
  },
  {
   "cell_type": "code",
   "execution_count": null,
   "metadata": {},
   "outputs": [],
   "source": [
    "print('the result {f:1.2f}'.format(f=r))"
   ]
  },
  {
   "cell_type": "code",
   "execution_count": null,
   "metadata": {},
   "outputs": [],
   "source": [
    "print('the result {f:1.4f}'.format(f=r))\n",
    "                 # value:width.precision\n",
    "                #decimal and round of 4 after decimal"
   ]
  },
  {
   "cell_type": "code",
   "execution_count": null,
   "metadata": {},
   "outputs": [],
   "source": [
    "name = 'ankit'\n",
    "age = 26"
   ]
  },
  {
   "cell_type": "code",
   "execution_count": null,
   "metadata": {},
   "outputs": [],
   "source": [
    "print(f'i am {name} and my age is {age}' )\n",
    "     # f string interpolation   "
   ]
  },
  {
   "cell_type": "code",
   "execution_count": null,
   "metadata": {},
   "outputs": [],
   "source": [
    "ls= [1,2,3,4,5,56]\n",
    "ls"
   ]
  },
  {
   "cell_type": "code",
   "execution_count": null,
   "metadata": {},
   "outputs": [],
   "source": [
    "len(ls)"
   ]
  },
  {
   "cell_type": "code",
   "execution_count": null,
   "metadata": {},
   "outputs": [],
   "source": [
    "a= ['ank','sank', 'mank']"
   ]
  },
  {
   "cell_type": "code",
   "execution_count": null,
   "metadata": {},
   "outputs": [],
   "source": [
    "a"
   ]
  },
  {
   "cell_type": "code",
   "execution_count": null,
   "metadata": {},
   "outputs": [],
   "source": [
    "a[1]"
   ]
  },
  {
   "cell_type": "code",
   "execution_count": null,
   "metadata": {},
   "outputs": [],
   "source": [
    "a[1:]"
   ]
  },
  {
   "cell_type": "code",
   "execution_count": null,
   "metadata": {},
   "outputs": [],
   "source": [
    "b= a[::-1]"
   ]
  },
  {
   "cell_type": "code",
   "execution_count": null,
   "metadata": {},
   "outputs": [],
   "source": [
    "a+b"
   ]
  },
  {
   "cell_type": "code",
   "execution_count": null,
   "metadata": {},
   "outputs": [],
   "source": [
    "a[0] = 'ankit'"
   ]
  },
  {
   "cell_type": "code",
   "execution_count": null,
   "metadata": {},
   "outputs": [],
   "source": [
    "a"
   ]
  },
  {
   "cell_type": "code",
   "execution_count": null,
   "metadata": {},
   "outputs": [],
   "source": [
    "v= a.append('monk') #adding any value with append"
   ]
  },
  {
   "cell_type": "code",
   "execution_count": null,
   "metadata": {},
   "outputs": [],
   "source": [
    "v"
   ]
  },
  {
   "cell_type": "code",
   "execution_count": null,
   "metadata": {},
   "outputs": [],
   "source": [
    "\n",
    "e= a.pop() #remove last value"
   ]
  },
  {
   "cell_type": "code",
   "execution_count": null,
   "metadata": {},
   "outputs": [],
   "source": [
    "e"
   ]
  },
  {
   "cell_type": "code",
   "execution_count": null,
   "metadata": {},
   "outputs": [],
   "source": [
    "a"
   ]
  },
  {
   "cell_type": "code",
   "execution_count": null,
   "metadata": {},
   "outputs": [],
   "source": [
    "a.pop(2)\n",
    "#remove the with index"
   ]
  },
  {
   "cell_type": "code",
   "execution_count": null,
   "metadata": {},
   "outputs": [],
   "source": [
    "a"
   ]
  },
  {
   "cell_type": "code",
   "execution_count": null,
   "metadata": {},
   "outputs": [],
   "source": [
    "l=['a','b','c','d','e']\n",
    "l1=[2,2,6,7,8,9,0,1,2,3,4,5,6]"
   ]
  },
  {
   "cell_type": "code",
   "execution_count": null,
   "metadata": {},
   "outputs": [],
   "source": [
    "l1.sort()\n",
    "l1"
   ]
  },
  {
   "cell_type": "code",
   "execution_count": null,
   "metadata": {},
   "outputs": [],
   "source": [
    "type(l1)"
   ]
  },
  {
   "cell_type": "code",
   "execution_count": null,
   "metadata": {},
   "outputs": [],
   "source": [
    "type(l)\n"
   ]
  },
  {
   "cell_type": "code",
   "execution_count": null,
   "metadata": {},
   "outputs": [],
   "source": [
    "l1.reverse() #revers sorting\n",
    "l1"
   ]
  },
  {
   "cell_type": "markdown",
   "metadata": {},
   "source": [
    "### dictionaries are unordered and cannot be sorted\n",
    "# RETRIVE VALUE WITHOUT ITS  exact indexz location\n",
    "\n",
    "#list objects retrived by location\n",
    "ordered sequence"
   ]
  },
  {
   "cell_type": "code",
   "execution_count": null,
   "metadata": {},
   "outputs": [],
   "source": [
    "dictn= {'a':1,'b':3,\"c\":9}"
   ]
  },
  {
   "cell_type": "code",
   "execution_count": null,
   "metadata": {},
   "outputs": [],
   "source": [
    "dictn[\"a\"]"
   ]
  },
  {
   "cell_type": "code",
   "execution_count": null,
   "metadata": {},
   "outputs": [],
   "source": [
    "dictn[\"c\"]"
   ]
  },
  {
   "cell_type": "code",
   "execution_count": null,
   "metadata": {},
   "outputs": [],
   "source": [
    "dict= {'key':'value' } #are flexible and can contain any value like int float\n"
   ]
  },
  {
   "cell_type": "code",
   "execution_count": null,
   "metadata": {},
   "outputs": [],
   "source": [
    "dictq={'k1':123,'k2':[2,3,4,5],'k3':{'inside key':100}}"
   ]
  },
  {
   "cell_type": "code",
   "execution_count": null,
   "metadata": {},
   "outputs": [],
   "source": [
    "dictq[\"k2\"]"
   ]
  },
  {
   "cell_type": "code",
   "execution_count": null,
   "metadata": {},
   "outputs": [],
   "source": [
    "dictq[\"k3\"]"
   ]
  },
  {
   "cell_type": "code",
   "execution_count": null,
   "metadata": {},
   "outputs": [],
   "source": [
    "dictq[\"k3\"][\"inside key\"]"
   ]
  },
  {
   "cell_type": "code",
   "execution_count": null,
   "metadata": {},
   "outputs": [],
   "source": [
    "d={'k1':['a','b','c']}"
   ]
  },
  {
   "cell_type": "code",
   "execution_count": null,
   "metadata": {},
   "outputs": [],
   "source": [
    "d[\"k1\"][2].upper() #CAN MAKE ANY operation"
   ]
  },
  {
   "cell_type": "code",
   "execution_count": null,
   "metadata": {},
   "outputs": [],
   "source": [
    "d"
   ]
  },
  {
   "cell_type": "code",
   "execution_count": null,
   "metadata": {},
   "outputs": [],
   "source": [
    "d['k1']=[1,3,4,5]"
   ]
  },
  {
   "cell_type": "code",
   "execution_count": null,
   "metadata": {},
   "outputs": [],
   "source": [
    "d"
   ]
  },
  {
   "cell_type": "code",
   "execution_count": null,
   "metadata": {},
   "outputs": [],
   "source": [
    "d.values"
   ]
  },
  {
   "cell_type": "code",
   "execution_count": null,
   "metadata": {},
   "outputs": [],
   "source": [
    "d['k1']='newvalue'\n",
    "d"
   ]
  },
  {
   "cell_type": "code",
   "execution_count": null,
   "metadata": {},
   "outputs": [],
   "source": [
    "d={'k1':['a','b','c']}"
   ]
  },
  {
   "cell_type": "code",
   "execution_count": null,
   "metadata": {},
   "outputs": [],
   "source": [
    "d.keys()"
   ]
  },
  {
   "cell_type": "code",
   "execution_count": null,
   "metadata": {},
   "outputs": [],
   "source": [
    "d.values()"
   ]
  },
  {
   "cell_type": "code",
   "execution_count": null,
   "metadata": {},
   "outputs": [],
   "source": [
    "d.items() #TUPLE"
   ]
  },
  {
   "cell_type": "markdown",
   "metadata": {},
   "source": [
    "### Dictionaries are mappings and do not retain order! If you do want the capabilities of a dictionary but you would like ordering as well, check out the ordereddict object lecture later on in the course!"
   ]
  },
  {
   "cell_type": "markdown",
   "metadata": {},
   "source": [
    "### TUPLES\n",
    "IMMUTABLE\n",
    "\n",
    "ONCE AN ELEMENT ASSIGN inside tuple, it cannot be reassigned"
   ]
  },
  {
   "cell_type": "code",
   "execution_count": null,
   "metadata": {},
   "outputs": [],
   "source": [
    "t=(1,2,3,4)\n",
    "list=[1,2,34,5]"
   ]
  },
  {
   "cell_type": "code",
   "execution_count": null,
   "metadata": {},
   "outputs": [],
   "source": [
    "type(t)"
   ]
  },
  {
   "cell_type": "code",
   "execution_count": null,
   "metadata": {},
   "outputs": [],
   "source": [
    "type(list)"
   ]
  },
  {
   "cell_type": "code",
   "execution_count": null,
   "metadata": {},
   "outputs": [],
   "source": [
    "t[1]"
   ]
  },
  {
   "cell_type": "code",
   "execution_count": null,
   "metadata": {},
   "outputs": [],
   "source": [
    "t[-1]"
   ]
  },
  {
   "cell_type": "code",
   "execution_count": null,
   "metadata": {},
   "outputs": [],
   "source": [
    "t.count('1')"
   ]
  },
  {
   "cell_type": "code",
   "execution_count": null,
   "metadata": {},
   "outputs": [],
   "source": [
    "t.index(3)"
   ]
  },
  {
   "cell_type": "code",
   "execution_count": null,
   "metadata": {},
   "outputs": [],
   "source": [
    "list"
   ]
  },
  {
   "cell_type": "code",
   "execution_count": null,
   "metadata": {},
   "outputs": [],
   "source": [
    "list[2]=' new'"
   ]
  },
  {
   "cell_type": "code",
   "execution_count": null,
   "metadata": {},
   "outputs": [],
   "source": [
    "list"
   ]
  },
  {
   "cell_type": "code",
   "execution_count": null,
   "metadata": {},
   "outputs": [],
   "source": [
    "t[0]='new'"
   ]
  },
  {
   "cell_type": "markdown",
   "metadata": {},
   "source": [
    "###  it is useul when you want to make sure the element dont get flipped reassigned later on it\n"
   ]
  },
  {
   "cell_type": "markdown",
   "metadata": {},
   "source": [
    "##  sets\n",
    "unordered colllection of unique elements\n",
    "one represntative of same object\n",
    "\n"
   ]
  },
  {
   "cell_type": "code",
   "execution_count": null,
   "metadata": {},
   "outputs": [],
   "source": [
    "mset= set()\n",
    "mset"
   ]
  },
  {
   "cell_type": "code",
   "execution_count": null,
   "metadata": {},
   "outputs": [],
   "source": [
    "mset.add(45)"
   ]
  },
  {
   "cell_type": "code",
   "execution_count": null,
   "metadata": {},
   "outputs": [],
   "source": [
    "mset.add(145)\n",
    "mset"
   ]
  },
  {
   "cell_type": "code",
   "execution_count": null,
   "metadata": {},
   "outputs": [],
   "source": [
    "mset.add(45)\n",
    "mset"
   ]
  },
  {
   "cell_type": "code",
   "execution_count": null,
   "metadata": {},
   "outputs": [],
   "source": [
    "list"
   ]
  },
  {
   "cell_type": "code",
   "execution_count": null,
   "metadata": {},
   "outputs": [],
   "source": [
    "set(list)"
   ]
  },
  {
   "cell_type": "code",
   "execution_count": null,
   "metadata": {},
   "outputs": [],
   "source": [
    "a= [11,4,3,4,54,5,67,78,89,9,4,3,3,3,4,5,66,7]"
   ]
  },
  {
   "cell_type": "code",
   "execution_count": null,
   "metadata": {},
   "outputs": [],
   "source": [
    "set(a) #only unique values"
   ]
  },
  {
   "cell_type": "code",
   "execution_count": null,
   "metadata": {},
   "outputs": [],
   "source": [
    "set('mississippi')"
   ]
  },
  {
   "cell_type": "code",
   "execution_count": null,
   "metadata": {},
   "outputs": [],
   "source": [
    "# true or false statement logic and control flow checking\n",
    "True\n",
    "type(True)"
   ]
  },
  {
   "cell_type": "code",
   "execution_count": null,
   "metadata": {},
   "outputs": [],
   "source": [
    "20>50"
   ]
  },
  {
   "cell_type": "code",
   "execution_count": null,
   "metadata": {},
   "outputs": [],
   "source": [
    "1==3"
   ]
  },
  {
   "cell_type": "code",
   "execution_count": null,
   "metadata": {},
   "outputs": [],
   "source": [
    "1==1"
   ]
  },
  {
   "cell_type": "code",
   "execution_count": null,
   "metadata": {},
   "outputs": [],
   "source": [
    "set([1,1,2,3]) #WILL  give output in curvy bracket"
   ]
  },
  {
   "cell_type": "markdown",
   "metadata": {},
   "source": [
    "###  text file"
   ]
  },
  {
   "cell_type": "code",
   "execution_count": null,
   "metadata": {},
   "outputs": [],
   "source": [
    "%%writefile myfile.txt\n",
    "hello this is a txt file\n",
    "this is practice one\n",
    "# \\ n represent new line\n"
   ]
  },
  {
   "cell_type": "code",
   "execution_count": null,
   "metadata": {},
   "outputs": [],
   "source": [
    "#open file name\n",
    "myfile = open(\"myfile.txt\") \n",
    "myfile"
   ]
  },
  {
   "cell_type": "code",
   "execution_count": null,
   "metadata": {},
   "outputs": [],
   "source": [
    "pwd"
   ]
  },
  {
   "cell_type": "code",
   "execution_count": null,
   "metadata": {},
   "outputs": [],
   "source": [
    "myfile.read() #if press this will this gives you  empty string''"
   ]
  },
  {
   "cell_type": "code",
   "execution_count": null,
   "metadata": {},
   "outputs": [],
   "source": [
    "myfile.seek(0)#to reset cursor"
   ]
  },
  {
   "cell_type": "code",
   "execution_count": null,
   "metadata": {},
   "outputs": [],
   "source": [
    "a= myfile.read()"
   ]
  },
  {
   "cell_type": "code",
   "execution_count": null,
   "metadata": {},
   "outputs": [],
   "source": [
    "a"
   ]
  },
  {
   "cell_type": "code",
   "execution_count": null,
   "metadata": {},
   "outputs": [],
   "source": [
    "myfile.readlines()"
   ]
  },
  {
   "cell_type": "code",
   "execution_count": null,
   "metadata": {},
   "outputs": [],
   "source": [
    "#TO READ FILE FROM OTHER COMPS my = open(\"c\\\\users\\\\\")\n",
    "#  my = open(\"c/users/home/file.txt)"
   ]
  },
  {
   "cell_type": "code",
   "execution_count": null,
   "metadata": {},
   "outputs": [],
   "source": [
    "myfile.close()"
   ]
  },
  {
   "cell_type": "code",
   "execution_count": null,
   "metadata": {},
   "outputs": [],
   "source": [
    "with open ('myfile.txt') as my_nw_file:\n",
    "    contents=my_nw_file.read()"
   ]
  },
  {
   "cell_type": "code",
   "execution_count": null,
   "metadata": {},
   "outputs": [],
   "source": [
    "contents"
   ]
  },
  {
   "cell_type": "code",
   "execution_count": null,
   "metadata": {},
   "outputs": [],
   "source": [
    "with open ('myfile.txt' ,mode= 'r') as myfile:\n",
    "    c= myfile.read()"
   ]
  },
  {
   "cell_type": "code",
   "execution_count": null,
   "metadata": {},
   "outputs": [],
   "source": [
    "c"
   ]
  },
  {
   "cell_type": "code",
   "execution_count": null,
   "metadata": {},
   "outputs": [],
   "source": [
    "with open ('myfile.txt' ,mode= 'w') as myfile:\n",
    "    c= myfile.read()"
   ]
  },
  {
   "cell_type": "code",
   "execution_count": null,
   "metadata": {},
   "outputs": [],
   "source": [
    "with open ('myfile.txt' ,mode= 'a') as myfile:\n",
    "    c= myfile.read()"
   ]
  },
  {
   "cell_type": "markdown",
   "metadata": {},
   "source": [
    "###  mode = 'r' - read only\n",
    "    mode = 'w' write only (overwrite files or create new\n",
    "    mode = 'r+' read and writing\n",
    "    mode = 'a ' append only add on to files\n",
    "    mode = 'w+' is writing and reading (opverwiting existing  file or creare new file"
   ]
  },
  {
   "cell_type": "code",
   "execution_count": null,
   "metadata": {},
   "outputs": [],
   "source": [
    "%%writefile newfile.txt\n",
    "one two three\n",
    "four five\n",
    "six seven"
   ]
  },
  {
   "cell_type": "code",
   "execution_count": null,
   "metadata": {},
   "outputs": [],
   "source": [
    "with open (\"newfile.txt\", mode = 'r') as f:\n",
    "    print(f.read())"
   ]
  },
  {
   "cell_type": "code",
   "execution_count": null,
   "metadata": {},
   "outputs": [],
   "source": [
    "with open(\"newfile.txt\", mode='a') as f:\n",
    "    f.write('ten fifteen')"
   ]
  },
  {
   "cell_type": "code",
   "execution_count": null,
   "metadata": {},
   "outputs": [],
   "source": [
    "with open (\"newfile.txt\", mode= 'r') as f:\n",
    "    print(f.read())"
   ]
  },
  {
   "cell_type": "code",
   "execution_count": null,
   "metadata": {},
   "outputs": [],
   "source": [
    "g= 'helllow'\n"
   ]
  },
  {
   "cell_type": "code",
   "execution_count": null,
   "metadata": {},
   "outputs": [],
   "source": [
    "g[::-1]"
   ]
  },
  {
   "cell_type": "code",
   "execution_count": null,
   "metadata": {},
   "outputs": [],
   "source": [
    "g[-1] "
   ]
  },
  {
   "cell_type": "code",
   "execution_count": null,
   "metadata": {},
   "outputs": [],
   "source": [
    "g[5]"
   ]
  },
  {
   "cell_type": "code",
   "execution_count": null,
   "metadata": {},
   "outputs": [],
   "source": [
    "[1]*5"
   ]
  },
  {
   "cell_type": "code",
   "execution_count": null,
   "metadata": {},
   "outputs": [],
   "source": [
    "l= [1,2,3,[3,4,7,8, 'hello']]"
   ]
  },
  {
   "cell_type": "code",
   "execution_count": null,
   "metadata": {},
   "outputs": [],
   "source": [
    "l"
   ]
  },
  {
   "cell_type": "code",
   "execution_count": null,
   "metadata": {},
   "outputs": [],
   "source": [
    "l=[1,4,6,8,94,3,5]\n",
    "sorted(l)"
   ]
  },
  {
   "cell_type": "code",
   "execution_count": null,
   "metadata": {},
   "outputs": [],
   "source": [
    "k= {'k1':{\"k2\": 'this is wolld '}}"
   ]
  },
  {
   "cell_type": "code",
   "execution_count": null,
   "metadata": {},
   "outputs": [],
   "source": [
    "q= {'k1':[{'new_ky':['this is depp', ['hello']]}]}"
   ]
  },
  {
   "cell_type": "code",
   "execution_count": null,
   "metadata": {},
   "outputs": [],
   "source": [
    "q['k1']"
   ]
  },
  {
   "cell_type": "code",
   "execution_count": null,
   "metadata": {},
   "outputs": [],
   "source": [
    "q['k1'][0]['new_ky'] #in order to get next value you need to piu\n",
    "#put [0] index"
   ]
  },
  {
   "cell_type": "code",
   "execution_count": null,
   "metadata": {},
   "outputs": [],
   "source": [
    "q['k1'][0]['new_ky'][1][0]"
   ]
  },
  {
   "cell_type": "code",
   "execution_count": null,
   "metadata": {},
   "outputs": [],
   "source": [
    "o= {'k1':[1,2,{'k2':['this is hard',{'tough':[1,2,['hello']]}]}]}"
   ]
  },
  {
   "cell_type": "code",
   "execution_count": null,
   "metadata": {},
   "outputs": [],
   "source": [
    "o"
   ]
  },
  {
   "cell_type": "code",
   "execution_count": null,
   "metadata": {},
   "outputs": [],
   "source": [
    "o['k1']"
   ]
  },
  {
   "cell_type": "code",
   "execution_count": null,
   "metadata": {},
   "outputs": [],
   "source": [
    "o['k1'][2]['k2'][1]['tough'][2][0]"
   ]
  },
  {
   "cell_type": "markdown",
   "metadata": {},
   "source": [
    "####   we cannot sort dictionaries \n",
    "    \n",
    "    ==  EQUAL\n",
    "    !=  NOT EQUAL\n",
    "    >\n",
    "    <\n",
    "    >= GREATER THAN EQUAL TO\n",
    "    <= LESS THAN EQUAL TO"
   ]
  },
  {
   "cell_type": "code",
   "execution_count": null,
   "metadata": {},
   "outputs": [],
   "source": [
    "l1= [1,2,[3,4]]\n",
    "l2= [1,2,{'k1':4}]\n",
    "\n",
    "#true or false\n",
    "l1[2][0] >l2[2]['k1']"
   ]
  },
  {
   "cell_type": "code",
   "execution_count": null,
   "metadata": {},
   "outputs": [],
   "source": [
    "l1[2][1] >= l2[2]['k1']"
   ]
  },
  {
   "cell_type": "code",
   "execution_count": null,
   "metadata": {},
   "outputs": [],
   "source": [
    "l1[2][0] <l2[2]['k1']"
   ]
  },
  {
   "cell_type": "code",
   "execution_count": null,
   "metadata": {},
   "outputs": [],
   "source": [
    "l1[2][0] == l2[2]"
   ]
  },
  {
   "cell_type": "code",
   "execution_count": null,
   "metadata": {},
   "outputs": [],
   "source": [
    "l1[1] >= l2[1]"
   ]
  },
  {
   "cell_type": "code",
   "execution_count": null,
   "metadata": {},
   "outputs": [],
   "source": [
    "l1[2][0] <= l2[0]"
   ]
  },
  {
   "cell_type": "markdown",
   "metadata": {},
   "source": [
    "### CHANING COMAParisom operator with logical operator\n",
    "\n",
    "    and\n",
    "    or\n",
    "    not"
   ]
  },
  {
   "cell_type": "code",
   "execution_count": null,
   "metadata": {},
   "outputs": [],
   "source": [
    "1<2\n"
   ]
  },
  {
   "cell_type": "code",
   "execution_count": null,
   "metadata": {},
   "outputs": [],
   "source": [
    "2<3 and 5<6"
   ]
  },
  {
   "cell_type": "code",
   "execution_count": null,
   "metadata": {},
   "outputs": [],
   "source": [
    "2>3 or  5<6 3 # ONE IS TRUE THEN GIVES TRUE"
   ]
  },
  {
   "cell_type": "code",
   "execution_count": null,
   "metadata": {},
   "outputs": [],
   "source": [
    "1==1\n"
   ]
  },
  {
   "cell_type": "markdown",
   "metadata": {},
   "source": [
    "### not 1==1 #O OPPOSITE BOOLEAN "
   ]
  },
  {
   "cell_type": "code",
   "execution_count": null,
   "metadata": {},
   "outputs": [],
   "source": [
    "400>500"
   ]
  },
  {
   "cell_type": "code",
   "execution_count": null,
   "metadata": {},
   "outputs": [],
   "source": [
    "not 400>500\n",
    "\n",
    "\n",
    "\n"
   ]
  },
  {
   "cell_type": "markdown",
   "metadata": {},
   "source": [
    "### CONTROL FLOW STATEMENT"
   ]
  },
  {
   "cell_type": "markdown",
   "metadata": {},
   "source": [
    "### IF SOME_CONDITION\n",
    "        EXECUTE SOME CODE\n",
    "    ELIF SOME OTHER CONDITION:\n",
    "        SOMETHING\n",
    "    ELSE:\n",
    "        THEN SOMTHING ELESE"
   ]
  },
  {
   "cell_type": "code",
   "execution_count": null,
   "metadata": {},
   "outputs": [],
   "source": [
    "if  True:\n",
    "    print('its true!')"
   ]
  },
  {
   "cell_type": "code",
   "execution_count": null,
   "metadata": {},
   "outputs": [],
   "source": [
    "if 2>3:\n",
    "    print ('its not true')"
   ]
  },
  {
   "cell_type": "code",
   "execution_count": null,
   "metadata": {},
   "outputs": [],
   "source": [
    "h= False\n",
    "if h:\n",
    "    print('its false')\n",
    "else:\n",
    "    print('false')"
   ]
  },
  {
   "cell_type": "code",
   "execution_count": null,
   "metadata": {},
   "outputs": [],
   "source": [
    "hungry= True\n",
    "if hungry == True:\n",
    "    print('feed me')\n",
    "else:\n",
    "    print('Im not hungry')"
   ]
  },
  {
   "cell_type": "code",
   "execution_count": null,
   "metadata": {},
   "outputs": [],
   "source": [
    "hungry= False\n",
    "if hungry == True:\n",
    "    print('feed me')\n",
    "else:\n",
    "    print('Im not hungry')"
   ]
  },
  {
   "cell_type": "code",
   "execution_count": null,
   "metadata": {},
   "outputs": [],
   "source": [
    "lo= 'bank'\n",
    "\n",
    "if lo=='shop':\n",
    "    print( 'cars shop')\n",
    "    \n",
    "else:\n",
    "    print('its not a car shop')"
   ]
  },
  {
   "cell_type": "code",
   "execution_count": null,
   "metadata": {},
   "outputs": [],
   "source": [
    "lo= 'bank'\n",
    "\n",
    "if lo=='shop':\n",
    "    print( 'cars shop')\n",
    "\n",
    "elif lo == 'bank':\n",
    "    print('its a bank')\n",
    "elif lo== 'auto':\n",
    "    print('its a auto shop')\n",
    "else:\n",
    "    print('its not a car shop')"
   ]
  },
  {
   "cell_type": "code",
   "execution_count": null,
   "metadata": {},
   "outputs": [],
   "source": [
    "lo= 'shop'\n",
    "\n",
    "if lo=='shop':\n",
    "    print( ' it is a cars shop')\n",
    "\n",
    "elif lo == 'bank':\n",
    "    print('its a bank')\n",
    "elif lo== 'auto':\n",
    "    print('its a auto shop')\n",
    "else:\n",
    "    print('its not a car shop')"
   ]
  },
  {
   "cell_type": "code",
   "execution_count": null,
   "metadata": {},
   "outputs": [],
   "source": [
    "name = 'sam'\n",
    "\n",
    "if name == 'sam':\n",
    "    print ('hey its my name')\n",
    "elif name == 'joy':\n",
    "    print('its joy')\n",
    "else:\n",
    "    print(\"someone\")"
   ]
  },
  {
   "cell_type": "code",
   "execution_count": null,
   "metadata": {},
   "outputs": [],
   "source": [
    "name = 'joy'\n",
    "\n",
    "if name == 'sam':\n",
    "    print ('hey its my name')\n",
    "elif name == 'joy':\n",
    "    print('its joy')\n",
    "else:\n",
    "    print(\"someone\")\n"
   ]
  },
  {
   "cell_type": "markdown",
   "metadata": {},
   "source": [
    "### for loops \n",
    " for iterate over the object and we can perform any operation\n",
    " strings too\n",
    " list is also iterable\n",
    " \n",
    " my_iterable = [1,2,3]\n",
    " \n",
    "     for item_name in my_iterable:\n",
    "     print(item_name)"
   ]
  },
  {
   "cell_type": "code",
   "execution_count": null,
   "metadata": {},
   "outputs": [],
   "source": [
    "lst= [1,2,3,4,5,6,7,8,9,10]\n"
   ]
  },
  {
   "cell_type": "code",
   "execution_count": null,
   "metadata": {},
   "outputs": [],
   "source": [
    " for num in lst:\n",
    "        print(num) #num = numbers"
   ]
  },
  {
   "cell_type": "code",
   "execution_count": null,
   "metadata": {},
   "outputs": [],
   "source": [
    "for i in lst:\n",
    "        print(i)"
   ]
  },
  {
   "cell_type": "code",
   "execution_count": null,
   "metadata": {},
   "outputs": [],
   "source": [
    "for  i in lst:\n",
    "    print(\"this is \")"
   ]
  },
  {
   "cell_type": "code",
   "execution_count": null,
   "metadata": {},
   "outputs": [],
   "source": [
    "for num in lst:\n",
    "    \n",
    "    if num % 2==0:\n",
    "        print(num)\n",
    "    else:\n",
    "        print(f'odd no: {num}')"
   ]
  },
  {
   "cell_type": "code",
   "execution_count": null,
   "metadata": {},
   "outputs": [],
   "source": []
  },
  {
   "cell_type": "code",
   "execution_count": null,
   "metadata": {},
   "outputs": [],
   "source": []
  },
  {
   "cell_type": "code",
   "execution_count": null,
   "metadata": {},
   "outputs": [],
   "source": []
  },
  {
   "cell_type": "code",
   "execution_count": null,
   "metadata": {},
   "outputs": [],
   "source": []
  },
  {
   "cell_type": "code",
   "execution_count": null,
   "metadata": {},
   "outputs": [],
   "source": [
    "lst_sum = 0\n",
    "for i in lst:\n",
    "    lst_sum = lst_sum + i\n",
    "    \n",
    "print(lst_sum) # outsside of loop"
   ]
  },
  {
   "cell_type": "code",
   "execution_count": null,
   "metadata": {},
   "outputs": [],
   "source": [
    "lst_sum = 0\n",
    "for i in lst:\n",
    "    lst_sum = lst_sum + i\n",
    "    \n",
    "    print(lst_sum) # inside of forloop"
   ]
  },
  {
   "cell_type": "code",
   "execution_count": null,
   "metadata": {},
   "outputs": [],
   "source": [
    "# strings are squence  can iteraqte each chars in that string"
   ]
  },
  {
   "cell_type": "code",
   "execution_count": null,
   "metadata": {},
   "outputs": [],
   "source": [
    "mystring = 'hello world'\n",
    "for i in mystring:\n",
    "    print(i)"
   ]
  },
  {
   "cell_type": "code",
   "execution_count": null,
   "metadata": {
    "scrolled": true
   },
   "outputs": [],
   "source": [
    "lst_sum = 0\n",
    "for _ in mystring:\n",
    "    \n",
    "    \n",
    "    print(mystring)"
   ]
  },
  {
   "cell_type": "code",
   "execution_count": null,
   "metadata": {},
   "outputs": [],
   "source": [
    "#tuple\n",
    "tup= (1,2,3)\n",
    "for i in tup:\n",
    "    print(tup)"
   ]
  },
  {
   "cell_type": "code",
   "execution_count": null,
   "metadata": {},
   "outputs": [],
   "source": [
    "tup= (1,2,3)\n",
    "for i in tup:\n",
    "    print(i)"
   ]
  },
  {
   "cell_type": "code",
   "execution_count": null,
   "metadata": {},
   "outputs": [],
   "source": [
    "mylst= [(1,2),(3,4),(5,6),(7,8)]"
   ]
  },
  {
   "cell_type": "code",
   "execution_count": null,
   "metadata": {},
   "outputs": [],
   "source": [
    "len(mylst)"
   ]
  },
  {
   "cell_type": "code",
   "execution_count": null,
   "metadata": {},
   "outputs": [],
   "source": [
    "for i in mylst:\n",
    "    print(i)"
   ]
  },
  {
   "cell_type": "code",
   "execution_count": null,
   "metadata": {},
   "outputs": [],
   "source": [
    "for (a,b) in mylst:\n",
    "    print(a)\n",
    "    print(b) # this is called tuple unpacking of duplicate structure of items"
   ]
  },
  {
   "cell_type": "code",
   "execution_count": null,
   "metadata": {},
   "outputs": [],
   "source": [
    "for a,b in mylst:\n",
    "    print(a)\n",
    "    print(b)"
   ]
  },
  {
   "cell_type": "code",
   "execution_count": null,
   "metadata": {},
   "outputs": [],
   "source": [
    "for a,b in mylst:\n",
    "    print(a)\n",
    "    "
   ]
  },
  {
   "cell_type": "code",
   "execution_count": null,
   "metadata": {},
   "outputs": [],
   "source": [
    "# dictionary\n",
    "d= {'k1':1, 'k2':2,'k3':56}\n",
    "for i in d:\n",
    "    print(d)"
   ]
  },
  {
   "cell_type": "code",
   "execution_count": null,
   "metadata": {},
   "outputs": [],
   "source": [
    "for i in d:\n",
    "    print(i)"
   ]
  },
  {
   "cell_type": "code",
   "execution_count": null,
   "metadata": {},
   "outputs": [],
   "source": [
    "for i in d.items():\n",
    "    print(i)"
   ]
  },
  {
   "cell_type": "code",
   "execution_count": null,
   "metadata": {},
   "outputs": [],
   "source": [
    "for  key,values in d.items():\n",
    "    print(values)"
   ]
  },
  {
   "cell_type": "code",
   "execution_count": null,
   "metadata": {},
   "outputs": [],
   "source": [
    "#in very large dictionaries no garanty is that we will get in order or sortred output"
   ]
  },
  {
   "cell_type": "markdown",
   "metadata": {},
   "source": [
    "### while looop\n",
    "\n",
    "while some boolean _condition:\n",
    "\n",
    "    do something\n",
    "\n",
    "else:\n",
    "    \n",
    "    do something"
   ]
  },
  {
   "cell_type": "code",
   "execution_count": null,
   "metadata": {},
   "outputs": [],
   "source": [
    "\n",
    "x= 0 \n",
    "\n",
    "while x<5:\n",
    "    print (f' the values is :{x}')\n",
    "    x= x+1"
   ]
  },
  {
   "cell_type": "code",
   "execution_count": null,
   "metadata": {},
   "outputs": [],
   "source": [
    "\n",
    "x= 0 \n",
    "\n",
    "while x<5:\n",
    "    print (f' the values is :{x}')\n",
    "    x += 1"
   ]
  },
  {
   "cell_type": "code",
   "execution_count": null,
   "metadata": {},
   "outputs": [],
   "source": [
    "\n",
    "x= 0 \n",
    "\n",
    "while x<5:\n",
    "    print (f' the values is :{x}')\n",
    "    x= x+1\n",
    "    \n",
    "else: \n",
    "    print('the current value less than 5')"
   ]
  },
  {
   "cell_type": "code",
   "execution_count": null,
   "metadata": {},
   "outputs": [],
   "source": [
    "x= 0 \n",
    "\n",
    "while x< 5:\n",
    "    print (f' the values is :{x}')\n",
    "    x= x+1\n",
    "    \n",
    "else: \n",
    "    print('the current value less than 5')"
   ]
  },
  {
   "cell_type": "markdown",
   "metadata": {},
   "source": [
    "##  break - current closet enclosing loop\n",
    "\n",
    "## continue - goes to top of the closet enclosing loop\n",
    "\n",
    "## pass- does  nothing   at all"
   ]
  },
  {
   "cell_type": "code",
   "execution_count": null,
   "metadata": {},
   "outputs": [],
   "source": [
    "x=[1,2,3]\n",
    "for i in x:\n",
    "    # comment\n",
    "    "
   ]
  },
  {
   "cell_type": "code",
   "execution_count": null,
   "metadata": {},
   "outputs": [],
   "source": [
    "x=[1,2,3]\n",
    "for i in x:\n",
    "    # comment\n",
    "    pass\n",
    "\n",
    "print('end of script')\n"
   ]
  },
  {
   "cell_type": "code",
   "execution_count": null,
   "metadata": {},
   "outputs": [],
   "source": [
    "a= 'sammy'\n",
    "for letter in a:\n",
    "    \n",
    "    print(letter)"
   ]
  },
  {
   "cell_type": "code",
   "execution_count": null,
   "metadata": {},
   "outputs": [],
   "source": [
    "a= 'sammy'\n",
    "for letter in a:\n",
    "    if letter == 'a':\n",
    "        continue\n",
    "    print(letter)"
   ]
  },
  {
   "cell_type": "code",
   "execution_count": null,
   "metadata": {},
   "outputs": [],
   "source": [
    "v= 'sammy'\n",
    "for letter in v:\n",
    "    if letter == 'a':\n",
    "        break\n",
    "    print(letter)"
   ]
  },
  {
   "cell_type": "code",
   "execution_count": null,
   "metadata": {},
   "outputs": [],
   "source": [
    "x = 0 \n",
    "while  x <5:\n",
    "    print (x)\n",
    "    x+=1"
   ]
  },
  {
   "cell_type": "code",
   "execution_count": null,
   "metadata": {},
   "outputs": [],
   "source": [
    "x= 0\n",
    "while x<5:\n",
    "    \n",
    "    if x ==3:\n",
    "        break\n",
    "    \n",
    "    print(x)\n",
    "    x= x+1"
   ]
  },
  {
   "cell_type": "markdown",
   "metadata": {},
   "source": [
    "###  operators"
   ]
  },
  {
   "cell_type": "code",
   "execution_count": null,
   "metadata": {},
   "outputs": [],
   "source": [
    "for i in range(10): # rnge operator\n",
    "    print(i)"
   ]
  },
  {
   "cell_type": "code",
   "execution_count": null,
   "metadata": {},
   "outputs": [],
   "source": [
    "for i in range(0,11,2):\n",
    "    print(i)"
   ]
  },
  {
   "cell_type": "code",
   "execution_count": null,
   "metadata": {},
   "outputs": [],
   "source": [
    "# generator\n",
    "list(range(0,11,2))"
   ]
  },
  {
   "cell_type": "code",
   "execution_count": null,
   "metadata": {},
   "outputs": [],
   "source": [
    "index_count=0\n",
    "for i in 'abwfwhf':\n",
    "    print('at index{} the letter is {}'.format(index_count, i))\n",
    "\n",
    "    index_count +=1"
   ]
  },
  {
   "cell_type": "code",
   "execution_count": null,
   "metadata": {},
   "outputs": [],
   "source": [
    "index_count=0\n",
    "word = 'abcdef'\n",
    "\n",
    "for i in word:\n",
    "    print(word[index_count])\n",
    "    index_count+=1"
   ]
  },
  {
   "cell_type": "code",
   "execution_count": null,
   "metadata": {},
   "outputs": [],
   "source": [
    "#enumarate function can it can take in any iterable object and what it does it ist return\n",
    "index_count=0\n",
    "word = 'abcdef'\n",
    "\n",
    "for i in  enumerate(word):\n",
    "    print(i)\n",
    "    "
   ]
  },
  {
   "cell_type": "code",
   "execution_count": null,
   "metadata": {},
   "outputs": [],
   "source": [
    "index_count=0\n",
    "word = 'abcdef'\n",
    "\n",
    "for index, i in  enumerate(word):\n",
    "    print(index)\n",
    "    print(i)\n",
    "    print(\"\\n\")"
   ]
  },
  {
   "cell_type": "code",
   "execution_count": null,
   "metadata": {},
   "outputs": [],
   "source": [
    "#zip function\n",
    "myls= [1,2,3,4,5]\n",
    "m2= ['a','b','c']\n",
    "zip(myls, m2)"
   ]
  },
  {
   "cell_type": "code",
   "execution_count": null,
   "metadata": {},
   "outputs": [],
   "source": [
    "for i in zip(myls, m2):\n",
    "    print(i)# the items  pair up  and match together  with tuples too"
   ]
  },
  {
   "cell_type": "code",
   "execution_count": null,
   "metadata": {},
   "outputs": [],
   "source": [
    "#zip function\n",
    "myls= [1,2,3,4,5]\n",
    "m2= ['a','b','c']\n",
    "m3= [500,5,66,69,78,54]\n",
    "zip(myls, m2,m3)"
   ]
  },
  {
   "cell_type": "code",
   "execution_count": null,
   "metadata": {},
   "outputs": [],
   "source": [
    "for i in zip(myls, m2, m3):\n",
    "    print(i) # MATCH AND INGORE THE OTHER ITEm"
   ]
  },
  {
   "cell_type": "code",
   "execution_count": null,
   "metadata": {},
   "outputs": [],
   "source": [
    "list(zip(m2,m3))"
   ]
  },
  {
   "cell_type": "markdown",
   "metadata": {},
   "source": [
    "###  list comprehenstion \n"
   ]
  },
  {
   "cell_type": "code",
   "execution_count": null,
   "metadata": {},
   "outputs": [],
   "source": [
    "l= 'hello'"
   ]
  },
  {
   "cell_type": "code",
   "execution_count": null,
   "metadata": {},
   "outputs": [],
   "source": [
    "l1=[]"
   ]
  },
  {
   "cell_type": "code",
   "execution_count": null,
   "metadata": {},
   "outputs": [],
   "source": [
    "for i in l:\n",
    "    l1.append(i)"
   ]
  },
  {
   "cell_type": "code",
   "execution_count": null,
   "metadata": {},
   "outputs": [],
   "source": [
    "l1"
   ]
  },
  {
   "cell_type": "code",
   "execution_count": null,
   "metadata": {},
   "outputs": [],
   "source": [
    "l1= [i for i in l]\n",
    "    "
   ]
  },
  {
   "cell_type": "code",
   "execution_count": null,
   "metadata": {},
   "outputs": [],
   "source": [
    "l1"
   ]
  },
  {
   "cell_type": "code",
   "execution_count": null,
   "metadata": {},
   "outputs": [],
   "source": [
    "mylist=  [x for x in 'word']"
   ]
  },
  {
   "cell_type": "code",
   "execution_count": null,
   "metadata": {},
   "outputs": [],
   "source": [
    "mylist"
   ]
  },
  {
   "cell_type": "code",
   "execution_count": null,
   "metadata": {},
   "outputs": [],
   "source": [
    "ls = [num for num in range(0,11)]"
   ]
  },
  {
   "cell_type": "code",
   "execution_count": null,
   "metadata": {},
   "outputs": [],
   "source": [
    "ls"
   ]
  },
  {
   "cell_type": "code",
   "execution_count": null,
   "metadata": {},
   "outputs": [],
   "source": [
    "l2= [num**2 for num in range(0,11)]\n",
    "l2"
   ]
  },
  {
   "cell_type": "code",
   "execution_count": null,
   "metadata": {},
   "outputs": [],
   "source": [
    "o= [x for x in range(0,11) if x%2==0]\n",
    "o\n"
   ]
  },
  {
   "cell_type": "code",
   "execution_count": null,
   "metadata": {},
   "outputs": [],
   "source": [
    "celcius= [0,10,20,35]\n",
    "fahrenheit= [((9/5)* temp+32) for temp in celcius]\n",
    "fahrenheit"
   ]
  },
  {
   "cell_type": "markdown",
   "metadata": {},
   "source": [
    "####  nested loop"
   ]
  },
  {
   "cell_type": "code",
   "execution_count": null,
   "metadata": {},
   "outputs": [],
   "source": [
    "li= []\n",
    "for i in [1,54,78,9]:\n",
    "    for y in [2,3,6,9]:\n",
    "        li.append(i *y)\n",
    "li"
   ]
  },
  {
   "cell_type": "code",
   "execution_count": null,
   "metadata": {},
   "outputs": [],
   "source": [
    "lo= [x*y for x in [4,6,78] for y in [1,5,6]]\n",
    "lo"
   ]
  },
  {
   "cell_type": "markdown",
   "metadata": {},
   "source": [
    "### function\n",
    "    \n",
    "    def name_of_function(name):\n",
    "    \n",
    "    docstrings explains functions\n",
    "    print()\n",
    "    \n",
    "naame_of_function\n",
    "\n",
    "output\n",
    "\n",
    "any\n",
    "\n",
    "function allows us to create block ofcodes that can eaily executed many times without needing to constantly rewrite the entire code\n"
   ]
  },
  {
   "cell_type": "code",
   "execution_count": null,
   "metadata": {},
   "outputs": [],
   "source": [
    "def name_function():\n",
    "    print('hello')\n",
    "name_function()"
   ]
  },
  {
   "cell_type": "code",
   "execution_count": null,
   "metadata": {},
   "outputs": [],
   "source": [
    "help(name_function)"
   ]
  },
  {
   "cell_type": "code",
   "execution_count": null,
   "metadata": {},
   "outputs": [],
   "source": [
    "def name_function():\n",
    "    '''\n",
    "    docstrings : information about the function \n",
    "    input : name\n",
    "    output:  hello\n",
    "    '''\n",
    "    print(\"hello\")\n",
    "\n",
    "name_function()\n",
    "    \n",
    "#future people need to understand yourfunction thats is why we need docstrings"
   ]
  },
  {
   "cell_type": "code",
   "execution_count": null,
   "metadata": {},
   "outputs": [],
   "source": [
    "def say_hello(name):\n",
    "    print('hello'+ name)\n",
    "say_hello(' ankit')"
   ]
  },
  {
   "cell_type": "code",
   "execution_count": null,
   "metadata": {},
   "outputs": [],
   "source": [
    "def say_hello(name = ' name'): #default one 'name'\n",
    "    print('hello'+ name)\n",
    "say_hello()"
   ]
  },
  {
   "cell_type": "code",
   "execution_count": null,
   "metadata": {},
   "outputs": [],
   "source": [
    "def say_hello(name):\n",
    "    return ('hello'+ name)\n",
    "say_hello(' ankit')"
   ]
  },
  {
   "cell_type": "code",
   "execution_count": null,
   "metadata": {},
   "outputs": [],
   "source": [
    "def say_hello(name):\n",
    "    return ('hello'+ name)\n",
    "r = say_hello(' sanket')\n",
    "r"
   ]
  },
  {
   "cell_type": "code",
   "execution_count": null,
   "metadata": {},
   "outputs": [],
   "source": [
    "def add(n1, n2):\n",
    "    return n1+n2\n",
    "\n"
   ]
  },
  {
   "cell_type": "code",
   "execution_count": null,
   "metadata": {},
   "outputs": [],
   "source": [
    "a= add(20,30)\n",
    "a"
   ]
  },
  {
   "cell_type": "code",
   "execution_count": null,
   "metadata": {},
   "outputs": [],
   "source": [
    "def dog(string):\n",
    "    if \"dog\" in string:\n",
    "        return True\n",
    "    else:\n",
    "        return False\n",
    "\n",
    "dog('dog run away')"
   ]
  },
  {
   "cell_type": "code",
   "execution_count": null,
   "metadata": {},
   "outputs": [],
   "source": [
    "def dog(string):\n",
    "    if \"dog\" in string:\n",
    "        return True\n",
    "    else:\n",
    "        return False\n",
    "\n",
    "dog('cat run away')"
   ]
  },
  {
   "cell_type": "code",
   "execution_count": null,
   "metadata": {},
   "outputs": [],
   "source": [
    "def dog(string):\n",
    "    if \"dog\" in string.lower():\n",
    "        return True\n",
    "    else:\n",
    "        return False\n",
    "\n",
    "dog('Dog run away')"
   ]
  },
  {
   "cell_type": "code",
   "execution_count": null,
   "metadata": {},
   "outputs": [],
   "source": [
    "def dog (string):\n",
    "    return 'dog' in string.lower()\n",
    "dog('dog ran')"
   ]
  },
  {
   "cell_type": "code",
   "execution_count": null,
   "metadata": {},
   "outputs": [],
   "source": [
    "# pig latin\n",
    "\n",
    "def pig(word):\n",
    "    first_letter= word[0]\n",
    "    # chekc if vovel \n",
    "    if first_letter in 'aeiou':\n",
    "        pig_word=  word +'ay'\n",
    "    else:\n",
    "        pig_word = word[1:] +first_letter +'ay'\n",
    "        \n",
    "    return pig_word\n",
    "pig('apple')"
   ]
  },
  {
   "cell_type": "code",
   "execution_count": null,
   "metadata": {},
   "outputs": [],
   "source": [
    "# pig latin\n",
    "\n",
    "def pig(word):\n",
    "    first_letter= word[0]\n",
    "    # chekc if vovel \n",
    "    if first_letter in 'aeiou':\n",
    "        pig_word=  word +'ay'\n",
    "    else:\n",
    "        pig_word = word[1:] +first_letter +'ay'\n",
    "        \n",
    "    return pig_word\n",
    "pig('banana')"
   ]
  },
  {
   "cell_type": "code",
   "execution_count": null,
   "metadata": {},
   "outputs": [],
   "source": [
    "def add(a,b,c,d,e):\n",
    "    return a+b+c+d+e\n",
    "add(8,2,3,0,7)"
   ]
  },
  {
   "cell_type": "code",
   "execution_count": null,
   "metadata": {},
   "outputs": [],
   "source": [
    "#Write a Python function to multiply all the numbers in a list.\n",
    "def mul(q,w,e,r,t):\n",
    "    return q*w*e*r*t\n",
    "mul(2,5,5,9,7)"
   ]
  },
  {
   "cell_type": "code",
   "execution_count": null,
   "metadata": {},
   "outputs": [],
   "source": [
    "#reverse strings\n",
    "def rev(s):\n",
    "    \n",
    "    s1 = ''.join(reversed(s))\n",
    "    return s1\n",
    "rev(\"sajdojdjpd\")"
   ]
  },
  {
   "cell_type": "code",
   "execution_count": null,
   "metadata": {},
   "outputs": [],
   "source": [
    "def fact(n):\n",
    "    if n==1:\n",
    "        return n\n",
    "    elif n<= -1:\n",
    "        return n\n",
    "    else:\n",
    "    \n",
    "        return n*fact(n-1)\n",
    "fact(-5)"
   ]
  },
  {
   "cell_type": "markdown",
   "metadata": {},
   "source": [
    "###  arg and Kargs\n"
   ]
  },
  {
   "cell_type": "code",
   "execution_count": null,
   "metadata": {},
   "outputs": [],
   "source": [
    "def myfun(a,b):\n",
    "    return sum((a,b))* 0.05 \n"
   ]
  },
  {
   "cell_type": "code",
   "execution_count": null,
   "metadata": {},
   "outputs": [],
   "source": [
    "myfun(40,60) #a and b are positonal arugments"
   ]
  },
  {
   "cell_type": "code",
   "execution_count": null,
   "metadata": {},
   "outputs": [],
   "source": [
    " def myfub(a,b,c=0,d=0):\n",
    "        return sum((a,b,c,d)) *0.05\n"
   ]
  },
  {
   "cell_type": "code",
   "execution_count": null,
   "metadata": {},
   "outputs": [],
   "source": [
    "myfub(10,10,30,10)"
   ]
  },
  {
   "cell_type": "code",
   "execution_count": null,
   "metadata": {},
   "outputs": [],
   "source": [
    "# * args treat as tuple"
   ]
  },
  {
   "cell_type": "code",
   "execution_count": null,
   "metadata": {},
   "outputs": [],
   "source": [
    "def my (*args):\n",
    "    return sum((args))\n",
    "my(50,20,60,54,56)"
   ]
  },
  {
   "cell_type": "code",
   "execution_count": null,
   "metadata": {},
   "outputs": [],
   "source": [
    "def my (*args):\n",
    "    return sum((args))\n",
    "my(50,20,60,54,56)"
   ]
  },
  {
   "cell_type": "code",
   "execution_count": null,
   "metadata": {},
   "outputs": [],
   "source": [
    "def myfun(**kargs):# k args is arbbitary choice\n",
    "    if \"fruit\" in kargs:\n",
    "        print('my fruit   choice is {}'.format(kargs['fruit']))\n",
    "    else:\n",
    "        print( 'i did not find any fruit')"
   ]
  },
  {
   "cell_type": "code",
   "execution_count": null,
   "metadata": {},
   "outputs": [],
   "source": [
    "myfun( veggi= \"letuce\")"
   ]
  },
  {
   "cell_type": "code",
   "execution_count": null,
   "metadata": {},
   "outputs": [],
   "source": [
    "myfun(fruit='apple')"
   ]
  },
  {
   "cell_type": "code",
   "execution_count": null,
   "metadata": {},
   "outputs": [],
   "source": [
    "myfun(fruit='apple', veggi= \"letuce\")"
   ]
  },
  {
   "cell_type": "code",
   "execution_count": null,
   "metadata": {},
   "outputs": [],
   "source": [
    "def fun(*args, **kargs):\n",
    "    print (args)\n",
    "    print(kargs)\n",
    "    print('i would like {} {}'.format(args[0], kargs['food']))"
   ]
  },
  {
   "cell_type": "code",
   "execution_count": null,
   "metadata": {},
   "outputs": [],
   "source": [
    "fun(10,10,20,20, fruit= 'orange', food = 'eggs')"
   ]
  },
  {
   "cell_type": "code",
   "execution_count": null,
   "metadata": {},
   "outputs": [],
   "source": [
    "# if called my func or fun without aruments then it will give an  error"
   ]
  },
  {
   "cell_type": "code",
   "execution_count": null,
   "metadata": {},
   "outputs": [],
   "source": [
    "def myfunc(*args):\n",
    "    result=[]\n",
    "    \n",
    "    for i in args:\n",
    "        if i%2==0:\n",
    "            result.append(i)\n",
    "    return result"
   ]
  },
  {
   "cell_type": "code",
   "execution_count": null,
   "metadata": {},
   "outputs": [],
   "source": [
    "myfunc(1,2,3,4,5,6,7,8,78)\n"
   ]
  },
  {
   "cell_type": "code",
   "execution_count": null,
   "metadata": {},
   "outputs": [],
   "source": [
    "def myfunc(words):\n",
    "    results = ''\n",
    "    for i in range (len(words)):\n",
    "        if i %2==0:\n",
    "            results += words[i].lower()\n",
    "        else:\n",
    "            results += words[i].upper()\n",
    "    return results"
   ]
  },
  {
   "cell_type": "code",
   "execution_count": null,
   "metadata": {},
   "outputs": [],
   "source": [
    "myfunc(\"ojdcoadjadjdoia\")"
   ]
  },
  {
   "cell_type": "code",
   "execution_count": null,
   "metadata": {},
   "outputs": [],
   "source": [
    "def myfunc(word):\n",
    " \n",
    "    result = ''\n",
    " \n",
    "    for i in range(len(word)):\n",
    " \n",
    "        if i%2==0:\n",
    " \n",
    "            result += word[i].lower()\n",
    " \n",
    "        else:\n",
    " \n",
    "            result += word[i].upper()\n",
    " \n",
    "    return result"
   ]
  },
  {
   "cell_type": "markdown",
   "metadata": {},
   "source": [
    "### function practice"
   ]
  },
  {
   "cell_type": "code",
   "execution_count": null,
   "metadata": {},
   "outputs": [],
   "source": [
    "def cap(name):\n",
    "    a= name[0:3].capitalize()\n",
    "    b= name[3:].capitalize()\n",
    "    return a+b\n"
   ]
  },
  {
   "cell_type": "code",
   "execution_count": null,
   "metadata": {},
   "outputs": [],
   "source": [
    "cap(\"macdonald\")"
   ]
  },
  {
   "cell_type": "code",
   "execution_count": null,
   "metadata": {},
   "outputs": [],
   "source": [
    "def mac(name):\n",
    "    \n",
    "    first= name[0]\n",
    "    inbet= name[1:3]\n",
    "    four=name[3]\n",
    "    res= name[3:]\n",
    "    \n",
    "    return first.upper()+inbet+four.upper()+res"
   ]
  },
  {
   "cell_type": "code",
   "execution_count": null,
   "metadata": {},
   "outputs": [],
   "source": [
    "cap(\"macdonald\")\n"
   ]
  },
  {
   "cell_type": "code",
   "execution_count": null,
   "metadata": {},
   "outputs": [],
   "source": [
    "def rev(text):\n",
    "    s= text.split()\n",
    "    r= s[::-1]\n",
    "    return r"
   ]
  },
  {
   "cell_type": "code",
   "execution_count": null,
   "metadata": {},
   "outputs": [],
   "source": [
    "rev(\"this is the begin\")"
   ]
  },
  {
   "cell_type": "code",
   "execution_count": null,
   "metadata": {},
   "outputs": [],
   "source": [
    "l= ['a','b','f']\n"
   ]
  },
  {
   "cell_type": "code",
   "execution_count": null,
   "metadata": {},
   "outputs": [],
   "source": [
    "'ooooooo'.join(l)"
   ]
  },
  {
   "cell_type": "code",
   "execution_count": null,
   "metadata": {},
   "outputs": [],
   "source": [
    "def  there(n):\n",
    "    \n",
    "      return (abs(100-n)<=10 )or (abs(200-n)<=10)\n",
    "  "
   ]
  },
  {
   "cell_type": "code",
   "execution_count": null,
   "metadata": {},
   "outputs": [],
   "source": [
    "there(250)"
   ]
  },
  {
   "cell_type": "code",
   "execution_count": null,
   "metadata": {},
   "outputs": [],
   "source": [
    "def  n(nums):\n",
    "    for i in range(0,len(nums)-1):\n",
    "        if nums[i] ==3 and nums[i+1]==3:\n",
    "            return True\n",
    "    return False"
   ]
  },
  {
   "cell_type": "code",
   "execution_count": null,
   "metadata": {},
   "outputs": [],
   "source": [
    "n([2,3,4,4,5,3,3,3,3,3])"
   ]
  },
  {
   "cell_type": "code",
   "execution_count": null,
   "metadata": {},
   "outputs": [],
   "source": [
    "n([2,3,4,4,5])"
   ]
  },
  {
   "cell_type": "code",
   "execution_count": null,
   "metadata": {},
   "outputs": [],
   "source": [
    "def n (nums):\n",
    "    \n",
    "    for i in nums:\n",
    "        \n",
    "        if nums[i:i+2]==[3,3]:\n",
    "            return True\n",
    "    return False"
   ]
  },
  {
   "cell_type": "code",
   "execution_count": null,
   "metadata": {},
   "outputs": [],
   "source": [
    "n([2,3,4,4,5])"
   ]
  },
  {
   "cell_type": "code",
   "execution_count": null,
   "metadata": {},
   "outputs": [],
   "source": [
    "def rep(text):\n",
    "    \n",
    "    r= ' '\n",
    "    \n",
    "    for char in text:\n",
    "        \n",
    "        r += char*3\n",
    "        \n",
    "    return r\n",
    "        "
   ]
  },
  {
   "cell_type": "code",
   "execution_count": null,
   "metadata": {},
   "outputs": [],
   "source": [
    "rep('ankit')"
   ]
  },
  {
   "cell_type": "code",
   "execution_count": null,
   "metadata": {},
   "outputs": [],
   "source": [
    "def blackjack(a,b,c):\n",
    "    \n",
    "    if sum([a,b,c]) <= 21:\n",
    "        return sum([a,b,c])\n",
    "    elif 11 in [a,b,c] and sum([a,b,c])<=31:\n",
    "        return sum([a,b,c])-10\n",
    "    else:\n",
    "        return \"bust\""
   ]
  },
  {
   "cell_type": "code",
   "execution_count": null,
   "metadata": {},
   "outputs": [],
   "source": [
    "blackjack(5,7,9)"
   ]
  },
  {
   "cell_type": "code",
   "execution_count": null,
   "metadata": {},
   "outputs": [],
   "source": [
    "blackjack(5,6,7)"
   ]
  },
  {
   "cell_type": "code",
   "execution_count": null,
   "metadata": {},
   "outputs": [],
   "source": [
    "blackjack(9,9,11)"
   ]
  },
  {
   "cell_type": "code",
   "execution_count": null,
   "metadata": {},
   "outputs": [],
   "source": [
    "def sume(nums):\n",
    "    total = 0 \n",
    "    add =True\n",
    "    \n",
    "    for i in nums:\n",
    "        while add:\n",
    "            if i!=6:\n",
    "                total += i\n",
    "                break\n",
    "            else:\n",
    "                add= True\n",
    "                \n",
    "        while not add:\n",
    "            if i!=9:\n",
    "                  break\n",
    "            else:\n",
    "                add= True\n",
    "                break\n",
    "    return total"
   ]
  },
  {
   "cell_type": "code",
   "execution_count": null,
   "metadata": {},
   "outputs": [],
   "source": [
    "sume([2,3,6,9,7,8,8])"
   ]
  },
  {
   "cell_type": "markdown",
   "metadata": {},
   "source": [
    "###  Lmabda and map function and filter"
   ]
  },
  {
   "cell_type": "code",
   "execution_count": null,
   "metadata": {},
   "outputs": [],
   "source": [
    "def sq(num):\n",
    "    return num**2\n"
   ]
  },
  {
   "cell_type": "code",
   "execution_count": null,
   "metadata": {},
   "outputs": [],
   "source": [
    "n=[1,2,3,4,5]"
   ]
  },
  {
   "cell_type": "code",
   "execution_count": null,
   "metadata": {},
   "outputs": [],
   "source": [
    "for i in map(sq, n):\n",
    "    print (i)"
   ]
  },
  {
   "cell_type": "code",
   "execution_count": null,
   "metadata": {},
   "outputs": [],
   "source": [
    "list(map(sq, n))"
   ]
  },
  {
   "cell_type": "code",
   "execution_count": null,
   "metadata": {},
   "outputs": [],
   "source": [
    "#an annoymoust function\n"
   ]
  },
  {
   "cell_type": "code",
   "execution_count": null,
   "metadata": {},
   "outputs": [],
   "source": [
    "def spl(string):\n",
    "    if len(string)%2==0:\n",
    "        return 'even'\n",
    "    else:\n",
    "        return string\n",
    "    "
   ]
  },
  {
   "cell_type": "code",
   "execution_count": null,
   "metadata": {},
   "outputs": [],
   "source": [
    "n=['andy', 'sandy', 'mandyi']\n"
   ]
  },
  {
   "cell_type": "code",
   "execution_count": null,
   "metadata": {},
   "outputs": [],
   "source": [
    "list(map(spl,n))"
   ]
  },
  {
   "cell_type": "code",
   "execution_count": null,
   "metadata": {},
   "outputs": [],
   "source": [
    "def check(num):\n",
    "    return num%2==0\n",
    "    "
   ]
  },
  {
   "cell_type": "code",
   "execution_count": null,
   "metadata": {},
   "outputs": [],
   "source": [
    "nq= [2,4,5,6,7,89,9,0,6,5,434,4,5]"
   ]
  },
  {
   "cell_type": "code",
   "execution_count": null,
   "metadata": {},
   "outputs": [],
   "source": [
    "filter(check, nq)"
   ]
  },
  {
   "cell_type": "code",
   "execution_count": null,
   "metadata": {},
   "outputs": [],
   "source": [
    "list(filter(check, nq))\n"
   ]
  },
  {
   "cell_type": "code",
   "execution_count": null,
   "metadata": {},
   "outputs": [],
   "source": [
    "def sqt(num):\n",
    "    return num**2"
   ]
  },
  {
   "cell_type": "code",
   "execution_count": null,
   "metadata": {},
   "outputs": [],
   "source": [
    "sqt(3)"
   ]
  },
  {
   "cell_type": "code",
   "execution_count": null,
   "metadata": {},
   "outputs": [],
   "source": [
    "um = lambda num: num**2"
   ]
  },
  {
   "cell_type": "code",
   "execution_count": null,
   "metadata": {},
   "outputs": [],
   "source": [
    "um(9)"
   ]
  },
  {
   "cell_type": "code",
   "execution_count": null,
   "metadata": {},
   "outputs": [],
   "source": [
    "list(filter(lambda num:num%2 ==0, nq)) # even no"
   ]
  },
  {
   "cell_type": "code",
   "execution_count": null,
   "metadata": {},
   "outputs": [],
   "source": [
    "n"
   ]
  },
  {
   "cell_type": "code",
   "execution_count": null,
   "metadata": {},
   "outputs": [],
   "source": [
    "list(map(lambda x:x[0],n))"
   ]
  },
  {
   "cell_type": "code",
   "execution_count": null,
   "metadata": {},
   "outputs": [],
   "source": [
    "list(map(lambda x:x[::-1].upper(),n))"
   ]
  },
  {
   "cell_type": "markdown",
   "metadata": {},
   "source": [
    "### nested statement and scope\n",
    "\n",
    "    l= local anyway in d function\n",
    "    e = enlclosing function (def or lambda)\n",
    "    g= global named assig in top level of modul file or delclared global in a def within file\n",
    "    b = built in - open, range, syntax error\n",
    "    "
   ]
  },
  {
   "cell_type": "code",
   "execution_count": null,
   "metadata": {},
   "outputs": [],
   "source": [
    "lambda num:num**2 ##  local\n"
   ]
  },
  {
   "cell_type": "code",
   "execution_count": null,
   "metadata": {},
   "outputs": [],
   "source": [
    " name ' this is a  global string' # global string \n",
    "    \n",
    "def greet(): #enclosing function\n",
    "        name = 'sammy' \n",
    "        \n",
    "        def hello(): #  local\n",
    "            print('hello'+name)\n",
    "            \n",
    "        hello()#enclosing function\n"
   ]
  },
  {
   "cell_type": "code",
   "execution_count": null,
   "metadata": {},
   "outputs": [],
   "source": [
    "greet() #lEGB  rule\n"
   ]
  },
  {
   "cell_type": "code",
   "execution_count": null,
   "metadata": {},
   "outputs": [],
   "source": [
    "name = ' this is a  global string' #global string \n",
    "    \n",
    "def greet(): \n",
    "    \n",
    "        #name = 'sammy' ## enclosing function\n",
    "        \n",
    "        def hello(): \n",
    "            \n",
    "            #  local\n",
    "            #name = I am local\n",
    "            print('hello'+name)\n",
    "            \n",
    "        hello() #enclosing function\n"
   ]
  },
  {
   "cell_type": "code",
   "execution_count": null,
   "metadata": {},
   "outputs": [],
   "source": [
    "greet()"
   ]
  },
  {
   "cell_type": "code",
   "execution_count": null,
   "metadata": {},
   "outputs": [],
   "source": [
    " name = ' this is a  global string' #global string \n",
    "    \n",
    "def greet(): #enclosing function\n",
    "        #local \n",
    "        name = 'sammy' \n",
    "        \n",
    "        def hell   o(): #  local\n",
    "            print('hello'+name)\n",
    "            \n",
    "        hello() #enclosing function\n"
   ]
  },
  {
   "cell_type": "code",
   "execution_count": null,
   "metadata": {},
   "outputs": [],
   "source": [
    "x= 55\n",
    "def fun(x):\n",
    "    print(f'X is {x}')\n",
    "    "
   ]
  },
  {
   "cell_type": "code",
   "execution_count": null,
   "metadata": {},
   "outputs": [],
   "source": [
    "print(x)"
   ]
  },
  {
   "cell_type": "code",
   "execution_count": null,
   "metadata": {},
   "outputs": [],
   "source": [
    "x= 55\n",
    "def fun(x):\n",
    "    print(f'X is {x}')\n",
    "    \n",
    "    #local reassignment \n",
    "    x= 200\n",
    "    print(f'I JUST locally CHANGED  X TO {x}')"
   ]
  },
  {
   "cell_type": "code",
   "execution_count": null,
   "metadata": {},
   "outputs": [],
   "source": [
    "fun(x)"
   ]
  },
  {
   "cell_type": "code",
   "execution_count": null,
   "metadata": {},
   "outputs": [],
   "source": [
    "x= 55\n",
    "def fun():\n",
    "    global x # do not use this unless you are use to make it in real time \n",
    "    print(f'X is {x}')\n",
    "    #local reassignment  on a global variable\n",
    "    x= \"new value\"\n",
    "    print(f'I JUST locally CHANGED globally X TO {x}')"
   ]
  },
  {
   "cell_type": "code",
   "execution_count": null,
   "metadata": {},
   "outputs": [],
   "source": [
    "fun()"
   ]
  },
  {
   "cell_type": "code",
   "execution_count": null,
   "metadata": {},
   "outputs": [],
   "source": [
    "print(x)"
   ]
  },
  {
   "cell_type": "code",
   "execution_count": null,
   "metadata": {},
   "outputs": [],
   "source": [
    "x= 55\n",
    "def fun(x):\n",
    "    \n",
    "    print(f'X is {x}')\n",
    "    #local reassignment  on a global variable\n",
    "    x= \"new value\"\n",
    "    print(f'I JUST locally CHANGED globally X TO {x}')\n",
    "    return x "
   ]
  },
  {
   "cell_type": "code",
   "execution_count": null,
   "metadata": {},
   "outputs": [],
   "source": [
    "q= fun(x)"
   ]
  },
  {
   "cell_type": "code",
   "execution_count": null,
   "metadata": {},
   "outputs": [],
   "source": [
    "def vol(r):\n",
    "    return (4/3)* 3.14*r**3"
   ]
  },
  {
   "cell_type": "code",
   "execution_count": null,
   "metadata": {},
   "outputs": [],
   "source": [
    "vol(20)"
   ]
  },
  {
   "cell_type": "code",
   "execution_count": null,
   "metadata": {},
   "outputs": [],
   "source": [
    "def rang(num, low , high):\n",
    "    if num in range(low, high):\n",
    "        print('%s is in the range '%str(num))\n",
    "    else: \n",
    "        print('out of range')"
   ]
  },
  {
   "cell_type": "code",
   "execution_count": null,
   "metadata": {},
   "outputs": [],
   "source": [
    "rang(10,50,50)"
   ]
  },
  {
   "cell_type": "code",
   "execution_count": null,
   "metadata": {},
   "outputs": [],
   "source": [
    "rang(1,3,10)"
   ]
  },
  {
   "cell_type": "code",
   "execution_count": null,
   "metadata": {},
   "outputs": [],
   "source": [
    "rang(3,1,10)"
   ]
  },
  {
   "cell_type": "code",
   "execution_count": null,
   "metadata": {},
   "outputs": [],
   "source": [
    "def up_low(a):\n",
    "    d={'upper':0, \"lower\":0}\n",
    "    for i in a:\n",
    "        if i.isupper():\n",
    "            d['upper'] +=1\n",
    "        elif i.islower():\n",
    "            d['lower']+=1\n",
    "        else:\n",
    "            pass\n",
    "    print('original stirng :', a)\n",
    "    print('no of upper stirng :', d['upper'])\n",
    "    print('no of lower  stirng :', d['lower'])"
   ]
  },
  {
   "cell_type": "code",
   "execution_count": null,
   "metadata": {},
   "outputs": [],
   "source": [
    "up_low('This is just a beginig ans i am sure you will do Good in Life')"
   ]
  },
  {
   "cell_type": "code",
   "execution_count": null,
   "metadata": {},
   "outputs": [],
   "source": [
    "def unq(n):\n",
    "    x=[]\n",
    "    for a in n:\n",
    "        if a not in x:\n",
    "            x.append(a)\n",
    "    return x\n",
    "        "
   ]
  },
  {
   "cell_type": "code",
   "execution_count": null,
   "metadata": {},
   "outputs": [],
   "source": [
    "unq([2,3,4,4,56,7,8,7,6,5,4,43,])"
   ]
  },
  {
   "cell_type": "markdown",
   "metadata": {},
   "source": []
  },
  {
   "cell_type": "markdown",
   "metadata": {},
   "source": [
    "###  escpe squence \n",
    "\\' single quote\n",
    "\n",
    "\\\" double\n",
    "\n",
    "\\n  new line\n",
    "\n",
    "\\tab\n",
    "\n",
    "\\b back spance\n",
    "\n"
   ]
  },
  {
   "cell_type": "code",
   "execution_count": null,
   "metadata": {},
   "outputs": [],
   "source": [
    "print('Line A\\nline  B') # line will be in next line"
   ]
  },
  {
   "cell_type": "code",
   "execution_count": null,
   "metadata": {},
   "outputs": [],
   "source": [
    "print('line A \\t line B') # line will get spaced \\tab"
   ]
  },
  {
   "cell_type": "code",
   "execution_count": null,
   "metadata": {},
   "outputs": [],
   "source": [
    "print ('this is \\ backslash')"
   ]
  },
  {
   "cell_type": "code",
   "execution_count": null,
   "metadata": {},
   "outputs": [],
   "source": [
    "print ('this is \\ backslash')"
   ]
  },
  {
   "cell_type": "code",
   "execution_count": null,
   "metadata": {},
   "outputs": [],
   "source": [
    "print(r'line a \\n line b ')"
   ]
  },
  {
   "cell_type": "code",
   "execution_count": null,
   "metadata": {},
   "outputs": [],
   "source": [
    "print('\\U0001F602') # to print emojee with emojee unicode"
   ]
  },
  {
   "cell_type": "markdown",
   "metadata": {},
   "source": [
    "\n",
    "// integer division\n",
    "\n",
    "% module which gives remainder\n",
    "\n",
    "** exponent\n",
    "\n",
    "/ simple division"
   ]
  },
  {
   "cell_type": "code",
   "execution_count": null,
   "metadata": {},
   "outputs": [],
   "source": [
    "print(round(2*56-658*862/26*98))"
   ]
  },
  {
   "cell_type": "markdown",
   "metadata": {},
   "source": [
    "### precedence rule\n",
    "# bodmas\n",
    " bracket \n",
    " exponent\n",
    " \n",
    "* // / %  then left to right  operation\n",
    "    \n",
    "    \n",
    "   +-  same left to right\n",
    "   \n",
    "   \n",
    "   convert numbers to string is str(3)\n",
    "   \n",
    "   user input function \n",
    "   \n",
    "       age = input(\" type  your name, age \")\n",
    "       it will be in always strings\n",
    "       even no too in input function\n",
    "       \n",
    "   "
   ]
  },
  {
   "cell_type": "code",
   "execution_count": null,
   "metadata": {},
   "outputs": [],
   "source": [
    "_name = 'ankit'\n",
    "_name"
   ]
  },
  {
   "cell_type": "code",
   "execution_count": null,
   "metadata": {},
   "outputs": [],
   "source": [
    "%time"
   ]
  },
  {
   "cell_type": "code",
   "execution_count": null,
   "metadata": {},
   "outputs": [],
   "source": [
    "%timeit"
   ]
  },
  {
   "cell_type": "code",
   "execution_count": null,
   "metadata": {},
   "outputs": [],
   "source": [
    "a= int(input( ' this is the no \n",
    "             ')) "
   ]
  },
  {
   "cell_type": "code",
   "execution_count": null,
   "metadata": {},
   "outputs": [],
   "source": [
    "name , age = 'ankit ', '25'\n",
    "print ('hellow '+ name , 'age is ' + age)"
   ]
  },
  {
   "cell_type": "code",
   "execution_count": null,
   "metadata": {},
   "outputs": [],
   "source": [
    "#formatting with strings\n",
    "\n",
    "name = 'ankit'\n",
    "age = 25\n",
    "print(\"hello my name is  {} and I\\'m {} years old\".format(name, age))"
   ]
  },
  {
   "cell_type": "code",
   "execution_count": null,
   "metadata": {},
   "outputs": [],
   "source": [
    "print(f\"this is the name of that guy {name} and his age is {age}\")\n",
    "     #f for format   "
   ]
  },
  {
   "cell_type": "code",
   "execution_count": null,
   "metadata": {},
   "outputs": [],
   "source": []
  },
  {
   "cell_type": "code",
   "execution_count": null,
   "metadata": {},
   "outputs": [],
   "source": [
    "a= int (input('first no'))\n",
    "b= int (input('2nd no'))\n",
    "c= int (input('3rd no'))\n",
    "\n",
    "print(a+b+c/3)\n"
   ]
  },
  {
   "cell_type": "code",
   "execution_count": null,
   "metadata": {},
   "outputs": [],
   "source": [
    "a= int (input('first no'))\n",
    "b= int (input('2nd no'))\n",
    "c= int (input('3rd no'))\n",
    "\n",
    "print(f'the avg of all the no is {a+b+c/3}')\n"
   ]
  },
  {
   "cell_type": "code",
   "execution_count": null,
   "metadata": {},
   "outputs": [],
   "source": [
    "#string Index and slicing\n",
    "\n",
    "a= \"indexno\"\n",
    "#  0123456\n",
    " #-7 -6-5-4-3-2-1\n",
    "    \n",
    "# i  = 0 =  -7\n",
    "# n  = 1 =-6\n",
    "#d  = 2 = -5\n",
    "#e = 3  = -4\n",
    "#x = 4  = -3\n",
    "#n = 5  = -2\n",
    "# o =6  = -1\n",
    "  \n",
    "print(a[0]) # index\n",
    "\n",
    "print(a[0:3]) #[ start argument : end arg]\n",
    "\n",
    "print(a[0:]) #  start to all the way to end\n",
    "\n",
    "print(a[:3])\n",
    "\n",
    "print(a[:])\n",
    "\n",
    "print(a[:-1])\n",
    "\n",
    "print(a[0:5:1]) #[ start argument : end arg : step argument]\n",
    "\n",
    "print(a[::]) #[ start argument : end arg : step argument]\n",
    "\n",
    "\n",
    "print(a[::-1])\n",
    "\n",
    "print(a[::3])\n",
    "\n",
    "print(a[1:3])\n",
    "\n",
    "print(a[-1::])\n",
    "\n",
    "print(a[:1:])\n",
    "\n",
    "print(a[1::])\n",
    "\n",
    "print(a[1::5])\n",
    "\n",
    "print(a[::-3])\n",
    "\n",
    "\n",
    "\n"
   ]
  },
  {
   "cell_type": "code",
   "execution_count": null,
   "metadata": {},
   "outputs": [],
   "source": [
    "print(a[::3])"
   ]
  },
  {
   "cell_type": "code",
   "execution_count": null,
   "metadata": {},
   "outputs": [],
   "source": [
    "print(a[5::-1]) "
   ]
  },
  {
   "cell_type": "code",
   "execution_count": null,
   "metadata": {},
   "outputs": [],
   "source": [
    "print(a[-1::-1])  #print(a[::-1])  same as this "
   ]
  },
  {
   "cell_type": "code",
   "execution_count": null,
   "metadata": {},
   "outputs": [],
   "source": [
    "u= input('enter your name :')"
   ]
  },
  {
   "cell_type": "code",
   "execution_count": null,
   "metadata": {},
   "outputs": [],
   "source": [
    "print( \" the reverse of your name is \", u[::-1])"
   ]
  },
  {
   "cell_type": "code",
   "execution_count": null,
   "metadata": {},
   "outputs": [],
   "source": [
    "print( f\" the reverse of your name is {u[::-1]}\")"
   ]
  },
  {
   "cell_type": "code",
   "execution_count": null,
   "metadata": {},
   "outputs": [],
   "source": [
    "#strings methods\n",
    "\n",
    "len(a)"
   ]
  },
  {
   "cell_type": "code",
   "execution_count": null,
   "metadata": {},
   "outputs": [],
   "source": [
    "a.upper()"
   ]
  },
  {
   "cell_type": "code",
   "execution_count": null,
   "metadata": {},
   "outputs": [],
   "source": [
    "a.lower()"
   ]
  },
  {
   "cell_type": "code",
   "execution_count": null,
   "metadata": {},
   "outputs": [],
   "source": [
    "a.title()"
   ]
  },
  {
   "cell_type": "code",
   "execution_count": null,
   "metadata": {},
   "outputs": [],
   "source": [
    "a.count(\"o\")"
   ]
  },
  {
   "cell_type": "code",
   "execution_count": null,
   "metadata": {},
   "outputs": [],
   "source": [
    "name,char=input(\"Enter your Name and One character comma seperated \").split()\n",
    "char1=char.lower()\n",
    "char2=char.upper()\n",
    "print(len(name))\n",
    "print(int(name.count(char1))+int(name.count(char2)))\n",
    " \n",
    "\n",
    "\n",
    "\n"
   ]
  },
  {
   "cell_type": "code",
   "execution_count": null,
   "metadata": {},
   "outputs": [],
   "source": [
    "name,char=input(\"Enter your Name and One character comma seperated \").split(\",\")\n",
    "char1=char.lower()\n",
    "char2=char.upper()\n",
    "print(len(name))\n",
    "print(int(name.count(char1))+int(name.count(char2)))\n",
    "\n",
    "#entering  the value like Ankitttt , space ,t\n",
    "#then values will be 0\n",
    "\n",
    "# if  ntering  the value like Ankitttt ,without space t\n",
    "#then  it will give an output is t= 4\n"
   ]
  },
  {
   "cell_type": "code",
   "execution_count": null,
   "metadata": {},
   "outputs": [],
   "source": []
  },
  {
   "cell_type": "code",
   "execution_count": null,
   "metadata": {},
   "outputs": [],
   "source": [
    "# with strip method for removing the spaces\n",
    "name,char=input(\"Enter your Name and One character comma seperated \").split(\",\")\n",
    "char=char.lower()\n",
    "\n",
    "print(len(name))\n",
    "print(int(name.count(char))+int(name.count(char.strip().lower())))\n",
    "\n",
    "name.strip().lower().count(char.strip().lower())\n",
    "\n"
   ]
  },
  {
   "cell_type": "code",
   "execution_count": null,
   "metadata": {},
   "outputs": [],
   "source": [
    "#strip method\n",
    "\n",
    "name = '   ankit    ' #  to remove spaces from left is lstrip and r strip for right\n",
    "dot = '-------------'\n",
    "\n",
    "print (s)\n",
    "print(name.lstrip()  + dot)\n",
    "print(name.rstrip() + dot)\n",
    "print(name.strip () + dot)"
   ]
  },
  {
   "cell_type": "code",
   "execution_count": null,
   "metadata": {},
   "outputs": [],
   "source": [
    "# to remove spaces\n",
    "\n",
    "name = '   ankit    ffff ' #  to remove spaces from left is lstrip and r strip for right\n",
    "dot = '-------------'\n",
    "\n",
    "\n",
    "#print(name.strip () + dot)  this will not work\n",
    "print (name.replace('','') +dot)"
   ]
  },
  {
   "cell_type": "code",
   "execution_count": null,
   "metadata": {},
   "outputs": [],
   "source": [
    "# replace and find method\n",
    "\n",
    "string =' spent several years making no money and simply preparing. I was too dumb at the time to understand that '\n",
    "string.replace(' ','_')"
   ]
  },
  {
   "cell_type": "code",
   "execution_count": null,
   "metadata": {},
   "outputs": [],
   "source": [
    "\n",
    "string ='spent several years making no money and simply preparing. I was too dumb at the time to understand that '\n",
    "string.replace('','_')\n",
    "            # old new"
   ]
  },
  {
   "cell_type": "code",
   "execution_count": null,
   "metadata": {},
   "outputs": [],
   "source": [
    "\n",
    "string ='spent several years making no money and simply preparing. I was too dumb at the time to understand that '\n",
    "string.replace('.','_')"
   ]
  },
  {
   "cell_type": "code",
   "execution_count": null,
   "metadata": {},
   "outputs": [],
   "source": [
    "string ='spent several years making no money and simply preparing. I was too dumb at the time to understand that '\n",
    "string.replace(' no',' huge')\n",
    "            # old new"
   ]
  },
  {
   "cell_type": "code",
   "execution_count": null,
   "metadata": {},
   "outputs": [],
   "source": [
    "s= 'she is the best, she is good teacher'\n",
    "s.replace(' is',' was')\n",
    "            # old new"
   ]
  },
  {
   "cell_type": "code",
   "execution_count": null,
   "metadata": {},
   "outputs": [],
   "source": [
    "s= 'she is the best, she is good teacher'\n",
    "s.replace(' is',' was', 1)\n",
    "       # old     new  ,first or which is you want to replace"
   ]
  },
  {
   "cell_type": "code",
   "execution_count": null,
   "metadata": {},
   "outputs": [],
   "source": [
    "# find method\n",
    "# it is useful to find the  position of the word or charater \n",
    "#in the given string\n",
    "\n",
    "s.find('is' )"
   ]
  },
  {
   "cell_type": "code",
   "execution_count": null,
   "metadata": {},
   "outputs": [],
   "source": [
    "s= 'she is the best, she is good teacher'\n",
    "position1 = s.find('is')\n",
    "position1"
   ]
  },
  {
   "cell_type": "code",
   "execution_count": null,
   "metadata": {},
   "outputs": [],
   "source": [
    "s= 'she is the best, she is good teacher'\n",
    "position2= s.find('is', 5)\n",
    "position2"
   ]
  },
  {
   "cell_type": "code",
   "execution_count": null,
   "metadata": {},
   "outputs": [],
   "source": [
    "position2= s.find('is', position1 + 1)\n",
    "position2"
   ]
  },
  {
   "cell_type": "code",
   "execution_count": null,
   "metadata": {},
   "outputs": [],
   "source": [
    "#center method\n",
    "\n",
    "name = 'ankit'\n",
    "len(name)\n",
    "print(name.center(9,'*')) #to add star it will check your len of varibale and it should be greater than the   len"
   ]
  },
  {
   "cell_type": "code",
   "execution_count": null,
   "metadata": {},
   "outputs": [],
   "source": [
    "name = input('enter your name')\n",
    "print(name.center(len(name) +8,'*' ))"
   ]
  },
  {
   "cell_type": "markdown",
   "metadata": {},
   "source": [
    "### strings are immutable even if you are changing the string with replace function\n",
    "\n",
    "Assign any varibale  for calculation like this\n",
    "\n",
    "    a += 'this is '\n",
    "    a += 3\n",
    "    a *= 555\n",
    "    etx"
   ]
  },
  {
   "cell_type": "code",
   "execution_count": null,
   "metadata": {},
   "outputs": [],
   "source": [
    "len(name)\n",
    "dd= 'anmdkldkdkdk dkdkdkd'\n",
    "len(dd)"
   ]
  },
  {
   "cell_type": "code",
   "execution_count": null,
   "metadata": {},
   "outputs": [],
   "source": [
    "# if statement  to check conditions\n",
    "\n",
    "age = int(input('your age plz :'))\n",
    "\n",
    "if age >= 14:\n",
    "    print (' you are eligible for playing')"
   ]
  },
  {
   "cell_type": "code",
   "execution_count": null,
   "metadata": {},
   "outputs": [],
   "source": [
    "#pass statement\n",
    "\n",
    "# to passs means we dont want to write any statement \n",
    "age = int(input('your age plz :'))\n",
    "\n",
    "if age >= 14:\n",
    "    pass"
   ]
  },
  {
   "cell_type": "code",
   "execution_count": null,
   "metadata": {},
   "outputs": [],
   "source": [
    "#else statement\n",
    "\n",
    "age = int(input('your age plz :'))\n",
    "\n",
    "if age >= 14:\n",
    "    print('you are eligible')\n",
    "else:\n",
    "    \n",
    "    print('you are not eligible')"
   ]
  },
  {
   "cell_type": "code",
   "execution_count": null,
   "metadata": {},
   "outputs": [],
   "source": [
    "# no guessing game\n",
    "import random\n",
    "no = input('enter your  guess no :  ')\n",
    "wno = 987654321\n",
    "\n",
    "if wno == 987654321:\n",
    "        print (' you won')\n",
    "else:\n",
    "      print(\"try again\")"
   ]
  },
  {
   "cell_type": "code",
   "execution_count": null,
   "metadata": {},
   "outputs": [],
   "source": [
    "# nested if and else statement\n",
    "no = int(input('enter your  guess no :  '))\n",
    "wno = 15\n",
    "\n",
    "if no == wno:\n",
    "        print (' you won')\n",
    "else:\n",
    "    if no < wno:\n",
    "        print(\"too low\")\n",
    "    else:\n",
    "            print(\"too high\")\n",
    "        "
   ]
  },
  {
   "cell_type": "code",
   "execution_count": null,
   "metadata": {},
   "outputs": [],
   "source": [
    "# check two conditions at same time\n",
    "\n",
    "##   add , or operator\n",
    "\n",
    "hungry = True # this conditions are true then only will give true if both cases are consider for overall \n",
    "nt =False\n",
    "\n",
    "if hungry == True and nt == False:\n",
    "    print(\"m  hungry\")\n",
    "else:\n",
    "    print('leave')"
   ]
  },
  {
   "cell_type": "code",
   "execution_count": null,
   "metadata": {},
   "outputs": [],
   "source": [
    "#vid 49\n",
    "\n",
    "name = input(' your name please :')\n",
    "age = int(input( ' mention your age please :'))\n",
    "\n",
    "if age >= 10 and  (name[0] == 'a' or name[0] == 'A'):\n",
    "    print (' you can watch movies')\n",
    "else:\n",
    "    print('sorry you cannot watch movie')"
   ]
  },
  {
   "cell_type": "code",
   "execution_count": null,
   "metadata": {},
   "outputs": [],
   "source": [
    "ticket =int(input('how many tickets you wana buy :'))\n",
    "discount_1 = 5/100\n",
    "discount_2 = ticket * 8/100\n",
    "\n",
    "\n",
    "if ticket <= 3:\n",
    "    print (\"no discount\")\n",
    "\n",
    "elif ticket <=5 and ticket >=3:\n",
    "    print(f\" total discount of {ticket *discount_1} %\")\n",
    "\n",
    "elif ticket > 5:\n",
    "    print(discount_2)\n",
    "    \n",
    "else: \n",
    "    print( \"you got already discount\")"
   ]
  },
  {
   "cell_type": "code",
   "execution_count": null,
   "metadata": {},
   "outputs": [],
   "source": [
    "age= int(input('how many tickets you wana buy :'))\n",
    "\n",
    "if age >=0  and age  <=3:\n",
    "    print('your ticket is free')\n",
    "elif  age >4 and age <= 10:\n",
    "    print('your ticket cost is 150')\n",
    "elif age >= 11 and  age  <= 60:\n",
    "    print('your ticket cost is 250')\n",
    "\n",
    "else:\n",
    "    print('your ticket cost is 200')\n",
    "    "
   ]
  },
  {
   "cell_type": "code",
   "execution_count": null,
   "metadata": {},
   "outputs": [],
   "source": [
    "name= 'ankit'\n",
    "\n",
    "if 'a' in name:\n",
    "    print(\"Presnt \")\n",
    "else:\n",
    "    print('not present')"
   ]
  },
  {
   "cell_type": "code",
   "execution_count": null,
   "metadata": {},
   "outputs": [],
   "source": [
    "na = input('enter your name ')\n",
    "na=''\n",
    "if na : # true if string is not empty\n",
    "    \n",
    "    print(\"string is not empty\")\n",
    "else:\n",
    "    print(\"you didnt type anythin\")"
   ]
  },
  {
   "cell_type": "code",
   "execution_count": null,
   "metadata": {},
   "outputs": [],
   "source": [
    "#while loop \n",
    "# agar code ko bar bar use karnar h to while loop best h\n",
    " "
   ]
  },
  {
   "cell_type": "code",
   "execution_count": null,
   "metadata": {},
   "outputs": [],
   "source": [
    " i = 1\n",
    "    \n",
    "while  i <=10:\n",
    "    print(f'hello {i}')\n",
    "    \n",
    "    i = i +1"
   ]
  },
  {
   "cell_type": "code",
   "execution_count": null,
   "metadata": {},
   "outputs": [],
   "source": [
    "tot= 0 # starting value pr initiate value\n",
    "\n",
    "i = 1 # to add \n",
    "\n",
    "while i <=10:\n",
    "    tot=tot+ i # tot += i\n",
    "    i= i+ 1\n",
    "    print(tot)\n",
    "    \n",
    "    \n",
    "    #total = 0 + i =1\n",
    "    #i = 2 "
   ]
  },
  {
   "cell_type": "code",
   "execution_count": null,
   "metadata": {},
   "outputs": [],
   "source": [
    "a = int(input('enter natual no :'))\n",
    "total = 0\n",
    "i = 1\n",
    "\n",
    "while i <=a:\n",
    "    \n",
    "    total +=  i\n",
    "    i = i+1\n",
    "    print (total)\n",
    "    "
   ]
  },
  {
   "cell_type": "code",
   "execution_count": null,
   "metadata": {},
   "outputs": [],
   "source": [
    "n= input('enter the no more than 1 digit :')\n",
    "\n",
    "## int(n[i]) +\n",
    "\n",
    "total = 0 #  total input \n",
    "i = 0    #  boz  we need to add 0th position convert to int\n",
    "\n",
    "while i < len(n): # lenght of no \n",
    "    \n",
    "    total +=   int(n[i])\n",
    "    i = i +1\n",
    "    \n",
    "    #   int(n[i]) # jo bhi no hoga us ki i'th position\n",
    "    # to add this in toal \n",
    "    \n",
    "print(total)\n",
    "    "
   ]
  },
  {
   "cell_type": "code",
   "execution_count": null,
   "metadata": {},
   "outputs": [],
   "source": [
    "n = input('enter no :')\n",
    "total = 0 #sabka total input karenge\n",
    "i = 0 # int(n[i]) jab taq lenght len(n)\n",
    "# 1234 lenght = 4 and last index = 3\n",
    "\n",
    "while i < len(n):\n",
    "    # to add this in total----int(n [i])= \n",
    "    total +=  int(n[i])\n",
    "    i += 1\n",
    "print(total) # 5+5+5+5 = 25"
   ]
  },
  {
   "cell_type": "markdown",
   "metadata": {},
   "source": [
    "### TO COUNT EACH LETTER IN YOUR NAME  \n",
    "\n",
    "name = input(\" enter your name :\")\n",
    "\n",
    "    i= 0 \n",
    "    while i < len(name):\n",
    "        i  += 1\n",
    "        print (f\" {name[i]} :{name.count(name[i])} \")\n"
   ]
  },
  {
   "cell_type": "code",
   "execution_count": null,
   "metadata": {},
   "outputs": [],
   "source": [
    "name = input(\" enter your name :\")\n",
    "\n",
    "temp = '' # to make sure we are not adding exisiting count\n",
    "\n",
    "i= 0  # to initate the count of each charas\n",
    "\n",
    "while i < len(name): # length is imp as we dont know what i/p is\n",
    "    \n",
    "    if name[i] not in temp:  # name [index] not in temp string\n",
    "        \n",
    "        \n",
    "        temp = temp + name[i]  #then we can add that string to total\n",
    "        \n",
    "        print (f\" {name[i]} :{name.count(name[i])} \")\n",
    "        \n",
    "    i   = i+ 1 # till upto the last element of string \n",
    "     "
   ]
  },
  {
   "cell_type": "code",
   "execution_count": null,
   "metadata": {},
   "outputs": [],
   "source": [
    "#infinte loop\n",
    "i = 0\n",
    "while i <=10: # even if while  True: gives ininite loop\n",
    "    \n",
    "    print('hello')\n",
    "    i +=1"
   ]
  },
  {
   "cell_type": "code",
   "execution_count": null,
   "metadata": {},
   "outputs": [],
   "source": [
    "# for loop we use range function for for\n",
    "\n",
    "for i in range(10): # 0 to 9\n",
    "    print(f'hello : {i}')\n"
   ]
  },
  {
   "cell_type": "code",
   "execution_count": null,
   "metadata": {},
   "outputs": [],
   "source": [
    "for i in range(1 ,11): # 0 to 9\n",
    "    print(f'hello : {i}')\n",
    "    print('this is new line')"
   ]
  },
  {
   "cell_type": "code",
   "execution_count": null,
   "metadata": {},
   "outputs": [],
   "source": [
    "total = 0 #to store the input initialize\n",
    "\n",
    "for i in range(1,11):\n",
    "    \n",
    "    \n",
    "    total += i\n",
    "    print(total)"
   ]
  },
  {
   "cell_type": "code",
   "execution_count": null,
   "metadata": {},
   "outputs": [],
   "source": [
    "n= int(input('enter your no : '))\n",
    "total = 0\n",
    "for i in range(1, n+1):\n",
    "    total += i\n",
    "    print(total)"
   ]
  },
  {
   "cell_type": "markdown",
   "metadata": {},
   "source": [
    "# use.\n",
    "\n",
    "# len()\n",
    "\n",
    "function to calculate each postion or sum of each position in range "
   ]
  },
  {
   "cell_type": "code",
   "execution_count": null,
   "metadata": {},
   "outputs": [],
   "source": [
    "#  n = 1234\n",
    "# n[0] == 1\n",
    "# n[1] == 2\n",
    "\n",
    "#always use len(a)\n",
    "\n",
    "\n",
    "a= input('enter no ')\n",
    "\n",
    "total = 0\n",
    "\n",
    "for i in range (0, len(a)):\n",
    "    \n",
    "    total += int(a[i]) # change string into integer\n",
    "    print(total)\n",
    "    "
   ]
  },
  {
   "cell_type": "code",
   "execution_count": null,
   "metadata": {},
   "outputs": [],
   "source": [
    "\n",
    "name = input('enter your name :')\n",
    "\n",
    "temp = ''\n",
    "i = 1\n",
    "\n",
    "for i in range(len(name)):\n",
    "    \n",
    "    if name[i] not in temp:\n",
    "        print(f' the count  is {name[i] } : {name.count(name[i])}')\n",
    "        temp += name[i]"
   ]
  },
  {
   "cell_type": "code",
   "execution_count": null,
   "metadata": {},
   "outputs": [],
   "source": [
    "for i in range (1,11):\n",
    "    print(i)\n",
    "\n"
   ]
  },
  {
   "cell_type": "code",
   "execution_count": null,
   "metadata": {},
   "outputs": [],
   "source": [
    "for i in range(1,11):\n",
    "    if i == 5:\n",
    "        break\n",
    "    print(i)"
   ]
  },
  {
   "cell_type": "code",
   "execution_count": null,
   "metadata": {},
   "outputs": [],
   "source": [
    "for i in  range(1,11):\n",
    "    if i==5: # 5 will not print if continue \n",
    "        \n",
    "        continue\n",
    "    print(i) # i = 5 condition will true and it will not print  i= 5\n",
    "            # excution will start at 6th term"
   ]
  },
  {
   "cell_type": "code",
   "execution_count": null,
   "metadata": {},
   "outputs": [],
   "source": [
    "win_no = 40 # if this no guess then \n",
    "guess =1  # how many guesse\n",
    "\n",
    "no= int(input('guess no ')) #input this no \n",
    "\n",
    "game_over = False  #which is not \n",
    "\n",
    "while not game_over :\n",
    "    \n",
    "    if no == win_no:\n",
    "        \n",
    "        print(f\" you win and at guess {guess} times\")\n",
    "        \n",
    "        game_over= True\n",
    "        \n",
    "    else:\n",
    "        \n",
    "        if no< win_no:\n",
    "            print ('too low')\n",
    "            guess =+ 1 \n",
    "            no =int(input('enter your guess no again :'))\n",
    "            \n",
    "        else:\n",
    "            no >win_no\n",
    "            print('too high')\n",
    "                \n",
    "            guess += 1\n",
    "                \n",
    "            no =int(input('enter your guess no again :'))\n",
    "            "
   ]
  },
  {
   "cell_type": "code",
   "execution_count": null,
   "metadata": {},
   "outputs": [],
   "source": [
    " #define game winning no without random no\n",
    "g = 56\n",
    "guess= 1\n",
    "game_over = False\n",
    "inp = int(input('enter your guess no'))\n",
    "\n",
    "while not  game_over:\n",
    "    \n",
    "    if inp == g:\n",
    "        print (f'you won  at { guess} times')\n",
    "       \n",
    "        game_over = True\n",
    "         \n",
    "    else:\n",
    "        if inp < g:\n",
    "            print('too low')\n",
    "            guess  += 1\n",
    "            inp = int(input('enter your code again'))\n",
    "            \n",
    "        else:\n",
    "            inp > g\n",
    "            print('too high')\n",
    "            guess += 1\n",
    "            inp=int(input(\"enter your guess again \"))\n",
    "            "
   ]
  },
  {
   "cell_type": "markdown",
   "metadata": {},
   "source": [
    "### #define game winning no without random no\n",
    "    g = 56\n",
    "    guess= 1\n",
    "    game_over = False\n",
    "\n",
    "    while True: #infinite loop\n",
    "    inp = int(input('enter your guess no'))\n",
    "\n",
    "    if inp == g:\n",
    "        print (f'you won  at { guess} times')\n",
    "       \n",
    "        break\n",
    "         \n",
    "    else:\n",
    "        if inp < g:\n",
    "            print('too low')\n",
    "            \n",
    "            \n",
    "        else:\n",
    "            inp > g\n",
    "            print('too high')\n",
    "            guess += 1\n",
    "            \n",
    "            continue"
   ]
  },
  {
   "cell_type": "code",
   "execution_count": null,
   "metadata": {},
   "outputs": [],
   "source": [
    "#for random no to win the game"
   ]
  },
  {
   "cell_type": "code",
   "execution_count": null,
   "metadata": {},
   "outputs": [],
   "source": [
    " #define game winning no with random no\n",
    "import random\n",
    "g = random.randint(1,100) \n",
    "guess= 1\n",
    "game_over = False\n",
    "inp = int(input('enter your guess no'))\n",
    "\n",
    "while not  game_over:\n",
    "    \n",
    "    if inp == g:\n",
    "        print (f'you won  at { guess} times')\n",
    "       \n",
    "        game_over = True\n",
    "         \n",
    "    else:\n",
    "        if inp < g:\n",
    "            print('too low')\n",
    "            guess  += 1\n",
    "            inp = int(input('enter your code again'))\n",
    "            \n",
    "        else:\n",
    "            inp > g\n",
    "            print('too high')\n",
    "            guess += 1\n",
    "            inp=int(input(\"enter your guess again \"))\n",
    "            "
   ]
  },
  {
   "cell_type": "code",
   "execution_count": null,
   "metadata": {},
   "outputs": [],
   "source": [
    "for i in range (1,11,3):\n",
    "    print (i)"
   ]
  },
  {
   "cell_type": "code",
   "execution_count": null,
   "metadata": {},
   "outputs": [],
   "source": [
    "for i in range(10,0,-1):\n",
    "    print (i)# from 10 to 1 decreasing order"
   ]
  },
  {
   "cell_type": "code",
   "execution_count": null,
   "metadata": {},
   "outputs": [],
   "source": [
    "for i in range (10,-1,-1):\n",
    "    print(i)"
   ]
  },
  {
   "cell_type": "code",
   "execution_count": null,
   "metadata": {},
   "outputs": [],
   "source": [
    "# for loop and strings\n",
    "\n",
    "name = input('enter your name :')\n",
    "\n",
    "for i in name:\n",
    "    \n",
    "    print (i)"
   ]
  },
  {
   "cell_type": "code",
   "execution_count": null,
   "metadata": {},
   "outputs": [],
   "source": [
    "n = (input('enter name '))\n",
    "for i in range(len(name)):\n",
    "    print(name[i])"
   ]
  },
  {
   "cell_type": "code",
   "execution_count": null,
   "metadata": {},
   "outputs": [],
   "source": [
    "# to add 12345 together using for loop\n",
    "\n",
    "n = (input('enter no '))\n",
    "total = 0\n",
    "for i in  n:\n",
    "    total = total + int(i)\n",
    "print(total)"
   ]
  },
  {
   "cell_type": "markdown",
   "metadata": {},
   "source": [
    "###  if statement \n",
    "\n",
    "     name = 'ankit'\n",
    "     if name == \"ankit\":\n",
    "         print('True)\n",
    "     ele:\n",
    "         print( ' you are not ankit')\n",
    "         \n",
    "         \n",
    "     or operator does check check whethere my one of the  condition meeting the input condition or not.\n",
    "     \n",
    "     and operator will checkif both conditions are true  overall then only it will give us result\n",
    "     "
   ]
  },
  {
   "cell_type": "code",
   "execution_count": null,
   "metadata": {},
   "outputs": [],
   "source": [
    "l= [1,2,5,6,6,7,8,5,4,4,5,56,6,6]\n",
    "for i in l:\n",
    "    if i%2 ==0:\n",
    "        print(f'{i} its evn no ')\n",
    "    else:\n",
    "        print(f' it is odd {i}')"
   ]
  },
  {
   "cell_type": "code",
   "execution_count": null,
   "metadata": {},
   "outputs": [],
   "source": [
    "su= 0\n",
    "for i in l:\n",
    "    su += i\n",
    "print(su) # total of sum of all the no\n"
   ]
  },
  {
   "cell_type": "code",
   "execution_count": null,
   "metadata": {},
   "outputs": [],
   "source": [
    "su= 0\n",
    "for i in l:\n",
    "    su += i\n",
    "    print(su) # total of sum of all the no\n"
   ]
  },
  {
   "cell_type": "code",
   "execution_count": null,
   "metadata": {},
   "outputs": [],
   "source": [
    "ls = [(1,5),(4,6),(6,7),(6,7)]\n",
    "for (a,b) in ls:\n",
    "    \n",
    "    print(a)\n",
    "    print(b)"
   ]
  },
  {
   "cell_type": "markdown",
   "metadata": {},
   "source": [
    "###  Functions \n"
   ]
  },
  {
   "cell_type": "code",
   "execution_count": null,
   "metadata": {},
   "outputs": [],
   "source": [
    "def ad_two(a,b):\n",
    "    return a+b\n",
    "ad_two(5,6)"
   ]
  },
  {
   "cell_type": "code",
   "execution_count": null,
   "metadata": {},
   "outputs": [],
   "source": [
    "def ad_two(a,b):\n",
    "    return a+b\n",
    "total = ad_two(5,6)\n",
    "print(total)"
   ]
  },
  {
   "cell_type": "code",
   "execution_count": null,
   "metadata": {},
   "outputs": [],
   "source": [
    "def name (nam):\n",
    "    return nam[-1]\n",
    "\n",
    "name(\"ankit nAGDEDVE\")"
   ]
  },
  {
   "cell_type": "code",
   "execution_count": null,
   "metadata": {},
   "outputs": [],
   "source": [
    "\n",
    "def odd_ev(num):\n",
    "    if num% 2== 0 :\n",
    "        return 'envn'\n",
    "    \n",
    "    return(\"odd\")\n",
    "odd_ev(55)"
   ]
  },
  {
   "cell_type": "code",
   "execution_count": null,
   "metadata": {},
   "outputs": [],
   "source": [
    "def is_eve(num):\n",
    "    if num % 2 == 0:\n",
    "        return True\n",
    "    else:\n",
    "        return False\n",
    "print(is_eve (9))"
   ]
  },
  {
   "cell_type": "code",
   "execution_count": null,
   "metadata": {},
   "outputs": [],
   "source": [
    "def is_eve(num):\n",
    "    \n",
    "        return  num% 2== 0# true or false\n",
    "    \n",
    "is_eve(5)"
   ]
  },
  {
   "cell_type": "code",
   "execution_count": null,
   "metadata": {},
   "outputs": [],
   "source": [
    "def gr(a,b ):\n",
    "    if a> b :\n",
    "        return a\n",
    "    else:\n",
    "        return b\n",
    "num1 = int(input('enter your no'))\n",
    "num2 = int(input('enter your2nd no'))\n",
    "ge= gr(num1, num2) \n",
    "\n",
    "pr= print(f' the greater no is  {ge}')"
   ]
  },
  {
   "cell_type": "code",
   "execution_count": null,
   "metadata": {},
   "outputs": [],
   "source": [
    "def ip(a,b):\n",
    "    if a>b:\n",
    "        return a\n",
    "    else: \n",
    "        return b\n",
    "    \n",
    "n1= int(input('enter your first no ' ))\n",
    "n2= int(input('enter your 2nd no '))\n",
    "\n",
    "store= ip(n1,n2)\n",
    "print (f' the greter no is {store}')\n"
   ]
  },
  {
   "cell_type": "code",
   "execution_count": null,
   "metadata": {},
   "outputs": [],
   "source": [
    "def io(a,b,c):\n",
    "    if a>b and a> c:\n",
    "        return a\n",
    "    elif b> a and b> c:\n",
    "        return b\n",
    "    \n",
    "    else: \n",
    "        return c\n",
    "        \n",
    "    \n",
    "    \n",
    "n1= int(input('enter your first no ' ))\n",
    "n2= int(input('enter your 2nd no '))\n",
    "n3= int(input('enter your 3rd no '))\n",
    "\n",
    "store= io(n1,n2,n3)\n",
    "print (f' the greter no is {store}')\n"
   ]
  },
  {
   "cell_type": "code",
   "execution_count": null,
   "metadata": {},
   "outputs": [],
   "source": [
    "# function inside function\n",
    "def greatest(a,b):\n",
    "    if a>b:\n",
    "        return a\n",
    "    else: \n",
    "        return b\n",
    "\n",
    "\n",
    "def new(a,b,c):\n",
    "    bigger= greatest(a,b)\n",
    "    return greatest(bigger, c)\n",
    "        #  this ip ko phirse call kar rahe h ip ka pahi la no bigeer me jeyega and dusra function jayega c\n",
    "\n"
   ]
  },
  {
   "cell_type": "code",
   "execution_count": null,
   "metadata": {},
   "outputs": [],
   "source": [
    "new(1,9,8)"
   ]
  },
  {
   "cell_type": "code",
   "execution_count": null,
   "metadata": {},
   "outputs": [],
   "source": [
    "# function inside function\n",
    "def greater(a,b):\n",
    "    if a>b:\n",
    "        return a\n",
    "    else: \n",
    "        return b\n",
    "    \n",
    "\n",
    "def new_greatest(a,b,c):\n",
    "    \n",
    "    return greater(greater(a,b),c)\n",
    "        #  this ip ko phirse call kar rahe h ip ka pahi la no bigeer me jeyega and dusra function jayega c\n",
    "        #in two line code but keep it simple as previous code\n",
    "new_greatest(1,9,6)"
   ]
  },
  {
   "cell_type": "code",
   "execution_count": null,
   "metadata": {},
   "outputs": [],
   "source": [
    "#vid  80\n",
    "\n",
    "def is_palindome(text):\n",
    "    if text[::-1] == text:  #reverse string by [::-1]\n",
    "        return True\n",
    "    else:\n",
    "        text[::-1] != text\n",
    "        return False\n",
    "    \n",
    "is_palindome('ankit')"
   ]
  },
  {
   "cell_type": "code",
   "execution_count": null,
   "metadata": {},
   "outputs": [],
   "source": [
    "def is_palindrome(x):\n",
    "    return x ==x[::-1] #return will always check conditions \n",
    "    #in true or false cases\n",
    "is_palindrome('ankit')"
   ]
  },
  {
   "cell_type": "code",
   "execution_count": null,
   "metadata": {},
   "outputs": [],
   "source": [
    "#fibonacci series\n",
    "#0 and 1 , 1 are fix\n",
    "#0,1,1,2,5,8,13,21,34\n",
    "\n",
    "def fibonacci(n):\n",
    "    a=0      # ye first no h\n",
    "    b=1      # 2nd no\n",
    "    \n",
    "    if n ==1:\n",
    "        print(a)\n",
    "    elif n==2:\n",
    "        print(a,b)\n",
    "        \n",
    "    else: #if user passed big no\n",
    "        \n",
    "        print(a,b, end = ' ') # end for to print no with space like 1,1,3,5,8\n",
    "        for i in range(n-2): # n- 2 is for pahile hi hum a and b print kara chuke h        \n",
    "            c= a+b # first loop value of c is 1,\n",
    "            a= b   # a= 1, 2\n",
    "            b= c\n",
    "        \n",
    "            print(b, end = ' ')\n",
    "        \n",
    "fibonacci(20)        "
   ]
  },
  {
   "cell_type": "code",
   "execution_count": null,
   "metadata": {},
   "outputs": [],
   "source": [
    "#defaul parameter in def function\n",
    "# default menas def any name (parameter = any value)\n",
    "# ex def age (hight ,age = 12)\n",
    "#print (f' the hight is {hight}')\n",
    "#print (f' the hight is {age}')\n",
    "\n",
    "def age (hight ,age = 14):\n",
    "    print (f' the hight is {hight}')\n",
    "    print (f' the age is {age}')\n",
    "\n",
    "age(5.7)\n"
   ]
  },
  {
   "cell_type": "code",
   "execution_count": null,
   "metadata": {},
   "outputs": [],
   "source": [
    "#we can make default in last parameter only in this case age\n",
    "\n",
    "#otherwise it will give an error\n",
    "\n",
    "def age (wt, hight= 'unknown' ,age =  None):\n",
    "    print (f' the weight is {wt}')\n",
    "    print (f' the hight is {hight}')\n",
    "    print (f' the age is {age}')\n",
    "\n",
    "age(5)\n"
   ]
  },
  {
   "cell_type": "code",
   "execution_count": null,
   "metadata": {},
   "outputs": [],
   "source": [
    "#   scope \n",
    "# refer to global and local variable\n"
   ]
  },
  {
   "cell_type": "code",
   "execution_count": null,
   "metadata": {},
   "outputs": [],
   "source": [
    "lis= [1,23,4,'five', 'six', None]\n",
    "lis[3] = 5\n",
    "print(lis)\n",
    "lis[1:]\n"
   ]
  },
  {
   "cell_type": "code",
   "execution_count": null,
   "metadata": {},
   "outputs": [],
   "source": [
    "lis[1:]= ['six','four']\n",
    "lis"
   ]
  },
  {
   "cell_type": "code",
   "execution_count": null,
   "metadata": {},
   "outputs": [],
   "source": [
    "# in  real problem me we dont know how many items we will put in lis so we use \n",
    "\n",
    "#  lis= [ ] empty list\n",
    "fruit= []\n",
    "fruit.append('banana')\n",
    "fruit.append('apple') # last me add hojayega\n",
    "fruit\n",
    "\n",
    "#  to add in exising list\n",
    "fruit.insert(1,'shake') # in second postion in list\n",
    "fruit\n",
    "\n",
    "fruit.insert(3,'mango') # in second postion in list\n",
    "fruit\n",
    "\n",
    "# concatinate\n",
    "\n",
    "fruit2 = [ 'grapes', 'pomo']\n",
    "\n",
    "fruits = fruit + fruit2\n",
    "fruits\n",
    "\n",
    "\n"
   ]
  },
  {
   "cell_type": "code",
   "execution_count": null,
   "metadata": {},
   "outputs": [],
   "source": [
    "# entend method\n",
    "\n",
    "# to add fruit2 in exisiting string fruit then extend method is useful\n",
    "\n",
    "fruit.extend(fruit2)\n",
    "fruit"
   ]
  },
  {
   "cell_type": "code",
   "execution_count": null,
   "metadata": {},
   "outputs": [],
   "source": [
    "fruits.append(fruit2)\n",
    "fruits\n",
    "\n",
    "## list inside list \n",
    "\n"
   ]
  },
  {
   "cell_type": "code",
   "execution_count": null,
   "metadata": {},
   "outputs": [],
   "source": [
    "fruits.pop() # pop(index no)\n",
    "\n",
    "fruits"
   ]
  },
  {
   "cell_type": "code",
   "execution_count": null,
   "metadata": {},
   "outputs": [],
   "source": [
    "del fruit[1]\n",
    "fruit"
   ]
  },
  {
   "cell_type": "code",
   "execution_count": null,
   "metadata": {},
   "outputs": [],
   "source": [
    "fruit.remove('banana')\n",
    "fruit"
   ]
  },
  {
   "cell_type": "code",
   "execution_count": null,
   "metadata": {},
   "outputs": [],
   "source": [
    "fruit.sort()\n",
    "fruit"
   ]
  },
  {
   "cell_type": "code",
   "execution_count": null,
   "metadata": {},
   "outputs": [],
   "source": [
    "fruit.count('apple')"
   ]
  },
  {
   "cell_type": "code",
   "execution_count": null,
   "metadata": {},
   "outputs": [],
   "source": [
    "fruit.reverse()\n",
    "fruit"
   ]
  },
  {
   "cell_type": "code",
   "execution_count": null,
   "metadata": {},
   "outputs": [],
   "source": [
    "# comapring list\n",
    "print(fruit == fruit2)"
   ]
  },
  {
   "cell_type": "code",
   "execution_count": null,
   "metadata": {},
   "outputs": [],
   "source": [
    "# convert  string to list\n",
    "a= \"ank,it\"\n",
    "a.split(',')\n",
    "aa= input('enter no ').split(' ')\n",
    "print(aa)"
   ]
  },
  {
   "cell_type": "code",
   "execution_count": null,
   "metadata": {},
   "outputs": [],
   "source": [
    "#convert list into string\n",
    "name = input('enter your name  ')\n",
    "print(','.join(name))\n",
    "\n",
    "\n"
   ]
  },
  {
   "cell_type": "code",
   "execution_count": null,
   "metadata": {},
   "outputs": [],
   "source": [
    "# list inside list\n",
    "\n",
    "l = [[1,2,3],[3,4,5],[4,7,8]]\n",
    "print(l[0][1])\n",
    "print(l[1][1])\n",
    "print(l[2][2])\n",
    "print(l[1][0])\n",
    "print(l[0][1])\n",
    "print('******'*10)\n",
    "\n",
    "for sublist in l:\n",
    "    for i in sublist:\n",
    "        print(i)"
   ]
  },
  {
   "cell_type": "markdown",
   "metadata": {},
   "source": []
  },
  {
   "cell_type": "code",
   "execution_count": null,
   "metadata": {},
   "outputs": [],
   "source": [
    "l"
   ]
  },
  {
   "cell_type": "code",
   "execution_count": null,
   "metadata": {},
   "outputs": [],
   "source": [
    "n = list(range(1,100,2)) # with range function\n",
    "print(n, end ='')"
   ]
  },
  {
   "cell_type": "code",
   "execution_count": null,
   "metadata": {},
   "outputs": [],
   "source": [
    "# print the list with square no\n",
    "\n",
    "def sq(l):                   # pahile hum define karenge function\n",
    "    \n",
    "    s =[] ####              #input hoga empty list as we dont know how many nos are in our lit\n",
    "    \n",
    "    for i in l:             # for loop chalange in each length l \n",
    "        s.append(i**2)     # hume each no ka sq karna h to humko add karna padega append kar k\n",
    "    return s ####      \n",
    "\n",
    "# square k taraf return hoga\n",
    "\n",
    "n=list(range(1,11)) # input dena h list to list dunction use kaena padega\n",
    "print(sq(n))"
   ]
  },
  {
   "cell_type": "markdown",
   "metadata": {},
   "source": [
    "### 100th video  "
   ]
  },
  {
   "cell_type": "code",
   "execution_count": null,
   "metadata": {},
   "outputs": [],
   "source": [
    "def rev(l):\n",
    "    ret = []\n",
    "    for i in range(len(l)):\n",
    "        popped = l.pop()\n",
    "        ret.append(popped)\n",
    "    return ret # will return to its empty list\n",
    "\n",
    "b =[1,2,3,4,5,6,7,8,9]\n",
    "print(rev(b))"
   ]
  },
  {
   "cell_type": "code",
   "execution_count": null,
   "metadata": {},
   "outputs": [],
   "source": [
    "def  strinG(revers):\n",
    "    \n",
    "    empty = []\n",
    "    \n",
    "    for i in revers:\n",
    "        re= i[::-1]\n",
    "        empty.append(re)\n",
    "    return empty\n",
    "\n",
    "word =['abc','def','efg']\n",
    "print(strinG(word))\n"
   ]
  },
  {
   "cell_type": "code",
   "execution_count": null,
   "metadata": {},
   "outputs": [],
   "source": [
    "def strin(s):\n",
    "    \n",
    "    empt = []\n",
    "    \n",
    "    for i in s:\n",
    "        \n",
    "        empt.append(i[::-1])\n",
    "        \n",
    "    return empt\n",
    "wrd =['abc','def','efg']\n",
    "print(strin(wrd))\n"
   ]
  },
  {
   "cell_type": "code",
   "execution_count": null,
   "metadata": {},
   "outputs": [],
   "source": [
    "def odd_even(o):\n",
    "        \n",
    "    odd = []\n",
    "    even = []\n",
    "    for i in (o):\n",
    "        if i %2==0:\n",
    "            even.append(i)\n",
    "        else:\n",
    "            \n",
    "            odd.append(i)\n",
    "            \n",
    "    return odd,even\n",
    "\n",
    "a =  list(range(1,11))\n",
    "\n",
    "print(odd_even(a))\n",
    "\n",
    "\n",
    "print('*'*50)\n",
    "\n"
   ]
  },
  {
   "cell_type": "code",
   "execution_count": null,
   "metadata": {},
   "outputs": [],
   "source": [
    "def odd_even(o):\n",
    "        \n",
    "    odd = []\n",
    "    even = []\n",
    "    for i in (o):\n",
    "        if i %2==0:\n",
    "            even.append(i)\n",
    "        else:\n",
    "            \n",
    "            odd.append(i)\n",
    "    output= [odd, even]      \n",
    "    return output\n",
    "\n",
    "x =  list(range(11,21))\n",
    "(odd_even(x))\n",
    "\n"
   ]
  },
  {
   "cell_type": "code",
   "execution_count": null,
   "metadata": {},
   "outputs": [],
   "source": [
    "#logic is need to find the common no in list one and list 2\n",
    "\n",
    "# need to intialize two parameters in def function\n",
    "\n",
    "#thn hum for loop lagayenge and in for loop we will check ki\n",
    "# if list one k no list two me h ki nahi agar nahi h to hum us\n",
    "# empty list ko append karenge\n",
    "\n",
    "def common (list1,list2):\n",
    "    out= []\n",
    "    \n",
    "    for i in list1:\n",
    "        \n",
    "        if i in list2:\n",
    "            out.append(i) \n",
    "# hamesha jaruri nahi ki else likhe \n",
    "# without else we can return function\n",
    "\n",
    "    return out\n",
    "\n",
    "common([1,23,4,56,63,3,44],[1,23,44,5,667,878,44])\n",
    "    "
   ]
  },
  {
   "cell_type": "code",
   "execution_count": null,
   "metadata": {},
   "outputs": [],
   "source": [
    "f = [1,2,34,5,6,7]\n",
    "g= [1,2,6,7,9]\n",
    "\n",
    "se =list(set(f).intersection(g))\n",
    "se\n"
   ]
  },
  {
   "cell_type": "code",
   "execution_count": null,
   "metadata": {},
   "outputs": [],
   "source": [
    "# min max function\n",
    "l1= [65,60,16,60]\n",
    "\n",
    "def grt(l):\n",
    "    return max(l) - min(l)\n",
    "grt(l1)"
   ]
  },
  {
   "cell_type": "code",
   "execution_count": null,
   "metadata": {},
   "outputs": [],
   "source": [
    "# to count how many list inside list are there \n",
    "\n",
    "def  coun(a):\n",
    "     \n",
    "    count =0\n",
    "    \n",
    "    for i in a:\n",
    "        \n",
    "        if type( i) == list:\n",
    "            \n",
    "            count+= 1\n",
    "    return count\n",
    "\n",
    "mix = [1,2,3, [1,2],[\"4m6m7m8\"]]\n",
    "print ( coun(mix))\n",
    "\n"
   ]
  },
  {
   "cell_type": "markdown",
   "metadata": {},
   "source": [
    "###  111 summery\n"
   ]
  },
  {
   "cell_type": "markdown",
   "metadata": {},
   "source": [
    "###  l = ('one ', 'two')\n",
    "\n",
    "# l = ('one ', 'two') ( brackets call tuple)\n",
    "\n",
    "\n",
    "\n",
    "#\n",
    "\n",
    "## l= (1,2,3)\n",
    "    \n",
    "     no .append() error\n",
    "\n",
    "    no  insert error\n",
    "    \n",
    "    no pop\n",
    "\n",
    "    no remove\n",
    "    \n",
    "# method\n",
    "     count\n",
    "     \n",
    "     len\n",
    "     \n",
    "     index\n",
    "     \n",
    "     slicing\n",
    "     \n",
    " "
   ]
  },
  {
   "cell_type": "markdown",
   "metadata": {},
   "source": []
  },
  {
   "cell_type": "code",
   "execution_count": null,
   "metadata": {},
   "outputs": [],
   "source": [
    "#tuple with one element\n",
    "num = (1) #  this is interger\n",
    "num1= (1,) # ones you put comma , it will create as tuple\n",
    "print (type(num))\n",
    " \n",
    "print (type(num1))\n",
    "\n",
    "\n"
   ]
  },
  {
   "cell_type": "code",
   "execution_count": null,
   "metadata": {},
   "outputs": [],
   "source": [
    "#  tuple without paranthesis\n",
    "\n",
    "guitar = 'g1', 'g2', 'g3'\n",
    "type(guitar)\n",
    "\n",
    "# tuple unpacking\n",
    "\n",
    "guitar = ('ankit1', 'sanket2', 'mummy3')  # will assign the each elememt \n",
    "\n",
    "g1, g2, g3 = (guitar) # in this manner\n",
    "\n",
    "\n",
    "print(g1)\n",
    "print(g2)\n",
    "print(g3)\n"
   ]
  },
  {
   "cell_type": "code",
   "execution_count": null,
   "metadata": {},
   "outputs": [],
   "source": [
    "#  list inside tuple\n",
    "fav = ('california', 'tokyo',['mumbai', 'delhi'])\n",
    "fav[2].pop()\n",
    "print(fav)"
   ]
  },
  {
   "cell_type": "code",
   "execution_count": null,
   "metadata": {},
   "outputs": [],
   "source": []
  },
  {
   "cell_type": "code",
   "execution_count": null,
   "metadata": {},
   "outputs": [],
   "source": []
  },
  {
   "cell_type": "code",
   "execution_count": null,
   "metadata": {},
   "outputs": [],
   "source": []
  },
  {
   "cell_type": "code",
   "execution_count": null,
   "metadata": {},
   "outputs": [],
   "source": []
  },
  {
   "cell_type": "code",
   "execution_count": null,
   "metadata": {},
   "outputs": [],
   "source": [
    "fav[2].append('peru')\n",
    "fav"
   ]
  },
  {
   "cell_type": "code",
   "execution_count": null,
   "metadata": {},
   "outputs": [],
   "source": [
    "#function use in tuple \n",
    "#  min , max with this tuple option\n",
    "   \n",
    "    "
   ]
  },
  {
   "cell_type": "code",
   "execution_count": null,
   "metadata": {},
   "outputs": [],
   "source": [
    "#  function returning two values\n",
    "def add(i1 , i2):\n",
    "    \n",
    "    addition= i1+i2\n",
    "    multiple = i1* i2\n",
    "    return addition,multiple\n",
    "\n",
    "add(5,6) # this will return to  only one tuple\n",
    "\n",
    "#  to get separate values of this tuple store in the different varibale\n",
    "\n"
   ]
  },
  {
   "cell_type": "code",
   "execution_count": null,
   "metadata": {},
   "outputs": [],
   "source": [
    "addd, mult= add(5,6)\n",
    "\n",
    "print(addd)\n",
    "\n",
    "print(mult)"
   ]
  },
  {
   "cell_type": "code",
   "execution_count": null,
   "metadata": {},
   "outputs": [],
   "source": [
    "num = tuple(range(1,12)) # simple write tuple to convert list into tuple\n",
    "\n",
    "print(num)\n",
    "print('*'*50)"
   ]
  },
  {
   "cell_type": "code",
   "execution_count": null,
   "metadata": {},
   "outputs": [],
   "source": [
    "num = list(range(1,12)) # simple write tuple to convert list into tuple\n",
    "num"
   ]
  },
  {
   "cell_type": "code",
   "execution_count": null,
   "metadata": {},
   "outputs": [],
   "source": [
    "num = list(range(1,12)) # simple write tuple to convert list into tuple\n",
    "num\n",
    "print(num)\n",
    "\n",
    "type(num) "
   ]
  },
  {
   "cell_type": "code",
   "execution_count": null,
   "metadata": {},
   "outputs": [],
   "source": [
    "num = str((1, 2, 3, 4, 5, 6, 7, 8, 9, 10, 11)) # simple write tuple to convert list into tuple\n",
    "print(num)\n",
    "\n",
    "type(num) "
   ]
  },
  {
   "cell_type": "code",
   "execution_count": null,
   "metadata": {},
   "outputs": [],
   "source": [
    "num = str([1, 2, 3, 4, 5, 6, 7, 8, 9, 10, 11]) # simple write tuple to convert list into tuple\n",
    "print(num)\n",
    "\n",
    "type(num)  # this is also string"
   ]
  },
  {
   "cell_type": "markdown",
   "metadata": {},
   "source": [
    "##  tuples are imutable\n",
    "\n",
    "## tuples are orderd collection\n",
    "\n",
    "## can store any data type\n",
    "\n",
    "## you cannot change add or delete values from tuple once it created \n",
    "\n",
    "##  but you can add delete data from list inside tuple \n",
    "\n"
   ]
  },
  {
   "cell_type": "markdown",
   "metadata": {},
   "source": [
    "# DICTIONARIES\n",
    "\n",
    "## WHY DOCTIONARY ?  it is   *unorderd* collection of data key value pair \n",
    "\n",
    "in real wolrd life data represent karne k lie list kafi nahi h \n",
    "\n",
    "ex user name age and fav movies and city\n",
    "\n",
    "list is not enough \n",
    "\n",
    "\n"
   ]
  },
  {
   "cell_type": "code",
   "execution_count": null,
   "metadata": {},
   "outputs": [],
   "source": []
  },
  {
   "cell_type": "code",
   "execution_count": null,
   "metadata": {},
   "outputs": [],
   "source": [
    "dic = {'age' : 20, 'aage2': 25, 'age3': 6}\n",
    "dic"
   ]
  },
  {
   "cell_type": "code",
   "execution_count": null,
   "metadata": {},
   "outputs": [],
   "source": [
    " # 2nd method ye h  to generate dicts\n",
    " #  dictionaries me index nahi hota kyu ki ye unorderd data h\n",
    "    \n",
    "dictt = dict(name = 'ankit', age = '26')\n",
    "dictt\n",
    "\n",
    "# dicts ko acces kar ne k liye hum key ko access karte"
   ]
  },
  {
   "cell_type": "code",
   "execution_count": null,
   "metadata": {},
   "outputs": [],
   "source": [
    "dictt['name']\n",
    "\n",
    "# in  dictionary we can store any no dicts strings dicts inside dicts\n",
    "\n",
    "# HUM COMPLEX DATA STORE KAR SAKTE H DICTS M\n"
   ]
  },
  {
   "cell_type": "code",
   "execution_count": null,
   "metadata": {},
   "outputs": [],
   "source": [
    "user=  {\n",
    "    'name': 'ankit', \n",
    "    'age ': 27, \n",
    "    'movies': ['harry potter', ' ye jwani'],\n",
    "    'location': ['mumbai', ' nagpur']}\n",
    "user"
   ]
  },
  {
   "cell_type": "code",
   "execution_count": null,
   "metadata": {},
   "outputs": [],
   "source": [
    "user1 = {}\n",
    "user1['name'] = 'sanket'\n",
    "user1['age'] = 24\n",
    "user1\n"
   ]
  },
  {
   "cell_type": "code",
   "execution_count": null,
   "metadata": {},
   "outputs": [],
   "source": [
    "#  keyword and iterations in dictionary\n",
    "\n",
    "# will check if exist keys are in dictionary or not \n",
    "\n",
    "if \"name\" in user:\n",
    "    print('yes  name key  is present')\n",
    "    \n",
    "print('*' * 50)\n",
    "\n",
    "#  to chekc values in dictionary\n",
    "# user.values()\n"
   ]
  },
  {
   "cell_type": "code",
   "execution_count": null,
   "metadata": {},
   "outputs": [],
   "source": [
    "if 27 in user.values():\n",
    "    print ('present')\n",
    "else:\n",
    "    print('not present')\n"
   ]
  },
  {
   "cell_type": "code",
   "execution_count": null,
   "metadata": {},
   "outputs": [],
   "source": [
    " #  LOOPS IN  dicts\n",
    "for i in user:\n",
    "    print(i)\n",
    "\n",
    "print('*'*50)\n",
    "\n",
    "for i in user.values():\n",
    "    print(i)\n"
   ]
  },
  {
   "cell_type": "code",
   "execution_count": null,
   "metadata": {},
   "outputs": [],
   "source": [
    "u1 = user.values()\n",
    "print (u1)\n",
    "print(type(u1))"
   ]
  },
  {
   "cell_type": "code",
   "execution_count": null,
   "metadata": {},
   "outputs": [],
   "source": [
    "for i in user:\n",
    "    print(user[i])\n",
    "\n",
    "# it is same as .values() function"
   ]
  },
  {
   "cell_type": "code",
   "execution_count": null,
   "metadata": {},
   "outputs": [],
   "source": [
    " # items method \n",
    " #  agar me loop chalata hu   \n",
    "i= user.items()\n",
    "print(i)\n",
    "print('*'*50)\n",
    "\n",
    "print(type(i))\n",
    "\n",
    " # print in tuple form"
   ]
  },
  {
   "cell_type": "code",
   "execution_count": null,
   "metadata": {},
   "outputs": [],
   "source": [
    "for key, values in user.items():\n",
    "    print(f'key is {key} and values {values}')\n",
    "    \n",
    "# yah pe bhi tuple unpacking ho rahi h\n",
    "\n"
   ]
  },
  {
   "cell_type": "code",
   "execution_count": null,
   "metadata": {},
   "outputs": [],
   "source": [
    "#  add delete in dicts\n",
    "user1=  {\n",
    "    'name': 'ankit', \n",
    "    'age ': 27, \n",
    "    'movies': ['harry potter', ' ye jwani'],\n",
    "    'location': ['mumbai', ' nagpur'],\n",
    "    'songs' :[\"cocka\", 'raat bhar']\n",
    "}\n",
    "user1.pop('songs') # need to write key inside  pop()"
   ]
  },
  {
   "cell_type": "markdown",
   "metadata": {},
   "source": [
    "###  # jab randomly koi bhi key value delete karna h  to \n",
    "#  popitem method"
   ]
  },
  {
   "cell_type": "code",
   "execution_count": null,
   "metadata": {},
   "outputs": [],
   "source": [
    "user2=  {\n",
    "    'name': 'ankit', \n",
    "    'age ': 27, \n",
    "    'movies': ['harry potter', ' ye jwani'],\n",
    "    'location': ['mumbai', ' nagpur'],\n",
    "    'songs' :[\"cocka\", 'raat bhar']}\n"
   ]
  },
  {
   "cell_type": "code",
   "execution_count": null,
   "metadata": {},
   "outputs": [],
   "source": [
    "# jab randomly koi bhi key value delete karna h  to \n",
    "#  popitem method\n",
    "\n"
   ]
  },
  {
   "cell_type": "code",
   "execution_count": null,
   "metadata": {},
   "outputs": [],
   "source": [
    "store= user2.popitem()\n",
    "print(store)\n",
    "type(store)"
   ]
  },
  {
   "cell_type": "code",
   "execution_count": null,
   "metadata": {},
   "outputs": [],
   "source": [
    "user2"
   ]
  },
  {
   "cell_type": "code",
   "execution_count": null,
   "metadata": {},
   "outputs": [],
   "source": [
    "store= user2.popitem()\n",
    "print(store)\n",
    "type(store)\n"
   ]
  },
  {
   "cell_type": "markdown",
   "metadata": {},
   "source": [
    "###  to add values in dictonary\n",
    "\n",
    "# use .update ( new dict)"
   ]
  },
  {
   "cell_type": "code",
   "execution_count": null,
   "metadata": {},
   "outputs": [],
   "source": [
    "info = dict(state = 'maharashtra', hobbies = ' travel')\n",
    "user2.update (info)\n",
    "user2"
   ]
  },
  {
   "cell_type": "code",
   "execution_count": null,
   "metadata": {},
   "outputs": [],
   "source": [
    "info1 = dict(name = 'ankit nagdeve', hobbies = ' convo')\n",
    "user2.update (info1)\n",
    "user2\n",
    "\n",
    "# agar key name same h alag alag dictonary k to wo name keys\n",
    "#  alag se add nahi honge \n",
    "# exisiting keys me hi add hoga "
   ]
  },
  {
   "cell_type": "code",
   "execution_count": null,
   "metadata": {},
   "outputs": [],
   "source": [
    " # from keys method hum dictionary ko create kar ne liye use karte h\n",
    "    ## d ={'name': 'unknown'\n",
    "     #  , 'age ': 'unknown'}\n",
    "    \n",
    "d = dict.fromkeys(['name', 'age','hight'])\n",
    "d\n",
    "#  this is for list\n"
   ]
  },
  {
   "cell_type": "code",
   "execution_count": null,
   "metadata": {},
   "outputs": [],
   "source": [
    "d1 = dict.fromkeys('abc',('name', 'age','hight'))\n",
    "                #  ye  abc alag alag string ban jayegi\n",
    "    \n",
    "d1#  this is for list\n"
   ]
  },
  {
   "cell_type": "code",
   "execution_count": null,
   "metadata": {},
   "outputs": [],
   "source": [
    "d2 = dict.fromkeys('abcd',('name', 'age','hight',('loc', 'edu')))\n",
    "                #  ye  abc alag alag string ban jayegi\n",
    "    \n",
    "d2#  this is for list\n"
   ]
  },
  {
   "cell_type": "code",
   "execution_count": null,
   "metadata": {},
   "outputs": [],
   "source": [
    "d3= dict.fromkeys(range(1,11), 'name age hight')\n",
    "d3"
   ]
  },
  {
   "cell_type": "code",
   "execution_count": null,
   "metadata": {},
   "outputs": [],
   "source": [
    "user2 "
   ]
  },
  {
   "cell_type": "code",
   "execution_count": null,
   "metadata": {},
   "outputs": [],
   "source": [
    "d4 = dict.fromkeys(['name','age'], ('unknown'))\n",
    "d4"
   ]
  },
  {
   "cell_type": "code",
   "execution_count": null,
   "metadata": {},
   "outputs": [],
   "source": [
    " # get  method to access the dicts\n",
    "    \n",
    "print(user2.get('age')) # agAR YE KEYWORD DICTS ME  h nahi to use get function\n",
    "\n"
   ]
  },
  {
   "cell_type": "code",
   "execution_count": null,
   "metadata": {},
   "outputs": [],
   "source": [
    "if user2.get('name'):\n",
    "        print('yes name is in dicts')\n",
    "else:\n",
    "    print ('not present') # if None means \n",
    "                            # ELSE Means True"
   ]
  },
  {
   "cell_type": "code",
   "execution_count": null,
   "metadata": {},
   "outputs": [],
   "source": [
    "\n",
    "user2"
   ]
  },
  {
   "cell_type": "code",
   "execution_count": null,
   "metadata": {},
   "outputs": [],
   "source": [
    "user4= user2.copy()\n",
    "user4\n",
    "print(user4.popitem())\n",
    "user4"
   ]
  },
  {
   "cell_type": "code",
   "execution_count": null,
   "metadata": {
    "scrolled": true
   },
   "outputs": [],
   "source": [
    "print(user2== user4) # values  cehck karega"
   ]
  },
  {
   "cell_type": "code",
   "execution_count": null,
   "metadata": {},
   "outputs": [],
   "source": [
    "print(user2 is user4) #  check karna h to we can use 'is' "
   ]
  },
  {
   "cell_type": "code",
   "execution_count": null,
   "metadata": {},
   "outputs": [],
   "source": [
    "#  we can use get function if our key is not in dicts\n",
    "# then we can use user.get('names', 'Not Found this key')\n",
    "user4.get('fav', 'not found any named key fav')\n",
    "#  ek dicts me ek hi unique key hogi. do hogi to overwrite hojayegi"
   ]
  },
  {
   "cell_type": "code",
   "execution_count": null,
   "metadata": {},
   "outputs": [],
   "source": [
    "def cube_fin_dict(n):\n",
    "    \n",
    "    cube = {}  # empty dict  assign karnege n no dicts k lye\n",
    "    \n",
    "    for i in range(1, n+1) :   # range hamesha n-1 taq jati h to hum n+ 1 likhte\n",
    "                              # taki last no count ho\n",
    "        \n",
    "        cube[i] =i**3\n",
    "    return cube\n",
    "cube_fin_dict(10)"
   ]
  },
  {
   "cell_type": "code",
   "execution_count": null,
   "metadata": {},
   "outputs": [],
   "source": [
    "# word counter\n",
    "\n",
    "def word(s):\n",
    "    \n",
    "    char= {}\n",
    "    \n",
    "    for  i in s:\n",
    "        char[i] = s.count(i)\n",
    "    return char\n",
    "print(word('ankittttt'))"
   ]
  },
  {
   "cell_type": "code",
   "execution_count": null,
   "metadata": {},
   "outputs": [],
   "source": []
  },
  {
   "cell_type": "code",
   "execution_count": null,
   "metadata": {},
   "outputs": [],
   "source": [
    "name= input('enter your name ')\n",
    "age = input('enter your age ')\n",
    "fav_movies = input('enter your  faivorate separated  by ,  ').split(',')           \n",
    "song = input('enter your fav songs separated  by commma ' ).split(',')\n",
    "user = {}\n",
    "user['name']= name\n",
    "user['age']= age\n",
    "user['fav_movies']= fav_movies\n",
    "\n",
    "\n",
    "user['song']= song\n",
    "\n",
    "for key, value in user.items(): # with  .items function we weill get each keys and values\n",
    "    print(f'{key} {value}')\n"
   ]
  },
  {
   "cell_type": "markdown",
   "metadata": {},
   "source": [
    "#     SET \n",
    "\n",
    "set me unique items hoti h ek bar me ek hi value print karegi\n",
    "\n",
    "and unordered collection\n",
    "\n",
    "so indexing nahi h possible\n",
    "\n",
    "list h usme items h aur humko duplicate values delete kar ne h \n",
    "set use hoga wah\n",
    "\n"
   ]
  },
  {
   "cell_type": "code",
   "execution_count": null,
   "metadata": {},
   "outputs": [],
   "source": [
    "ls= [1,2,34,5,6,7,89,6,5,4,3,2,2,3,4,5]\n",
    "s1= set(ls) # unique values\n",
    "s1"
   ]
  },
  {
   "cell_type": "code",
   "execution_count": null,
   "metadata": {},
   "outputs": [],
   "source": [
    "s2= list(s1)\n",
    "s2"
   ]
  },
  {
   "cell_type": "code",
   "execution_count": null,
   "metadata": {},
   "outputs": [],
   "source": [
    "# add method\n",
    "\n",
    "s1.add(80) # for set only add () function will apply\n",
    "s1"
   ]
  },
  {
   "cell_type": "code",
   "execution_count": null,
   "metadata": {},
   "outputs": [],
   "source": [
    "#  remove method\n",
    "s1.remove(80)\n",
    "s1"
   ]
  },
  {
   "cell_type": "code",
   "execution_count": null,
   "metadata": {},
   "outputs": [],
   "source": [
    "#  discard method  will not give an error even if you dont have that item in your list\n",
    "\n",
    "s1.discard(2)\n",
    "s1\n",
    "\n"
   ]
  },
  {
   "cell_type": "markdown",
   "metadata": {},
   "source": [
    "####  # set me hum list, tuple dicts nahi store kar sakte\n",
    "\n",
    "numbers store kar sakte strings bhi\n",
    "\n",
    "s4= {1,1,3,4,5,6 ,[1,2,3]} error dega\n",
    "\n",
    "s4"
   ]
  },
  {
   "cell_type": "code",
   "execution_count": null,
   "metadata": {},
   "outputs": [],
   "source": [
    "s4= {1,1,3,4,5,6 ,' sankit'}\n",
    "s4"
   ]
  },
  {
   "cell_type": "code",
   "execution_count": null,
   "metadata": {},
   "outputs": [],
   "source": [
    "s1"
   ]
  },
  {
   "cell_type": "code",
   "execution_count": null,
   "metadata": {},
   "outputs": [],
   "source": [
    "s4"
   ]
  },
  {
   "cell_type": "code",
   "execution_count": null,
   "metadata": {},
   "outputs": [],
   "source": [
    "s1.union(s4)"
   ]
  },
  {
   "cell_type": "code",
   "execution_count": null,
   "metadata": {},
   "outputs": [],
   "source": [
    "s1.intersection(s4)"
   ]
  },
  {
   "cell_type": "code",
   "execution_count": null,
   "metadata": {},
   "outputs": [],
   "source": [
    "s1 | s4 # union "
   ]
  },
  {
   "cell_type": "code",
   "execution_count": null,
   "metadata": {},
   "outputs": [],
   "source": [
    " # INTERSECTIOM \n",
    "s1 & s4 "
   ]
  },
  {
   "cell_type": "markdown",
   "metadata": {},
   "source": [
    "### ` list comprehension`"
   ]
  },
  {
   "cell_type": "code",
   "execution_count": null,
   "metadata": {},
   "outputs": [],
   "source": [
    "sq= []\n",
    "for i in range(1,11):\n",
    "    sq.append(i**2)\n",
    "print(sq)"
   ]
  },
  {
   "cell_type": "code",
   "execution_count": null,
   "metadata": {},
   "outputs": [],
   "source": [
    "s =  [i **2 for i in range(1,11)]\n",
    "s"
   ]
  },
  {
   "cell_type": "code",
   "execution_count": null,
   "metadata": {},
   "outputs": [],
   "source": [
    "negative = []\n",
    "for i in range(1,11):\n",
    "    negative.append(-i)\n",
    "print (negative)"
   ]
  },
  {
   "cell_type": "code",
   "execution_count": null,
   "metadata": {},
   "outputs": [],
   "source": [
    "n = [-i for i in range(1,11)]\n",
    "n"
   ]
  },
  {
   "cell_type": "code",
   "execution_count": null,
   "metadata": {},
   "outputs": [],
   "source": [
    "names= ['Ankit','Sanket','Mummy', 'papa']\n",
    "new_list= []\n",
    "for i in name:\n",
    "    new_list.append(i[0])\n",
    "print(new)"
   ]
  },
  {
   "cell_type": "code",
   "execution_count": null,
   "metadata": {},
   "outputs": [],
   "source": [
    " \n",
    "N= [i[0] for i in names]\n",
    "N"
   ]
  },
  {
   "cell_type": "code",
   "execution_count": null,
   "metadata": {},
   "outputs": [],
   "source": [
    "k = [i[::-1] for i in names]\n",
    "k"
   ]
  },
  {
   "cell_type": "code",
   "execution_count": null,
   "metadata": {},
   "outputs": [],
   "source": [
    "def rev (l):\n",
    "    return [i[::-1] for i in names]\n",
    "\n",
    "rev(names)\n"
   ]
  },
  {
   "cell_type": "code",
   "execution_count": null,
   "metadata": {},
   "outputs": [],
   "source": [
    "# list comprehension with if statement\n"
   ]
  },
  {
   "cell_type": "code",
   "execution_count": null,
   "metadata": {},
   "outputs": [],
   "source": [
    "s1= [ i for i in s if i% 2==0]\n",
    "print (s1)\n",
    "\n",
    "s2= [ i for i in s if i% 3==0]\n",
    "s2\n"
   ]
  },
  {
   "cell_type": "code",
   "execution_count": null,
   "metadata": {},
   "outputs": [],
   "source": [
    "def  con(c):\n",
    "            \n",
    "    return [str(i) for i in c if (type(i)== int or type (i) == float)] \n",
    "       \n",
    "    #  str i is append one\n",
    "    \n",
    "print (con(['true', 'false,',[1,3,4],1,2.0,3])) # will give in string format"
   ]
  },
  {
   "cell_type": "code",
   "execution_count": null,
   "metadata": {},
   "outputs": [],
   "source": [
    "def  con(d):\n",
    "            \n",
    "    return [int(i) for i in d if (type(i)== bool or type (i) == float)] \n",
    "       \n",
    "    #  str i is append one\n",
    "    \n",
    "print (con(['true', 'false,',[1,3,4],1,2.0,3])) # will give in string format"
   ]
  },
  {
   "cell_type": "code",
   "execution_count": null,
   "metadata": {},
   "outputs": [],
   "source": [
    "def  con(e):\n",
    "            \n",
    "    return [float(i) for i in d if (type(i)== bool  or type (i) == int)] \n",
    "       \n",
    "    #  str i is append one\n",
    "    \n",
    "print (con(['true', 'false,',[1,3,4],1,2.0,3])) # will give in string format"
   ]
  },
  {
   "cell_type": "code",
   "execution_count": null,
   "metadata": {},
   "outputs": [],
   "source": [
    "# LC with if else\n",
    "s0= []\n",
    "s\n",
    "for i in range(1,11):\n",
    "    if i %2==0:\n",
    "        s0.append(i**2)\n",
    "    else:\n",
    "        s0.append(-i)\n",
    "print(s0)"
   ]
  },
  {
   "cell_type": "markdown",
   "metadata": {},
   "source": [
    "###  in LC jo append karana h wo hum log starting me likhnege  like following  statement even if and else in starting of this and then kon si range me then for i in range (1,11) aise"
   ]
  },
  {
   "cell_type": "code",
   "execution_count": null,
   "metadata": {},
   "outputs": [],
   "source": [
    "n1 = [ i **2  if (i%2==0) else (-i) for i in range(1,11)]\n",
    "n1\n",
    "\n"
   ]
  },
  {
   "cell_type": "code",
   "execution_count": null,
   "metadata": {},
   "outputs": [],
   "source": [
    "# nested list , list k ander list \n",
    "exp = [[1,2,3],[2,5,6],[5,4,3]] \n",
    "\n",
    "nested_com = [[i for i in exp] for j in range(3)] # for j in wala kitne bar ne bar append karana h wo  \n",
    "            # [ ye jo append karana h wo]\n",
    "nested_com\n",
    "\n"
   ]
  },
  {
   "cell_type": "code",
   "execution_count": null,
   "metadata": {},
   "outputs": [],
   "source": [
    "# nested list , list k ander list \n",
    "exp = [[1,2,3],[2,5,6],[5,4,3]] \n",
    "\n",
    "nested_com = [[i for i in exp] for j in range(2)] # for j in wala kitne bar ne bar append karana h wo  \n",
    "            # ye jo append karana h wo\n",
    "print (nested_com, end = ',')\n"
   ]
  },
  {
   "cell_type": "code",
   "execution_count": null,
   "metadata": {},
   "outputs": [],
   "source": [
    "n0 = []\n",
    "for i in range (1,11):\n",
    "    n0.append([1,2,3])\n",
    "n0"
   ]
  },
  {
   "cell_type": "markdown",
   "metadata": {},
   "source": [
    "###  dictionary comprehension\n"
   ]
  },
  {
   "cell_type": "code",
   "execution_count": null,
   "metadata": {},
   "outputs": [],
   "source": [
    "sqqq= {f'square of {num} is ': num **2 for num in range(1,10)}\n",
    "sqqq"
   ]
  },
  {
   "cell_type": "code",
   "execution_count": null,
   "metadata": {},
   "outputs": [],
   "source": [
    "for i, j in sqqq.items():\n",
    "    print(f'{i} : {j}')"
   ]
  },
  {
   "cell_type": "code",
   "execution_count": null,
   "metadata": {},
   "outputs": [],
   "source": [
    "string= 'ankeeet'\n",
    "sf= {char:string.count(char) for  char in string}\n",
    "sf"
   ]
  },
  {
   "cell_type": "code",
   "execution_count": null,
   "metadata": {},
   "outputs": [],
   "source": [
    "# dicts comprehension with if and else\n",
    "\n",
    "odd_even = { i: ('even' if i %2 ==0 else 'odd') for i in range(1,10)}\n",
    "odd_even"
   ]
  },
  {
   "cell_type": "code",
   "execution_count": null,
   "metadata": {},
   "outputs": [],
   "source": [
    "odd_even = { i: ('even' if i %2 ==0 else 'odd') for i in range(1,10)}\n",
    "odd_even\n",
    "\n",
    "od_ev = {f'the no is :{odd_even}'}\n",
    "od_ev\n"
   ]
  },
  {
   "cell_type": "code",
   "execution_count": null,
   "metadata": {},
   "outputs": [],
   "source": [
    "for k , v in odd_even.items():\n",
    "    print(f' no is {k} : {v}')"
   ]
  },
  {
   "cell_type": "code",
   "execution_count": null,
   "metadata": {},
   "outputs": [],
   "source": [
    "sett = {k**2 for  k in range (1,10)}\n",
    "sett"
   ]
  },
  {
   "cell_type": "code",
   "execution_count": null,
   "metadata": {},
   "outputs": [],
   "source": [
    "sett2= {name[0] for name in names}\n",
    "        #same     #same      list or any empty items\n",
    "sett2"
   ]
  },
  {
   "cell_type": "markdown",
   "metadata": {},
   "source": [
    "### ` * args or  * operator`\n",
    "\n",
    "##  * args will convert input into tuple "
   ]
  },
  {
   "cell_type": "code",
   "execution_count": null,
   "metadata": {},
   "outputs": [],
   "source": [
    "def ad(*args):\n",
    "    total = 0\n",
    "    for i in args:\n",
    "        total += i\n",
    "    return total\n",
    "\n",
    "\n",
    "print(ad(1,2,3,4,5,6,7))"
   ]
  },
  {
   "cell_type": "code",
   "execution_count": null,
   "metadata": {},
   "outputs": [],
   "source": [
    "def mul(*args):\n",
    "    total = 1 #  we want to multiply na \n",
    "    \n",
    "    for i in args:\n",
    "        total = total*i\n",
    "    return total\n",
    "\n",
    "\n",
    "print(mul(1,2,4,5))"
   ]
  },
  {
   "cell_type": "code",
   "execution_count": null,
   "metadata": {},
   "outputs": [],
   "source": [
    "def mul(num ,*args):\n",
    "    total = 1 #  we want to multiply na \n",
    "    \n",
    "    for i in args:\n",
    "        total = total*i\n",
    "    return total\n",
    "\n",
    "\n",
    "print(mul(1,2,4,))\n",
    "        # 1 will be tuple"
   ]
  },
  {
   "cell_type": "code",
   "execution_count": null,
   "metadata": {},
   "outputs": [],
   "source": [
    "def mul(num ,*args): # with normal parameters\n",
    "    total = 1 #  we want to multiply na \n",
    "    \n",
    "    for i in args:\n",
    "        total = total*i\n",
    "    return total\n",
    "\n",
    "\n",
    "print(mul(2,2,6,))\n",
    "        # 2 will be tuple and args ka hissa nahi h "
   ]
  },
  {
   "cell_type": "code",
   "execution_count": null,
   "metadata": {},
   "outputs": [],
   "source": [
    "def mul(*args): \n",
    "    total = 1 #  we want to multiply na \n",
    "    \n",
    "    for i in args:\n",
    "        total = total*i\n",
    "    return total\n",
    "\n",
    "\n",
    "print(mul(2,2,6,))\n",
    "        # 2 will be tuple and args ka hissa nahi h "
   ]
  },
  {
   "cell_type": "code",
   "execution_count": null,
   "metadata": {},
   "outputs": [],
   "source": [
    "def mul(*args): \n",
    "    total = 1 #  we want to multiply na \n",
    "    \n",
    "    for i in args:\n",
    "        total = total*i\n",
    "    return total\n",
    "\n",
    "\n",
    "print(mul()) # without pass it will still give output\n"
   ]
  },
  {
   "cell_type": "code",
   "execution_count": null,
   "metadata": {},
   "outputs": [],
   "source": [
    "def mul(num,*args): \n",
    "    total = 1 #  we want to multiply na \n",
    "    \n",
    "    for i in args:\n",
    "        total = total*i\n",
    "    return total\n",
    "\n",
    "\n",
    "print(mul()) # without pass it will still give erro r\n",
    "            # ek pass hi karna hi padega\n",
    "     \n"
   ]
  },
  {
   "cell_type": "code",
   "execution_count": null,
   "metadata": {},
   "outputs": [],
   "source": [
    "def mul(num1, num2, *args): \n",
    "    total = 1 #  we want to multiply na \n",
    "    \n",
    "    for i in args:\n",
    "        total = total*i\n",
    "    return total\n",
    "\n",
    "\n",
    "print(mul(4,6)) # without pass it will still give erro r\n",
    "            #  humne args pass nahi kia to return me tuple hi milega\n",
    "# gives only tuple"
   ]
  },
  {
   "cell_type": "code",
   "execution_count": null,
   "metadata": {},
   "outputs": [],
   "source": [
    "def mul(num1, num2, *args):  # * args k bad pass karenge to error aayega\n",
    "    total = 1 #  we want to multiply na \n",
    "    \n",
    "    for i in args:\n",
    "        total = total*i\n",
    "    return total\n",
    "\n",
    "\n",
    "print(mul(4,6,6,5)) # without pass it will still give erro r\n",
    "            #  humne args pass nahi kia to return me tuple hi milega\n",
    "# gives only tuple"
   ]
  },
  {
   "cell_type": "markdown",
   "metadata": {},
   "source": [
    "### * args ko as argument kaise use kar sakete h?\n",
    "\n",
    "function ko jab defind karte h tab us ko bolte h parameter\n",
    " \n",
    "aur jab funciton ko call karte h tab usko kehete h argument"
   ]
  },
  {
   "cell_type": "code",
   "execution_count": null,
   "metadata": {},
   "outputs": [],
   "source": [
    "def mult(*args):\n",
    "    muli = 1 #[1, 3, 4]\n",
    "    for i in args:\n",
    "        muli *= i\n",
    "    return muli\n",
    "num = [1,3,4]\n",
    "mult(num) # kyu ki ye list pass ki h aur ye list multiply horahi h 1 se"
   ]
  },
  {
   "cell_type": "code",
   "execution_count": null,
   "metadata": {},
   "outputs": [],
   "source": [
    "def mult(*args):\n",
    "    muli = 1 #[1, 3, 4]\n",
    "    for i in args:\n",
    "        muli *= i\n",
    "    return muli\n",
    "num = [1,3,4,5]\n",
    "\n",
    "mult( *num)  #  tuple unpack horah yah\n",
    "\n",
    "\n",
    "# kyu ki ye list pass ki h aur ye list multiply horahi h 1 se"
   ]
  },
  {
   "cell_type": "code",
   "execution_count": null,
   "metadata": {},
   "outputs": [],
   "source": [
    "#  vid 145 \n",
    "# my solution\n",
    "\n",
    "def to_power(n ,*nums):\n",
    "    mul= 1\n",
    "    for i in nums:\n",
    "        mul **= i \n",
    "    return mul\n",
    "\n",
    "num1 = [(1,2,3),1,3,4]\n",
    "to_power(*num1)\n"
   ]
  },
  {
   "cell_type": "code",
   "execution_count": null,
   "metadata": {},
   "outputs": [],
   "source": [
    "l =[]\n",
    "if l:\n",
    "    print('not empty')\n",
    "else:\n",
    "    print('empty')"
   ]
  },
  {
   "cell_type": "code",
   "execution_count": null,
   "metadata": {},
   "outputs": [],
   "source": [
    "def to_power(n, * args):\n",
    "    if args:\n",
    "        return [i**n for i in args]\n",
    "    else:\n",
    "        return ('you didnt pass any args')\n",
    "\n",
    "nu= [2, 3, 4]\n",
    "to_power(2)"
   ]
  },
  {
   "cell_type": "code",
   "execution_count": null,
   "metadata": {},
   "outputs": [],
   "source": [
    "def to_power(n, * args):\n",
    "    if args:\n",
    "        return [i**n for i in args]\n",
    "    else:\n",
    "        return ('you didnt pass any args')\n",
    "\n",
    "nu= [2, 3, 4]\n",
    "to_power(2, *nu) # * nahi likha to will give an error"
   ]
  },
  {
   "cell_type": "code",
   "execution_count": null,
   "metadata": {},
   "outputs": [],
   "source": [
    "def to_power(n, * args):\n",
    "    if args:\n",
    "        return [i**n for i in args]\n",
    "    else:\n",
    "        return ('you didnt pass any args')\n",
    "\n",
    "nu= [2, 3, 4]\n",
    "to_power(2, *[5,6,7,8,9])"
   ]
  },
  {
   "cell_type": "markdown",
   "metadata": {},
   "source": [
    "### ** kwargs keyword arugment quargs pronounce\n",
    "\n",
    "# kw means keyword of like dictionary ki taraf arguments \n",
    "\n",
    "# args will take in tuple"
   ]
  },
  {
   "cell_type": "code",
   "execution_count": null,
   "metadata": {},
   "outputs": [],
   "source": [
    "def quarg(**kwargs):\n",
    "    print(kwargs)\n",
    "\n",
    "quarg(fst_name = 'ankit', kast_name = 'nagdeve')"
   ]
  },
  {
   "cell_type": "code",
   "execution_count": null,
   "metadata": {},
   "outputs": [],
   "source": [
    "def q(**kwargs):\n",
    "    for k, v in kwargs.items():\n",
    "        print(f'{k} : {v}')\n",
    "\n",
    "q(fst_name = 'ankit', last_name = 'nagdeve')"
   ]
  },
  {
   "cell_type": "code",
   "execution_count": null,
   "metadata": {},
   "outputs": [],
   "source": [
    "def q1(name, **kwargs): # as a parameter\n",
    "    for k, v in kwargs.items():\n",
    "        print(f'{k} : {v}')\n",
    "q1('ankit',lastname= 'nagdeve', location = 'bangalore')\n",
    "# print ankit will not happen as it will not keys"
   ]
  },
  {
   "cell_type": "code",
   "execution_count": null,
   "metadata": {},
   "outputs": [],
   "source": [
    "#   dicts unpacking\n",
    "d= {'fst_name': 'ankit', 'surname': 'nagdeve'}\n",
    "\n",
    "quarg(**d) # DOING  unpacking"
   ]
  },
  {
   "cell_type": "markdown",
   "metadata": {},
   "source": []
  },
  {
   "cell_type": "markdown",
   "metadata": {},
   "source": [
    "###  parameters order in def function\n",
    "### `def func(name, *args, last_name, **kwargs)` \n",
    "\n",
    "if order changed then it will give an error"
   ]
  },
  {
   "cell_type": "code",
   "execution_count": null,
   "metadata": {},
   "outputs": [],
   "source": [
    "def func(name, * args, last_name = 'unknown', **kwargs ):\n",
    "    print(name)\n",
    "    print(*args)\n",
    "    print(last_name)\n",
    "    print(kwargs)\n",
    "    \n",
    "func('ankit',[1,2,3],last_name= 'nagdeve', a=2, b=3)\n",
    "# in this  order only will work else not work"
   ]
  },
  {
   "cell_type": "code",
   "execution_count": null,
   "metadata": {},
   "outputs": [],
   "source": [
    "def revr(name):\n",
    "    l= []\n",
    "    for i in name:\n",
    "        i[0].upper()\n",
    "    return l\n",
    "revr('ankit')\n",
    "\n",
    "# my answeer"
   ]
  },
  {
   "cell_type": "code",
   "execution_count": null,
   "metadata": {},
   "outputs": [],
   "source": [
    "def rv_string(n, **kwargs):  # kwargs kyu reverse string ho bhi sakta nahi bhi\n",
    "    # kwargs  dicts ki key check karegi\n",
    "    \n",
    "    if kwargs.get('reverse_str')== True: \n",
    "        # why get kyu ki hum kisi bhi key ko acces kar sakate h\n",
    "        # title hume first word capital dega as per question\n",
    "        \n",
    "        \n",
    "        return [i[::-1].title() for i in n]\n",
    "    # return karega ek string ko reverse karenge with loop\n",
    "        \n",
    "    else :\n",
    "        return[i.title() for  i in n]\n",
    "\n",
    "name=['ankit', 'sanket']\n",
    "print(rv_string(name ))"
   ]
  },
  {
   "cell_type": "code",
   "execution_count": null,
   "metadata": {},
   "outputs": [],
   "source": [
    "\n",
    "\n",
    "print(rv_string(name , reverse_str =True))"
   ]
  },
  {
   "cell_type": "markdown",
   "metadata": {},
   "source": [
    "###  Lambda Expression \n",
    "function hota h jis ka koi name nahi hota\n",
    "\n",
    "hum map, reduce, filter k sath use kar sakte "
   ]
  },
  {
   "cell_type": "code",
   "execution_count": null,
   "metadata": {},
   "outputs": [],
   "source": [
    "add2= lambda a,b : a+b\n",
    "add2(3,4)"
   ]
  },
  {
   "cell_type": "code",
   "execution_count": null,
   "metadata": {},
   "outputs": [],
   "source": [
    "iseven= lambda a: a%2==0\n",
    "print(iseven(5))\n",
    "print(iseven(4))\n"
   ]
  },
  {
   "cell_type": "code",
   "execution_count": null,
   "metadata": {},
   "outputs": [],
   "source": [
    "last_char = lambda s: s[-1]\n",
    "last_char('ankit')"
   ]
  },
  {
   "cell_type": "code",
   "execution_count": null,
   "metadata": {},
   "outputs": [],
   "source": [
    "last_char = lambda s: s[::-1]\n",
    "last_char('ankit')"
   ]
  },
  {
   "cell_type": "code",
   "execution_count": null,
   "metadata": {},
   "outputs": [],
   "source": [
    "def lenn(s):\n",
    "    return len(s) > 4\n",
    "lenn('fls')"
   ]
  },
  {
   "cell_type": "code",
   "execution_count": null,
   "metadata": {},
   "outputs": [],
   "source": [
    "# if else in lambda\n",
    "lo = lambda a: True if  len(a) > 5 else False\n",
    "lo('ankitee')"
   ]
  },
  {
   "cell_type": "code",
   "execution_count": null,
   "metadata": {},
   "outputs": [],
   "source": [
    " # enumarate function for loop k sath uuse kar te jab hum loop chalate h to hum item ko hi track karte \n",
    "    # NA KI ITEM K POSTION KO TRACK KARTE\n",
    "    # POSTION TRACK WITHOUT ENUMARATE\n",
    "    \n",
    "name"
   ]
  },
  {
   "cell_type": "code",
   "execution_count": null,
   "metadata": {},
   "outputs": [],
   "source": [
    "sure= ['ankit', 'sanket',' anita',' naresh'] \n",
    "\n",
    "position= 0\n",
    "for i in sure:\n",
    "    print(f'{position}=====> {sure}')\n",
    "    position +=1\n"
   ]
  },
  {
   "cell_type": "code",
   "execution_count": null,
   "metadata": {},
   "outputs": [],
   "source": [
    "for i, j in enumerate(sure):\n",
    "    print(f'{i} th =====> {j}')"
   ]
  },
  {
   "cell_type": "code",
   "execution_count": null,
   "metadata": {},
   "outputs": [],
   "source": [
    "def position(a,target):\n",
    "    for pos, name in enumerate(a):\n",
    "        if name == target:\n",
    "            return pos\n",
    "        \n",
    "    return -1\n",
    "\n",
    "position(sure, 'ankit')\n"
   ]
  },
  {
   "cell_type": "code",
   "execution_count": null,
   "metadata": {},
   "outputs": [],
   "source": [
    "\n",
    "position(sure, 'mummy')"
   ]
  },
  {
   "cell_type": "code",
   "execution_count": null,
   "metadata": {},
   "outputs": [],
   "source": [
    "position(sure, 'sanket')"
   ]
  },
  {
   "cell_type": "code",
   "execution_count": null,
   "metadata": {},
   "outputs": [],
   "source": [
    "#  MAP FUNCTION\n",
    "\n",
    "s"
   ]
  },
  {
   "cell_type": "code",
   "execution_count": null,
   "metadata": {},
   "outputs": [],
   "source": [
    " # SAME OUTPUT WITH MAP FUNCTION\n",
    "    \n",
    "def sqr(o):\n",
    "    return o**2\n",
    "list(map(sqr, s)) #"
   ]
  },
  {
   "cell_type": "code",
   "execution_count": null,
   "metadata": {},
   "outputs": [],
   "source": [
    "# using lambda expression\n",
    "\n",
    "list(map(lambda a: a**2, s))"
   ]
  },
  {
   "cell_type": "code",
   "execution_count": null,
   "metadata": {},
   "outputs": [],
   "source": [
    "# WITH LIST COMPREHENSION\n",
    "\n",
    "SQR = [i  ** 2 for i in s ]\n",
    "SQR"
   ]
  },
  {
   "cell_type": "code",
   "execution_count": null,
   "metadata": {},
   "outputs": [],
   "source": [
    "c= ['cat ', 'mat', 'sat', 'dog']\n",
    "lent= map(len,c)\n",
    "\n",
    "lent\n",
    "for i in lent: # map function me hum  1 hi bar loop chala sakte  \n",
    "    print(i) # map ko list m bhi convert kar sakte  "
   ]
  },
  {
   "cell_type": "markdown",
   "metadata": {},
   "source": [
    "###  tuple ko hum bar bar iterate kar sakte \n",
    "###  but map or filter function ko bar bar iterate nahi kar sakte \n"
   ]
  },
  {
   "cell_type": "code",
   "execution_count": null,
   "metadata": {},
   "outputs": [],
   "source": [
    "def iseven(p):\n",
    "    return p%2 ==0\n",
    "no2= [1,23,4,56,7,8,9,9,8,76,5,43,2]\n",
    "\n",
    "even = filter( iseven, no2) #########\n",
    "\n",
    "print(even)\n",
    "for i in even:\n",
    "    print(i)"
   ]
  },
  {
   "cell_type": "code",
   "execution_count": null,
   "metadata": {},
   "outputs": [],
   "source": [
    "def iseven(p):\n",
    "    return p%2 ==0\n",
    "no2= [1,23,4,56,7,8,9,9,8,76,5,43,2]\n",
    "\n",
    "even = filter( lambda a: a%2==0, no2) #########\n",
    "\n",
    "print(even)\n",
    "for i in even:\n",
    "    print(i)\n",
    "    "
   ]
  },
  {
   "cell_type": "code",
   "execution_count": null,
   "metadata": {},
   "outputs": [],
   "source": [
    "def iseven(p):\n",
    "    return p%2 ==0\n",
    "no2= [1,23,4,56,7,8,9,9,8,76,5,43,2]\n",
    "\n",
    "even = tuple(filter( lambda a: a%2==0, no2)) #########\n",
    "\n",
    "print(even)\n",
    "for i in even:\n",
    "    print(i)\n",
    "    \n",
    "for i in even:\n",
    "    print(i) # bar bar iterate kara sakte"
   ]
  },
  {
   "cell_type": "code",
   "execution_count": null,
   "metadata": {},
   "outputs": [],
   "source": [
    "s"
   ]
  },
  {
   "cell_type": "code",
   "execution_count": null,
   "metadata": {},
   "outputs": [],
   "source": [
    "an_eve= [i for i in s if i % 2==0]\n",
    "an_eve"
   ]
  },
  {
   "cell_type": "markdown",
   "metadata": {},
   "source": [
    "# `interator VS Iterables`\n",
    "\n",
    "# nu = [1,2,3,4]  `iterABLES` - tuple or strings\n",
    "\n",
    "# sq = map(lamda a: a**2, nu)  `iteRATOR` "
   ]
  },
  {
   "cell_type": "code",
   "execution_count": null,
   "metadata": {},
   "outputs": [],
   "source": [
    "nu = [1,2,3,4] #  `iterABLES`\n",
    "\n",
    "sq = map(lambda a: a**2, nu) # `iteRATOR` \n",
    "\n",
    "for i in nu:\n",
    "    print(i)"
   ]
  },
  {
   "cell_type": "code",
   "execution_count": null,
   "metadata": {},
   "outputs": [],
   "source": [
    "\n",
    "nu = [1,2,3,4] #  `iterABLES`\n",
    "\n",
    "sq = map(lambda a: a**2, nu) # `iteRATOR` \n",
    "\n",
    "for i in sq:\n",
    "    print(i)"
   ]
  },
  {
   "cell_type": "code",
   "execution_count": null,
   "metadata": {},
   "outputs": [],
   "source": [
    "s"
   ]
  },
  {
   "cell_type": "code",
   "execution_count": null,
   "metadata": {},
   "outputs": [],
   "source": [
    "sure"
   ]
  },
  {
   "cell_type": "code",
   "execution_count": null,
   "metadata": {},
   "outputs": [],
   "source": [
    "a= (zip(s4,sure))\n",
    "print(a)"
   ]
  },
  {
   "cell_type": "code",
   "execution_count": null,
   "metadata": {},
   "outputs": [],
   "source": [
    "a= list(zip(s4,sure))\n",
    "print(a)\n",
    "\n",
    "# combine karta h choti list me aage kuch nahi h to zip nahi hoga\n"
   ]
  },
  {
   "cell_type": "code",
   "execution_count": null,
   "metadata": {},
   "outputs": [],
   "source": [
    "u= list(zip(s4,sure, names))\n",
    "print(u)\n",
    "\n",
    "# combine karta h choti list me aage kuch nahi h to zip nahi hoga\n"
   ]
  },
  {
   "cell_type": "code",
   "execution_count": null,
   "metadata": {},
   "outputs": [],
   "source": [
    "a= dict(zip(name,sure))\n",
    "print(a)\n",
    "\n",
    "# combine karta h choti list me aage kuch nahi h to zip nahi hoga\n"
   ]
  },
  {
   "cell_type": "markdown",
   "metadata": {},
   "source": [
    " ## \n",
    " \n",
    "        a= dict (zip(s4,sure, names ))\n",
    "        print(a)\n",
    "       \n",
    "      error dega as dictionary \n",
    "\n",
    "## length alag alag nahi hona chahiye tuples ki\n"
   ]
  },
  {
   "cell_type": "markdown",
   "metadata": {},
   "source": [
    "###  * operator with zip function"
   ]
  },
  {
   "cell_type": "code",
   "execution_count": null,
   "metadata": {},
   "outputs": [],
   "source": [
    "l8 = [1,3,5,6,6]\n",
    "l9 = [7,8,9,5,4]\n",
    "\n"
   ]
  },
  {
   "cell_type": "markdown",
   "metadata": {},
   "source": [
    "### revers l8, l9 by zip * operator\n",
    "\n",
    "vid 160"
   ]
  },
  {
   "cell_type": "code",
   "execution_count": null,
   "metadata": {},
   "outputs": [],
   "source": [
    "l10 = [(1,4),(3,8),(5,9),(6,6),(6,4)]\n",
    "l8, l9=  list(zip(*l10)) # zio iterator h"
   ]
  },
  {
   "cell_type": "code",
   "execution_count": null,
   "metadata": {
    "scrolled": true
   },
   "outputs": [],
   "source": [
    "print(l8)\n",
    "print(l9)\n"
   ]
  },
  {
   "cell_type": "code",
   "execution_count": null,
   "metadata": {},
   "outputs": [],
   "source": [
    "new_ls = []\n",
    "for i in zip(l8, l9):\n",
    "    new_ls.append(max(i))\n",
    "    \n",
    "new_ls"
   ]
  },
  {
   "cell_type": "code",
   "execution_count": null,
   "metadata": {},
   "outputs": [],
   "source": [
    "# advance function\n",
    "def  avg(l4,l5,l6):\n",
    "    avgg= []\n",
    "    for i in zip (l4,l5,l6):\n",
    "        avgg.append(sum(i)/ len(i))\n",
    "    return avgg\n",
    "\n",
    "avg([1,2,3],[4,5,6],[7,8,9])\n",
    "\n",
    "        "
   ]
  },
  {
   "cell_type": "code",
   "execution_count": null,
   "metadata": {},
   "outputs": [],
   "source": [
    "# advance function\n",
    "def  avg(*args): # takes any no of argments\n",
    "    avgg= []\n",
    "    for i in zip (*args):\n",
    "        avgg.append(sum(i)/ len(i))\n",
    "    return avgg\n",
    "\n",
    "avg([1,2,3],[4,5,6],[7,8,9],[4,3,4])\n",
    "\n",
    "        "
   ]
  },
  {
   "cell_type": "code",
   "execution_count": null,
   "metadata": {},
   "outputs": [],
   "source": [
    "# in one line code\n",
    "avg_finder =lambda *args :[ sum(index)/ len (index) for index in zip(*args)]\n",
    "avg_finder([1,2,3],[4,5,6],[7,8,9])\n",
    "\n",
    "# same output with lambda function"
   ]
  },
  {
   "cell_type": "code",
   "execution_count": null,
   "metadata": {},
   "outputs": [],
   "source": [
    "# any and all function\n"
   ]
  },
  {
   "cell_type": "code",
   "execution_count": null,
   "metadata": {},
   "outputs": [],
   "source": [
    "even = []\n",
    "for i in l8:\n",
    "    even.append(i%2==0)\n",
    "even"
   ]
  },
  {
   "cell_type": "markdown",
   "metadata": {},
   "source": [
    "## with all function\n",
    "all([False, False, False, True, True])\n",
    "#  all iterable values true hogi  to true hi output dega nahi to false"
   ]
  },
  {
   "cell_type": "code",
   "execution_count": null,
   "metadata": {},
   "outputs": [],
   "source": [
    "all([True, True, True])"
   ]
  },
  {
   "cell_type": "code",
   "execution_count": null,
   "metadata": {},
   "outputs": [],
   "source": [
    "all([i%2==0 for i in l8])"
   ]
  },
  {
   "cell_type": "markdown",
   "metadata": {},
   "source": [
    "## any function chekc karta h ki koi bhi ek no true hoga to any function true dega "
   ]
  },
  {
   "cell_type": "code",
   "execution_count": null,
   "metadata": {},
   "outputs": [],
   "source": [
    "any([i%2==0 for i in l8])"
   ]
  },
  {
   "cell_type": "code",
   "execution_count": null,
   "metadata": {},
   "outputs": [],
   "source": [
    "# vid 161 \n",
    "\n",
    "def sm(*args):\n",
    "  #   to check ki type kya h list me int h ki float then we can use all \n",
    "    if all ([(type(arg)==int or type (arg) == float) for arg in args]):\n",
    "        total = [] # pahile humne empty list lii taki list store ho sake \n",
    "    \n",
    "        for index in args:\n",
    "            total += index\n",
    "        return total\n",
    "    \n",
    "    else:\n",
    "         return 'wrong input'\n",
    "sm([1,4,5,6,6,7,7,8,98],['ankit'])"
   ]
  },
  {
   "cell_type": "code",
   "execution_count": null,
   "metadata": {},
   "outputs": [],
   "source": [
    "def sm(*args):\n",
    "  #   to check ki type kya h list me int h ki float then we can use all \n",
    "    if all ([(type(arg)==int or type (arg) == float) for arg in args]):\n",
    "        # all check karega ki int h ki float \n",
    "        total = 0 # yah 0 lia kyu ki hume sum chahiye thi\n",
    "    \n",
    "        for index in args:\n",
    "            total += index\n",
    "        return total\n",
    "    \n",
    "    else:\n",
    "         return 'wrong input'\n",
    "sm(1,4,5,6,6,7,7,8,98)"
   ]
  },
  {
   "cell_type": "code",
   "execution_count": null,
   "metadata": {},
   "outputs": [],
   "source": [
    "## advaNCE MIN AND MAX\n",
    "\n",
    "# TO FIND THE length of names \n",
    "\n",
    "name12= ['ankit nagdeve', 'sanket nagdeve', 'anita ',' naresh']\n",
    "\n",
    "# with define function\n",
    "def lent(item):\n",
    "    return len(item)\n",
    "\n",
    "print (max(name12, key = lent ))\n",
    "print (min(name12, key = lent ))"
   ]
  },
  {
   "cell_type": "code",
   "execution_count": null,
   "metadata": {},
   "outputs": [],
   "source": [
    "max(name12, key= lambda item: len(item))"
   ]
  },
  {
   "cell_type": "markdown",
   "metadata": {},
   "source": [
    "### to find max score \n",
    "student =  {\n",
    "        \n",
    "        \n",
    "     'ankit' : {'score ': 90, 'age ': 26 },\n",
    "    'suka'  : {'score ': 80, 'age ': 22},\n",
    "    'birina' : {'score ': 86, 'age ': 26}  \n",
    "}\n",
    "\n",
    "student2 = [\n",
    "    \n",
    "    {'name':'ankit' , 'score ': 70, 'age ': 26 },\n",
    "    {'name' :'ankit' , 'score ': 60, 'age ': 22 },\n",
    "    {'name' :' ankit' , 'score ': 50, 'age ': 26   }\n",
    "    \n",
    "]\n",
    "\n",
    "print(min(student2, key= lambda item: item.get('name')))\n",
    "\n",
    "max(student, key = lambda item: student[item]['ankit'])\n",
    "\n",
    "## not working i guess may be i m doing  wrongly"
   ]
  },
  {
   "cell_type": "code",
   "execution_count": null,
   "metadata": {},
   "outputs": [],
   "source": [
    "# sorted function in tuple \n",
    "name14= ('ankit nagdeve', 'sanket nagdeve', 'anita ', ' naresh')\n",
    "sorted (name14)\n",
    "\n",
    "#sorted function return me  list dega but tuple ko change nahi karega\n"
   ]
  },
  {
   "cell_type": "code",
   "execution_count": null,
   "metadata": {},
   "outputs": [],
   "source": [
    "# bike = [ \n",
    "#    {'m1':'activa' , 'mod ': 7000, 'price ': 70026 },\n",
    "#    {'m2' :'vespa' , 'mod ': 6000, 'price ': 90022 },\n",
    "#    {'m3' :' ktm' , 'mod ': 500, 'price ': 1000026}]\n",
    "# \n",
    "# sorted(bike, key = lambda d:d['price']) "
   ]
  },
  {
   "cell_type": "code",
   "execution_count": null,
   "metadata": {},
   "outputs": [],
   "source": [
    "cars = [('citroen', 'xsara', 1100), ('lincoln', 'navigator', 2000), ('bmw', 'x5', 1700)]\n",
    "\n",
    "print(sorted(cars, key=lambda car: car[0]))\n",
    "print(sorted(cars, key=lambda car: car[1]))\n",
    "print(sorted(cars, key=lambda car: car[2]))"
   ]
  },
  {
   "cell_type": "code",
   "execution_count": null,
   "metadata": {},
   "outputs": [],
   "source": [
    "print(sm.__doc__)\n",
    " # sm FUnction ki doc string"
   ]
  },
  {
   "cell_type": "code",
   "execution_count": null,
   "metadata": {},
   "outputs": [],
   "source": [
    "help(sum)"
   ]
  },
  {
   "cell_type": "markdown",
   "metadata": {},
   "source": [
    "###  decorators"
   ]
  },
  {
   "cell_type": "code",
   "execution_count": null,
   "metadata": {},
   "outputs": [],
   "source": [
    "store= sm\n",
    "print(store(5,4,5,6))"
   ]
  },
  {
   "cell_type": "code",
   "execution_count": null,
   "metadata": {},
   "outputs": [],
   "source": [
    "def square2( a):\n",
    "    return a**2\n",
    "\n",
    "lss = [1,3,4,5,5]\n",
    "print(list(map(square2,lss)))"
   ]
  },
  {
   "cell_type": "code",
   "execution_count": null,
   "metadata": {},
   "outputs": [],
   "source": [
    "l= [1,2,3,4,5,6,7]\n",
    "def mapi(fun, l):  # aa iterable list tuple kuch bhi )\n",
    "    new_list=[]\n",
    "    for i in l:\n",
    "        new_list.append(fun(i))\n",
    "    return new_list\n",
    "\n",
    "print(mapi(square2,l))"
   ]
  },
  {
   "cell_type": "code",
   "execution_count": null,
   "metadata": {},
   "outputs": [],
   "source": [
    "mapi(lambda a: a**3, l)"
   ]
  },
  {
   "cell_type": "code",
   "execution_count": null,
   "metadata": {},
   "outputs": [],
   "source": [
    "def fun2(fun,l):\n",
    "    return[fun(i) for i in l]\n",
    "\n",
    "fun2(lambda a: a**3, l)"
   ]
  },
  {
   "cell_type": "code",
   "execution_count": null,
   "metadata": {},
   "outputs": [],
   "source": [
    "# function returning function\n",
    "def outer_func():\n",
    "    def inner_fun(): \n",
    "        print('inside inner fun')\n",
    "    return inner_fun() # outer function  inner function ko return kar rah\n",
    "a= outer_func()\n",
    "a #as this is empty fun \n",
    "# no need to write a()"
   ]
  },
  {
   "cell_type": "code",
   "execution_count": null,
   "metadata": {},
   "outputs": [],
   "source": [
    "def o_f(msg):\n",
    "    def inn_f():\n",
    "        print (f' the message is {msg}')\n",
    "    return inn_f\n",
    "prnt = o_f('hi there')\n",
    "prnt() # need bracket when recall\n",
    "#  t his is function inside function  aslo known as or clousre of first class function\n"
   ]
  },
  {
   "cell_type": "code",
   "execution_count": null,
   "metadata": {},
   "outputs": [],
   "source": []
  },
  {
   "cell_type": "code",
   "execution_count": null,
   "metadata": {},
   "outputs": [],
   "source": [
    "\n",
    "def power(x):\n",
    "    def raiseto(n):\n",
    "        return n**x\n",
    "    return raiseto\n",
    "\n",
    "p= power(5)\n",
    "p(2)\n",
    "\n",
    "# like 2^5"
   ]
  },
  {
   "cell_type": "code",
   "execution_count": null,
   "metadata": {},
   "outputs": [],
   "source": [
    "\n",
    "def power(x):\n",
    "    def raiseto(n):\n",
    "        return x**n\n",
    "    return raiseto\n",
    "\n",
    "p= power(5)\n",
    "p(2)\n",
    "\n",
    "#  like sqaure function"
   ]
  },
  {
   "cell_type": "markdown",
   "metadata": {},
   "source": []
  },
  {
   "cell_type": "markdown",
   "metadata": {},
   "source": [
    "## ###  decorators dusre functions ki  functionality improve karte \n",
    "\n",
    "dont want to change exsiting code and add something\n",
    "# decorator use karte \n"
   ]
  },
  {
   "cell_type": "code",
   "execution_count": null,
   "metadata": {},
   "outputs": [],
   "source": [
    "def decorator_funct(any_func): \n",
    "    \n",
    "    # decoratro apne ander aur ek dunction create karata h\n",
    "    def wrapper _fun():\n",
    "        print('to add this -----------------')\n",
    "        any_func()\n",
    "        \n",
    "        \n",
    "def f1():\n",
    "    print('this is fun 1 ')\n",
    "    \n",
    "def f2():\n",
    "    pprint('this is fun  ')"
   ]
  },
  {
   "cell_type": "code",
   "execution_count": null,
   "metadata": {},
   "outputs": [],
   "source": [
    "def decorator_funct(any_func): \n",
    "    \n",
    "    # decoratro apne ander aur ek dunction create karata h\n",
    "    def wrapper_fun():\n",
    "        print('to add this -----------------')\n",
    "        any_func()\n",
    "    return wrapper_fun\n",
    "        \n",
    "def f1():\n",
    "    print('this is fun 1 ')\n",
    "    \n",
    "    \n",
    "def f2():\n",
    "    print('this is fun 2')\n",
    "f1 = decorator_funct(f1)\n",
    "\n",
    "f1()"
   ]
  },
  {
   "cell_type": "code",
   "execution_count": null,
   "metadata": {},
   "outputs": [],
   "source": [
    "f2 = decorator_funct(f2)\n",
    "\n",
    "f2()"
   ]
  },
  {
   "cell_type": "markdown",
   "metadata": {},
   "source": [
    "###  @decorator_funct  is called as syntactic suger"
   ]
  },
  {
   "cell_type": "code",
   "execution_count": null,
   "metadata": {},
   "outputs": [],
   "source": [
    "def decorator_funct(any_func): \n",
    "    \n",
    "    # decoratro apne ander aur ek dunction create karata h\n",
    "    def wrapper_fun():\n",
    "        print('|----------------|-this  is aswsome function ')\n",
    "        print('|----------------|')\n",
    "        print('|----------------|')\n",
    "              \n",
    "        any_func()\n",
    "    return wrapper_fun\n",
    "    \n",
    "\n",
    "def f1():\n",
    "    print('this is function 1 ')\n",
    "    \n",
    "@decorator_funct\n",
    "\n",
    "def f2():\n",
    "    print('this is function 2')\n",
    "f1 = decorator_funct(f1)\n",
    "\n",
    "f1()\n",
    "f2()"
   ]
  },
  {
   "cell_type": "code",
   "execution_count": null,
   "metadata": {},
   "outputs": [],
   "source": [
    "def dec(any_fun):\n",
    "    def waper(*args, **kwargs):\n",
    "        print('|----------------| this is good code')\n",
    "        return any_fun(*args, **kwargs) "
   ]
  },
  {
   "cell_type": "markdown",
   "metadata": {},
   "source": [
    "# OOPS\n",
    "ek style h codes ko style kar ne ka \n",
    "can write manage and operation samajte h \n",
    "\n",
    " list create kar te h [1,2,3,4,4].append (8) list ki ek class hoti h\n",
    "\n",
    "# python me sab object h \n",
    "\n",
    "#  Class - [1,2,4,5,5]   \n",
    "\n",
    "list class, \n",
    " \n",
    "class hamara blue print h ki hamara aane wala object kaise hoga \n",
    "\n",
    "\n",
    " \n",
    " # obeject or instace \n",
    " \n",
    " ### l =[1,2,3,4] \n",
    " \n",
    " l hamara class ka object \n",
    " \n",
    "# method\n",
    " \n",
    " append h hamara method h aur sabki class k liye ye applicable h\n",
    " \n",
    " oops me hum ye sikhte h ki khud ki classes kaise banana\n",
    " \n",
    " hamara object kaise hoga kya kya functionality perform karenne, aane wale object k pass kya kya attribute honge\n",
    " "
   ]
  },
  {
   "cell_type": "code",
   "execution_count": null,
   "metadata": {},
   "outputs": [],
   "source": [
    "class Person:\n",
    "    # capital rakhna chahiye  class k agar khud define kar rahe ho\n",
    "    \n",
    "    # special tarah ka method hota h init method or constructor\n",
    "    \n",
    "    # method kyu bolte h class me \n",
    "    \n",
    "    def __init__( self, first_name , last_name, age)  :\n",
    "                         # atrributeS \n",
    "        #instance vaaribale declare karana h\n",
    "        \n",
    "        self.first_name = first_name\n",
    "        #   .   instance varibale  h yahi print me jayega\n",
    "        self.last_name = last_name\n",
    "        self.age      = age   \n",
    "        \n",
    "        #hum logo ne ye decide kar liye ki aane wala object kaise hoga\n",
    "        \n",
    "# p1 is object = class ka nam(person('ankit', 'blr', 24))\n",
    "p1= Person('ankit', 'blr', 24)\n",
    "p2= Person('sanket', 'blr', 22)\n",
    "\n",
    "# jaise h me  ye object call karunga mera init method  call hoga\n",
    "\n",
    " # elf define kar rah h mere object ko self h p1 and us k pass h first name , last name and age\n",
    "    \n",
    "print(p1.first_name)\n",
    "print(p2.first_name)"
   ]
  },
  {
   "cell_type": "code",
   "execution_count": null,
   "metadata": {},
   "outputs": [],
   "source": [
    "class Laptop:\n",
    "    def __init__ (self, brand_name, model_name, price):\n",
    "        \n",
    "        self.brand_name = brand_name\n",
    "        self.model_name = model_name\n",
    "        self.price = price\n",
    "\n",
    "laptop1=  Laptop('Lenevo', 'thinkpad x1', 150000)\n",
    "laptop2=  Laptop('Dell', 'XPS x1', 120000)\n",
    "    \n",
    "print(laptop1.price)"
   ]
  },
  {
   "cell_type": "code",
   "execution_count": null,
   "metadata": {},
   "outputs": [],
   "source": [
    "class Laptop:\n",
    "    def __init__ (self, brand_name, model_name, price):\n",
    "        \n",
    "        self.brand_name = brand_name\n",
    "        self.model_name = model_name\n",
    "        self.price = price\n",
    "        \n",
    "    def full_name (self):\n",
    "        return f'{self.brand_name}{self.model_name}'\n",
    "    \n",
    "p3= Laptop('Lenevo', 'Thinkpad', 150000)\n",
    "p3.full_name()\n",
    " #. FULL NAME IS METHOD\n",
    "    \n"
   ]
  },
  {
   "cell_type": "code",
   "execution_count": null,
   "metadata": {},
   "outputs": [],
   "source": [
    "Laptop.full_name(p3) # can be written aslo"
   ]
  },
  {
   "cell_type": "code",
   "execution_count": null,
   "metadata": {},
   "outputs": [],
   "source": [
    "class Person:\n",
    "    def __init__(self, first, last, age):\n",
    "        self.first = first\n",
    "        self.last = last\n",
    "        self.age= age\n",
    "    \n",
    "    def full_nam(self):\n",
    "        return f'{self.first}{lastt}'\n",
    "    \n",
    "    def is_above_18(self):\n",
    "        return self.age >18\n",
    "    \n",
    "    \n",
    "p5 = Person('ankit', 'anita', 27)\n",
    "p6 = Person('sanket', 'naresh', 24)\n",
    "p7 = Person('kinu', 'boby', 4)\n",
    "\n",
    "p6.is_above_18()\n",
    "            \n",
    "        "
   ]
  },
  {
   "cell_type": "code",
   "execution_count": null,
   "metadata": {},
   "outputs": [],
   "source": [
    "p7.is_above_18()\n",
    "        "
   ]
  },
  {
   "cell_type": "code",
   "execution_count": null,
   "metadata": {},
   "outputs": [],
   "source": [
    "class Laptop:\n",
    "    def __init__(self, brand, model, price):\n",
    "        \n",
    "        self.brand= brand\n",
    "        self.model = model\n",
    "        self.price = price\n",
    "        self.laptop_name = brand + ' ' +model\n",
    "        \n",
    "    def discount(self ,percentage):\n",
    "        \n",
    "        off_price = (percentage/100)* self.price # price ka discount\n",
    "                    # percentage argument\n",
    "            \n",
    "        return   self.price - off_price\n",
    "        \n",
    "laptop3 = Laptop('Asus', 'Zenboook', 200000)\n",
    "\n",
    "laptop3.discount(10)\n",
    "        # 2nd method to  call as we want 20 % discount"
   ]
  },
  {
   "cell_type": "code",
   "execution_count": null,
   "metadata": {},
   "outputs": [],
   "source": [
    "laptop4 = Laptop('acer', 'rogue', 85605)\n",
    "print( laptop4.discount(40))\n",
    "\n",
    "# instance variable unique hota h har ek object k liye \n",
    "#ex lenovo ka model and price etc"
   ]
  },
  {
   "cell_type": "code",
   "execution_count": null,
   "metadata": {},
   "outputs": [],
   "source": [
    "# class varibale ki value shared hoti h har ek object k sath\n",
    "# to save memory and  universal values like pi or 3.14"
   ]
  },
  {
   "cell_type": "code",
   "execution_count": null,
   "metadata": {},
   "outputs": [],
   "source": [
    "import math \n",
    "from math import pi\n",
    "class Circle:\n",
    "    \n",
    "    def __init__(self, radius, pi):\n",
    "        self.radius = radius\n",
    "        self.pi = pi\n",
    "    def cal_circum(self):\n",
    "        return 2* self.pi * self.radius\n",
    "                # to pi \n",
    "\n",
    "c= Circle(4,3.14) # radius \n",
    "c.cal_circum()"
   ]
  },
  {
   "cell_type": "code",
   "execution_count": null,
   "metadata": {},
   "outputs": [],
   "source": [
    "from math import pi\n",
    "class Circle:\n",
    "    pi = 3.14\n",
    "    def __init__(self, radius):\n",
    "        self.radius = radius\n",
    "        \n",
    "    def cal_circum(self):\n",
    "        return 2* Circle.pi * self.radius\n",
    "                # to class ko hi hum by default pi ki value le \n",
    "\n",
    "c= Circle(4) # radius \n",
    "c.cal_circum()"
   ]
  },
  {
   "cell_type": "code",
   "execution_count": null,
   "metadata": {},
   "outputs": [],
   "source": [
    "# sales on laptop using class varible"
   ]
  },
  {
   "cell_type": "code",
   "execution_count": null,
   "metadata": {},
   "outputs": [],
   "source": [
    "class Laptop:\n",
    "    discount_percent = 10 # jab taq sale chal rah tab tak sabhi laptop me sale dicount hoga \n",
    "    \n",
    "    def __init__(self, brand, model, price):\n",
    "        \n",
    "        self.brand= brand\n",
    "        self.model = model\n",
    "        self.price = price\n",
    "        self.laptop_name = brand + ' ' +model\n",
    "        \n",
    "    def discount(self):\n",
    "        \n",
    "        off_price = (Laptop.discount_percent/100)* self.price # price ka discount\n",
    "                    #  class variable . percentage argument\n",
    "            \n",
    "        return   self.price - off_price\n",
    "        \n",
    "laptop3 = Laptop('Asus', 'Zenboook', 200000)\n",
    "laptop6 = Laptop('apple', 'mac', 250000)\n",
    "\n",
    "laptop3.discount()\n",
    "        # 2nd method to  call as we want 20 % discount\n",
    "    "
   ]
  },
  {
   "cell_type": "code",
   "execution_count": null,
   "metadata": {},
   "outputs": [],
   "source": [
    "laptop6 = Laptop('apple', 'mac', 250000)\n",
    "laptop6.discount()\n",
    "\n"
   ]
  },
  {
   "cell_type": "code",
   "execution_count": null,
   "metadata": {},
   "outputs": [],
   "source": [
    "#   agar sale khtam hogayi h to humko 0 % me default kar na h \n",
    "class Laptop:\n",
    "    discount_percent = 10 # jab taq sale chal rah tab tak sabhi laptop me sale dicount hoga \n",
    "    \n",
    "    def __init__(self, brand, model, price):\n",
    "        \n",
    "        self.brand= brand\n",
    "        self.model = model\n",
    "        self.price = price\n",
    "        self.laptop_name = brand + ' ' +model\n",
    "        \n",
    "    def discount(self):\n",
    "        \n",
    "        off_price = (Laptop.discount_percent/100)* self.price # price ka discount\n",
    "                    #  class variable . percentage argument\n",
    "            \n",
    "        return   self.price - off_price\n",
    "        \n",
    "Laptop.discount_percent = 0    \n",
    "        \n",
    "laptop3 = Laptop('Asus', 'Zenboook', 200000)\n",
    "laptop6 = Laptop('apple', 'mac', 250000)\n",
    "\n",
    "laptop3.discount()\n",
    "        # 2nd method to  call as we want 20 % discount\n",
    "    "
   ]
  },
  {
   "cell_type": "markdown",
   "metadata": {},
   "source": [
    "###  agar mujhe pata kar na h ki mere object k pass kya kya varibales h \n",
    "\n",
    "ex laptop 1 k pass kya varible h"
   ]
  },
  {
   "cell_type": "code",
   "execution_count": null,
   "metadata": {},
   "outputs": [],
   "source": [
    "laptop2.__dict__"
   ]
  },
  {
   "cell_type": "code",
   "execution_count": null,
   "metadata": {},
   "outputs": [],
   "source": [
    "# ek problem h  ki dusre laptop me 15 % or 20 % karna h to ?\n",
    "\n",
    "# laptop 3 k liye \n",
    "class Laptop:\n",
    "    discount_percent = 10 # jab taq sale chal rah tab tak sabhi laptop me sale dicount hoga \n",
    "    \n",
    "    def __init__(self, brand, model, price):\n",
    "        \n",
    "        self.brand= brand\n",
    "        self.model = model\n",
    "        self.price = price\n",
    "        self.laptop_name = brand + ' ' +model\n",
    "        \n",
    "    def discount(self):\n",
    "        \n",
    "        off_price = (self.discount_percent/100)* self.price # price ka discount\n",
    "                   \n",
    "                #  self . percentage argument for each \n",
    "                # self hum tab use karenge jab hume class varible ko change kar na h\n",
    "        return   self.price - off_price\n",
    "        \n",
    "  \n",
    "        \n",
    "laptop3 = Laptop('Asus', 'Zenboook', 250000)\n",
    "laptop6 = Laptop('apple', 'mac', 210000)\n",
    "\n",
    "laptop3.discount_percent = 50 # l3 ko 50 % discount\n",
    "\n",
    "\n",
    "laptop3.__dict__\n",
    "laptop3.discount()\n",
    "        # 2nd method to  call as we want 20 % discount\n",
    "    "
   ]
  },
  {
   "cell_type": "code",
   "execution_count": null,
   "metadata": {},
   "outputs": [],
   "source": [
    "## to calculate class instances\n",
    "\n",
    "class Person:\n",
    "    \n",
    "    count_instance = 0\n",
    "    def __init__( self, first_name , last_name, age)  :\n",
    "        \n",
    "        Person.count_instance  += 1\n",
    "                         # atrributeS \n",
    "        #instance vaaribale declare karana h\n",
    "        \n",
    "        self.first_name = first_name\n",
    "        #   .   instance varibale  h yahi print me jayega\n",
    "        self.last_name = last_name\n",
    "        self.age      = age   \n",
    "        \n",
    "        \n",
    "p1= Person('ankit', 'blr', 24)\n",
    "p2= Person('sanket', 'blr', 22)\n",
    "p3= Person('bobby', 'blr', 22)"
   ]
  },
  {
   "cell_type": "code",
   "execution_count": null,
   "metadata": {},
   "outputs": [],
   "source": [
    "print(Person.count_instance)"
   ]
  },
  {
   "cell_type": "code",
   "execution_count": null,
   "metadata": {},
   "outputs": [],
   "source": [
    "p1= Person('ankit', 'blr', 24)\n",
    "p2= Person('sanket', 'blr', 22)\n",
    "p3= Person('bobby', 'blr', 22)\n",
    "p1= Person('ankit', 'blr', 24)\n",
    "p2= Person('sanket', 'blr', 22)\n",
    "p3= Person('bobby', 'blr', 22)"
   ]
  },
  {
   "cell_type": "code",
   "execution_count": null,
   "metadata": {},
   "outputs": [],
   "source": [
    "print(Person.count_instance)"
   ]
  },
  {
   "cell_type": "markdown",
   "metadata": {},
   "source": [
    "###  class method and instance method vid  196"
   ]
  },
  {
   "cell_type": "code",
   "execution_count": null,
   "metadata": {},
   "outputs": [],
   "source": [
    "class Person:\n",
    "    count_instance = 0 #  class variBLE aahe\n",
    "    def __init__(self, first, last, age):\n",
    "        Person.count_instance  += 1\n",
    "        self.first = first\n",
    "        self.last = last\n",
    "        self.age = age\n",
    "        \n",
    "    @classmethod\n",
    "    \n",
    "    def count_ins(cls):\n",
    "        return f' you have created {cls.count_instance} of intances of people class'\n",
    "    \n",
    "    def full_name(self):\n",
    "        return f'{seld.first}{self.last}'\n",
    "    \n",
    "    def is_above(self):\n",
    "        return self.age >18\n",
    "\n",
    "    \n",
    "p1 = Person('ankiy', 'naresh', 27)\n",
    "p2= Person('sanket', 'naresh', 24)\n",
    "p3= Person('sanket', 'naresh', 24)\n",
    "p4= Person('sanket', 'naresh', 24)\n",
    "p5= Person('sanket', 'naresh', 24)\n",
    "\n",
    "# p1..p5 will be a instance class\n",
    "\n",
    "\n",
    "\n",
    "print(Person.count_ins()) # from decorator we  can use this to calculate our instances\n",
    "\n"
   ]
  },
  {
   "cell_type": "markdown",
   "metadata": {},
   "source": [
    "### class method AS KHUD KA  CONSTRUTCTOR kasie banaye class method help karega\n",
    "# class method use kar ne k lue class method decorator use karte"
   ]
  },
  {
   "cell_type": "code",
   "execution_count": null,
   "metadata": {},
   "outputs": [],
   "source": [
    "class P:\n",
    "    cnt_inst= 0\n",
    "    \n",
    "    def __init__(self, fst, lst, age):\n",
    "        P.cnt_inst+=1\n",
    "        self.fst = fst\n",
    "        self.lst= lst\n",
    "        self.age = age\n",
    "        \n",
    "    @classmethod\n",
    "    \n",
    "    def from_string(cls, string): # humko p1= P('ankit, nagdeve, 27 ko split karna h to isk lye hum string attribute banate h class method me')\n",
    "        fst, lst,age = string.split(',')\n",
    "\n",
    "        # then humko object create kar ne h class ka name likh k like p1\n",
    "        #cls(fst, lst,age) # ye object create kia then us k bad return like \n",
    "        \n",
    "        return cls(fst, lst,age)\n",
    "    \n",
    "    def full(self):\n",
    "        return f'{self.fst} {self.lst}'\n",
    "    \n",
    "p6 = P.from_string('ankit,nagdeve,28')\n",
    "print(p6.full())"
   ]
  },
  {
   "cell_type": "markdown",
   "metadata": {},
   "source": [
    "###  Static method vid 198\n",
    "statis method ka relation na hi hamare class se hota h aur na \n",
    "\n",
    "hamre instance se hota h \n",
    "\n",
    "normal function ki taraf hota h \n",
    "\n",
    "define kar ne k liye hum static method decorator \n",
    "\n",
    "@STATICMETHOD  \n",
    "def hello():"
   ]
  },
  {
   "cell_type": "code",
   "execution_count": null,
   "metadata": {},
   "outputs": [],
   "source": [
    "class P:\n",
    "    cnt_inst= 0\n",
    "    \n",
    "    def __init__(self, fst, lst, age):\n",
    "        P.cnt_inst+=1\n",
    "        self.fst = fst\n",
    "        self.lst= lst\n",
    "        self.age = age\n",
    "        \n",
    "    @classmethod\n",
    "    \n",
    "    def from_string(cls, string): # humko p1= P('ankit, nagdeve, 27 ko split karna h to isk lye hum string attribute banate h class method me')\n",
    "        fst, lst,age = string.split(',')\n",
    "    \n",
    "    \n",
    "        # then humko object create kar ne h class ka name likh k like p1\n",
    "        #cls(fst, lst,age) # ye object create kia then us k bad return like \n",
    "        \n",
    "        return cls(fst, lst,age)\n",
    "    \n",
    "    \n",
    "    @staticmethod # hamre classk sath kuch logical method ho sakata h\n",
    "    def hello():\n",
    "        print('Hello static method called')\n",
    "        \n",
    "    def full(self):\n",
    "        return f'{self.fst} {self.lst}'\n",
    "    \n",
    "P.hello()"
   ]
  },
  {
   "cell_type": "markdown",
   "metadata": {},
   "source": [
    "### Encaptulation:  jab taq encap nahi hoga abstract nahi hogaa\n",
    "\n",
    "abstraction:  means complexcity ko hide karna\n",
    "\n",
    "nameing convention : \n",
    "        \n",
    "        _name  => its a convention name of private\n",
    "        \n",
    "        __name__  => dunder method kehete h or magic method bhi bolte\n",
    "\n",
    "\n",
    "name mangling:\n",
    "                 __ price aise means double under score"
   ]
  },
  {
   "cell_type": "code",
   "execution_count": null,
   "metadata": {},
   "outputs": [],
   "source": [
    "class Phone:\n",
    "    \n",
    "    def __init__(self, brand, model_name, price):\n",
    "        self.brand = brand           \n",
    "        self.model_name= model_name\n",
    "        self.price = price\n",
    "        \n",
    "    # methods are bellow and class k ander jo hota h wo encaptulation\n",
    "    \n",
    "    def make_a_call(self, phone_no):\n",
    "        print(f'calling {phone_no}')\n",
    "        \n",
    "    def full_name(self):\n",
    "        return f'{self.brand} {self.model_name}'\n",
    "    \n",
    "phone1= Phone('apple', 'i-11', 80000)\n",
    "phone1.model_name"
   ]
  },
  {
   "cell_type": "code",
   "execution_count": null,
   "metadata": {},
   "outputs": [],
   "source": [
    "class Phone:\n",
    "    \n",
    "    def __init__(self, brand, model_name, price):\n",
    "        self.brand = brand           \n",
    "        self.model_name= model_name\n",
    "        self._price = price    # this changed\n",
    "        \n",
    "    # methods are bellow and class k ander jo hota h wo encaptulation\n",
    "    \n",
    "    def make_a_call(self, phone_no):\n",
    "        print(f'calling {phone_no}')\n",
    "        \n",
    "    def full_name(self):\n",
    "        return f'{self.brand} {self.model_name}'\n",
    "    \n",
    "phone1= Phone('apple', 'i-11', 80000)\n",
    "print(phone1._price)\n",
    "\n",
    "phone1._price = -50000\n",
    "print(phone1._price)\n",
    "\n",
    "# this is for magic"
   ]
  },
  {
   "cell_type": "code",
   "execution_count": null,
   "metadata": {},
   "outputs": [],
   "source": [
    "# this is for mangaling\n",
    "\n",
    "class Phone:\n",
    "    \n",
    "    def __init__(self, brand, model_name, price):\n",
    "        self.brand = brand           \n",
    "        self.model_name= model_name\n",
    "        self.__price = price    # this changed to double underscore \n",
    "        \n",
    "  \n",
    "    def make_a_call(self, phone_no):\n",
    "        print(f'calling {phone_no}')\n",
    "        \n",
    "    def full_name(self):\n",
    "        return f'{self.brand} {self.model_name}'\n",
    "    \n",
    "phone1= Phone('apple', 'i-11', 80000)\n",
    "# single underscore se error dega \n",
    "# we need to check the dict of this \n",
    "\n",
    "phone1.__dict__"
   ]
  },
  {
   "cell_type": "markdown",
   "metadata": {},
   "source": [
    "### pyhton ne __phone__price save kia h automatically"
   ]
  },
  {
   "cell_type": "code",
   "execution_count": null,
   "metadata": {},
   "outputs": [],
   "source": [
    "phone1._Phone__price # name change kar diya"
   ]
  },
  {
   "cell_type": "code",
   "execution_count": null,
   "metadata": {},
   "outputs": [],
   "source": [
    "D"
   ]
  },
  {
   "cell_type": "code",
   "execution_count": null,
   "metadata": {},
   "outputs": [],
   "source": [
    "phone1= Phone('ONE PLUS', '7-t1', -40000)\n",
    "phone1._price"
   ]
  },
  {
   "cell_type": "code",
   "execution_count": null,
   "metadata": {},
   "outputs": [],
   "source": [
    "# property, decorator \n",
    "\n",
    "# this is for mangaling\n",
    "\n",
    "class Phone:\n",
    "    \n",
    "    def __init__(self, brand, model_name, price):\n",
    "        self.brand = brand           \n",
    "        self.model_name= model_name\n",
    "        self._price = max(price,0) # - ME HOGA TO HUMKO 0 DEGA\n",
    "        #if price > 0:\n",
    "        #    self.price = price\n",
    "        #else:\n",
    "         #   self.price = 0\n",
    "           \n",
    "        self.specification = f'{self.brand} { self.model_name} and price'\n",
    "  \n",
    "    def make_a_call(self, phone_no):\n",
    "        print(f'calling {phone_no}')\n",
    "        \n",
    "    def full_name(self):\n",
    "        return f'{self.brand} {self.model_name}'\n",
    "    \n",
    "phone1= Phone('ONE PLUS', '7-t1', 40000)\n",
    " \n",
    "# agar hum ne - value pass ki phone 1 k price me to 0 default dena chahiee\n",
    "#us k liye hum if else or self._price = max(price, 0) likh sakte\n",
    "\n",
    "print(phone1.model_name)\n",
    "print(phone1.brand)\n",
    "print (phone1.specification)\n",
    "print(phone1._price)"
   ]
  },
  {
   "cell_type": "code",
   "execution_count": null,
   "metadata": {
    "scrolled": true
   },
   "outputs": [],
   "source": [
    "# property, decorator \n",
    "\n",
    "# this is for mangaling\n",
    "\n",
    "class Phone:\n",
    "    \n",
    "    def __init__(self, brand, model_name, price):\n",
    "        self.brand = brand           \n",
    "        self.model_name= model_name\n",
    "        self._price = max(price,0) # - ME HOGA TO HUMKO 0 DEGA\n",
    "        #if price > 0:\n",
    "        #    self.price = price\n",
    "        #else:\n",
    "         #   self.price = 0\n",
    "           \n",
    "         \n",
    "    def com_spc(self):\n",
    "        return f'{self.brand} { self.model_name} and price {self._price}'\n",
    "  \n",
    "    def make_a_call(self, phone_no):\n",
    "        print(f'calling {phone_no}')\n",
    "        \n",
    "    def full_name(self):\n",
    "        return f'{self.brand} {self.model_name} and price { self._price}'\n",
    "    \n",
    "phone1= Phone('ONE PLUS', '7-t1', 40000)\n",
    " \n",
    "# agar hum ne - value pass ki phone 1 k price me to 0 default dena chahiee\n",
    "#us k liye hum if else or self._price = max(price, 0) likh sakte\n",
    "\n",
    "\n",
    "phone1._price = 500 # ye update hone k liye  humko ek alag function banayege \n",
    "\n",
    "print (phone1.com_spc())\n",
    "\n",
    "#now the price is updatinga after define function\n"
   ]
  },
  {
   "cell_type": "markdown",
   "metadata": {},
   "source": [
    "###  #as porperty run kar na h to decorator hum property wala use kar sakte\n"
   ]
  },
  {
   "cell_type": "code",
   "execution_count": null,
   "metadata": {},
   "outputs": [],
   "source": [
    "\n",
    "# property, decorator \n",
    "\n",
    "# this is for mangaling\n",
    "\n",
    "class Phone:\n",
    "    \n",
    "    def __init__(self, brand, model_name, price):\n",
    "        self.brand = brand           \n",
    "        self.model_name= model_name\n",
    "        self._price = max(price,0) # - ME HOGA TO HUMKO 0 DEGA\n",
    "        #if price > 0:\n",
    "        #    self.price = price\n",
    "        #else:\n",
    "         #   self.price = 0\n",
    "           \n",
    "    @property    \n",
    "    def com_spc(self):\n",
    "        return f'{self.brand} { self.model_name} and price {self._price}'\n",
    "  \n",
    "    def make_a_call(self, phone_no):\n",
    "        print(f'calling {phone_no}')\n",
    "        \n",
    "    def full_name(self):\n",
    "        return f'{self.brand} {self.model_name} and price { self._price}'\n",
    "    \n",
    "phone1= Phone('ONE PLUS', '7-t1', 40000)\n",
    " \n",
    "# agar hum ne - value pass ki phone 1 k price me to 0 default dena chahiee\n",
    "#us k liye hum if else or self._price = max(price, 0) likh sakte\n",
    "\n",
    "\n",
    "phone1._price = 500 # ye update hone k liye  humko ek alag function banayege \n",
    "\n",
    "print (phone1.com_spc) \n",
    "\n"
   ]
  },
  {
   "cell_type": "markdown",
   "metadata": {},
   "source": [
    "###  @ setter decorator\n",
    "\n"
   ]
  },
  {
   "cell_type": "code",
   "execution_count": null,
   "metadata": {},
   "outputs": [],
   "source": [
    "\n",
    "# property, decorator \n",
    "\n",
    "# this is for mangaling\n",
    "\n",
    "class Phone:\n",
    "    \n",
    "    def __init__(self, brand, model_name, price):\n",
    "        self.brand = brand           \n",
    "        self.model_name= model_name\n",
    "        self._price = max(price,0) # - ME HOGA TO HUMKO 0 DEGA\n",
    "   \n",
    "    @property    \n",
    "    def com_spc(self):\n",
    "        return f'{self.brand} { self.model_name} and price {self._price}'  \n",
    "           \n",
    "    @property    # decorator for price the only we can set @setter \n",
    "    def price(self):\n",
    "        return self._price\n",
    "    \n",
    "    @price.setter\n",
    "    \n",
    "    def price(self, new_price):\n",
    "        self._price= max(new_price, 0)\n",
    "  \n",
    "\n",
    "    def make_a_call(self, phone_no):\n",
    "        print(f'calling {phone_no}')\n",
    "        \n",
    "    def full_name(self):\n",
    "        return f'{self.brand} {self.model_name} and price { self._price}'\n",
    "    \n",
    "phone1= Phone('asus', 'Zen', 20000)\n",
    " \n",
    "# agar hum ne - value pass ki phone 1 k price me to 0 default dena chahiee\n",
    "#us k liye hum if else or self._price = max(price, 0) likh sakte\n",
    "\n",
    "\n",
    "phone1._price = 500 # ye update hone k liye  humko ek alag function banayege \n",
    "\n",
    "print (phone1.price) # this will print without _ underscore set karega \n"
   ]
  },
  {
   "cell_type": "markdown",
   "metadata": {},
   "source": [
    "###  inheritances"
   ]
  },
  {
   "cell_type": "code",
   "execution_count": null,
   "metadata": {},
   "outputs": [],
   "source": [
    "class Phone: # ye h hamara parent class or base class\n",
    "    \n",
    "    def __init__(self, brand, model_name, price):\n",
    "        self.brand = brand           \n",
    "        self.model_name= model_name\n",
    "        self._price = max(price,0)    # this changed\n",
    "        \n",
    "    # methods are bellow and class k ander jo hota h wo encaptulation\n",
    "    \n",
    "    \n",
    "        \n",
    "    def full_name(self):\n",
    "        return f'{self.brand} {self.model_name}'\n",
    "    \n",
    "    def make_a_call(self, phone_no):\n",
    "        return f'calling {phone_no}'\n",
    "    \n",
    "    \n",
    "# to inheritance     smartphone features phone class use kar k then\n",
    "\n",
    "class smartphone(Phone): # ye he derived class or child \n",
    "    \n",
    "    def __init__(self, brand, model_name, price, ram,  storage):\n",
    "        \n",
    "        # do tarike h base class uuse kar ne k \n",
    "        # first h   Phone.__init__(Self, brand, model, price)\n",
    "        super().__init__(brand, model_name, price)\n",
    "        self.ram = ram           \n",
    "        self.storage = storage  \n",
    "        \n",
    "    \n",
    "phone4= smartphone('mi','redmi', 15000,'8gb','64gb')\n",
    "print(phone4.full_name()+f' the price is {phone4._price}  and ram {phone4.ram}')"
   ]
  },
  {
   "cell_type": "markdown",
   "metadata": {},
   "source": [
    "### Build in function like isinstance( ) and issubclass()\n",
    "### method overriding\n",
    "### method resolution order\n",
    "### multilevel inheritance\n"
   ]
  },
  {
   "cell_type": "code",
   "execution_count": null,
   "metadata": {},
   "outputs": [],
   "source": [
    "class Phone: # ye h hamara parent class or base class\n",
    "    \n",
    "    def __init__(self, brand, model_name, price):\n",
    "        self.brand = brand           \n",
    "        self.model_name= model_name\n",
    "        self._price = max(price,0)    # this changed\n",
    "        \n",
    "    # methods are bellow and class k ander jo hota h wo encaptulation\n",
    "    \n",
    "    \n",
    "        \n",
    "    def full_name(self):\n",
    "        return f'{self.brand} {self.model_name}'\n",
    "    \n",
    "    def make_a_call(self, phone_no):\n",
    "        return f'calling {phone_no}'\n",
    "    \n",
    "    \n",
    "# to inheritance     smartphone features phone class use kar k then\n",
    "\n",
    "class smartphone(Phone):\n",
    "    \n",
    "    def __init__(self, brand, model_name, price, ram,  storage):\n",
    "        \n",
    "        super().__init__(brand, model_name, price)\n",
    "        self.ram = ram           \n",
    "        self.storage = storage  \n",
    "\n",
    "class flagship(smartphone): #  this is called multilvel inheritance \n",
    "    def __init__(self, brand, model_name, price, ram,  storage, processor, front_cam):\n",
    "        super().__init__(brand, model_name, price, ram,  storage)\n",
    "        self.processor = processor          \n",
    "        self.front_cam = front_cam\n",
    "    \n",
    "flag= flagship('mi','redmi', 15000,'16gb','64gb','quad', '7mp')\n",
    "print(flag.full_name()+f' the price is {flag._price}  and ram {flag.ram}')\n",
    "#flag.full_name()"
   ]
  },
  {
   "cell_type": "code",
   "execution_count": null,
   "metadata": {},
   "outputs": [],
   "source": [
    "print(help(flag.full_name))"
   ]
  },
  {
   "cell_type": "markdown",
   "metadata": {},
   "source": [
    "### method overriding\n"
   ]
  },
  {
   "cell_type": "code",
   "execution_count": null,
   "metadata": {},
   "outputs": [],
   "source": [
    "#agar mujhe flagshio phone me flag full_name me price ram sab chaihiye  to we can do method overriding \n",
    "class Phone: # ye h hamara parent class or base class\n",
    "    \n",
    "    def __init__(self, brand, model_name, price):\n",
    "        self.brand = brand           \n",
    "        self.model_name= model_name\n",
    "        self.price = max(price,0)    # this changed\n",
    "        \n",
    "    # methods are bellow and class k ander jo hota h wo encaptulation\n",
    "    \n",
    "    \n",
    "        \n",
    "    def full_name(self):\n",
    "        return f'{self.brand} {self.model_name}'\n",
    "    \n",
    "    def make_a_call(self, phone_no):\n",
    "        return f'calling {phone_no}'\n",
    "    \n",
    "    \n",
    "# to inheritance     smartphone features phone class use kar k then\n",
    "\n",
    "class smartphone(Phone):\n",
    "    \n",
    "    def __init__(self, brand, model_name, price, ram,  storage):\n",
    "        \n",
    "        super().__init__(brand, model_name, price)\n",
    "        self.ram = ram           \n",
    "        self.storage = storage  \n",
    "    \n",
    "    def full_name(self):\n",
    "        return f'{self.brand} {self.model_name} {self.price} and cam {self.ram}'\n",
    "\n",
    "class flagship(smartphone): #  this is called multilvel inheritance \n",
    "    def __init__(self, brand, model_name, price, ram,  storage, processor, front_cam):\n",
    "        super().__init__(brand, model_name, price, ram,  storage)\n",
    "        self.processor = processor          \n",
    "        self.front_cam = front_cam\n",
    "\n",
    "        \n",
    "phone4= smartphone('mi','redmi', 15000,'8gb','64gb')\n",
    "flag= flagship('nokia','lumia', 10000,'16gb','32gb','quad', '7mp')\n",
    "print(flag.full_name()+f' the price is {flag.price}  and ram {flag.ram}')\n",
    "\n",
    "#flag.full_name()\n",
    "\n",
    "print(help(flag))\n"
   ]
  },
  {
   "cell_type": "markdown",
   "metadata": {},
   "source": [
    "### is instance and issubinstance\n",
    "\n",
    "is intance hum isliye check karte ki ye object hamare class ka h ki nahi h\n",
    "kya  phomne 4 ye object  flagship  phone ka object h ki nahi h"
   ]
  },
  {
   "cell_type": "code",
   "execution_count": null,
   "metadata": {},
   "outputs": [],
   "source": [
    "phone4= smartphone('mi','redmi', 15000,'8gb','64gb')\n",
    "isinstance(flag, smartphone)"
   ]
  },
  {
   "cell_type": "code",
   "execution_count": null,
   "metadata": {},
   "outputs": [],
   "source": [
    "# kya smartphone hamara phonr ka subclass h ki nahi h\n",
    "issubclass(smartphone, Phone)"
   ]
  },
  {
   "cell_type": "markdown",
   "metadata": {},
   "source": [
    "# magic function"
   ]
  },
  {
   "cell_type": "code",
   "execution_count": null,
   "metadata": {},
   "outputs": [],
   "source": [
    "# this is for maginc or dunder methods\n",
    "\n",
    "class Phone:\n",
    "    \n",
    "    def __init__(self, brand, model_name, price):\n",
    "        self.brand = brand           \n",
    "        self.model_name= model_name\n",
    "        self.price = price    \n",
    "  \n",
    "    def phone_name(self):\n",
    "        print(f' {self.brand} {self.model_name}')\n",
    "        \n",
    "    # str and repr method # str me bhi wahi print hoga\n",
    "    def __repr__(self):\n",
    "        return f'{self.brand} {self.price}'\n",
    "    \n",
    "phone8= Phone('apple', 'i-11', 80000)\n",
    "# single underscore se error dega \n",
    "# we need to check the dict of this \n",
    "print(phone8)"
   ]
  },
  {
   "cell_type": "code",
   "execution_count": null,
   "metadata": {},
   "outputs": [],
   "source": [
    "# this is for maginc or dunder methods\n",
    "\n",
    "class Phone:\n",
    "    \n",
    "    def __init__(self, brand, model_name, price):\n",
    "        self.brand = brand           \n",
    "        self.model_name= model_name\n",
    "        self.price = price    \n",
    "  \n",
    "    def phone_name(self):\n",
    "        print(f' {self.brand} {self.model_name}')\n",
    "        \n",
    "    # str and repr method # str me bhi wahi print hoga\n",
    "    def __str__(self):\n",
    "        return f'{self.brand} {self.model_name}'\n",
    "   \n",
    "    def __repr__(self):\n",
    "        return f' Phone\\'{self.brand}\\', \\'{self.model_name}\\' and price is {self.price}'\n",
    "    \n",
    "phone9= Phone('mi', 'red i-11', 8000)\n",
    "# single underscore se error dega \n",
    "# we need to check the dict of this \n",
    "print(phone9)"
   ]
  },
  {
   "cell_type": "code",
   "execution_count": null,
   "metadata": {},
   "outputs": [],
   "source": [
    "print(str(phone9))\n"
   ]
  },
  {
   "cell_type": "code",
   "execution_count": null,
   "metadata": {},
   "outputs": [],
   "source": [
    "print(repr(phone9)) # in dono me se konsa use kare?\n",
    "\n",
    "# JO STR ME NICELY FORMATTED STRING LIKHTE H\n",
    "# REPR ME python code yane object hi print hi ho jaye"
   ]
  },
  {
   "cell_type": "code",
   "execution_count": null,
   "metadata": {},
   "outputs": [],
   "source": [
    "print(phone9.__repr__())"
   ]
  },
  {
   "cell_type": "code",
   "execution_count": null,
   "metadata": {},
   "outputs": [],
   "source": [
    "# to get lenth of this phone name "
   ]
  },
  {
   "cell_type": "markdown",
   "metadata": {},
   "source": [
    "###  operator overloading\n"
   ]
  },
  {
   "cell_type": "code",
   "execution_count": null,
   "metadata": {},
   "outputs": [],
   "source": [
    "\n",
    "# this is for maginc or dunder methods\n",
    "\n",
    "class Phone:\n",
    "    \n",
    "    def __init__(self, brand, model_name, price):\n",
    "        self.brand = brand           \n",
    "        self.model_name= model_name\n",
    "        self.price = price    \n",
    "  \n",
    "    def phone_name(self):\n",
    "        print(f' {self.brand} {self.model_name}')\n",
    "        \n",
    "    # str and repr method # str me bhi wahi print hoga\n",
    "    def __str__(self):\n",
    "        return f'{self.brand} {self.model_name}'\n",
    "   \n",
    "    def __repr__(self):\n",
    "        return f' Phone\\'{self.brand}\\', \\'{self.model_name}\\' and price is {self.price}'\n",
    "    \n",
    "    \n",
    "    def __add__(self, other):\n",
    "        return self.price + other.price\n",
    "    \n",
    "    \n",
    "    \n",
    "phone9= Phone('mi', 'red i-11', 8000)\n",
    "phone10= Phone('mi', 'a1', 15000)\n",
    "\n",
    "\n",
    "print(phone10 + phone9)  #with  __add__ method or sub etc \n",
    "# doc.python.org "
   ]
  },
  {
   "cell_type": "code",
   "execution_count": null,
   "metadata": {},
   "outputs": [],
   "source": [
    "# polymorphism ka example  h operator overaloading\n",
    "# many forms \n",
    "\n",
    "\n",
    "# this is for maginc or dunder methods\n",
    "\n",
    "class Phone:\n",
    "    \n",
    "    def __init__(self, brand, model_name, price):\n",
    "        self.brand = brand           \n",
    "        self.model_name= model_name\n",
    "        self.price = price    \n",
    "  \n",
    "    def phone_name(self):\n",
    "        print(f' {self.brand} {self.model_name}')\n",
    "        \n",
    "    # str and repr method # str me bhi wahi print hoga\n",
    "    def __str__(self):\n",
    "        return f'{self.brand} {self.model_name}'\n",
    "   \n",
    "    def __repr__(self):\n",
    "        return f' Phone\\'{self.brand}\\', \\'{self.model_name}\\' and price is {self.price}'\n",
    "    \n",
    "    \n",
    "    def __add__(self, other):\n",
    "        return self.price + other.price\n",
    "    \n",
    "phone9= Phone('mi', 'red i-11', 8000)\n",
    "phone10= Phone('mi', 'a1', 15000)\n",
    "\n",
    "\n",
    "print(phone10 + phone9)  #with  __add__ method or sub etc \n",
    "# doc.python.org\n"
   ]
  },
  {
   "cell_type": "code",
   "execution_count": null,
   "metadata": {},
   "outputs": [],
   "source": [
    "# polymorphism ka example  h operator overaloading\n",
    "# many forms \n",
    "\n",
    "\n",
    "# this is for maginc or dunder methods\n",
    "\n",
    "class Phone:\n",
    "    \n",
    "    def __init__(self, brand, model_name, price):\n",
    "        self.brand = brand           \n",
    "        self.model_name= model_name\n",
    "        self.price = price    \n",
    "  \n",
    "    def phone_name(self):\n",
    "        print(f' {self.brand} {self.model_name}')\n",
    "        \n",
    " \n",
    "    \n",
    "\n",
    "class flagship(Phone): #  this is called multilvel inheritance \n",
    "    def __init__(self, brand, model_name, price, ram):\n",
    "        super().__init__(brand, model_name, price)    \n",
    "        self.ram = ram\n",
    "        \n",
    "        \n",
    "    def phone_name(self):  # this is method overriding\n",
    "        print(f' {self.brand} {self.model_name} and price is {self.price}')\n",
    "    \n",
    "smart1= Phone('nokia', 'a1', 10000)\n",
    "smart2= flagship('oppo', 'a1', 12000, '8gb')\n",
    "print(smart1.phone_name())\n",
    "print(smart2.phone_name())"
   ]
  },
  {
   "cell_type": "markdown",
   "metadata": {},
   "source": [
    "#  types of error\n",
    "\n",
    "## SYNTAX ERROR like pass in function : not putting \n",
    "\n",
    "\n",
    "## indendation error excess  space \n",
    "\n",
    "\n",
    "## value error-  jab aapa kisi function me data type sahi likh rahe ho but \n",
    "\n",
    "s = 'abc'\n",
    "print(int(5)) # vlaue error \n",
    "\n",
    "## name error - name name declare nahi ki to aayega name error \n",
    "\n",
    "\n",
    "## key error # dictionary me key nahi exisit hogi to aayeaga\n",
    "\n",
    "\n",
    "## attribute error -  koi bhi function exisit nahi h pahile se hi like push() gives error \n",
    "\n",
    "## type error int ko string k sath plus karna\n",
    "\n",
    "## index error---  list me nahi hona \n",
    "\n",
    "\n"
   ]
  },
  {
   "cell_type": "code",
   "execution_count": null,
   "metadata": {},
   "outputs": [],
   "source": [
    "#raise error by our own\n",
    "\n",
    "#def add(a,b):\n",
    "#    if (type(a) is int and type(b) is int):\n",
    "#        return a+b \n",
    "    \n",
    " #   raise TypeError ('oops you are passing wrong data type')\n",
    "    \n",
    "#print(add('2','3'))"
   ]
  },
  {
   "cell_type": "markdown",
   "metadata": {},
   "source": [
    "### raise error by our own\n",
    "\n",
    "    def add(a,b):\n",
    "\n",
    "    if (type(a) is int and type(b) is int):\n",
    "        return a+b \n",
    "    \n",
    "    raise ValueError ('oops you are passing wrong data type')\n",
    "    \n",
    "print(add('2','3'))"
   ]
  },
  {
   "cell_type": "code",
   "execution_count": null,
   "metadata": {},
   "outputs": [],
   "source": [
    "while True:\n",
    "    \n",
    "    try: \n",
    "        age = int(input(\"enter your age\")) #agar user ne seven aise input dia to next code nahi chalega\n",
    "        break\n",
    "    except ValueError:\n",
    "            print('invalid input please select in digit form')\n",
    "    except:\n",
    "        print('unexpected error')\n",
    "\n",
    "if age >18:\n",
    "    print('you can play')\n",
    "else:\n",
    "    print('you cannot play')"
   ]
  },
  {
   "cell_type": "code",
   "execution_count": null,
   "metadata": {},
   "outputs": [],
   "source": [
    "while True:\n",
    "    \n",
    "    try: \n",
    "        age = int(input(\"enter your age\")) #agar user ne seven aise input dia to next code nahi chalega\n",
    "       \n",
    "    except ValueError:\n",
    "            print('invalid input please select in digit form')\n",
    "    except:\n",
    "        print('unexpected error')\n",
    "        \n",
    "    else: # kan sucessful try k bad hum else use kar sakte \n",
    "        \n",
    "        break\n",
    "        \n",
    "    #finally: #chahe error aaye ya na aaye error se pahile finally block chalega\n",
    "\n",
    "if age >18:\n",
    "    print('you can play')\n",
    "else:\n",
    "    print('you cannot play')"
   ]
  },
  {
   "cell_type": "code",
   "execution_count": null,
   "metadata": {},
   "outputs": [],
   "source": [
    "#while True:\n",
    "    \n",
    "    try: \n",
    "        number = int(input(\"enter your age\")) #agar user ne seven aise input dia to next code nahi chalega\n",
    "       \n",
    "    except ValueError:\n",
    "            print('invalid input please select in digit form')\n",
    "    except:\n",
    "        print('unexpected error')\n",
    "        \n",
    "    else: # kan sucessful try k bad hum else use kar sakte \n",
    "        print(f' user input = {number}')\n",
    "        break\n",
    "        \n",
    "    finally: #chahe error aaye ya na aaye error se pahile finally block chalega\n",
    "        print('finally')\n",
    "    \n",
    "    \n"
   ]
  },
  {
   "cell_type": "code",
   "execution_count": null,
   "metadata": {},
   "outputs": [],
   "source": [
    "#while True:\n",
    "    \n",
    "    try: \n",
    "        number = int(input(\"enter your age\")) #agar user ne seven aise input dia to next code nahi chalega\n",
    "       \n",
    "    except ValueError:\n",
    "            print('invalid input please select in digit form')\n",
    "    except:\n",
    "        print('unexpected error')\n",
    "        \n",
    "    else: # kan sucessful try k bad hum else use kar sakte \n",
    "        print(f' user input = {number}')\n",
    "        \n",
    "        \n",
    "    finally: #chahe error aaye ya na aaye error se pahile finally block chalega\n",
    "        print('finally')\n",
    "    \n",
    "    \n"
   ]
  },
  {
   "cell_type": "markdown",
   "metadata": {},
   "source": [
    "### debugging"
   ]
  },
  {
   "cell_type": "code",
   "execution_count": null,
   "metadata": {},
   "outputs": [],
   "source": [
    "# error we are gettj g js type\n",
    "\n",
    "#pdb.set_trace() # line by line error checking  kahi pe bhi likh sakate \n",
    "\n",
    "name = input('enter yout name') # - > ye line pe luki h\n",
    "age = input('enter your age')\n",
    "\n",
    "print(f'{name} and age is {age}')\n",
    "age2 = int(age) +5 # n for next list  and l for to check line\n",
    "\n",
    "print(f'{name} and age is {age2}') # q is for quitr and c for continue running your code"
   ]
  },
  {
   "cell_type": "code",
   "execution_count": null,
   "metadata": {},
   "outputs": [],
   "source": []
  },
  {
   "cell_type": "code",
   "execution_count": null,
   "metadata": {},
   "outputs": [],
   "source": [
    "i"
   ]
  },
  {
   "cell_type": "code",
   "execution_count": null,
   "metadata": {},
   "outputs": [],
   "source": []
  },
  {
   "cell_type": "code",
   "execution_count": null,
   "metadata": {},
   "outputs": [],
   "source": []
  },
  {
   "cell_type": "code",
   "execution_count": null,
   "metadata": {},
   "outputs": [],
   "source": []
  }
 ],
 "metadata": {
  "kernelspec": {
   "display_name": "Python 3",
   "language": "python",
   "name": "python3"
  },
  "language_info": {
   "codemirror_mode": {
    "name": "ipython",
    "version": 3
   },
   "file_extension": ".py",
   "mimetype": "text/x-python",
   "name": "python",
   "nbconvert_exporter": "python",
   "pygments_lexer": "ipython3",
   "version": "3.7.3"
  }
 },
 "nbformat": 4,
 "nbformat_minor": 2
}
